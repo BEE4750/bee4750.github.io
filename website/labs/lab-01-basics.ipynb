{
  "cells": [
    {
      "cell_type": "raw",
      "metadata": {},
      "source": [
        "---\n",
        "title: Lab 01 - Julia Basics\n",
        "keep-ipynb: true\n",
        "---"
      ],
      "id": "bc837b9c"
    },
    {
      "cell_type": "markdown",
      "metadata": {},
      "source": [
        "[Download on {{< fa brands github >}}.](https://github.com/EnvironmentalSystemsAnalysis-FA23/lab01)\n",
        "\n",
        "## Introduction\n",
        "\n",
        "### Julia\n",
        "\n",
        "Julia is an up-and-coming language, originally developed for scientific programming. While learning a new programming language always has its hiccups, the good news is that if you've programmed in a high-level language such as Python or MATLAB, most Julia concepts should look familiar. This notebook will guide you through the basics of writing Julia code and where to look for help. It was adapted from materials by Patrick Applegate and Klaus Keller ([Risk Analysis in the Earth Sciences](https://leanpub.com/raes)), [Tony Wong](https://tonyewong.github.io/), and [Antonia Hadjimichael](https://www.hadjimichael.info/).\n",
        "\n",
        "If you have not successfully set up Julia, follow the instructions in [Application Exercise 1](ae/ae-01-setup.html) and/or ask for help.\n",
        "\n",
        "You can use other editors for this course, but our recommendation is [Visual Studio Code](https://code.visualstudio.com/) with the [Julia extension](https://marketplace.visualstudio.com/items?itemName=julialang.language-julia), which will make life a *lot* simpler! You should have set this up as part of [Application Exercise 1](ae/ae-01-setup.html), but if not, do so now and/or ask for help.\n",
        "\n",
        "### Jupyter Notebooks\n",
        "\n",
        "Jupyter notebooks integrate text and equations in Markdown with Julia (or Python, or R) code. To do this, Jupyter notebooks consist of two types of \"cells\": code cells and Markdown (text) cells.\n",
        "\n",
        "Click once on this section of text. A box will appear around this text (and some areas above/below it) - all of that is within this cell.\n",
        "\n",
        "Markdown is a text markup framework for formatting language that makes things look pretty when viewed across different platforms: web browsers, notebooks, and so forth. Text written in Markdown can also include hyperlinks, LaTeX equations, section headers, and images, among other features (most of [the course website](https://viveks.me/climate-risk-analysis) and the lecture notes were all written in Markdown!). [Here is a basic Markdown cheat sheet](https://www.markdownguide.org/cheat-sheet/).\n",
        "\n",
        "What you are looking at right now is the formatted text after the Markdown is processed. To see the raw Markdown, do one of:\n",
        "\n",
        "- press `Enter` while that cell is selected, or\n",
        "- double-click on that cell."
      ],
      "id": "1d41e2c9"
    },
    {
      "cell_type": "markdown",
      "metadata": {},
      "source": [
        "---\n",
        "\n",
        "A couple of the features you will see in this Markdown cell:\n",
        "\n",
        "- The `---` command creates a horizontal line. This is also nice for separating sections.\n",
        "- Backticks (`` `...` ``) can be used to format and highlight code, keystrokes, etc.\n",
        "- The `#` sign is used to create a new section header; two `#` signs (`##`) is used to create a new subsection header; `###` creates a subsubsection, and so on.\n",
        "- You can create a bulleted list by using the asterisk `*` or a dash `-` and a space.\n",
        "- You can create regular text by just typing as usual.\n",
        "- You can create **bold-faced text** by wrapping it with two asterisks on both sides.\n",
        "- You can create *italicized text* by wrapping it with a single asterisk on both sides.\n",
        "- To create a new paragraph, you must include a blank line between the old and new paragraphs.\n",
        "\n",
        "At this point you might be wondering how to turn this cell back into the fully formatted Markdown text instead of the raw Markdown you're probably still looking at. You have a couple of options, depending on your platform, but the most consistent is to type `Shift + Enter` to **execute** the cell (this is also how to run code, but more on that later).\n",
        "\n",
        "Additionally, you will frequently need to create new cells in your Jupyter notebooks. How you do this will depend on how you interact with the notebook, but try to figure this out now.\n",
        "\n",
        "One tip is to think carefully about what bits of code should be in the same cell, as you typically only see output from the last command in a cell. For example, compare the following:\n"
      ],
      "id": "e8b4aa7d"
    },
    {
      "cell_type": "code",
      "metadata": {},
      "source": [
        "x = 5\n",
        "sin(x)"
      ],
      "id": "f091e8ff",
      "execution_count": null,
      "outputs": []
    },
    {
      "cell_type": "markdown",
      "metadata": {},
      "source": [
        "with \n"
      ],
      "id": "10d48042"
    },
    {
      "cell_type": "code",
      "metadata": {},
      "source": [
        "x = 5"
      ],
      "id": "ab915d96",
      "execution_count": null,
      "outputs": []
    },
    {
      "cell_type": "code",
      "metadata": {},
      "source": [
        "sin(x)"
      ],
      "id": "5751f128",
      "execution_count": null,
      "outputs": []
    },
    {
      "cell_type": "markdown",
      "metadata": {},
      "source": [
        "In Julia, you can also suppress the output of a command with a semi-colon:\n"
      ],
      "id": "93a8006d"
    },
    {
      "cell_type": "code",
      "metadata": {},
      "source": [
        "sin(x);"
      ],
      "id": "d5fbd882",
      "execution_count": null,
      "outputs": []
    },
    {
      "cell_type": "markdown",
      "metadata": {},
      "source": [
        "which can help if you want to split some code out for clarity or to insert some text prior to it, but don't want to clutter the notebook with its output.\n",
        "\n",
        "For code cells, to execute the commands within the cell, we also press `Shift+Enter`.\n",
        "\n",
        "Finally, **make sure that you evaluate all of the code cells in order before submitting**. One bad outcome with notebooks occurs when cells are evaluated out of order, so fixed bugs and edits in previous cells do not get a chance to propagate down. You can do this with the `Run All` command in whichever interface you're using to edit your notebook.\n",
        "\n",
        "### Julia Basics\n",
        "\n",
        "There are many tutorials and references for Julia, including a [basics overview on the class website](../tutorials/julia-basics.html). Please feel free to reference these as you work through any part of the course.\n",
        "\n",
        "\n",
        "### Formatting Math\n",
        "\n",
        "It will often be helpful to include nicely-formatted mathematics in a notebook. Markdown accomodates this using LaTeX syntax. A LaTeX cheatsheet is available on the class website, and many other guides exist online. \n",
        "\n",
        "Below is an example of a formatted equation: $$x = 5$$.\n",
        "\n",
        "### Looking For Help\n",
        "\n",
        "There is no shame in using Google, or other resources, for help when programming. There are many, many times when you can't quite get the syntax to work, can't quite figure out the right package or command to use, or are feeling too lazy or overwhelmed (I'm not judging either of those!) to dig through the documentation. Some good resources include:\n",
        "\n",
        "- [Stack Overflow](https://stackoverflow.com/) is a treasure trove of answers;\n",
        "- The [official Julia forum](https://discourse.julialang.org/) and the [Julia Subreddit](https://www.reddit.com/r/Julia/) are also very useful. \n",
        "\n",
        "You are also highly encouraged to post on [Ed Discussion](https://us.edstem.org), though getting a response might be less immediate. Just be mindful that to get good answers, [you have to help people help you](https://stackoverflow.com/help/how-to-ask), and **make sure to give credit to any resources that were helpful**!\n",
        "\n",
        "\n",
        "## Exercises\n",
        "\n",
        "Use your understanding of Julia syntax to complete the following (hopefully short) exercises. Convert your completed notebook to a PDF and submit it to the Gradescope Assignment \"Lab 1\".\n",
        "\n",
        "**Remember to**:\n",
        "\n",
        "- Evaluate all of your code cells, in order (using a `Run All` command). This will make sure all output is visible and that the code cells were evaluated in the correct order.\n",
        "- Tag each of the problems when you submit to Gradescope; a 10% penalty will be deducted if this is not done.\n",
        "\n",
        "### Exercise 1\n",
        "\n",
        "Given two numeric arrays `x` and `y`, write a function to compute their dot product if they have equal length, and return an error if not (this is useful for debugging!). Use the following code as a starting point.\n"
      ],
      "id": "bcb330d7"
    },
    {
      "cell_type": "code",
      "metadata": {},
      "source": [
        "#| eval: false\n",
        "\n",
        "function dot_product(x, y)\n",
        "    if ... # insert test condition for equal lengths\n",
        "        # compute and return dot product\n",
        "    else\n",
        "        throw(DimensionMismatch(\"length of x not equal to length of y\"))\n",
        "    end\n",
        "end"
      ],
      "id": "7f08e217",
      "execution_count": null,
      "outputs": []
    },
    {
      "cell_type": "markdown",
      "metadata": {},
      "source": [
        "### Exercise 2\n",
        "\n",
        "This problem involves implementing Newton's method for computing square roots; it was shamelessly copied from MIT's [Introduction to Computational Thinking](https://computationalthinking.mit.edu/Spring21/hw0/). You will use a `while` loop instead of the `for` loop above.\n",
        "\n",
        "Implement the following algorithm in a function newton_sqrt:\n",
        "\n",
        "Given $x > 0:\n",
        "\n",
        "1. Take a guess $a$.\n",
        "2. Divide $x$ by $a$.  \n",
        "3. Update $a$ as the average of $x/a$ and $a$.\n",
        "4. Repeat until $x/a$ is within a tolerance of $\\varepsilon$ from $a$.\n",
        "5. Return $a \\approx \\sqrt{x}$.\n",
        "\n",
        "Use your `newton_sqrt` function to compute $\\sqrt{2}$ to within a tolerance of $\\varepsilon = 0.01$.\n",
        "\n",
        "### Exercise 3: Making a Plot\n",
        "\n",
        "Write a function to compute the square of an integer `x`. Evaluate this function for integers between $x=-5$ and $x=5$ and make a plot of the squared values (you can find a quick guide to making various types of plots [here](../tutorials/julia-plots.html)). Make sure to label your axes. \n"
      ],
      "id": "78cd1bac"
    },
    {
      "cell_type": "code",
      "metadata": {},
      "source": [
        "#| eval: false\n",
        "using Plots\n",
        "\n",
        "# insert your code here"
      ],
      "id": "33f1f363",
      "execution_count": null,
      "outputs": []
    }
  ],
  "metadata": {
    "kernelspec": {
      "name": "julia-1.8",
      "language": "julia",
      "display_name": "Julia 1.8.2"
    }
  },
  "nbformat": 4,
  "nbformat_minor": 5
}