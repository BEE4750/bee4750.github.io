{
 "cells": [
  {
   "cell_type": "raw",
   "metadata": {},
   "source": [
    "---\n",
    "title: \"Economic Dispatch with JuMP\"\n",
    "author: \"Vivek Srikrishnan\"\n",
    "date: \"3/22/2023\"\n",
    "format:\n",
    "  html:\n",
    "    code-fold: true\n",
    "jupyter: julia-1.8\n",
    "---"
   ]
  },
  {
   "cell_type": "code",
   "execution_count": 1,
   "metadata": {
    "scrolled": true
   },
   "outputs": [
    {
     "name": "stderr",
     "output_type": "stream",
     "text": [
      "\u001b[32m\u001b[1m  Activating\u001b[22m\u001b[39m project at `~/Teaching/environmental-systems-analysis/website/slides`\n"
     ]
    }
   ],
   "source": [
    "using Pkg\n",
    "Pkg.activate(dirname(@__DIR__))\n",
    "Pkg.instantiate()"
   ]
  },
  {
   "cell_type": "code",
   "execution_count": 2,
   "metadata": {},
   "outputs": [],
   "source": [
    "using DataFrames\n",
    "using JuMP\n",
    "using HiGHS"
   ]
  },
  {
   "cell_type": "markdown",
   "metadata": {},
   "source": [
    "## Overview of Economic Dispatch\n",
    "\n",
    "A key goal in power systems operations is how to meet demand by generating electricity from a variety of generators with varying costs and engineering constraints, including:\n",
    "* ramping limits;\n",
    "* minimum/maximum power outputs;\n",
    "* network constraints (we will ignore these here). \n",
    "\n",
    "**Economic dispatch** refers to solving this problem with an objective of minimizing total costs of production. Economic dispatch is typically formulated as a linear programming problem, and we will use `JuMP` to formulate and solve it for a simple portfolio of generators over:\n",
    "* a single period\n",
    "* multiple periods with ramping constraints."
   ]
  },
  {
   "cell_type": "markdown",
   "metadata": {},
   "source": [
    "## Single-Period Economic Dispatch\n",
    "\n",
    "Let's say that we have a fleet of the following generators."
   ]
  },
  {
   "cell_type": "code",
   "execution_count": 4,
   "metadata": {},
   "outputs": [
    {
     "data": {
      "text/html": [
       "<div><div style = \"float: left;\"><span>5×4 DataFrame</span></div><div style = \"clear: both;\"></div></div><div class = \"data-frame\" style = \"overflow-x: scroll;\"><table class = \"data-frame\" style = \"margin-bottom: 6px;\"><thead><tr class = \"header\"><th class = \"rowNumber\" style = \"font-weight: bold; text-align: right;\">Row</th><th style = \"text-align: left;\">names</th><th style = \"text-align: left;\">Pmin</th><th style = \"text-align: left;\">Pmax</th><th style = \"text-align: left;\">varcost</th></tr><tr class = \"subheader headerLastRow\"><th class = \"rowNumber\" style = \"font-weight: bold; text-align: right;\"></th><th title = \"String\" style = \"text-align: left;\">String</th><th title = \"Int64\" style = \"text-align: left;\">Int64</th><th title = \"Int64\" style = \"text-align: left;\">Int64</th><th title = \"Float64\" style = \"text-align: left;\">Float64</th></tr></thead><tbody><tr><td class = \"rowNumber\" style = \"font-weight: bold; text-align: right;\">1</td><td style = \"text-align: left;\">Hydro</td><td style = \"text-align: right;\">0</td><td style = \"text-align: right;\">150</td><td style = \"text-align: right;\">0.0</td></tr><tr><td class = \"rowNumber\" style = \"font-weight: bold; text-align: right;\">2</td><td style = \"text-align: left;\">Wind</td><td style = \"text-align: right;\">0</td><td style = \"text-align: right;\">200</td><td style = \"text-align: right;\">0.0</td></tr><tr><td class = \"rowNumber\" style = \"font-weight: bold; text-align: right;\">3</td><td style = \"text-align: left;\">Nuclear</td><td style = \"text-align: right;\">200</td><td style = \"text-align: right;\">1000</td><td style = \"text-align: right;\">2.0</td></tr><tr><td class = \"rowNumber\" style = \"font-weight: bold; text-align: right;\">4</td><td style = \"text-align: left;\">Coal</td><td style = \"text-align: right;\">160</td><td style = \"text-align: right;\">700</td><td style = \"text-align: right;\">21.5</td></tr><tr><td class = \"rowNumber\" style = \"font-weight: bold; text-align: right;\">5</td><td style = \"text-align: left;\">Natural Gas</td><td style = \"text-align: right;\">40</td><td style = \"text-align: right;\">500</td><td style = \"text-align: right;\">23.0</td></tr></tbody></table></div>"
      ],
      "text/latex": [
       "\\begin{tabular}{r|cccc}\n",
       "\t& names & Pmin & Pmax & varcost\\\\\n",
       "\t\\hline\n",
       "\t& String & Int64 & Int64 & Float64\\\\\n",
       "\t\\hline\n",
       "\t1 & Hydro & 0 & 150 & 0.0 \\\\\n",
       "\t2 & Wind & 0 & 200 & 0.0 \\\\\n",
       "\t3 & Nuclear & 200 & 1000 & 2.0 \\\\\n",
       "\t4 & Coal & 160 & 700 & 21.5 \\\\\n",
       "\t5 & Natural Gas & 40 & 500 & 23.0 \\\\\n",
       "\\end{tabular}\n"
      ],
      "text/plain": [
       "\u001b[1m5×4 DataFrame\u001b[0m\n",
       "\u001b[1m Row \u001b[0m│\u001b[1m names       \u001b[0m\u001b[1m Pmin  \u001b[0m\u001b[1m Pmax  \u001b[0m\u001b[1m varcost \u001b[0m\n",
       "     │\u001b[90m String      \u001b[0m\u001b[90m Int64 \u001b[0m\u001b[90m Int64 \u001b[0m\u001b[90m Float64 \u001b[0m\n",
       "─────┼────────────────────────────────────\n",
       "   1 │ Hydro            0    150      0.0\n",
       "   2 │ Wind             0    200      0.0\n",
       "   3 │ Nuclear        200   1000      2.0\n",
       "   4 │ Coal           160    700     21.5\n",
       "   5 │ Natural Gas     40    500     23.0"
      ]
     },
     "metadata": {},
     "output_type": "display_data"
    }
   ],
   "source": [
    "#| label: tbl-gen-data\n",
    "\n",
    "gen_names = [\"Hydro\", \"Wind\", \"Nuclear\", \"Coal\", \"Natural Gas\"]\n",
    "gen_minpower = [0, 0, 200, 160, 40]\n",
    "gen_maxpower = [150, 200, 1000, 700, 500]\n",
    "gen_varcost = [0, 0, 2, 21.50, 23]\n",
    "gen_data = DataFrame(names=gen_names, Pmin=gen_minpower, Pmax=gen_maxpower, varcost=gen_varcost)"
   ]
  }
 ],
 "metadata": {
  "kernelspec": {
   "display_name": "Julia 1.8.2",
   "language": "julia",
   "name": "julia-1.8"
  },
  "language_info": {
   "file_extension": ".jl",
   "mimetype": "application/julia",
   "name": "julia",
   "version": "1.8.2"
  }
 },
 "nbformat": 4,
 "nbformat_minor": 2
}
