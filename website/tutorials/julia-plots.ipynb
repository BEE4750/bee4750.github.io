{
  "cells": [
    {
      "cell_type": "raw",
      "metadata": {},
      "source": [
        "---\n",
        "title: 'Tutorial: Making Plots with Julia'\n",
        "execute:\n",
        "  error: true\n",
        "  warning: true\n",
        "---"
      ],
      "id": "5c13dbd0"
    },
    {
      "cell_type": "code",
      "metadata": {},
      "source": [
        "#| echo: false\n",
        "#| output: false\n",
        "Pkg.activate(@__DIR__)\n",
        "Pkg.instantiate()"
      ],
      "id": "e6a50e46",
      "execution_count": null,
      "outputs": []
    },
    {
      "cell_type": "markdown",
      "metadata": {},
      "source": [
        "## Overview\n",
        "\n",
        "This tutorial will give some examples of plotting and plotting features in Julia, as well as providing references to some relevant resources. The main plotting library is `Plots.jl`, but there are some others that provide useful features.\n",
        "\n",
        "## Some Resources\n",
        "\n",
        "* `Plots.jl` [useful tips](https://docs.juliaplots.org/latest/basics/#Useful-Tips)\n",
        "* `Plots.jl` [examples](https://docs.juliaplots.org/latest/generated/gr/)\n",
        "* [Plot attributes](http://docs.juliaplots.org/latest/generated/attributes_plot/)\n",
        "* [Axis attributes](http://docs.juliaplots.org/latest/generated/attributes_axis/#Axis)\n",
        "* [Color names](http://juliagraphics.github.io/Colors.jl/stable/namedcolors/)\n",
        "\n",
        "\n",
        "## Demos\n"
      ],
      "id": "f1c5a43f"
    },
    {
      "cell_type": "code",
      "metadata": {},
      "source": [
        "using Plots\n",
        "using Random\n",
        "Random.seed!(1);"
      ],
      "id": "619e0262",
      "execution_count": null,
      "outputs": []
    },
    {
      "cell_type": "markdown",
      "metadata": {},
      "source": [
        "### Line Plots\n",
        "To generate a basic line plot, use `plot`.\n"
      ],
      "id": "a3ff6e37"
    },
    {
      "cell_type": "code",
      "metadata": {},
      "source": [
        "y = rand(5)\n",
        "plot(y, label=\"original data\", legend=:topright)"
      ],
      "id": "7fc035b2",
      "execution_count": null,
      "outputs": []
    },
    {
      "cell_type": "markdown",
      "metadata": {},
      "source": [
        "There's a lot of customization here that can occur, a lot of which is discussed in the docs or can be found with some Googling.\n",
        "\n",
        "### Adding Plot Elements\n",
        "\n",
        "Now we can add some other lines and point markers.\n"
      ],
      "id": "5fdcf90a"
    },
    {
      "cell_type": "code",
      "metadata": {},
      "source": [
        "y2 = rand(5)\n",
        "y3 = rand(5)\n",
        "plot!(y2, label=\"new data\")\n",
        "scatter!(y3, label=\"even more data\")"
      ],
      "id": "426257b4",
      "execution_count": null,
      "outputs": []
    },
    {
      "cell_type": "markdown",
      "metadata": {},
      "source": [
        "Remember that an exclamation mark (!) at the end of a function name means that function modifies an object in-place, so `plot!` and `scatter!` modify the current plotting object, they don't create a new plot.\n",
        "\n",
        "### Removing Plot Elements\n",
        "\n",
        "Sometimes we want to remove legends, axes, grid lines, and ticks.\n"
      ],
      "id": "252defb8"
    },
    {
      "cell_type": "code",
      "metadata": {},
      "source": [
        "plot!(legend=false, axis=false, grid=false, ticks=false)"
      ],
      "id": "a9c029f5",
      "execution_count": null,
      "outputs": []
    },
    {
      "cell_type": "markdown",
      "metadata": {},
      "source": [
        "### Aspect Ratio\n",
        "\n",
        "If we want to have a square aspect ratio, use `ratio = 1`.\n"
      ],
      "id": "4adb3beb"
    },
    {
      "cell_type": "code",
      "metadata": {},
      "source": [
        "v = rand(5)\n",
        "plot(v, ratio=1, legend=false)\n",
        "scatter!(v)"
      ],
      "id": "81e9cc05",
      "execution_count": null,
      "outputs": []
    },
    {
      "cell_type": "markdown",
      "metadata": {},
      "source": [
        "### Heatmaps\n",
        "\n",
        "A heatmap is effectively a plotted matrix with colors chosen according to the values. Use `clim` to specify a fixed range for the color limits.\n"
      ],
      "id": "1e05f56e"
    },
    {
      "cell_type": "code",
      "metadata": {},
      "source": [
        "A = rand(10, 10)\n",
        "heatmap(A, clim=(0, 1), ratio=1, legend=false, axis=false, ticks=false)"
      ],
      "id": "e168cb69",
      "execution_count": null,
      "outputs": []
    },
    {
      "cell_type": "code",
      "metadata": {},
      "source": [
        "M = [ 0 1 0; 0 0 0; 1 0 0]\n",
        "whiteblack = [RGBA(1,1,1,0), RGB(0,0,0)]\n",
        "heatmap(c=whiteblack, M, aspect_ratio = 1, ticks=.5:3.5, lims=(.5,3.5), gridalpha=1, legend=false, axis=false, ylabel=\"i\", xlabel=\"j\")"
      ],
      "id": "61c2c845",
      "execution_count": null,
      "outputs": []
    },
    {
      "cell_type": "markdown",
      "metadata": {},
      "source": [
        "#### Custom Colors\n"
      ],
      "id": "db8520e7"
    },
    {
      "cell_type": "code",
      "metadata": {},
      "source": [
        "using Colors\n",
        "\n",
        "mycolors = [colorant\"lightslateblue\",colorant\"limegreen\",colorant\"red\"]\n",
        "A = [i for i=50:300, j=1:100]\n",
        "heatmap(A, c=mycolors, clim=(1,300))"
      ],
      "id": "143d9409",
      "execution_count": null,
      "outputs": []
    },
    {
      "cell_type": "markdown",
      "metadata": {},
      "source": [
        "### Plotting Areas Under Curves\n"
      ],
      "id": "55a83118"
    },
    {
      "cell_type": "code",
      "metadata": {},
      "source": [
        "y = rand(10)\n",
        "plot(y, fillrange= y.*0 .+ .5, label= \"above/below 1/2\", legend =:top)"
      ],
      "id": "ec929a46",
      "execution_count": null,
      "outputs": []
    },
    {
      "cell_type": "code",
      "metadata": {},
      "source": [
        "x = LinRange(0,2,100)\n",
        "y1 = exp.(x)\n",
        "y2 = exp.(1.3 .* x)\n",
        "plot(x, y1, fillrange = y2, fillalpha = 0.35, c = 1, label = \"Confidence band\", legend = :topleft)"
      ],
      "id": "2c3300a9",
      "execution_count": null,
      "outputs": []
    },
    {
      "cell_type": "code",
      "metadata": {},
      "source": [
        "x = -3:.01:3\n",
        "areaplot(x, exp.(-x.^2/2)/√(2π),alpha=.25,legend=false)"
      ],
      "id": "3d9e6e6a",
      "execution_count": null,
      "outputs": []
    },
    {
      "cell_type": "code",
      "metadata": {},
      "source": [
        "M = [1 2 3; 7 8 9; 4 5 6; 0 .5 1.5]\n",
        "areaplot(1:3, M, seriescolor = [:red :green :blue ], fillalpha = [0.2 0.3 0.4])"
      ],
      "id": "218f8c1f",
      "execution_count": null,
      "outputs": []
    },
    {
      "cell_type": "code",
      "metadata": {},
      "source": [
        "using SpecialFunctions\n",
        "f = x->exp(-x^2/2)/√(2π)\n",
        "δ = .01\n",
        "plot()\n",
        "x = √2 .* erfinv.(2 .*(δ/2 : δ : 1) .- 1)\n",
        "areaplot(x, f.(x), seriescolor=[ :red,:blue], legend=false)\n",
        "plot!(x, f.(x),c=:black)"
      ],
      "id": "66a2ad38",
      "execution_count": null,
      "outputs": []
    },
    {
      "cell_type": "markdown",
      "metadata": {},
      "source": [
        "### Plotting Shapes\n"
      ],
      "id": "77d9cc69"
    },
    {
      "cell_type": "code",
      "metadata": {},
      "source": [
        "rectangle(w, h, x, y) = Shape(x .+ [0,w,w,0], y .+ [0,0,h,h])\n",
        "circle(r,x,y) = (θ = LinRange(0,2π,500); (x.+r.*cos.(θ), y.+r.*sin.(θ)))\n",
        "plot(circle(5,0,0), ratio=1, c=:red, fill=true)\n",
        "plot!(rectangle(5*√2,5*√2,-2.5*√2,-2.5*√2),c=:white,fill=true,legend=false)"
      ],
      "id": "a02dbe5d",
      "execution_count": null,
      "outputs": []
    },
    {
      "cell_type": "markdown",
      "metadata": {},
      "source": [
        "### Plotting Distributions\n",
        "\n",
        "The [`StatsPlots.jl`](https://github.com/JuliaPlots/StatsPlots.jl/blob/master/README.md) package is very useful for making various plots of probability distributions.\n"
      ],
      "id": "6e792e45"
    },
    {
      "cell_type": "code",
      "metadata": {},
      "source": [
        "using Distributions, StatsPlots\n",
        "plot(Normal(2, 5))"
      ],
      "id": "d8b03bad",
      "execution_count": null,
      "outputs": []
    },
    {
      "cell_type": "code",
      "metadata": {},
      "source": [
        "scatter(LogNormal(0.8, 1.5))"
      ],
      "id": "8e02ea80",
      "execution_count": null,
      "outputs": []
    },
    {
      "cell_type": "markdown",
      "metadata": {},
      "source": [
        "We can also use this functionality to plot distributions of data in tabular data structures like `DataFrames`.\n"
      ],
      "id": "d49c5951"
    },
    {
      "cell_type": "code",
      "metadata": {},
      "source": [
        "using DataFrames\n",
        "dat = DataFrame(a = 1:10, b = 10 .+ rand(10), c = 10 .* rand(10))\n",
        "@df dat density([:b :c], color=[:black :red])"
      ],
      "id": "1cef0ab6",
      "execution_count": null,
      "outputs": []
    },
    {
      "cell_type": "markdown",
      "metadata": {},
      "source": [
        "### Editing Plots Manually\n"
      ],
      "id": "44d5be6b"
    },
    {
      "cell_type": "code",
      "metadata": {},
      "source": [
        "pl = plot(1:4,[1, 4, 9, 16])"
      ],
      "id": "25eba42f",
      "execution_count": null,
      "outputs": []
    },
    {
      "cell_type": "code",
      "metadata": {},
      "source": [
        "pl.attr"
      ],
      "id": "6c51cf40",
      "execution_count": null,
      "outputs": []
    },
    {
      "cell_type": "code",
      "metadata": {},
      "source": [
        "pl.series_list[1]"
      ],
      "id": "2ccbab9c",
      "execution_count": null,
      "outputs": []
    },
    {
      "cell_type": "code",
      "metadata": {},
      "source": [
        "pl[:size]=(300,200)"
      ],
      "id": "620087ec",
      "execution_count": null,
      "outputs": []
    },
    {
      "cell_type": "code",
      "metadata": {},
      "source": [
        "pl"
      ],
      "id": "0f2122ff",
      "execution_count": null,
      "outputs": []
    },
    {
      "cell_type": "markdown",
      "metadata": {},
      "source": [
        "### Log-Scaled Axes\n"
      ],
      "id": "bc7b0a68"
    },
    {
      "cell_type": "code",
      "metadata": {},
      "source": [
        "xx = .1:.1:10\n",
        "plot(xx.^2, xaxis=:log, yaxis=:log)"
      ],
      "id": "cd2358d9",
      "execution_count": null,
      "outputs": []
    },
    {
      "cell_type": "code",
      "metadata": {},
      "source": [
        "plot(exp.(x), yaxis=:log)"
      ],
      "id": "18c1d20b",
      "execution_count": null,
      "outputs": []
    }
  ],
  "metadata": {
    "kernelspec": {
      "name": "julia-1.8",
      "language": "julia",
      "display_name": "Julia 1.8.2"
    }
  },
  "nbformat": 4,
  "nbformat_minor": 5
}