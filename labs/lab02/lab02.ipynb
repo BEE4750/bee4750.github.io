{
  "cells": [
    {
      "cell_type": "markdown",
      "metadata": {},
      "source": [
        "# BEE 4750 Lab 2: Uncertainty and Monte Carlo"
      ],
      "id": "938217cf-0984-4765-a04e-a5da2f3810fa"
    },
    {
      "cell_type": "markdown",
      "metadata": {},
      "source": [
        "**Name**:\n",
        "\n",
        "**ID**:"
      ],
      "id": "b9149f10-6a7f-4a1b-bcf8-9fd6711fe6e6"
    },
    {
      "cell_type": "markdown",
      "metadata": {},
      "source": [
        "> **Due Date**\n",
        ">\n",
        "> Friday, 9/22/23, 9:00pm\n",
        "\n",
        "## Setup\n",
        "\n",
        "The following code should go at the top of most Julia scripts; it will\n",
        "load the local package environment and install any needed packages. You\n",
        "will see this often and shouldn’t need to touch it."
      ],
      "id": "40dc582f-3eef-4ca1-b738-50c1b14cfae1"
    },
    {
      "cell_type": "code",
      "execution_count": 1,
      "metadata": {},
      "outputs": [],
      "source": [
        "import Pkg\n",
        "Pkg.activate(\".\")\n",
        "Pkg.instantiate()"
      ],
      "id": "e3156dc8"
    },
    {
      "cell_type": "code",
      "execution_count": 2,
      "metadata": {},
      "outputs": [],
      "source": [
        "using Random # random number generation\n",
        "using Distributions # probability distributions and interface\n",
        "using Statistics # basic statistical functions, including mean\n",
        "using Plots # plotting"
      ],
      "id": "f332d5eb"
    },
    {
      "cell_type": "markdown",
      "metadata": {},
      "source": [
        "## Introduction\n",
        "\n",
        "In this lab, you will use Monte Carlo analysis to estimate the expected\n",
        "winnings for a couple of different games of chance.\n",
        "\n",
        "Monte Carlo methods involve the simulation of random numbers from\n",
        "probability distributions. In an environmental context, we often\n",
        "propagate these random numbers through some more complicated model and\n",
        "then compute a resulting statistic which is relevant for assessing\n",
        "performance or risk, such as an average outcome or a particular\n",
        "quantile.\n",
        "\n",
        "Julia provides a common interface for probability distributions with the\n",
        "[`Distributions.jl`\n",
        "package](https://juliastats.org/Distributions.jl/stable/). The basic\n",
        "workflow for sampling from a distribution is:\n",
        "\n",
        "1.  Set up the distribution. The specific syntax depends on the\n",
        "    distribution and what parameters are required, but the general call\n",
        "    is the similar. For a normal distribution or a uniform distribution,\n",
        "    the syntax is\n",
        "    `julia     # you don't have to name this \"normal_distribution\"     # μ is the mean and σ is the standard deviation     normal_distribution = Normal(μ, σ)     # a is the upper bound and b is the lower bound; these can be set to +Inf or -Inf for an unbounded distribution in one or both directions.     uniform_distribution = Uniform(a, b)`\n",
        "\n",
        "    There are lots of both\n",
        "    [univariate](https://juliastats.org/Distributions.jl/stable/univariate/#Index)\n",
        "    and\n",
        "    [multivariate](https://juliastats.org/Distributions.jl/stable/multivariate/)\n",
        "    distributions, as well as the ability to create your own, but we\n",
        "    won’t do anything too exotic here.\n",
        "\n",
        "2.  Draw samples. This uses the `rand()` command (which, when used\n",
        "    without a distribution, just samples uniformly from the interval\n",
        "    $[0, 1]$.) For example, to sample from our normal distribution\n",
        "    above: `julia     # draw n samples     rand(normal_distribution, n)`\n",
        "\n",
        "Putting this together, let’s say that we wanted to simulate 100\n",
        "six-sided dice rolls. We could use a [Discrete Uniform\n",
        "distribution](https://juliastats.org/Distributions.jl/stable/univariate/#Distributions.DiscreteUniform)."
      ],
      "id": "dd956fac-7145-4de3-9a35-c06c3f6be7e9"
    },
    {
      "cell_type": "code",
      "execution_count": 3,
      "metadata": {},
      "outputs": [
        {
          "output_type": "display_data",
          "metadata": {},
          "data": {
            "text/plain": [
              "100-element Vector{Int64}:\n",
              " 3\n",
              " 6\n",
              " 3\n",
              " 4\n",
              " 3\n",
              " 5\n",
              " 4\n",
              " 5\n",
              " 1\n",
              " 1\n",
              " 4\n",
              " 1\n",
              " 2\n",
              " ⋮\n",
              " 4\n",
              " 4\n",
              " 1\n",
              " 6\n",
              " 2\n",
              " 4\n",
              " 6\n",
              " 1\n",
              " 1\n",
              " 2\n",
              " 5\n",
              " 1"
            ]
          }
        }
      ],
      "source": [
        "dice_dist = DiscreteUniform(1, 6) # can generate any integer between 1 and 6\n",
        "dice_rolls = rand(dice_dist, 100) # simulate rolls"
      ],
      "id": "a646eb46"
    },
    {
      "cell_type": "markdown",
      "metadata": {},
      "source": [
        "And then we can plot a histogram of these rolls:"
      ],
      "id": "eed473a0-0f7b-4c10-aacb-fe43e3c248f4"
    },
    {
      "cell_type": "code",
      "execution_count": 4,
      "metadata": {},
      "outputs": [
        {
          "output_type": "display_data",
          "metadata": {},
          "data": {
            "text/html": [
              "<img src=\"data:image/png;base64,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\" />"
            ]
          }
        }
      ],
      "source": [
        "histogram(dice_rolls, legend=:false, bins=6)\n",
        "ylabel!(\"Count\")\n",
        "xlabel!(\"Dice Value\")"
      ],
      "id": "6f3d002d"
    },
    {
      "cell_type": "markdown",
      "metadata": {},
      "source": [
        "**Remember to**:\n",
        "\n",
        "-   Evaluate all of your code cells, in order (using a `Run All`\n",
        "    command). This will make sure all output is visible and that the\n",
        "    code cells were evaluated in the correct order.\n",
        "-   Tag each of the problems when you submit to Gradescope; a 10%\n",
        "    penalty will be deducted if this is not done."
      ],
      "id": "020cd581-80e9-4274-9b80-ed3f13ebfbf7"
    },
    {
      "cell_type": "markdown",
      "metadata": {},
      "source": [
        "## Exercises (10 points)\n",
        "\n",
        "In Problem 1, you will compute the probability of getting a specific\n",
        "combination of multiple dice rolls. The focus will be on understanding\n",
        "how the Monte Carlo estimate changes based on the number of simulations.\n",
        "\n",
        "In Problem 2, we will implement the culmination of every episode of the\n",
        "long-running game show [The Price Is\n",
        "Right](https://en.wikipedia.org/wiki/The_Price_Is_Right): the\n",
        "[Showcase](https://en.wikipedia.org/wiki/The_Price_Is_Right#Showcase).\n",
        "You will be asked to make a plot of expected winnings by bid for a\n",
        "particular distribution of prize values.\n",
        "\n",
        "You should always start any computing with random numbers by setting a\n",
        "“seed,” which controls the sequence of numbers which are generated\n",
        "(since these are not *really* random, just “pseudorandom”). In Julia, we\n",
        "do this with the `Random.seed!()` function.\n",
        "\n",
        "``` julia\n",
        "Random.seed!(1)\n",
        "```\n",
        "\n",
        "    TaskLocalRNG()\n",
        "\n",
        "It doesn’t matter what seed you set, though different seeds might result\n",
        "in slightly different values. But setting a seed means every time your\n",
        "notebook is run, the answer will be the same.\n",
        "\n",
        "> **Seeds and Reproducing Solutions**\n",
        ">\n",
        "> If you don’t re-run your code in the same order or if you re-run the\n",
        "> same cell repeatedly, you will not get the same solution. If you’re\n",
        "> working on a specific problem, you might want to re-use\n",
        "> `Random.seed()` near any block of code you want to re-evaluate\n",
        "> repeatedly."
      ],
      "id": "9343451c-617d-4cbb-8d1a-c001fa4afee6"
    },
    {
      "cell_type": "markdown",
      "metadata": {},
      "source": [
        "### Problem 1 (5 points)\n",
        "\n",
        "We want to know the probability of getting at least an 11 from rolling\n",
        "three fair, six-sided dice (this is actually an old Italian game called\n",
        "*passadieci*, which was analyzed by Galileo as one of the first examples\n",
        "of a rigorous study of probability)."
      ],
      "id": "465330fe-390c-4ed4-a7ca-ed8ecf66f57b"
    },
    {
      "cell_type": "markdown",
      "metadata": {},
      "source": [
        "#### Problem 1.1 (1 point)\n",
        "\n",
        "Write a function called `passadieci()` to simulate this game, which will\n",
        "take as an input the number of realizations and output a vector of the\n",
        "sum of the three dice rolls for each realization."
      ],
      "id": "34e179b6-7b7b-47e5-9be5-94be3c8b60b4"
    },
    {
      "cell_type": "markdown",
      "metadata": {},
      "source": [
        "### Problem 1.2 (2 points)\n",
        "\n",
        "Generate 5,000 simulations of the game using your `passadieci()`\n",
        "function. Plot how the computed probability of winning the game changes\n",
        "as the number of simulations increases (you can do this by computing the\n",
        "frequency of wins for each additional simulation)."
      ],
      "id": "862d8368-1b94-4f6e-8cc8-dada89d00c84"
    },
    {
      "cell_type": "markdown",
      "metadata": {},
      "source": [
        "### Problem 1.3 (2 point)\n",
        "\n",
        "Based on your plot from Problem 1.2, how many simulations were needed\n",
        "for the win probability estimate to converge? What did you notice from\n",
        "your plot about the estimates prior to convergence?"
      ],
      "id": "f53fa9df-88ae-42f4-b571-454fbd40754b"
    },
    {
      "cell_type": "markdown",
      "metadata": {},
      "source": [
        "## Problem 2 (5 points)\n",
        "\n",
        "The Showcase is the final round of every episode of The Price is Right,\n",
        "matching the two big winners from the episode. Each contestant is shown\n",
        "a “showcase” of prizes, which are usually some combination of a trip, a\n",
        "motor vehicle, some furniture, and maybe some other stuff. They then\n",
        "each have to make a bid on the retail price of the showcase. The rules\n",
        "are:\n",
        "\n",
        "-   an overbid is an automatic loss;\n",
        "-   the contest who gets closest to the retail price wins their\n",
        "    showcase;\n",
        "-   if a contestant gets within \\$250 of the retail price and is closer\n",
        "    than their opponent, they win both showcases.\n",
        "\n",
        "Your goal is to find a wager which maximizes your expected winnings,\n",
        "which we may as well call utility, based on your assessment of the\n",
        "probability of your showcase retail price. We’ll assume that the\n",
        "distribution of all showcases offered by the show is given as truncated\n",
        "normal distribution, which means a normal distribution which has an\n",
        "upper and/or lower bound. `Distributions.jl` makes it easy to specify\n",
        "truncations on any distribution, not just normal distributions. For\n",
        "example, we’ll use this distribution for the showcase values:\n",
        "\n",
        "``` julia\n",
        "showcase_dist = truncated(Normal(31000, 4500), lower=5000, upper=42000)\n",
        "```\n",
        "\n",
        "    Truncated(Normal{Float64}(μ=31000.0, σ=4500.0); lower=5000.0, upper=42000.0)"
      ],
      "id": "562afc43-5ccd-4a0b-a2be-89569df08d63"
    },
    {
      "cell_type": "markdown",
      "metadata": {},
      "source": [
        "#### Problem 2.1 (3 points)\n",
        "\n",
        "Write a function `showcase()` which takes in a bid value and uses Monte\n",
        "Carlo simulation to compute the expected value of the winnings. Make the\n",
        "following assumptions about your expected winnings if you don’t overbid:\n",
        "\n",
        "-   If you win both showcases, the value is the double of the single\n",
        "    showcase value.\n",
        "-   If you did not win both showcases but bid under the showcase value,\n",
        "    the probability of being outbid increases linearly as the distance\n",
        "    between your bid and the value increases (in other words, if you bid\n",
        "    the exact value, you win with probability 1, and if you bid \\$0, you\n",
        "    win with probability 0).\n",
        "\n",
        "How did you decide how many samples to use within the function?"
      ],
      "id": "74a25f63-85d6-4449-9811-34793f326861"
    },
    {
      "cell_type": "markdown",
      "metadata": {},
      "source": [
        "#### Problem 2.2 (2 points)\n",
        "\n",
        "Plot the expected winnings for bids ranging from \\$0 to \\$42,000. What\n",
        "do you notice?"
      ],
      "id": "44167636-509d-4988-981f-8764de8c3912"
    },
    {
      "cell_type": "markdown",
      "metadata": {},
      "source": [
        "## References\n",
        "\n",
        "Put any consulted sources here, including classmates you worked with/who\n",
        "helped you."
      ],
      "id": "053b6f93-b25e-4404-ae2d-1b8cfbb9ecd1"
    }
  ],
  "nbformat": 4,
  "nbformat_minor": 5,
  "metadata": {
    "kernelspec": {
      "name": "julia-1.9",
      "display_name": "Julia 1.9.2",
      "language": "julia"
    },
    "language_info": {
      "name": "julia",
      "file_extension": ".jl",
      "mimetype": "application/julia",
      "version": "1.9.2"
    }
  }
}