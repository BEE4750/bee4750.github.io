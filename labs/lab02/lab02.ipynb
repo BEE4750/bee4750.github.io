{
  "cells": [
    {
      "cell_type": "markdown",
      "metadata": {},
      "source": [
        "# BEE 4750 Lab 2: Uncertainty and Monte Carlo"
      ],
      "id": "e588de25-c087-45b2-b891-ccc7b44fcd41"
    },
    {
      "cell_type": "markdown",
      "metadata": {},
      "source": [
        "**Name**:\n",
        "\n",
        "**ID**:"
      ],
      "id": "e0b5c29c-ea9b-4379-9bbd-ec8da5644ad8"
    },
    {
      "cell_type": "markdown",
      "metadata": {},
      "source": [
        "> **Due Date**\n",
        ">\n",
        "> Friday, 9/22/23, 9:00pm\n",
        "\n",
        "## Setup\n",
        "\n",
        "The following code should go at the top of most Julia scripts; it will\n",
        "load the local package environment and install any needed packages. You\n",
        "will see this often and shouldn’t need to touch it."
      ],
      "id": "0fe488d6-6c8e-4ed8-8591-516c25e30bcb"
    },
    {
      "cell_type": "code",
      "execution_count": 1,
      "metadata": {},
      "outputs": [],
      "source": [
        "import Pkg\n",
        "Pkg.activate(\".\")\n",
        "Pkg.instantiate()"
      ],
      "id": "477eb57e"
    },
    {
      "cell_type": "code",
      "execution_count": 2,
      "metadata": {},
      "outputs": [],
      "source": [
        "using Random # random number generation\n",
        "using Distributions # probability distributions and interface\n",
        "using Statistics # basic statistical functions, including mean\n",
        "using Plots # plotting"
      ],
      "id": "40193982"
    },
    {
      "cell_type": "markdown",
      "metadata": {},
      "source": [
        "## Introduction\n",
        "\n",
        "In this lab, you will use Monte Carlo analysis to estimate the expected\n",
        "winnings for a couple of different games of chance.\n",
        "\n",
        "Monte Carlo methods involve the simulation of random numbers from\n",
        "probability distributions. In an environmental context, we often\n",
        "propagate these random numbers through some more complicated model and\n",
        "then compute a resulting statistic which is relevant for assessing\n",
        "performance or risk, such as an average outcome or a particular\n",
        "quantile.\n",
        "\n",
        "Julia provides a common interface for probability distributions with the\n",
        "[`Distributions.jl`\n",
        "package](https://juliastats.org/Distributions.jl/stable/). The basic\n",
        "workflow for sampling from a distribution is:\n",
        "\n",
        "1.  Set up the distribution. The specific syntax depends on the\n",
        "    distribution and what parameters are required, but the general call\n",
        "    is the similar. For a normal distribution or a uniform distribution,\n",
        "    the syntax is\n",
        "    `julia     # you don't have to name this \"normal_distribution\"     # μ is the mean and σ is the standard deviation     normal_distribution = Normal(μ, σ)     # a is the upper bound and b is the lower bound; these can be set to +Inf or -Inf for an unbounded distribution in one or both directions.     uniform_distribution = Uniform(a, b)`\n",
        "\n",
        "    There are lots of both\n",
        "    [univariate](https://juliastats.org/Distributions.jl/stable/univariate/#Index)\n",
        "    and\n",
        "    [multivariate](https://juliastats.org/Distributions.jl/stable/multivariate/)\n",
        "    distributions, as well as the ability to create your own, but we\n",
        "    won’t do anything too exotic here.\n",
        "\n",
        "2.  Draw samples. This uses the `rand()` command (which, when used\n",
        "    without a distribution, just samples uniformly from the interval\n",
        "    $[0, 1]$.) For example, to sample from our normal distribution\n",
        "    above: `julia     # draw n samples     rand(normal_distribution, n)`\n",
        "\n",
        "Putting this together, let’s say that we wanted to simulate 100\n",
        "six-sided dice rolls. We could use a [Discrete Uniform\n",
        "distribution](https://juliastats.org/Distributions.jl/stable/univariate/#Distributions.DiscreteUniform)."
      ],
      "id": "413333ef-4986-4cb8-abf2-d1449544bb38"
    },
    {
      "cell_type": "code",
      "execution_count": 3,
      "metadata": {},
      "outputs": [
        {
          "output_type": "display_data",
          "metadata": {},
          "data": {
            "text/plain": [
              "100-element Vector{Int64}:\n",
              " 2\n",
              " 5\n",
              " 3\n",
              " 3\n",
              " 4\n",
              " 5\n",
              " 3\n",
              " 6\n",
              " 5\n",
              " 5\n",
              " 3\n",
              " 1\n",
              " 6\n",
              " ⋮\n",
              " 1\n",
              " 3\n",
              " 3\n",
              " 4\n",
              " 4\n",
              " 2\n",
              " 3\n",
              " 5\n",
              " 2\n",
              " 2\n",
              " 2\n",
              " 1"
            ]
          }
        }
      ],
      "source": [
        "dice_dist = DiscreteUniform(1, 6) # can generate any integer between 1 and 6\n",
        "dice_rolls = rand(dice_dist, 100) # simulate rolls"
      ],
      "id": "ec7a2918"
    },
    {
      "cell_type": "markdown",
      "metadata": {},
      "source": [
        "And then we can plot a histogram of these rolls:"
      ],
      "id": "bbb80bec-904f-4a21-8191-c21eedb6f1ab"
    },
    {
      "cell_type": "code",
      "execution_count": 4,
      "metadata": {},
      "outputs": [
        {
          "output_type": "display_data",
          "metadata": {},
          "data": {
            "text/html": [
              "<img src=\"data:image/png;base64,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\" />"
            ]
          }
        }
      ],
      "source": [
        "histogram(dice_rolls, legend=:false, bins=6)\n",
        "ylabel!(\"Count\")\n",
        "xlabel!(\"Dice Value\")"
      ],
      "id": "51e59d5d"
    },
    {
      "cell_type": "markdown",
      "metadata": {},
      "source": [
        "**Remember to**:\n",
        "\n",
        "-   Evaluate all of your code cells, in order (using a `Run All`\n",
        "    command). This will make sure all output is visible and that the\n",
        "    code cells were evaluated in the correct order.\n",
        "-   Tag each of the problems when you submit to Gradescope; a 10%\n",
        "    penalty will be deducted if this is not done."
      ],
      "id": "37c32a3a-5f0c-4fd6-9fa9-911c257899e9"
    },
    {
      "cell_type": "markdown",
      "metadata": {},
      "source": [
        "## Exercises (10 points)\n",
        "\n",
        "In Problem 1, you will compute the probability of getting a specific\n",
        "combination of multiple dice rolls. The focus will be on understanding\n",
        "how the Monte Carlo estimate changes based on the number of simulations.\n",
        "\n",
        "In Problem 2, we will implement the culmination of every episode of the\n",
        "long-running game show [The Price Is\n",
        "Right](https://en.wikipedia.org/wiki/The_Price_Is_Right): the\n",
        "[Showcase](https://en.wikipedia.org/wiki/The_Price_Is_Right#Showcase).\n",
        "You will be asked to make a plot of expected winnings by bid for a\n",
        "particular distribution of prize values.\n",
        "\n",
        "You should always start any computing with random numbers by setting a\n",
        "“seed,” which controls the sequence of numbers which are generated\n",
        "(since these are not *really* random, just “pseudorandom”). In Julia, we\n",
        "do this with the `Random.seed!()` function.\n",
        "\n",
        "``` julia\n",
        "Random.seed!(1)\n",
        "```\n",
        "\n",
        "    TaskLocalRNG()\n",
        "\n",
        "It doesn’t matter what seed you set, though different seeds might result\n",
        "in slightly different values. But setting a seed means every time your\n",
        "notebook is run, the answer will be the same.\n",
        "\n",
        "> **Seeds and Reproducing Solutions**\n",
        ">\n",
        "> If you don’t re-run your code in the same order or if you re-run the\n",
        "> same cell repeatedly, you will not get the same solution. If you’re\n",
        "> working on a specific problem, you might want to re-use\n",
        "> `Random.seed()` near any block of code you want to re-evaluate\n",
        "> repeatedly."
      ],
      "id": "32076758-4d3a-4e2b-b590-93e32ef1603c"
    },
    {
      "cell_type": "markdown",
      "metadata": {},
      "source": [
        "### Problem 1 (5 points)\n",
        "\n",
        "We want to know the probability of getting at least an 11 from rolling\n",
        "three fair, six-sided dice (this is actually an old Italian game called\n",
        "*passadieci*, which was analyzed by Galileo as one of the first examples\n",
        "of a rigorous study of probability)."
      ],
      "id": "78521a5f-5eeb-4e6b-9974-aa3dd615f060"
    },
    {
      "cell_type": "markdown",
      "metadata": {},
      "source": [
        "#### Problem 1.1 (1 point)\n",
        "\n",
        "Write a function called `passadieci()` to simulate this game, which will\n",
        "take as an input the number of realizations and output a vector of the\n",
        "sum of the three dice rolls for each realization."
      ],
      "id": "268c81d7-2b58-4b40-8fa3-b1b07e208733"
    },
    {
      "cell_type": "markdown",
      "metadata": {},
      "source": [
        "### Problem 1.2 (2 points)\n",
        "\n",
        "Generate 100,000 simulations of the game using your `passadieci()`\n",
        "function. Plot how the computed probability of winning the game changes\n",
        "as the number of simulations increases (you can do this by computing the\n",
        "frequency of wins for each additional simulation)."
      ],
      "id": "3507f689-3298-4f38-9f6d-45fd9dcb5753"
    },
    {
      "cell_type": "markdown",
      "metadata": {},
      "source": [
        "### Problem 1.3 (2 point)\n",
        "\n",
        "Based on your plot from Problem 1.2, how many simulations were needed\n",
        "for the win probability estimate to converge? What did you notice from\n",
        "your plot about the estimates prior to convergence?"
      ],
      "id": "c9f5b5da-302d-43c8-bbc9-e018cb29055e"
    },
    {
      "cell_type": "markdown",
      "metadata": {},
      "source": [
        "## Problem 2 (5 points)\n",
        "\n",
        "The Showcase is the final round of every episode of The Price is Right,\n",
        "matching the two big winners from the episode. Each contestant is shown\n",
        "a “showcase” of prizes, which are usually some combination of a trip, a\n",
        "motor vehicle, some furniture, and maybe some other stuff. They then\n",
        "each have to make a bid on the retail price of the showcase. The rules\n",
        "are:\n",
        "\n",
        "-   an overbid is an automatic loss;\n",
        "-   the contest who gets closest to the retail price wins their\n",
        "    showcase;\n",
        "-   if a contestant gets within \\$250 of the retail price and is closer\n",
        "    than their opponent, they win both showcases.\n",
        "\n",
        "Your goal is to find a wager which maximizes your expected winnings,\n",
        "which we may as well call utility, based on your assessment of the\n",
        "probability of your showcase retail price. We’ll assume that the\n",
        "distribution of all showcases offered by the show is given as truncated\n",
        "normal distribution, which means a normal distribution which has an\n",
        "upper and/or lower bound. `Distributions.jl` makes it easy to specify\n",
        "truncations on any distribution, not just normal distributions. For\n",
        "example, we’ll use this distribution for the showcase values:\n",
        "\n",
        "``` julia\n",
        "showcase_dist = truncated(Normal(31000, 4500), lower=5000, upper=42000)\n",
        "```\n",
        "\n",
        "    Truncated(Normal{Float64}(μ=31000.0, σ=4500.0); lower=5000.0, upper=42000.0)"
      ],
      "id": "06db2fdd-0828-4fdf-996a-26cbd04b8359"
    },
    {
      "cell_type": "markdown",
      "metadata": {},
      "source": [
        "#### Problem 2.1 (3 points)\n",
        "\n",
        "Write a function `showcase()` which takes in a bid value and uses Monte\n",
        "Carlo simulation to compute the expected value of the winnings. Assume\n",
        "that if you win both showcases, the value is the double of the single\n",
        "showcase value. How did you decide how many samples to use within the\n",
        "function?"
      ],
      "id": "b01ee5a3-56ca-4e7d-add6-64e6635a7e85"
    },
    {
      "cell_type": "markdown",
      "metadata": {},
      "source": [
        "#### Problem 2.2 (2 points)\n",
        "\n",
        "Plot the expected winnings for bids ranging from \\$0 to \\$42,000. What\n",
        "do you notice?"
      ],
      "id": "bf35bb84-319e-41ea-b726-657d169b85a0"
    },
    {
      "cell_type": "markdown",
      "metadata": {},
      "source": [
        "## References\n",
        "\n",
        "Put any consulted sources here, including classmates you worked with/who\n",
        "helped you."
      ],
      "id": "553eff78-335d-4f78-b55d-1b01ba718e01"
    }
  ],
  "nbformat": 4,
  "nbformat_minor": 5,
  "metadata": {
    "kernelspec": {
      "name": "julia-1.9",
      "display_name": "Julia 1.9.2",
      "language": "julia"
    },
    "language_info": {
      "name": "julia",
      "file_extension": ".jl",
      "mimetype": "application/julia",
      "version": "1.9.2"
    }
  }
}