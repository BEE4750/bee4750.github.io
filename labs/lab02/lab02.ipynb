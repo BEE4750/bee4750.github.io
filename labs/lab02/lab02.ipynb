{
  "cells": [
    {
      "cell_type": "markdown",
      "metadata": {},
      "source": [
        "# BEE 4750 Lab 2: Uncertainty and Monte Carlo"
      ],
      "id": "54fc8577-18d6-45be-81e8-02c6d2a5647e"
    },
    {
      "cell_type": "markdown",
      "metadata": {},
      "source": [
        "**Name**:\n",
        "\n",
        "**ID**:"
      ],
      "id": "b2baa168-cc4e-42b9-aa27-5fc5f10b8324"
    },
    {
      "cell_type": "markdown",
      "metadata": {},
      "source": [
        "> **Due Date**\n",
        ">\n",
        "> Friday, 9/22/23, 9:00pm\n",
        "\n",
        "## Setup\n",
        "\n",
        "The following code should go at the top of most Julia scripts; it will\n",
        "load the local package environment and install any needed packages. You\n",
        "will see this often and shouldn’t need to touch it."
      ],
      "id": "4e91adfe-112e-4d17-a742-fc15fa94d012"
    },
    {
      "cell_type": "code",
      "execution_count": 1,
      "metadata": {},
      "outputs": [],
      "source": [
        "import Pkg\n",
        "Pkg.activate(\".\")\n",
        "Pkg.instantiate()"
      ],
      "id": "6156e6d2"
    },
    {
      "cell_type": "code",
      "execution_count": 2,
      "metadata": {},
      "outputs": [],
      "source": [
        "using Random # random number generation\n",
        "using Distributions # probability distributions and interface\n",
        "using Statistics # basic statistical functions, including mean\n",
        "using Plots # plotting"
      ],
      "id": "1bc845dd"
    },
    {
      "cell_type": "markdown",
      "metadata": {},
      "source": [
        "## Introduction\n",
        "\n",
        "In this lab, you will use Monte Carlo analysis to estimate the expected\n",
        "winnings for a couple of different games of chance.\n",
        "\n",
        "Monte Carlo methods involve the simulation of random numbers from\n",
        "probability distributions. In an environmental context, we often\n",
        "propagate these random numbers through some more complicated model and\n",
        "then compute a resulting statistic which is relevant for assessing\n",
        "performance or risk, such as an average outcome or a particular\n",
        "quantile.\n",
        "\n",
        "Julia provides a common interface for probability distributions with the\n",
        "[`Distributions.jl`\n",
        "package](https://juliastats.org/Distributions.jl/stable/). The basic\n",
        "workflow for sampling from a distribution is:\n",
        "\n",
        "1.  Set up the distribution. The specific syntax depends on the\n",
        "    distribution and what parameters are required, but the general call\n",
        "    is the similar. For a normal distribution or a uniform distribution,\n",
        "    the syntax is\n",
        "\n",
        "    ``` julia\n",
        "    # you don't have to name this \"normal_distribution\"\n",
        "    # μ is the mean and σ is the standard deviation\n",
        "    normal_distribution = Normal(μ, σ)\n",
        "    # a is the upper bound and b is the lower bound; these can be set to +Inf or -Inf for an unbounded distribution in one or both directions.\n",
        "    uniform_distribution = Uniform(a, b)\n",
        "    ```\n",
        "\n",
        "    There are lots of both\n",
        "    [univariate](https://juliastats.org/Distributions.jl/stable/univariate/#Index)\n",
        "    and\n",
        "    [multivariate](https://juliastats.org/Distributions.jl/stable/multivariate/)\n",
        "    distributions, as well as the ability to create your own, but we\n",
        "    won’t do anything too exotic here.\n",
        "\n",
        "2.  Draw samples. This uses the `rand()` command (which, when used\n",
        "    without a distribution, just samples uniformly from the interval\n",
        "    $[0, 1]$.) For example, to sample from our normal distribution\n",
        "    above:\n",
        "\n",
        "    ``` julia\n",
        "    # draw n samples\n",
        "    rand(normal_distribution, n)\n",
        "    ```\n",
        "\n",
        "Putting this together, let’s say that we wanted to simulate 100\n",
        "six-sided dice rolls. We could use a [Discrete Uniform\n",
        "distribution](https://juliastats.org/Distributions.jl/stable/univariate/#Distributions.DiscreteUniform)."
      ],
      "id": "1d7eaef6-3ed5-41dd-abbe-a3667e9097f3"
    },
    {
      "cell_type": "code",
      "execution_count": 3,
      "metadata": {},
      "outputs": [
        {
          "output_type": "display_data",
          "metadata": {},
          "data": {
            "text/plain": [
              "100-element Vector{Int64}:\n",
              " 1\n",
              " 3\n",
              " 3\n",
              " 5\n",
              " 5\n",
              " 4\n",
              " 2\n",
              " 6\n",
              " 3\n",
              " 4\n",
              " 5\n",
              " 2\n",
              " 5\n",
              " ⋮\n",
              " 5\n",
              " 4\n",
              " 6\n",
              " 4\n",
              " 3\n",
              " 5\n",
              " 5\n",
              " 1\n",
              " 4\n",
              " 1\n",
              " 2\n",
              " 6"
            ]
          }
        }
      ],
      "source": [
        "dice_dist = DiscreteUniform(1, 6) # can generate any integer between 1 and 6\n",
        "dice_rolls = rand(dice_dist, 100) # simulate rolls"
      ],
      "id": "8f8dce82"
    },
    {
      "cell_type": "markdown",
      "metadata": {},
      "source": [
        "And then we can plot a histogram of these rolls:"
      ],
      "id": "4a1352a0-345c-45bc-befc-15f6a55d6de4"
    },
    {
      "cell_type": "code",
      "execution_count": 4,
      "metadata": {},
      "outputs": [
        {
          "output_type": "display_data",
          "metadata": {},
          "data": {
            "text/html": [
              "<img src=\"data:image/png;base64,iVBORw0KGgoAAAANSUhEUgAAAoUAAAHMCAIAAAAs9EW6AAAABmJLR0QA/wD/AP+gvaeTAAAgAElEQVR4nO3deXxTdfro8W/StKUbXaiUfSmMFFpaSlmqFSrrDFKFC4iMGwKjDsyoqCyO4wbKoIKOoo7LsKMXxGERXgKyCwpUukAXoFhogRak0pWuSZrcP3Kn8IOAem9zntTzef+VnJzm+5BX0w/ZTgx2u10BAABRRukBAAAAPQYAwA3QYwAA5NFjAADk0WMAAOTRYwAA5DV+j81m82OPPRYeHh4aGjp48OCjR486ticnJ0+ZMiU+Pv7FF19s9EUBAGjSGr/HVqu1a9eu+/btu3DhwrBhw0aNGuX4iHN1dXW/fv1iYmLy8vIafVEAAJo0g0uPB3Lp0qVbbrmlrKwsMDDQseWNN97IzMz89NNPXbcoAABNjsml1/7FF1/06dOnIca/kNlszsnJ8fPzc5w1Go2dOnVq/OEAAHAbLuzxoUOH5syZ8/XXX//aH/zXv/712muvdezY0XHWZDJt2rQpJCSkEWerrq729fVtxCtscmpqapo1a2YwGKQHkcSvQV1dnclk8vDwkB5ETH19/cD/9VBN21jpQSTVlvz40tj+E8aPlx5Ekqv/GhiNxp+9o7mqx6mpqWPHjv38889jYmJ+7c+2a9du5MiRK1ascMVgDh4eHp6enq67fvdnNps9PT113mN+Derr600mk8nk2ufJ3FzG/u117/xv6SlEbVuQcyJH5/cFd/hr4JLPOx09evSee+5ZvHhxYmKiK64fAIDfmMb/f3FZWdnQoUPj4uIyMjIyMjKUUo8++mhISMipU6f+85//fPPNNxcuXHjjjTcGDhx42223NfrqAAA0RY3fYw8PjxkzZtzoUh4xAwBwvcbvcUBAwOzZs6/f3qVLF6fbAQAAx8sEAEAePQYAQB49BgBAHj0GAEAePQYAQB49BgBAHj0GAEAePQYAQB49BgBAHj0GAEAePQYAQB49BgBAHj0GAEAePQYAQB49BgBAHj0GAEAePQYAQB49BgBAHj0GAEAePQYAQB49BgBAHj0GAEAePQYAQB49BgBAHj0GAEAePQYAQB49BgBAHj0GAEAePQYAQB49BgBAHj0GAEAePQYAQJ5JegDI+HjJsq27vlHKID2IpJ4Rv3v7jXnSUwCAUvRYtzZt2/lNsz6qcx/pQeRUFB1bN58eA3AT9FjHOvRS3YdIDyGn+IzaIz0DAPwXrx8DACCPHgMAII8eAwAgjx4DACCPHgMAII8eAwAgjx4DACCPHgMAII8eAwAgjx4DACCPHgMAII8eAwAgz1U9tlqtpaWlNpvt6o2lpaVpaWnnzp1z0aIAADRRLunxwIEDg4KCQkJC8vLyGjb++9//joyMfPXVVwcNGjRx4kS73e6KpQEAaIpc8n2Lr7/+enR0dIsWLa7eOHv27C+//HLAgAFVVVUdOnRIS0uLi4tzxeoAADQ5Lunx7bfffv1GPz8/Dw8PpZTRaDQajX5+fq5YGgCApsglPXZqzZo1U6dO7d69+4kTJ1555ZWIiIgb7VlRUXHy5MkPP/zQcdZoND7wwAPe3t6NOIzFYrFYLI14hU3ONS/t65PdrnT+a2CxWOx2u55fPLJYLPr9x1+lvr6e+4JLbwGj0eh4RHoT2vX4/fff79GjxwMPPHDkyJH3339/woQJ1zyh3cBsNl++fPn06dP/d0STyWw2e3p6NuIwNpuNIEHp/v8ltv+SHkSMnv/tV7Pb7Tq/KVx9RzAYDD+7j0Y9Pnny5MaNGysqKjw9PZOSkr799tu1a9dOnTrV6c6hoaFxcXELFixw3TwWi6VxH3A3OUYjH3VTBoPS+a+B3W43mUwmk3b/L3c3RqPx5/9M6oDJZNL5fcEdoqDRH2V/f3+LxVJSUqKUstvtRUVFAQEB2iwNAID7c8n/i6dOnZqbm2u1WidOnBgYGPjVV1+1adNm6tSpCQkJI0eOPHLkiNFoHDNmjCuWBgCgKXJJj5988snq6mrH6YbnRd97773s7OyTJ0+OHz8+Pj7+Z1/ZBgBAP1zS4+7duzvdHhkZGRkZ6YoVAQBo0nhTDwAA8ugxAADy6DEAAPLoMQAA8ugxAADy6DEAAPLoMQAA8ugxAADy6DEAAPLoMQAA8ugxAADy6DEAAPL0+z3kgNVcl5qaKj2FpPr6+qioKJOJvwP6Vm+5cOGCzu8LJpMpJiZGeAbZ5QEx5T8WnT837P7HpOeQVFN07oO3Xp88ebL0IBB1OnnlnpQN+9Ok55B0OS+rvKzU19dXcAZ6DL2y1RsCW5fOPCQ9hySfL562Wq3SU0CazVaf+Hjp3S9JzyHJZ1a7+vp62Rl4/RgAAHn0GAAAefQYAAB59BgAAHn0GAAAefQYAAB59BgAAHn0GAAAefQYAAB59BgAAHn0GAAAefQYAAB59BgAAHn0GAAAefQYAAB59BgAAHn0GAAAefQYAAB59BgAAHn0GAAAefQYAAB59BgAAHn0GAAAefQYAAB59BgAAHn0GAAAefQYAAB59BgAAHn0GAAAefQYAAB59BgAAHn0GAAAeSZXXKnZbM7IyMjLy+vfv3+HDh0cGzMyMnJychyn/fz87rrrLlcsDQBAU+SSHo8cObKoqKiwsHDRokX333+/Y+Nnn322e/fu3r17K6VCQ0PpMQAADVzS423btnl4eCQmJl6z/Z577nnxxRddsSIAAE2aS14/9vDwcLr94MGDL7zwwsqVK+vq6lyxLgAATZRLHh87deutt/r4+ISEhKxYseKdd945ePCgt7e30z0LCwv37t07ZswYx1mj0fjuu+8GBgY24jBVVVWNeG1NUX19vfQIcAu1tbWVlZXSU4ixWCx26RngJqqqqgwGg4uu3GQyNWvW7Gf2cdHa15syZYrjxF/+8pfo6Ogvv/xy/PjxTve85ZZbunXrNm3aNMdZDw+P1q1bG42N/FDe39+/ca+wabnRcxjQm2bNmun5vmCxWFz1BxhNjZ+fn+x9QbseN/Dw8OjSpUtRUdGNdvDy8mrduvXQoUO1nAoAAEHaff44PT3dceL777/fu3dvQkKCZksDAODmXNLjGTNmhISEZGZm/vWvfw0JCcnKylJKPfvss8HBwe3atRszZsw777wTGxvriqUBAGiKXPJ89cKFCxcuXHjNxt27d5vNZrPZrOcXqwAAcErT14+9vLy8vLy0XBEAgCaB41cDACCPHgMAII8eAwAgjx4DACCPHgMAII8eAwAgjx4DACCPHgMAII8eAwAgjx4DACCPHgMAII8eAwAgjx4DACCPHgMAII8eAwAgjx4DACCPHgMAII8eAwAgjx4DACCPHgMAII8eAwAgjx4DACCPHgMAII8eAwAgjx4DACCPHgMAII8eAwAgjx4DACCPHgMAII8eAwAgjx4DACDPJD2AAJvNduTIER8fH+lBJF2+XCk9AuTZLXVnzpxJTU2VHkSM1Wq1S88AOOixx99///2wpFG+4bHSg0gqO5Wp4qSHgDRr/pG3TpR9tDVZehA5NpvZbJYeAlBKnz22Wq3NwnuXTNsiPYgk04uRNukZIM5uUHXDZtQNmCw9iBxztZreSnoIQClePwYAwB3QYwAA5NFjAADk0WMAAOTRYwAA5NFjAADk0WMAAOTRYwAA5NFjAADk0WMAAOTRYwAA5NFjAADk0WMAAOS55PudsrOzd+zYkZOTM3LkyKSkJMfGffv2rV69+vTp02FhYU888UTfvn1dsTQAAE2RSx4fb9269YcffkhPT7/6e843bdoUGxs7Z86cvn37DhkyJDc31xVLAwDQFLnk8fGMGTOUUn/605+u3rhw4ULHifj4+HXr1u3fv79r166uWB0AgCZH4PXjioqKY8eORUZGar80AADuySWPj2/CZrP96U9/SkpK6tev3432OX369Jo1azZt2uQ46+XllZKSEhwc3Fgz1NTUKLu9sa6tyeIWAIArqqqqDAaDi67cZDI1a9bsZ/Zx0dpO2e32P//5z9XV1Z9++ulNdgsPD58wYcKKFStcNIaPj49y2Y3edHALAMAVfn5+/v7+ggNo12O73f7kk0/m5+dv2rTJy8tLs3UBAHB/Lunx2bNnT548WVhYaLFYdu7cGR0d3bJly7/97W/r16//6KOPvv32W6VU165dO3Xq5IrVAQBoclzS44yMjJUrVwYEBNTU1HzyySfPPPNMy5YtjUZjQkLCqlWrHPv88Y9/pMcAADi4pMdJSUkNhwFp8I9//MMVawEA8Bvg5PNOOTk5paWl12y8dOnSiRMnNBkJAADdcdLjRx99dNeuXdds/PLLLydOnKjJSAAA6M4vPR5IXV2dt7e3S0cBAEC3rrx+fPny5eTkZKVUWVlZZmZmUFBQw0VlZWXLly/v0aOHwIAAAOjAlR7n5uYOGzbMcTozM/Oa/bp27eo4KjUAAGh0V3rco0ePU6dOKaUmTJgwceLEESNGNFwUHBzciIerBAAA17jSY29v7/DwcKXUxo0bAwMD/fz85KYCAEBfnHz+uE2bNo4T5eXlNpvtyq4mU0BAgEZzAQCgJ07eX11WVjZ58mR/f/+goKCQqwwdOlT7+QAA0AMnj4+nT5++YcOGGTNmdO/e3Wi8EuyQkBANBwMAQEec9Hj79u3z58+fNm2a9tMAAKBPTp6v9vDwaHgJGQAAaMBJjx9++OEvvvhC+1EAANAtJ89XJyYmrl279q677kpKSrrlllsatoeEhAwZMkTD2QAA0AsnPX7ttddyc3Nzc3O3bt169fZ+/fo5DqgJAAAal5Mef/XVV1ar1cmuJpd8WTIAAHCSWA76AQCAxpz0+Pz587W1tddv9/b2btu2retHAgBAd5z0eMKECfv3779+O68fAwDgIk56/Pbbb5eVlTWcvXjx4pYtWw4dOvTGG29oOBgAADripMd9+vS5ZssDDzzwxBNPrFmz5s4779RiKAAAdMbJ8UCcGjVq1OrVq106CgAAuvVLe3z69Gk+7wQAgIs4SeyePXsuXbrUcLampiYzM/Pjjz8ePXq0hoMBAKAjTnr88ssvX/P+6rCwsIcffnjevHlaTQUAgL78/PG5mjVr5uPjo+FIAADoDsfnAgBAnvO3aFVUVCxbtiw1NbWwsLBNmzaxsbGTJ08OCgrSeDgAAHTCyfurCwsL4+Lipk+ffvjwYaVUamrqjBkzevXqdebMGc3HAwBAF5z0+LnnnqupqUlNTT1+/PiuXbuOHTuWkZFhNBqfffZZ7ecDAEAPnPR4x44d8+bN6927d8OWqKioN998c8eOHRoOBgCAjjjpcV1dXUhIyDUbg4ODnX7pEwAA+P/npMcxMTHvvfeexWJp2FJfX//ee+/16tVLw8EAANARJ++vnjNnzrBhwyIiIsaNGxcWFvbTTz+tX7/+1KlTW7Zs0X4+AAD0wEmPExMT9+zZM3fu3CVLlhQXF4eEhMTGxn788cd8uRMAAC7i/PPHCQkJX3/9tVKqtra2WbNm2o4EAIDu/I/Xj48fP378+PGrtzhifObMmbS0NE3nAgBAT670OCcnJzo6OiMj4/qdLl++fNttt+3atUvDwQAA0JErPV65cmXPnj3vu+++63eKiop68MEH3333XQ0HAwBAR670ODs7e/jw4Tfab9iwYUePHtVkJAAAdOdKjwsLC2/yjRHBwcHnz5/XZCQAAHTnSo9DQ0NPnz59o/1OnToVGhqqyUgAAOjOlR4nJib+5z//+emnn67fyWKxLF68ODExUcPBAADQkSs9fuyxx0wm0/Dhw48cOXL1HufOnRs3blxWVtasWbM0Hw8AAF24cjyQkJCQTZs2jRo1KjY2tmPHjuHh4V5eXnl5eadOnfL09Fy6dOnV3/gEAAAa0f84Hkh8fHxWVtbLL78cFhaWnZ2dkpLSrFmzadOmZWRkPPjgg1IjAgDwm3ft8TJvueWWV1555ZVXXpEYBgAAnXLyfYsAAEBj2vX4wIEDMTEx7dq1i4iIOHjwoGbrAgDg/jTqcU1NzdixY+fMmVNQULBo0aIJEyZYrVZtlgYAwP1p1OOcnByz2Tx69Gil1PDhw+12+969e7VZGgAA9+f8+48bXfPmzauqqqqqqvz8/Orq6srLy/Py8m60s9VqLS4uTk1NdZz18PCIiYkxGAzajAoAgPY06nF4ePigQYMeeOCBhx566IsvvjCZTNXV1Tfa+fz586mpqTNnznScNRqNS5cuDQ4Obqxhqqurld3eWNfWZHELAMAVlZWVrrtyk8nk4+PzM/u4bvlrbNy4cfny5cnJyRMnTszPz+/YseON9uzQocPw4cNXrFjhokl8fX0Vj7YVtwAAXOHv7x8QECA4gHY99vb2fvzxx5VSJ0+ezM3NvfPOOzVbGgAAN6ddj+fPn+/t7V1bW/vhhx/OmzfvJt/tCACA3mj3+eOBAwdWVFTU1dWtW7fO8UAZAAA4aPf4OCEhISEhQbPlAABoQjheJgAA8ugxAADy6DEAAPLoMQAA8ugxAADy6DEAAPLoMQAA8ugxAADy6DEAAPLoMQAA8ugxAADy6DEAAPLoMQAA8ugxAADy6DEAAPLoMQAA8ugxAADy6DEAAPLoMQAA8ugxAADy6DEAAPLoMQAA8ugxAADy6DEAAPLoMQAA8ugxAADy6DEAAPLoMQAA8ugxAADy6DEAAPLoMQAA8ugxAADy6DEAAPLoMQAA8ugxAADy6DEAAPLoMQAA8ugxAADy6DEAAPLoMQAA8ugxAADy6DEAAPLoMQAA8ugxAADy6DEAAPLoMQAA8ugxAADyTFouZrPZUlNTKysrIyMjW7ZsqeXSAAC4M+16/OOPP44YMcJgMHTo0CE3NzcrK0uzpQEAcHPa9XjmzJlDhw5dsGCBUsput2u2LgAA7k+jHldUVKxevfrMmTM7d+4MCAjo16+fNusCANAkaNTjvLw8Hx+fe++9Nyoq6ujRo6GhoZs3bzYanb+brLS0NDMzc968eY6zHh4ef/7zn318fBprGIvFonh8zk0AAFepq6vz8vJy0ZV7eHiYTD8TXI16bLVaKysrn3/++aSkJKvVGhER8dVXX919993arA4AgJvTqMdt27ZVSsXGxiqlTCZTdHT06dOnb7RzcHBwz549//73v7toGE9PT2Vw0XU3IdwEAHCFt7e3t7e34AAaff64VatW/fv3//7775VSZrM5PT29e/fu2iwNAID70+791QsWLJgwYcK6desyMjIGDhw4bNgwzZYGAMDNadfjAQMGZGVlpaent2nTJiIiQrN1AQBwf5oenys4OHjw4MFarggAQJPA8asBAJBHjwEAkEePAQCQR48BAJBHjwEAkEePAQCQR48BAJBHjwEAkEePAQCQR48BAJBHjwEAkEePAQCQR48BAJBHjwEAkEePAQCQR48BAJBHjwEAkEePAQCQR48BAJBHjwEAkEePAQCQR48BAJBHjwEAkEePAQCQR48BAJBHjwEAkEePAQCQR48BAJBHjwEAkEePAQCQR48BAJBHjwEAkEePAQCQR48BAJBHjwEAkEePAQCQR48BAJBHjwEAkEePAQCQR48BAJBHjwEAkEePAQCQR48BAJBHjwEAkEePAQCQR48BAJBHjwEAkGfSbKXDhw/v2bOnpKSkY8eO999/f2BgoGZLAwDg5rR7fLx58+ba2tpOnTp98803ffr0qaqq0mxpAADcnHaPj+fOnes48fjjj7dv3z49Pf2OO+7QbHUAANyZdj12qKur27dvn81m6969u8ZLAwDgtjTt8UsvvfTee+9VVVV98sknLVq0uNFuZ8+e3b59++DBgx1njUbj0qVLg4ODG2uM6upqZbc31rU1WdwCAHBFZWWl667cZDL5+Pj8zD6uW/56c+fOnTt37rFjxwYNGtStW7fbbrvN6W5t2rSJi4ubM2eO46yHh0f79u0NBkNjjeHr66sa79qaLG4BALjC398/ICBAcACtn69WSvXo0eP2228/fPjwjXpsMplatGgRFxen8WAAAEjR7v3Vu3fvrq+vV0qlpKTs27evX79+mi0NAICb0+7x8T/+8Y8xY8YYDIZWrVq99dZb8fHxmi0NAICb067HO3fu1GwtAACaFo6XCQCAPHoMAIA8egwAgDx6DACAPHoMAIA8egwAgDx6DACAPHoMAIA8egwAgDx6DACAPHoMAIA8egwAgDx6DACAPHoMAIA8egwAgDx6DACAPHoMAIA8egwAgDx6DACAPHoMAIA8egwAgDx6DACAPHoMAIA8egwAgDx6DACAPHoMAIA8egwAgDx6DACAPHoMAIA8egwAgDx6DACAPHoMAIA8egwAgDx6DACAPHoMAIA8egwAgDx6DACAPHoMAIA8egwAgDx6DACAPHoMAIA8egwAgDx6DACAPHoMAIA8egwAgDx6DACAPHoMAIA8Pfa4vLzcYrZITyHMbrdJj+AO7NIDSLPr/hYAlFJK1ddbbTbhv4ra9biysvKpp57q06fPfffdd+bMGc3Wvd6ZM2fM5jrBAdyBjT/ExEgpu033NwGUUtwXlLJYrNXV1bIzaNfjmTNnnj9/fu3atVFRUaNHj9ZsXQAA3J9GPa6qqlq1atWbb74ZHh7+wgsvFBUVJScna7M0AADuT6Menz171mQyde7cWSllMBiio6OPHTumzdIAALg/g12T1w2+++67++67r6CgwHH2vvvu69ev37PPPut057///e/z58+/MqLB0Lx5c4PB0FjDWCyWylqzwaDH97I1sHuYVL210W7TJslut6tG/L1qiuwGg7LbdX0TKKVC2ptCO0gPIam+9Lztpzyd/xrY7fbgAF/XXb+3t3dOTk7z5s1vso/JdctfLTQ0tKKiouFseXl5aGjojXaeN2/evHnzNJkLAAC3oNFjxA4dOhgMhh9++EEpZbPZ0tPTo6KitFkaAAD3p1GPfXx8Jk2aNH369PT09NmzZ4eHh8fFxWmzNAAA7k+j14+VUrW1tfPnzz9w4EB4ePicOXNatWqlzboAALg/7XoMAABuRNfvMQYAwE1o9P5q91FWVpaWllZTUzNy5EjpWWRUV1fv2rUrPz+/bdu2SUlJXl5e0hNpzWq1HjhwIDs7226333777b169ZKeSNKePXuMRmNiYqL0IAK2bNlSVVXlOB0REdGzZ0/ZeUTY7fadO3dmZ2e3atVqxIgRgYGB0hNpqra2dvPmzVdvGTRo0E0+/uNS+nq++vDhw0OGDGnfvn1lZaXsMbQFDRo0qHnz5lFRUYcOHSotLf322299fV34qTs3VFBQMGXKlNjYWJvNtmrVqtmzZ0+fPl16KBnff//90KFD+/Tps3v3bulZBISHh/ft2zcoKEgp9fvf/37MmDHSE2nNbrePGzcuPz9/+PDhRUVF99577x/+8AfpoTRVXl4+a9Ysx+mSkpINGzbk5+e3a9dOZBh99dhqtRqNxkOHDv3xj3/UbY8rKiocn0mvr6/v3r37ggULRo0aJT2UmI0bN77wwgtZWVnSgwgwm80DBgz4wx/+sH//ft32eMuWLREREdKDiFm3bt38+fMPHjzo6ekpPYu8t956a+fOnVu3bpUaQF+vH5tMJqNRX//k6zUcIMZgMJjNZj8/P9l5BNlstkOHDun2o/Bz584dP358eHi49CCSPv3007feeku3h9NfvXr1gw8+uG7durfffjszM1N6HGFLly6dPHmy4AB6j5Oevfnmm61btx48eLD0IDI6derk5+e3cePGf/7zn9KzCDh69Oj27dufeuop6UEkDRkyxNvbu7i4ePTo0a+//rr0OALy8/MXLVqUkpJiNpuHDh26ZcsW6YnEHDx48OLFi/fcc4/gDLp7PxccVq5cuXjx4m+++Ua3Txjk5+eXlZW9+uqr48eP379/v/Q4mrJarY8++ugnn3xiMun6L8C///1vx4mxY8cmJCQ888wzent7o6en5x133LFw4UKlVPPmzRcuXHjXXXdJDyVj6dKlDz30kLe3t+AMur436tbq1atfeeWV3bt3t23bVnoWSUFBQc8991zLli2rqqp09bz9hQsX0tLSHE+NmM3murq6Ll26nDp1SnouMZGRkWazuaSkRG/HKerQoUOnTp0cpzt16lRUVCQ6jpiqqqq1a9fu27dPdgydPjbSs3Xr1j3//PM7duxouB/qTWFhYcO3m3z++efh4eG6irFSqn379lartaSkpKSk5IMPPhgwYIAOY1xaWnrx4kWllN1uX7RoUefOnfUWY6XU/fffv3Xr1traWqXUxo0b4+PjpSeSsXbt2m7dusXExMiOoa/Hx+Xl5Y7PNiilDAbDiBEjdPh6ycsvv5yfn9+1a1fH2XfeeUdvLyJmZGQ88sgjwcHB5eXlrVq1WrNmjfREEFBQUDB48ODmzZvX1NS0bNly7dq10hMJuPvuu7dt23brrbf6+vq2bt1at/eFJUuWTJkyRXoKnX3eCXCw2WwXL15s3ry53h4Z42o2m62oqMjX1/fm30r7m1dRUWGz2Roeq0AKPQYAQB6vHwMAII8eAwAgjx4DACCPHgMAII8eAwAgjx4DACCPHgPyampqUv/rhx9+cHrYwvz8/AkTJjTigbTS0tLy8/Ov315dXZ2amvrTTz/d5GeXLVvW8K2xABoFPQbk5ebm9vmvW2+9NSwsrHXr1tOmTSsoKGjYp6Sk5PPPPy8uLm6sRWfMmDF8+PDrj0CwbNmyPn36nD9//iY/m5KSIvg1scBvEj0G3MWHH35YUlJSUFCQlpb2zDPPrFu3LiYmJisry3Fpz549z5w506tXr8ZabtKkST/88MN33313zfbly5fHxcWJH8sX0Bt9Hb8acGe+vr7BwcHBwcFt27aNjY0dN25cXFzclClTkpOTlVJVVVXJyclDhw5t+E7AysrKDRs2nDx50t/fv3fv3oMGDWr4/sTs7Oxt27aVlJR069bt3nvv9fHxuX65cePGPfnkk8uXL7/jjjsaNmZnZ6ekpLz//vtKqbNnz+7evTs/Pz8wMDAuLm7gwIFOx87Ly0tJSRk7dmzDd3cePnz48uXLVwpZ/4cAAAWZSURBVH+1dnp6+vbt2y9fvhwVFTVmzBi9fa0h8IvYAUjLyMhQSq1YseKa7c8995xS6sSJE3a7PTU1VSmVnJzsuCg1NbV169ZBQUHDhw8fOnRoUFDQxo0bHRfNnTvXaDT27t377rvvDg0N7dat24ULF5yu+9hjj/n7+1++fLlhy7PPPuvl5XXp0qXi4mLHlYwePfr22283GAyTJk1q2G3atGlRUVGO00uWLFFK1dXVNVz6yCOPxMfHN5ydPn26wWDo379/UlJSUFBQ7969y8rK/p9vK+C3iuerAfeVkJCglHLU+moWi2XcuHFhYWEnTpz4+uuvd+zYUVhY6HiYu2PHjpdeemnJkiWpqambNm06ceJEfX39zJkznV7/pEmTKisr169f7zhrtVo/++yzMWPGtGjRwt/fPzc3NzU1dcOGDd9999369euXLVvmeKT+q6xZs2bRokUbN248dOjQ5s2bs7Ozz58///LLL//a6wF+8+gx4L4cX7lTXl5+zfbdu3fn5eXNnz8/LCzMscXX17dFixZKqcWLF8fExDzyyCOO7S1atHj88cd37Njh9Prj4+N79uy5fPlyx9ktW7b8+OOPkyZNUkp5eXl17tzZarUWFBSkpqa2b98+ICAgLS3t1/4TFi9efOedd95zzz2Os23atHnkkUd27tz5a68H+M3j9WPAfZWVlSmlAgMDr9l+8uRJpVRcXNz1P3L8+PGCgoI+ffo0bCkpKbl48WJlZaW/v//1+z/88MOzZs06ffp0eHj4smXL2rVrN2TIEKWUxWJ5/vnnP/roo+rqascAVVVVhYWFv/afcPz4cYvFcvU8RUVFN/8wFaBP9BhwXwcOHFBKRUdHX7Pdw8NDKWW1Wp3+VGRk5PVPCHt7ezvd+eGHH37++edXrVr117/+dcuWLbNnz3Zc+YcffvjBBx+sWbNm5MiRji2hoaF2Z1/PajAYlFJXX2SxWK7eoW/fvk8//fT1PwLgavQYcFPnzp375JNP+vbt261bt2su6tmzp1LqwIEDY8eOvf6ib7/9NjEx0dPT85es0rJly5EjRy5fvjwgIMBisUycONGxPTk5uW/fvg3PM+fn59/oo8+hoaFKqUuXLrVt29ax5fjx4w3voO7Zs+e5c+cGDx7c8O5rAE5xDwHcRXV1dWlpaXFxcWZm5qJFi/r372+1WhcvXnz9ngkJCb169XruuedycnIcW86fP+84eMgTTzxRWFj41FNP1dTUOC66ePHi5s2bb7LupEmT8vPzX3311cTExC5dujg2tmzZ8vjx4xcvXlRKVVZWTps27UYPaqOjo00m00cffeQ4+69//Ss9Pb3h0qeeeiorK+uFF15oeNBcUFCwbdu2X3yrAHpBjwF3MXXq1JCQkNDQ0Ojo6Llz5yYlJWVkZFz/ZLVSymg0rl+/3sfHJyoqqkePHj169OjYsWNmZqZSKj4+fsWKFZ999lmrVq169+7dpUuXdu3affbZZzdZ96677mrdunVZWdnkyZMbNj799NOenp6/+93v4uPj27dv37Fjx/bt2zv98Y4dO86aNeu1117r3Llz27ZtV61aNWbMmIZLR4wY8f7777/77rthYWFxcXGdOnXq1KnTzf9/AOiTwekLQgC0VFNTc+zYMcdpT0/PFi1aNDz326C6ujo7O7tHjx5+fn6OLfX19fv37z958qSfn1/fvn1vvfXWhp3Ly8v37t178eLF4ODgqKio7t2733yAU6dOlZWVRUVFXf0yc0VFxY4dO8rKynr16hUXF5eZmRkSEuIY7OzZs5cvX46MjGzYOSUlJTMzMywsbNiwYYWFhbW1tREREQ2XFhcX7927t7i4uEWLFr169Wp4FA6gAT0GAEAez1cDACCPHgMAII8eAwAgjx4DACCPHgMAII8eAwAgjx4DACDv/wCV7ZndQNGdKwAAAABJRU5ErkJggg==\" />"
            ]
          }
        }
      ],
      "source": [
        "histogram(dice_rolls, legend=:false, bins=6)\n",
        "ylabel!(\"Count\")\n",
        "xlabel!(\"Dice Value\")"
      ],
      "id": "0338c9ee"
    },
    {
      "cell_type": "markdown",
      "metadata": {},
      "source": [
        "**Remember to**:\n",
        "\n",
        "-   Evaluate all of your code cells, in order (using a `Run All`\n",
        "    command). This will make sure all output is visible and that the\n",
        "    code cells were evaluated in the correct order.\n",
        "-   Tag each of the problems when you submit to Gradescope; a 10%\n",
        "    penalty will be deducted if this is not done."
      ],
      "id": "5af5d171-0ce8-422c-99ab-ea0fe3757a40"
    },
    {
      "cell_type": "markdown",
      "metadata": {},
      "source": [
        "## Exercises (10 points)\n",
        "\n",
        "In Problem 1, you will compute the probability of getting a specific\n",
        "combination of multiple dice rolls. The focus will be on understanding\n",
        "how the Monte Carlo estimate changes based on the number of simulations.\n",
        "\n",
        "In Problem 2, we will implement the culmination of every episode of the\n",
        "long-running game show [The Price Is\n",
        "Right](https://en.wikipedia.org/wiki/The_Price_Is_Right): the\n",
        "[Showcase](https://en.wikipedia.org/wiki/The_Price_Is_Right#Showcase).\n",
        "You will be asked to make a plot of expected winnings by bid for a\n",
        "particular distribution of prize values.\n",
        "\n",
        "You should always start any computing with random numbers by setting a\n",
        "“seed,” which controls the sequence of numbers which are generated\n",
        "(since these are not *really* random, just “pseudorandom”). In Julia, we\n",
        "do this with the `Random.seed!()` function.\n",
        "\n",
        "``` julia\n",
        "Random.seed!(1)\n",
        "```\n",
        "\n",
        "    TaskLocalRNG()\n",
        "\n",
        "It doesn’t matter what seed you set, though different seeds might result\n",
        "in slightly different values. But setting a seed means every time your\n",
        "notebook is run, the answer will be the same.\n",
        "\n",
        "> **Seeds and Reproducing Solutions**\n",
        ">\n",
        "> If you don’t re-run your code in the same order or if you re-run the\n",
        "> same cell repeatedly, you will not get the same solution. If you’re\n",
        "> working on a specific problem, you might want to re-use\n",
        "> `Random.seed()` near any block of code you want to re-evaluate\n",
        "> repeatedly."
      ],
      "id": "8a69dffd-7630-462b-8cdd-fc7a6a84b662"
    },
    {
      "cell_type": "markdown",
      "metadata": {},
      "source": [
        "### Problem 1 (5 points)\n",
        "\n",
        "We want to know the probability of getting at least an 11 from rolling\n",
        "three fair, six-sided dice (this is actually an old Italian game called\n",
        "*passadieci*, which was analyzed by Galileo as one of the first examples\n",
        "of a rigorous study of probability)."
      ],
      "id": "7edf0a78-651b-4164-bacb-4f8111279344"
    },
    {
      "cell_type": "markdown",
      "metadata": {},
      "source": [
        "#### Problem 1.1 (1 point)\n",
        "\n",
        "Write a function called `passadieci()` to simulate this game, which will\n",
        "take as an input the number of realizations and output a vector of the\n",
        "sum of the three dice rolls for each realization."
      ],
      "id": "387cc9ab-ba42-4d01-92e3-f448520dc399"
    },
    {
      "cell_type": "markdown",
      "metadata": {},
      "source": [
        "### Problem 1.2 (2 points)\n",
        "\n",
        "Generate 5,000 simulations of the game using your `passadieci()`\n",
        "function. Plot how the computed probability of winning the game changes\n",
        "as the number of simulations increases (you can do this by computing the\n",
        "frequency of wins for each additional simulation)."
      ],
      "id": "c91bda9f-d336-4ebd-8931-9adbe9f6165b"
    },
    {
      "cell_type": "markdown",
      "metadata": {},
      "source": [
        "### Problem 1.3 (2 point)\n",
        "\n",
        "Based on your plot from Problem 1.2, how many simulations were needed\n",
        "for the win probability estimate to converge? What did you notice from\n",
        "your plot about the estimates prior to convergence?"
      ],
      "id": "58d2ad51-9049-488e-b188-5c9b62da5363"
    },
    {
      "cell_type": "markdown",
      "metadata": {},
      "source": [
        "## Problem 2 (5 points)\n",
        "\n",
        "The Showcase is the final round of every episode of The Price is Right,\n",
        "matching the two big winners from the episode. Each contestant is shown\n",
        "a “showcase” of prizes, which are usually some combination of a trip, a\n",
        "motor vehicle, some furniture, and maybe some other stuff. They then\n",
        "each have to make a bid on the retail price of the showcase. The rules\n",
        "are:\n",
        "\n",
        "-   an overbid is an automatic loss;\n",
        "-   the contest who gets closest to the retail price wins their\n",
        "    showcase;\n",
        "-   if a contestant gets within \\$250 of the retail price and is closer\n",
        "    than their opponent, they win both showcases.\n",
        "\n",
        "Your goal is to find a wager which maximizes your expected winnings,\n",
        "which we may as well call utility, based on your assessment of the\n",
        "probability of your showcase retail price. We’ll assume that the\n",
        "distribution of all showcases offered by the show is given as truncated\n",
        "normal distribution, which means a normal distribution which has an\n",
        "upper and/or lower bound. `Distributions.jl` makes it easy to specify\n",
        "truncations on any distribution, not just normal distributions. For\n",
        "example, we’ll use this distribution for the showcase values:\n",
        "\n",
        "``` julia\n",
        "showcase_dist = truncated(Normal(31000, 4500), lower=5000, upper=42000)\n",
        "```\n",
        "\n",
        "    Truncated(Normal{Float64}(μ=31000.0, σ=4500.0); lower=5000.0, upper=42000.0)"
      ],
      "id": "045321a6-4972-49bd-b24e-02f96bf2f5c8"
    },
    {
      "cell_type": "markdown",
      "metadata": {},
      "source": [
        "#### Problem 2.1 (3 points)\n",
        "\n",
        "Write a function `showcase()` which takes in a bid value and uses Monte\n",
        "Carlo simulation to compute the expected value of the winnings. Make the\n",
        "following assumptions about your expected winnings if you don’t overbid:\n",
        "\n",
        "-   If you win both showcases, the value is the double of the single\n",
        "    showcase value.\n",
        "-   If you did not win both showcases but bid under the showcase value,\n",
        "    the probability of being outbid increases linearly as the distance\n",
        "    between your bid and the value increases (in other words, if you bid\n",
        "    the exact value, you win with probability 1, and if you bid \\$0, you\n",
        "    win with probability 0).\n",
        "\n",
        "How did you decide how many samples to use within the function?"
      ],
      "id": "d0d0af6e-0650-4457-a7fa-67f9f094e689"
    },
    {
      "cell_type": "markdown",
      "metadata": {},
      "source": [
        "#### Problem 2.2 (2 points)\n",
        "\n",
        "Plot the expected winnings for bids ranging from \\$0 to \\$42,000. What\n",
        "do you notice?"
      ],
      "id": "ba62d1a8-8ddc-494a-9951-aac223b22a75"
    },
    {
      "cell_type": "markdown",
      "metadata": {},
      "source": [
        "## References\n",
        "\n",
        "Put any consulted sources here, including classmates you worked with/who\n",
        "helped you."
      ],
      "id": "79ae2f82-a86b-4204-a34f-db23965dc84d"
    }
  ],
  "nbformat": 4,
  "nbformat_minor": 5,
  "metadata": {
    "kernelspec": {
      "name": "julia-1.9",
      "display_name": "Julia 1.9.2",
      "language": "julia"
    },
    "language_info": {
      "name": "julia",
      "file_extension": ".jl",
      "mimetype": "application/julia",
      "version": "1.9.2"
    }
  }
}