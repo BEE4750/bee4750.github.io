{
  "cells": [
    {
      "cell_type": "markdown",
      "metadata": {},
      "source": [
        "# Lab 2 Solutions"
      ],
      "id": "6ff4352d-160d-4f3d-b89e-dc55c7c25f9f"
    },
    {
      "cell_type": "markdown",
      "metadata": {},
      "source": [
        "**Name**:\n",
        "\n",
        "**ID**:"
      ],
      "id": "455539e2-8c35-4a96-b611-2a311c03e2e1"
    },
    {
      "cell_type": "markdown",
      "metadata": {},
      "source": [
        "> **Due Date**\n",
        ">\n",
        "> Wednesday, 9/25/24, 9:00pm\n",
        "\n",
        "## Setup\n",
        "\n",
        "The following code should go at the top of most Julia scripts; it will\n",
        "load the local package environment and install any needed packages. You\n",
        "will see this often and shouldn’t need to touch it."
      ],
      "id": "9a7b0947-f360-45e5-b416-8f38bdbdc396"
    },
    {
      "cell_type": "code",
      "execution_count": 1,
      "metadata": {},
      "outputs": [],
      "source": [
        "import Pkg\n",
        "Pkg.activate(\".\")\n",
        "Pkg.instantiate()"
      ],
      "id": "2"
    },
    {
      "cell_type": "code",
      "execution_count": 1,
      "metadata": {},
      "outputs": [],
      "source": [
        "using Random # random number generation\n",
        "using Distributions # probability distributions and interface\n",
        "using Statistics # basic statistical functions, including mean\n",
        "using Plots # plotting"
      ],
      "id": "4"
    },
    {
      "cell_type": "markdown",
      "metadata": {},
      "source": [
        "## Exercise (3 Points)\n",
        "\n",
        "First, let’s write a function which compares our bid to (random)\n",
        "showcase value and returns the reward. The only slight complication is\n",
        "calculating the probability of winning if we don’t automatically win\n",
        "both showcases and don’t overbid. Our assumption is that this is linear,\n",
        "with a win probability of zero when we bid \\$0 and a win probability of\n",
        "one if we bid exactly. So, using the equation of a line between these\n",
        "two points, if our bid is $b$ and the true value is $v$, the probability\n",
        "becomes\n",
        "\n",
        "$$\n",
        "\\mathbb{P}(v - b) = 1 - \\frac{v - b}{v}\n",
        "$$\n",
        "\n",
        "and the expected value of our winnings in this case is\n",
        "$\\mathbb{P}(v - b) \\times v = b$."
      ],
      "id": "a5a111d2-fdaf-4380-aa2b-e4be689d6f6e"
    },
    {
      "cell_type": "code",
      "execution_count": 1,
      "metadata": {},
      "outputs": [
        {
          "output_type": "display_data",
          "metadata": {},
          "data": {
            "text/plain": [
              "showcase_play (generic function with 1 method)"
            ]
          }
        }
      ],
      "source": [
        "function showcase_play(value; bid=35_000)\n",
        "    if bid > value # overbird, win nothing\n",
        "        return 0\n",
        "    elseif value - bid < 250 # win both showcases\n",
        "        return 2 * value\n",
        "    else\n",
        "        win_prob = (1 + (bid - value) / value)\n",
        "        return bid\n",
        "    end\n",
        "end"
      ],
      "id": "6"
    },
    {
      "cell_type": "markdown",
      "metadata": {},
      "source": [
        "Now we can conduct our Monte Carlo experiment. Let’s write another\n",
        "function which takes in a vector of showcase values and computes the\n",
        "running average of winnings."
      ],
      "id": "4286d969-3607-4df2-bc87-74d12af9792e"
    },
    {
      "cell_type": "code",
      "execution_count": 1,
      "metadata": {},
      "outputs": [
        {
          "output_type": "display_data",
          "metadata": {},
          "data": {
            "text/plain": [
              "showcase_mc (generic function with 1 method)"
            ]
          }
        }
      ],
      "source": [
        "function showcase_mc(values)\n",
        "    exp_winnings = zeros(length(values))\n",
        "    for (i, value) in pairs(values)\n",
        "        if i == 1\n",
        "            exp_winnings[i] = showcase_play(value)\n",
        "        else\n",
        "            exp_winnings[i] = ((i - 1) * exp_winnings[i - 1] + showcase_play(value)) / i\n",
        "        end\n",
        "    end\n",
        "    return exp_winnings\n",
        "end"
      ],
      "id": "8"
    },
    {
      "cell_type": "markdown",
      "metadata": {},
      "source": [
        "Now if we draw 20,000 samples (this is large for illustrative purposes),\n",
        "we can compute how the Monte Carlo estimates change (visualized in\n",
        "<a href=\"#fig-mc\" class=\"quarto-xref\">Figure 1</a>)."
      ],
      "id": "6250eec8-d209-4d50-89a1-f54b2a1a925e"
    },
    {
      "cell_type": "code",
      "execution_count": 1,
      "metadata": {},
      "outputs": [],
      "source": [
        "Random.seed!(1)\n",
        "showcase_dist = truncated(Normal(31000, 4500), lower=5000, upper=42000)\n",
        "showcase_samples = rand(showcase_dist, 20_000)\n",
        "\n",
        "winnings_mc = showcase_mc(showcase_samples)\n",
        "plot(winnings_mc, xlabel=\"Monte Carlo Iteration\", ylabel=\"Expected Winnings (\\$)\", label=false)"
      ],
      "id": "cell-fig-mc"
    },
    {
      "cell_type": "markdown",
      "metadata": {},
      "source": [
        "Based on this, the estimated value is \\$6999.\n",
        "\n",
        "How could we decide how many samples to use? Later, we’ll see in class\n",
        "how we can compute a more formal analysis of the error in the Monte\n",
        "Carlo estimate, but for the purposes of this lab, we would like to\n",
        "ensure that the estimate has stabilized. If we had only used the first\n",
        "1,000 samples, we would see\n",
        "<a href=\"#fig-mc-small\" class=\"quarto-xref\">Figure 2</a>."
      ],
      "id": "fe5a1589-e02e-4dae-9efe-aec8eb7e77c6"
    },
    {
      "cell_type": "code",
      "execution_count": 1,
      "metadata": {},
      "outputs": [],
      "source": [
        "plot(winnings_mc[1:1000], xlabel=\"Monte Carlo Iteration\", ylabel=\"Expected Winnings (\\$)\", label=false)"
      ],
      "id": "cell-fig-mc-small"
    },
    {
      "cell_type": "markdown",
      "metadata": {},
      "source": [
        "We can see that there is still some variability as of the last\n",
        "iteration, so we might want to use more samples.[1] If we use 5,000\n",
        "samples, we can see the results in\n",
        "<a href=\"#fig-mc-more\" class=\"quarto-xref\">Figure 3</a>.\n",
        "\n",
        "[1] Note that this variability might be ok depending on the outcomes of\n",
        "the error analysis and our desire for precision, but more on that soon."
      ],
      "id": "ea0f95e6-f8e1-452e-89fe-9ee7db147d43"
    },
    {
      "cell_type": "code",
      "execution_count": 1,
      "metadata": {},
      "outputs": [],
      "source": [
        "plot(winnings_mc[1:5000], xlabel=\"Monte Carlo Iteration\", ylabel=\"Expected Winnings (\\$)\", label=false)"
      ],
      "id": "cell-fig-mc-more"
    },
    {
      "cell_type": "markdown",
      "metadata": {},
      "source": [
        "This looks much better! So we could have used 5,000, but it will turn\n",
        "out that more will always be “safer”."
      ],
      "id": "2b76d661-bc81-4457-88ac-835b22c128d7"
    },
    {
      "cell_type": "markdown",
      "metadata": {},
      "source": [
        "## References\n",
        "\n",
        "Put any consulted sources here, including classmates you worked with/who\n",
        "helped you."
      ],
      "id": "8b10c4ce-5d2b-4c9d-bb7e-2b17349366e7"
    }
  ],
  "nbformat": 4,
  "nbformat_minor": 5,
  "metadata": {
    "kernel_info": {
      "name": "julia"
    },
    "kernelspec": {
      "name": "julia",
      "display_name": "Julia",
      "language": "julia"
    },
    "language_info": {
      "name": "julia",
      "codemirror_mode": "julia",
      "version": "1.10.4"
    }
  }
}