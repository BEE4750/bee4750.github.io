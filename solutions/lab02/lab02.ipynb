{
  "cells": [
    {
      "cell_type": "markdown",
      "metadata": {},
      "source": [
        "# Lab 2 Solutions"
      ],
      "id": "6d37ae8a-8866-4808-a872-6539d4b6a5f4"
    },
    {
      "cell_type": "markdown",
      "metadata": {},
      "source": [
        "**Name**:\n",
        "\n",
        "**ID**:"
      ],
      "id": "71e66267-248c-4c24-9907-4896f4716a52"
    },
    {
      "cell_type": "markdown",
      "metadata": {},
      "source": [
        "> **Due Date**\n",
        ">\n",
        "> Wednesday, 9/25/24, 9:00pm\n",
        "\n",
        "## Setup\n",
        "\n",
        "The following code should go at the top of most Julia scripts; it will\n",
        "load the local package environment and install any needed packages. You\n",
        "will see this often and shouldn’t need to touch it."
      ],
      "id": "8248126d-adee-47c3-8b31-e10ee1d9828b"
    },
    {
      "cell_type": "code",
      "execution_count": 1,
      "metadata": {},
      "outputs": [],
      "source": [
        "import Pkg\n",
        "Pkg.activate(\".\")\n",
        "Pkg.instantiate()"
      ],
      "id": "2"
    },
    {
      "cell_type": "code",
      "execution_count": 1,
      "metadata": {},
      "outputs": [],
      "source": [
        "using Random # random number generation\n",
        "using Distributions # probability distributions and interface\n",
        "using Statistics # basic statistical functions, including mean\n",
        "using Plots # plotting"
      ],
      "id": "4"
    },
    {
      "cell_type": "markdown",
      "metadata": {},
      "source": [
        "## Exercise (3 Points)\n",
        "\n",
        "First, let’s write a function which compares our bid to (random)\n",
        "showcase value and returns the reward. The only slight complication is\n",
        "calculating the probability of winning if we don’t automatically win\n",
        "both showcases and don’t overbid. Our assumption is that this is linear,\n",
        "with a win probability of zero when we bid \\$0 and a win probability of\n",
        "one if we bid exactly. So, using the equation of a line between these\n",
        "two points, if our bid is $b$ and the true value is $v$, the probability\n",
        "becomes\n",
        "\n",
        "$$\n",
        "\\mathbb{P}(v - b) = 1 - \\frac{v - b}{v}\n",
        "$$\n",
        "\n",
        "and the expected value of our winnings in this case is\n",
        "$\\mathbb{P}(v - b) \\times v = b$."
      ],
      "id": "f85619a4-90b3-4363-9e0b-a4143e14e15f"
    },
    {
      "cell_type": "code",
      "execution_count": 1,
      "metadata": {},
      "outputs": [
        {
          "output_type": "display_data",
          "metadata": {},
          "data": {
            "text/plain": [
              "showcase_play (generic function with 1 method)"
            ]
          }
        }
      ],
      "source": [
        "function showcase_play(value; bid=35_000)\n",
        "    if bid > value # overbird, win nothing\n",
        "        return 0\n",
        "    elseif value - bid < 250 # win both showcases\n",
        "        return 2 * value\n",
        "    else\n",
        "        win_prob = (1 + (bid - value) / value)\n",
        "        return bid\n",
        "    end\n",
        "end"
      ],
      "id": "6"
    },
    {
      "cell_type": "markdown",
      "metadata": {},
      "source": [
        "Now we can conduct our Monte Carlo experiment. Let’s write another\n",
        "function which takes in a vector of showcase values and computes the\n",
        "running average of winnings."
      ],
      "id": "37c46489-8d8c-49f4-8936-a6d3059df7a6"
    },
    {
      "cell_type": "code",
      "execution_count": 1,
      "metadata": {},
      "outputs": [
        {
          "output_type": "display_data",
          "metadata": {},
          "data": {
            "text/plain": [
              "showcase_mc (generic function with 1 method)"
            ]
          }
        }
      ],
      "source": [
        "function showcase_mc(values)\n",
        "    exp_winnings = zeros(length(values))\n",
        "    for (i, value) in pairs(values)\n",
        "        if i == 1\n",
        "            exp_winnings[i] = showcase_play(value)\n",
        "        else\n",
        "            exp_winnings[i] = ((i - 1) * exp_winnings[i - 1] + showcase_play(value)) / i\n",
        "        end\n",
        "    end\n",
        "    return exp_winnings\n",
        "end"
      ],
      "id": "8"
    },
    {
      "cell_type": "markdown",
      "metadata": {},
      "source": [
        "Now if we draw 20,000 samples (this is large for illustrative purposes),\n",
        "we can compute how the Monte Carlo estimates change (visualized in\n",
        "<a href=\"#fig-mc\" class=\"quarto-xref\">Figure 1</a>)."
      ],
      "id": "0f957e94-5440-4166-b1aa-9207eeab2d42"
    },
    {
      "cell_type": "code",
      "execution_count": 1,
      "metadata": {},
      "outputs": [],
      "source": [
        "Random.seed!(1)\n",
        "showcase_dist = truncated(Normal(31000, 4500), lower=5000, upper=42000)\n",
        "showcase_samples = rand(showcase_dist, 20_000)\n",
        "\n",
        "winnings_mc = showcase_mc(showcase_samples)\n",
        "plot(winnings_mc, xlabel=\"Monte Carlo Iteration\", ylabel=\"Expected Winnings (\\$)\", label=false)"
      ],
      "id": "cell-fig-mc"
    },
    {
      "cell_type": "markdown",
      "metadata": {},
      "source": [
        "Based on this, the estimated value is \\$6999.\n",
        "\n",
        "How could we decide how many samples to use? Later, we’ll see in class\n",
        "how we can compute a more formal analysis of the error in the Monte\n",
        "Carlo estimate, but for the purposes of this lab, we would like to\n",
        "ensure that the estimate has stabilized. If we had only used the first\n",
        "1,000 samples, we would see\n",
        "<a href=\"#fig-mc-small\" class=\"quarto-xref\">Figure 2</a>."
      ],
      "id": "18ce1eaf-84c8-4452-b7a1-000e262b2a4b"
    },
    {
      "cell_type": "code",
      "execution_count": 1,
      "metadata": {},
      "outputs": [],
      "source": [
        "plot(winnings_mc[1:1000], xlabel=\"Monte Carlo Iteration\", ylabel=\"Expected Winnings (\\$)\", label=false)"
      ],
      "id": "cell-fig-mc-small"
    },
    {
      "cell_type": "markdown",
      "metadata": {},
      "source": [
        "We can see that there is still some variability as of the last\n",
        "iteration, so we might want to use more samples.[1] If we use 5,000\n",
        "samples, we can see the results in\n",
        "<a href=\"#fig-mc-more\" class=\"quarto-xref\">Figure 3</a>.\n",
        "\n",
        "[1] Note that this variability might be ok depending on the outcomes of\n",
        "the error analysis and our desire for precision, but more on that soon."
      ],
      "id": "59cefd53-0f1d-4ab5-8f66-cdb4ecbbde9f"
    },
    {
      "cell_type": "code",
      "execution_count": 1,
      "metadata": {},
      "outputs": [],
      "source": [
        "plot(winnings_mc[1:5000], xlabel=\"Monte Carlo Iteration\", ylabel=\"Expected Winnings (\\$)\", label=false)"
      ],
      "id": "cell-fig-mc-more"
    },
    {
      "cell_type": "markdown",
      "metadata": {},
      "source": [
        "This looks much better! So we could have used 5,000, but it will turn\n",
        "out that more will always be “safer”."
      ],
      "id": "8e6ebbc5-f203-44ab-a5d7-dbfa4ac4b1ea"
    },
    {
      "cell_type": "markdown",
      "metadata": {},
      "source": [
        "## References\n",
        "\n",
        "Put any consulted sources here, including classmates you worked with/who\n",
        "helped you."
      ],
      "id": "8d5c8aa7-fe63-42a3-8954-52feae889a81"
    }
  ],
  "nbformat": 4,
  "nbformat_minor": 5,
  "metadata": {
    "kernel_info": {
      "name": "julia"
    },
    "kernelspec": {
      "name": "julia",
      "display_name": "Julia",
      "language": "julia"
    },
    "language_info": {
      "name": "julia",
      "codemirror_mode": "julia",
      "version": "1.10.4"
    }
  }
}