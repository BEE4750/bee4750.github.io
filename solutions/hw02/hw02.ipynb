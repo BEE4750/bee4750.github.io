{
  "cells": [
    {
      "cell_type": "markdown",
      "metadata": {},
      "source": [
        "# Homework 2 Solutions\n",
        "\n",
        "> **Due Date**\n",
        ">\n",
        "> Thursday, 09/19/24, 9:00pm\n",
        "\n",
        "## Overview\n",
        "\n",
        "### Load Environment\n",
        "\n",
        "The following code loads the environment and makes sure all needed\n",
        "packages are installed. This should be at the start of most Julia\n",
        "scripts."
      ],
      "id": "f32c258c-f597-4322-bda6-b39ae13ffa4e"
    },
    {
      "cell_type": "code",
      "execution_count": 1,
      "metadata": {},
      "outputs": [],
      "source": [
        "import Pkg\n",
        "Pkg.activate(@__DIR__)\n",
        "Pkg.instantiate()"
      ],
      "id": "2"
    },
    {
      "cell_type": "code",
      "execution_count": 1,
      "metadata": {},
      "outputs": [],
      "source": [
        "using Plots\n",
        "using LaTeXStrings\n",
        "using CSV\n",
        "using DataFrames\n",
        "using Roots"
      ],
      "id": "4"
    },
    {
      "cell_type": "markdown",
      "metadata": {},
      "source": [
        "## Problems (Total: 50/60 Points)\n",
        "\n",
        "### Problem 1 (25 points)\n",
        "\n",
        "CRUD decays exponentially at a rate of $0.36\\ \\mathrm{d}^{-1}$, so the\n",
        "differential equation for its mass $M$ is $$\\frac{dM}{dt} = -0.36M.$$ By\n",
        "separating variables, the solution to this equation is\n",
        "$$M(t) = M_0 \\exp(-0.36t).$$ However, we need to convert time $t$ (d) to\n",
        "distance $x$ (km) as the river is in steady-state. As the velocity of\n",
        "the river is $10\\ \\mathrm{km/d}$, $$t = \\frac{x}{10},$$ so\n",
        "$$M(x) = M_0 \\exp(-0.36x/10).$$\n",
        "\n",
        "To find the initial condition(s), we have to split the river into two\n",
        "different segments. The first segment goes from $x=0$ (the first\n",
        "wastewater discharge) to $x=15$ (the second discharge), and the initial\n",
        "condition satisfies $M_0 = M(0)$. To calculate this mass, we have to\n",
        "compute the total mass of CRUD in the combined inflow and wastewater\n",
        "discharge, which is\n",
        "\n",
        "The second segment starts at $x=15$ and follows the equation\n",
        "$$M(x) = M_1 \\exp(-0.36(x-15)/10), \\qquad x \\leq 15,$$ where the initial\n",
        "condition satisfies\n",
        "\n",
        "Converting to concentration for the regulatory standard, we combine the\n",
        "inflow and discharge volumes to get a volume in the first segment of\n",
        "$290,000 \\mathrm{m}^3$ and $350,000 \\mathrm{m}^3$ in the second segment.\n",
        "This means that the concentration initial conditions[1] are\n",
        "$$C_0 \\approx 1.7 \\mathrm{kg}/(1000 \\mathrm{m}^3)$$ and\n",
        "$$C_1 \\approx 2.0 \\mathrm{kg}/(1000 \\mathrm{m}^3).$$\n",
        "\n",
        "Denoting concentration (in $\\mathrm{kg}/(1000 \\mathrm{m}^3)$) as $C(t)$,\n",
        "this means the model for concentration is $$\n",
        "C(t) = \\begin{cases}1.7 \\exp(-0.36x/10), &\\text{if}\\ 0 \\leq x < 15 \\\\\n",
        "                    2.0 \\exp(-0.36(x-15)/10), & \\text{if}\\ x > 15.\n",
        "\\end{cases}\n",
        "$$\n",
        "\n",
        "To determine if the system is in compliance with the regulatory standard\n",
        "of $2.5 \\mathrm{kg}/(1000 \\mathrm{m}^3$), notice that, as there are no\n",
        "sources of CRUD inbetween discharges, the maximum value in each segment\n",
        "occurs at the discharge locations $x=0$ and $x=15$[2]. The maximum CRUD\n",
        "concentration occurs at $x=15$, where $C(15) = 2.0$. As a result, the\n",
        "river is in compliance with the standard.\n",
        "\n",
        "### Problem 2 (25 points)\n",
        "\n",
        "First, let’s write a function to simulate the model from\n",
        "$t=0, \\ldots, 30$.\n",
        "\n",
        "[1] You might get some variations in the specifics due to the number of\n",
        "significant figures you select.\n",
        "\n",
        "[2] We could also have written some code to simulate this model, but\n",
        "using this observation makes the solution simpler."
      ],
      "id": "d302577b-6274-4ba0-8507-f7414eff9a45"
    },
    {
      "cell_type": "code",
      "execution_count": 1,
      "metadata": {},
      "outputs": [
        {
          "output_type": "display_data",
          "metadata": {},
          "data": {
            "text/plain": [
              "simulate_lake_P (generic function with 1 method)"
            ]
          }
        }
      ],
      "source": [
        "# define functions for lake recycling and outflows\n",
        "lake_P_cycling(x, q) = x.^q ./ (1 .+ x.^q);\n",
        "lake_P_out(x, b) = b .* x;\n",
        "\n",
        "T = 30\n",
        "X_vals = collect(0.0:0.1:2.5)\n",
        "function simulate_lake_P(X_ic, T, b, q, a, y)\n",
        "    X = zeros(T)\n",
        "    X[1] = X_ic\n",
        "    for t = 2:T\n",
        "        X[t] = X[t-1] .+ a[t] .+ y[t].+ lake_P_cycling(X[t-1], q) .- lake_P_out(X[t-1], b)\n",
        "    end\n",
        "    return X\n",
        "end"
      ],
      "id": "6"
    },
    {
      "cell_type": "markdown",
      "metadata": {},
      "source": [
        "We can then make the initial conditions plot by evaluating this function\n",
        "across a range of values of `X_ic`\n",
        "(<a href=\"#fig-lake-ic\" class=\"quarto-xref\">Figure 1</a>)"
      ],
      "id": "dcd4eb3f-a340-4971-9053-d41c42d075e8"
    },
    {
      "cell_type": "code",
      "execution_count": 1,
      "metadata": {},
      "outputs": [],
      "source": [
        "X_vals = 0.0:0.05:2.5\n",
        "# set parameters\n",
        "T = 30\n",
        "b = 0.5\n",
        "q = 1.5\n",
        "y = zeros(T)\n",
        "a = zeros(T)\n",
        "\n",
        "# evaluate model for initial values\n",
        "X = map(x -> simulate_lake_P(x, T, b, q, a, y), X_vals)\n",
        "plot(X, label=false, ylabel=L\"$X_t$\", xlabel=\"Time\")"
      ],
      "id": "cell-fig-lake-ic"
    },
    {
      "cell_type": "markdown",
      "metadata": {},
      "source": [
        "To find the equilibria, we use `Roots.find_zero()` for a function giving\n",
        "us the difference $X_{t+1} - X_t$, namely\n",
        "`lake_P_cycling(x, q) - lake_P_out(x, b)` (since we have no inflows).\n",
        "This function is versatile, and lets us either choose an initial point\n",
        "to start the search for a zero or a bounding interval. We can use\n",
        "<a href=\"#fig-lake-ic\" class=\"quarto-xref\">Figure 1</a> to make guesses\n",
        "at initial values for the search."
      ],
      "id": "953a1410-4b07-4757-951c-d1152bc5dec6"
    },
    {
      "cell_type": "code",
      "execution_count": 1,
      "metadata": {},
      "outputs": [
        {
          "output_type": "display_data",
          "metadata": {},
          "data": {
            "text/plain": [
              "3-element Vector{Float64}:\n",
              " 0.0\n",
              " 0.3819660112501051\n",
              " 1.0"
            ]
          }
        }
      ],
      "source": [
        "eq_ic = [0.0, 0.5, 2.0]\n",
        "eq_noinflows = [find_zero(x -> lake_P_cycling(x, q) - lake_P_out(x, b), eq) for eq in eq_ic]"
      ],
      "id": "10"
    },
    {
      "cell_type": "markdown",
      "metadata": {},
      "source": [
        "So we end up with equilibria \\[0.0, 0.38, 1.0\\]. Of these, 0.0 and 1.0\n",
        "are stable and 0.38 are unstable, based on\n",
        "<a href=\"#fig-lake-ic\" class=\"quarto-xref\">Figure 1</a> (we could make\n",
        "this more rigorous by calculating the derivatives of\n",
        "`lake_P_cycling(x, q)` and `lake_P_out(x, b)` at the equilibrium values\n",
        "to see how the difference is changing, but that is not required here).\n",
        "\n",
        "Now, let’s repeat that analysis when $a_t=0.05$ for all $t$."
      ],
      "id": "1e5625fc-7e4e-4bea-8af0-325c5ee478fb"
    },
    {
      "cell_type": "code",
      "execution_count": 1,
      "metadata": {},
      "outputs": [],
      "source": [
        "a = 0.02 .+ zeros(T)\n",
        "\n",
        "# evaluate model for initial values\n",
        "X = map(x -> simulate_lake_P(x, T, b, q, a, y), X_vals)\n",
        "plot(X, label=false, ylabel=L\"$X_t$\", xlabel=\"Time\")"
      ],
      "id": "cell-fig-lake-ic-inflow"
    },
    {
      "cell_type": "code",
      "execution_count": 1,
      "metadata": {},
      "outputs": [
        {
          "output_type": "display_data",
          "metadata": {},
          "data": {
            "text/plain": [
              "3-element Vector{Float64}:\n",
              " 0.11624441966074756\n",
              " 0.15442860418310414\n",
              " 1.1341008852434813"
            ]
          }
        }
      ],
      "source": [
        "eq_ic = [0.0, 0.5, 1.0]\n",
        "eq_inflows = [find_zero(x -> lake_P_cycling(x, q) - lake_P_out(x, b) .+ a, eq) for eq in eq_ic]"
      ],
      "id": "14"
    },
    {
      "cell_type": "markdown",
      "metadata": {},
      "source": [
        "With $a_t = 0.02$, the equilibria are \\[0.12, 0.15, 1.13\\], where 0.12\n",
        "and 1.13 are stable and 0.38 are unstable, based on\n",
        "<a href=\"#fig-lake-ic-inflow\" class=\"quarto-xref\">Figure 2</a>.\n",
        "\n",
        "How has the stability of the system changed? The unstable equilibrium\n",
        "has dropped from 0.38 to 0.15, which means a smaller disturbance to the\n",
        "system (such as a non-point source inflow or a change in the outflow\n",
        "rate) could trigger eutrophication. This is particularly true as the\n",
        "distance between the stable (oligotrophic) equilibrium and the unstable\n",
        "equilibrium has been reduced, which means moving past the unstable\n",
        "equilibrium is easier. Moreover, the eutrophic equilibrium is increased\n",
        "(by more than the 0.02 units of P that we are adding to the lake each\n",
        "time period), meaning that, upon eutrophication, the lake is likely to\n",
        "suffer from more intense consequences of higher nutrient levels, such as\n",
        "greater hypoxia.\n",
        "\n",
        "### Problem 3 (10 points)\n",
        "\n",
        "Denote by $\\beta$ the rate of atmospheric deposition in\n",
        "$\\mathrm{kg}/(\\mathrm{yr} \\cdot \\mathrm{m}^2)$. The atmospheric\n",
        "deposition input is then $\\beta A$, where $A$ is the area of the lake.\n",
        "The steady-state mass-balance equation becomes:\n",
        "\n",
        "Solving for $C$:\n",
        "$$C = \\frac{\\sum_j PS_j + \\sum_i NPS_i + \\beta A}{Q_\\text{out} + \\alpha V}.$$\n",
        "\n",
        "With a constraint of\n",
        "$C \\leq 0.02 \\mathrm{mg}/\\mathrm{L} = 2 \\times 10^{-5} \\text{kg}/\\text{m}^3$,\n",
        "this means\n",
        "$$\\sum_j PS_j + \\sum_i NPS_i = \\left(2 \\times 10^{-5}\\right)\\left(Q_\\text{out} + \\alpha V\\right) - \\beta A,$$\n",
        "\n",
        "and using the Vollenweider model for sedimentation\n",
        "($\\alpha \\approx 10A/V$),\n",
        "\n",
        "Subbing in the parameters from class and the problem statement\n",
        "($Q_\\text{out} = 400 \\times 10^6 \\text{m}^3/\\text{yr}, A = 30 \\times 10^6 \\text{m}^2$,\n",
        "$\\beta = 1.6 \\times 10^{-4} \\text{kg}/(\\text{yr} \\cdot \\text{m}^2), \\sum_i NPS_i = 9000 \\text{kg}/\\text{yr}$)\n",
        "yields $$\\sum_j PS_j \\leq 200 \\text{kg}/\\text{yr},$$ which is the\n",
        "maximum allowable annual rate."
      ],
      "id": "6da47dd0-f682-43ee-83ba-0c8368fee453"
    },
    {
      "cell_type": "markdown",
      "metadata": {},
      "source": [
        "## References\n",
        "\n",
        "List any external references consulted, including classmates."
      ],
      "id": "49df6a04-b1aa-4cc2-8e33-3b674c00c6d6"
    }
  ],
  "nbformat": 4,
  "nbformat_minor": 5,
  "metadata": {
    "kernel_info": {
      "name": "julia"
    },
    "kernelspec": {
      "name": "julia",
      "display_name": "Julia",
      "language": "julia"
    },
    "language_info": {
      "name": "julia",
      "codemirror_mode": "julia",
      "version": "1.10.4"
    }
  }
}