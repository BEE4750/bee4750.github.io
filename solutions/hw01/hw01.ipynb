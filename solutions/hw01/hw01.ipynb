{
  "cells": [
    {
      "cell_type": "markdown",
      "metadata": {},
      "source": [
        "# Homework 1 Solutions\n",
        "\n",
        "## Overview"
      ],
      "id": "ae1e9f84-7ac4-4c84-8ad9-4c700b330596"
    },
    {
      "cell_type": "code",
      "execution_count": 1,
      "metadata": {},
      "outputs": [],
      "source": [
        "import Pkg\n",
        "Pkg.activate(@__DIR__)\n",
        "Pkg.instantiate()"
      ],
      "id": "2"
    },
    {
      "cell_type": "code",
      "execution_count": 1,
      "metadata": {},
      "outputs": [],
      "source": [
        "using Random\n",
        "using Plots\n",
        "using GraphRecipes\n",
        "using LaTeXStrings"
      ],
      "id": "4"
    },
    {
      "cell_type": "code",
      "execution_count": 1,
      "metadata": {},
      "outputs": [
        {
          "output_type": "display_data",
          "metadata": {},
          "data": {
            "text/plain": [
              "TaskLocalRNG()"
            ]
          }
        }
      ],
      "source": [
        "# this sets a random seed, which ensures reproducibility of random number generation. You should always set a seed when working with random numbers.\n",
        "Random.seed!(1)"
      ],
      "id": "6"
    },
    {
      "cell_type": "markdown",
      "metadata": {},
      "source": [
        "## Problems (Total: 50/60 Points)\n",
        "\n",
        "### Problem 1 (15 points)\n",
        "\n",
        "The following subproblems all involve code snippets that require\n",
        "debugging. For each of them:\n",
        "\n",
        "-   identify and describe the logic and/or syntax error;\n",
        "-   write a fixed version of the function;\n",
        "-   use your fixed function to solve the problem.\n",
        "\n",
        "#### Problem 1.1\n",
        "\n",
        "The problem is with the initialization `min_value = 0`, which means no\n",
        "other values can be below it. Instead, we can initialize `min_value` to\n",
        "be `array[1]` and start looping at index `i=2`:"
      ],
      "id": "26120019-e432-4b2c-92c9-4ad4708debf8"
    },
    {
      "cell_type": "code",
      "execution_count": 1,
      "metadata": {},
      "outputs": [
        {
          "output_type": "stream",
          "name": "stdout",
          "text": [
            "minimum(array_values) = 78"
          ]
        }
      ],
      "source": [
        "function minimum(array)\n",
        "    min_value = array[1]\n",
        "    for i in 2:length(array)\n",
        "        if array[i] < min_value\n",
        "            min_value = array[i]\n",
        "        end\n",
        "    end\n",
        "    return min_value\n",
        "end\n",
        "\n",
        "array_values = [89, 90, 95, 100, 100, 78, 99, 98, 100, 95]\n",
        "@show minimum(array_values);"
      ],
      "id": "8"
    },
    {
      "cell_type": "markdown",
      "metadata": {},
      "source": [
        "#### Problem 1.2\n",
        "\n",
        "There are two issues here.\n",
        "\n",
        "1.  The first error is trying to access `average_grades`, which is only\n",
        "    defined inside the `class_average()` function. This is an issue of\n",
        "    *scope*: the variable `average_grades` doesn’t exist *globally*.\n",
        "2.  The second error is that `mean()` is not part of the `Base` Julia\n",
        "    library, but rather the `Statistics` package (part of the usual\n",
        "    Julia installation, but needs to be explicitly imported). We could\n",
        "    import it with `using Statistics` and use `mean()`, but in this case\n",
        "    let’s just take the sum and divide by the length."
      ],
      "id": "6780191d-1a18-4a97-a2d3-6b928ea11f5d"
    },
    {
      "cell_type": "code",
      "execution_count": 1,
      "metadata": {},
      "outputs": [
        {
          "output_type": "stream",
          "name": "stdout",
          "text": [
            "avg_grade = 94.4"
          ]
        }
      ],
      "source": [
        "student_grades = [89, 90, 95, 100, 100, 78, 99, 98, 100, 95]\n",
        "function class_average(grades)\n",
        "  average_grade = sum(grades) / length(grades)\n",
        "  return average_grade\n",
        "end\n",
        "\n",
        "avg_grade = class_average(student_grades)\n",
        "@show avg_grade;"
      ],
      "id": "10"
    },
    {
      "cell_type": "markdown",
      "metadata": {},
      "source": [
        "#### Problem 1.3\n",
        "\n",
        "The `setindex` error comes from the use of `zero()` instead of\n",
        "`zeros()`:\n",
        "\n",
        "-   [`zero(n)`](https://docs.julialang.org/en/v1/base/numbers/#Base.zero)\n",
        "    creates a zero variable of the same type of the argument `n` (*e.g.*\n",
        "    `zero(1)` is `0` and `zero(1.5)` is `0.0`).\n",
        "-   [`zeros(n)`](https://docs.julialang.org/en/v1/base/arrays/#Base.zeros)\n",
        "    creates an array of zeroes of dimension `n`, where `n` can be an\n",
        "    integer or a tuple (for a matrix or higher-dimensional array).\n",
        "\n",
        "As a result, the original call `outcomes = zero(n_trials)` sets\n",
        "`outcomes=0`, but then when we try to set `outcomes[1]` in the loop,\n",
        "this is undefined as a scalar does not have an index, resulting in the\n",
        "error."
      ],
      "id": "e78157bd-1c4d-4829-9131-611047a42cea"
    },
    {
      "cell_type": "code",
      "execution_count": 1,
      "metadata": {},
      "outputs": [
        {
          "output_type": "stream",
          "name": "stdout",
          "text": [
            "win_prob = 0.36"
          ]
        }
      ],
      "source": [
        "function passadieci()\n",
        "    # this rand() call samples 3 values from the vector [1, 6]\n",
        "    roll = rand(1:6, 3) \n",
        "    return roll\n",
        "end\n",
        "n_trials = 1_000\n",
        "outcomes = zeros(n_trials)\n",
        "for i = 1:n_trials\n",
        "    outcomes[i] = (sum(passadieci()) > 11)\n",
        "end\n",
        "win_prob = sum(outcomes) / n_trials # compute average number of wins\n",
        "@show win_prob;"
      ],
      "id": "12"
    },
    {
      "cell_type": "markdown",
      "metadata": {},
      "source": [
        "We could also use\n",
        "[comprehensions](https://viveks.me/environmental-systems-analysis/tutorials/julia-basics.html#comprehensions)\n",
        "and\n",
        "[broadcasting](https://docs.julialang.org/en/v1/manual/arrays/#Broadcasting)\n",
        "(applying a function across each element of an array) instead of\n",
        "initializing `outcomes` as a zero vector and looping to fill it:"
      ],
      "id": "78c8a7c1-154e-44de-8019-9ad3395ccfbe"
    },
    {
      "cell_type": "code",
      "execution_count": 1,
      "metadata": {},
      "outputs": [
        {
          "output_type": "stream",
          "name": "stdout",
          "text": [
            "win_prob = 0.368"
          ]
        }
      ],
      "source": [
        "rolls = [passadieci() for i in 1:n_trials]\n",
        "outcomes = sum.(rolls) .> 11\n",
        "\n",
        "win_prob = sum(outcomes) / n_trials # compute average number of wins\n",
        "@show win_prob;"
      ],
      "id": "14"
    },
    {
      "cell_type": "markdown",
      "metadata": {},
      "source": [
        "### Problem 2 (5 points)\n",
        "\n",
        "Let’s outline the steps in `mystery_function`:\n",
        "\n",
        "1.  Initialize an empty vector.\n",
        "2.  If a value `v` is not already in `y`, add `v` to `y`.\n",
        "3.  Return after looking at all values.\n",
        "\n",
        "This means that `mystery_function` selects and returns the unique values\n",
        "in `values`, which is confirmed by the test case.\n",
        "\n",
        "There are many ways to add comments, but we could comment as follows:"
      ],
      "id": "4951501b-1267-479e-8ae7-81f858dfa236"
    },
    {
      "cell_type": "code",
      "execution_count": 1,
      "metadata": {},
      "outputs": [
        {
          "output_type": "stream",
          "name": "stdout",
          "text": [
            "mystery_function(list_of_values) = Any[1, 2, 3, 4]"
          ]
        }
      ],
      "source": [
        "# mystery_function: \n",
        "#    Inputs: \n",
        "#       - values: vector of numeric values\n",
        "#    Outputs: \n",
        "#       - vector of unique values from the input \n",
        "function mystery_function(values)\n",
        "    y = [] # initialize as an empty vector because we don't know how many values we will end up with\n",
        "    for v in values\n",
        "        if !(v in y) # if a value is not already in y\n",
        "            append!(y, v) # append to y\n",
        "        end\n",
        "    end\n",
        "    return y\n",
        "end\n",
        "\n",
        "list_of_values = [1, 2, 3, 4, 3, 4, 2, 1]\n",
        "@show mystery_function(list_of_values);"
      ],
      "id": "16"
    },
    {
      "cell_type": "markdown",
      "metadata": {},
      "source": [
        "The built-in Julia function which does the same thing is `unique()`\n",
        "(found using a Google search for “unique Julia vector function”)."
      ],
      "id": "31dbc64a-83e9-413e-bc11-5bb89dfec0bf"
    },
    {
      "cell_type": "code",
      "execution_count": 1,
      "metadata": {},
      "outputs": [
        {
          "output_type": "stream",
          "name": "stdout",
          "text": [
            "unique(list_of_values) = [1, 2, 3, 4]"
          ]
        }
      ],
      "source": [
        "@show unique(list_of_values);"
      ],
      "id": "18"
    },
    {
      "cell_type": "markdown",
      "metadata": {},
      "source": [
        "### Problem 3 (10 points)\n",
        "\n",
        "You’re interested in writing some code to remove the mean of a vector.\n",
        "\n",
        "-   Write a function `compute_mean(v)` which sums all of the elements of\n",
        "    a vector `v` using a `for` loop and computes the mean.\n",
        "-   Make a random vector `random_vect` of length 10 using Julia’s\n",
        "    `rand()` function. Use your `compute_mean()` function to calculate\n",
        "    its mean and subtract it from `random_vect` **without a loop**\n",
        "    (using a Julia technique called *broadcasting*; feel free to consult\n",
        "    the Julia documentation and search as necessary). Check that the new\n",
        "    vector has mean zero.\n",
        "\n",
        "Our `compute_mean` function should:\n",
        "\n",
        "1.  Initialize a running sum at 0;\n",
        "2.  Loop over all elements of `v`;\n",
        "3.  Add each element in turn to the running sum;\n",
        "4.  Divide the running sum by the number of elements and return."
      ],
      "id": "1529aa3c-9ffb-406d-9bad-1dccf18dc9b0"
    },
    {
      "cell_type": "code",
      "execution_count": 1,
      "metadata": {},
      "outputs": [
        {
          "output_type": "stream",
          "name": "stdout",
          "text": [
            "rand_mean = 0.5965491750544393"
          ]
        }
      ],
      "source": [
        "function compute_mean(v)\n",
        "    v_sum = 0\n",
        "    for val in v\n",
        "        v_sum += val\n",
        "    end\n",
        "    return v_sum / length(v)\n",
        "end\n",
        "\n",
        "random_vect = rand(10)\n",
        "rand_mean = compute_mean(random_vect)\n",
        "@show rand_mean;"
      ],
      "id": "20"
    },
    {
      "cell_type": "markdown",
      "metadata": {},
      "source": [
        "To subtract off the mean from `random_vect`, we can broadcast the\n",
        "subtraction operator by putting a decimal in front: `.-`.[1]\n",
        "\n",
        "[1] As a reminder, broadcasting involves applying a function\n",
        "element-wise. If we just tried to subtract `random_vect - rand_mean`,\n",
        "Julia would throw an error because it doesn’t know if it should try\n",
        "element-wise subtraction or if we made a mistake in trying to subtract a\n",
        "scalar from a vector, and Julia’s design is to err on the side of\n",
        "throwing an error unless we specifically say that we want an\n",
        "element-wise operation through broadcasting."
      ],
      "id": "1b5a863a-9981-4896-a4c6-467f82d9596a"
    },
    {
      "cell_type": "code",
      "execution_count": 1,
      "metadata": {},
      "outputs": [
        {
          "output_type": "stream",
          "name": "stdout",
          "text": [
            "compute_mean(random_vect_demean) = -2.2204460492503132e-17"
          ]
        }
      ],
      "source": [
        "random_vect_demean = random_vect .- rand_mean\n",
        "@show compute_mean(random_vect_demean);"
      ],
      "id": "22"
    },
    {
      "cell_type": "markdown",
      "metadata": {},
      "source": [
        "We have produced a mean-zero random vector! But this isn’t *exactly*\n",
        "zero due to numerical precision. This doesn’t really matter, as the\n",
        "non-zero entries are insignificant digits, which we can see if we round\n",
        "(which we should do anyway):"
      ],
      "id": "0defac26-5615-4fbf-81c6-b417c66094bd"
    },
    {
      "cell_type": "code",
      "execution_count": 1,
      "metadata": {},
      "outputs": [
        {
          "output_type": "stream",
          "name": "stdout",
          "text": [
            "round(compute_mean(random_vect_demean); digits = 1) = -0.0"
          ]
        }
      ],
      "source": [
        "@show round(compute_mean(random_vect_demean); digits=1);"
      ],
      "id": "24"
    },
    {
      "cell_type": "markdown",
      "metadata": {},
      "source": [
        "### Problem 4 (20 points)\n",
        "\n",
        "These equations will be derived in terms of $X_1$ (the land disposal\n",
        "amount, in kg/day) and $X_2$ (the chemically treated amount, in kg/day),\n",
        "where $X_1 + X_2 \\leq 100\\ \\mathrm{kg/day}$. Note that we don’t need to\n",
        "explicitly represent the amount of directly disposed YUK, as this is\n",
        "$100 - X_1 - X_2$ and so is not a free variable."
      ],
      "id": "718fd7c5-dd17-4e47-948f-347f85dc28b4"
    },
    {
      "cell_type": "code",
      "execution_count": 1,
      "metadata": {},
      "outputs": [],
      "source": [
        "A = [0 1 1 1;\n",
        "    0 0 0 1;\n",
        "    0 0 0 1;\n",
        "    0 0 0 0]\n",
        "\n",
        "names = [\"Plant\", \"Land Treatment\", \"Chem Treatment\", \"Pristine Brook\"]\n",
        "# modify this dictionary to add labels\n",
        "edge_labels = Dict((1, 2) => L\"X_1\", (1,3) => L\"X_2\", (1, 4) => L\"100 - X_1 - X_2\", (2, 4) => L\"0.2X_1\",(3, 4) => L\"0.005X_2^2\")\n",
        "shapes=[:hexagon, :rect, :rect, :hexagon]\n",
        "xpos = [0, -1.5, -0.25, 1]\n",
        "ypos = [1, 0, 0, -1]\n",
        "\n",
        "p = graphplot(A, names=names,edgelabel=edge_labels, markersize=0.15, markershapes=shapes, markercolor=:white, x=xpos, y=ypos)\n",
        "display(p)"
      ],
      "id": "cell-fig-wastewater"
    },
    {
      "cell_type": "markdown",
      "metadata": {},
      "source": [
        "The amount of YUK which will be discharged is\n",
        "\n",
        "The cost is $$\n",
        "C(X_1, X_2) = X_1^2/20 + 1.5 X_2.\n",
        "$$\n",
        "\n",
        "A Julia function for this model could look like:"
      ],
      "id": "04b3d8b2-11a3-42d3-a521-b0481447244c"
    },
    {
      "cell_type": "code",
      "execution_count": 1,
      "metadata": {},
      "outputs": [
        {
          "output_type": "display_data",
          "metadata": {},
          "data": {
            "text/plain": [
              "yuk_discharge (generic function with 1 method)"
            ]
          }
        }
      ],
      "source": [
        "# we will assume that X₁, X₂ are vectors so we can vectorize\n",
        "# the function; hence the use of broadcasting. This makes unpacking\n",
        "# the different outputs easier as each will be returned as a vector.\n",
        "# Note that even though this is vectorized, passing scalar inputs\n",
        "# will still work fine.\n",
        "function yuk_discharge(X₁, X₂)\n",
        "    # Make sure X₁ + X₂ <= 100! Throw an error if not.\n",
        "    if any(X₁ .+ X₂ .> 100)\n",
        "        error(\"X₁ + X₂ must be less than 200\")\n",
        "    end\n",
        "    yuk = 100 .- 0.8X₁ .+ (0.005X₂ .- 1) .* X₂\n",
        "    cost = X₁.^2/20 .+ 1.5X₂\n",
        "    return (yuk, cost)\n",
        "end"
      ],
      "id": "28"
    },
    {
      "cell_type": "markdown",
      "metadata": {},
      "source": [
        "Now, let’s experiment with different outcomes.[1] Some other options\n",
        "include just randomly sampling values (but be careful of not sampling\n",
        "impossible combinations of $X_1$ and $X_2$), manually searching, or\n",
        "setting up a grid of combinations.\n",
        "\n",
        "[1] We left this intentionally open for you to conceptualize how to\n",
        "generate combinations and to look into different ways of implementing\n",
        "these in Julia. For a more systematic approach, we can sample\n",
        "combinations from a [Dirichlet\n",
        "distribution](https://en.wikipedia.org/wiki/Dirichlet_distribution),\n",
        "which samples combinations which add up to 1. This will require\n",
        "installing and loading the `Distributions.jl` package (we will spend\n",
        "more time working with `Distributions.jl` later)."
      ],
      "id": "630f657b-2f31-4591-bafe-b66efb79bdda"
    },
    {
      "cell_type": "code",
      "execution_count": 1,
      "metadata": {},
      "outputs": [
        {
          "output_type": "stream",
          "name": "stdout",
          "text": [
            "   Resolving package versions...\n",
            "  No Changes to `~/Teaching/BEE4750/website/solutions/hw01/Project.toml`\n",
            "  No Changes to `~/Teaching/BEE4750/website/solutions/hw01/Manifest.toml`"
          ]
        }
      ],
      "source": [
        "# Install and load Distributions.jl\n",
        "Pkg.add(\"Distributions\")\n",
        "using Distributions\n",
        "\n",
        "yuk_distribution = Dirichlet(3, 1)\n",
        "# Need to scale samples from 0 to 200, not 0 to 1\n",
        "yuk_samples = 100 * rand(yuk_distribution, 1000)\n",
        "D, C = yuk_discharge(yuk_samples[1,:], yuk_samples[2, :])\n",
        "\n",
        "# Plot the discharge vs. cost and add a line for the regulatory limit\n",
        "p = scatter(D, C, markersize=2, label=\"Treatment Samples\")\n",
        "vline!(p, [20], color=:red, label=\"Regulatory Limit\")\n",
        "# Label axes\n",
        "xaxis!(p, \"YUK Discharge (kg/day)\")\n",
        "# For the y-axis label, we need to \"escape\" the $ by adding a slash\n",
        "# otherwise it interprets that as starting math mode\n",
        "yaxis!(p, \"Treatment Cost (\\$/day)\")"
      ],
      "id": "cell-fig-yuk-solution"
    },
    {
      "cell_type": "markdown",
      "metadata": {},
      "source": [
        "We can see that there are a few treatment strategies which comply with\n",
        "the limit, but they are fairly expensive. This is an example of a\n",
        "*tradeoff* between two objectives[1], where one has to make a choice\n",
        "between what objectives to prioritize. But one thing to note is that\n",
        "just choosing an expensive strategy does not guarantee compliance.\n",
        "\n",
        "### Problem 5 (10 points)\n",
        "\n",
        "#### Problem 5.1\n",
        "\n",
        "Here is one solution: Julia includes a function `iseven()` which returns\n",
        "1 if the argument is even and 0 if it is odd. So we can use a\n",
        "comprehension to evaluate `!iseven(x)` (the `!` is Boolean negation)\n",
        "over the range `0:149`, which will return a vector of 1s and 0s, and\n",
        "then add up the vector to get the count of odd numbers. Another approach\n",
        "could be to use the `isodd()` function directly.\n",
        "\n",
        "[1] More on this later in the semester!"
      ],
      "id": "234d60a2-ef37-481b-9897-d3e41bb52e7a"
    },
    {
      "cell_type": "code",
      "execution_count": 1,
      "metadata": {},
      "outputs": [
        {
          "output_type": "display_data",
          "metadata": {},
          "data": {
            "text/plain": [
              "75"
            ]
          }
        }
      ],
      "source": [
        "odd_count = sum([!iseven(x) for x in 0:149])"
      ],
      "id": "32"
    },
    {
      "cell_type": "markdown",
      "metadata": {},
      "source": [
        "#### Problem 5.2"
      ],
      "id": "486aca37-3986-4322-807c-f74d832b3ed2"
    },
    {
      "cell_type": "code",
      "execution_count": 1,
      "metadata": {},
      "outputs": [
        {
          "output_type": "stream",
          "name": "stdout",
          "text": [
            "polynomial(x, a) = 13"
          ]
        }
      ],
      "source": [
        "function polynomial(x, a)\n",
        "    p = 0 # initialize value of polynomial\n",
        "    for i in eachindex(a)\n",
        "        p += a[i] * x^(i-1)\n",
        "    end\n",
        "    return p\n",
        "end\n",
        "\n",
        "a = [1, 0, -1, 2]\n",
        "x = 2\n",
        "@show polynomial(x, a);"
      ],
      "id": "34"
    }
  ],
  "nbformat": 4,
  "nbformat_minor": 5,
  "metadata": {
    "kernel_info": {
      "name": "julia"
    },
    "kernelspec": {
      "name": "julia",
      "display_name": "Julia",
      "language": "julia"
    },
    "language_info": {
      "name": "julia",
      "codemirror_mode": "julia",
      "version": "1.10.4"
    }
  }
}