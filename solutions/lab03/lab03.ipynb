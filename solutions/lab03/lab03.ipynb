{
  "cells": [
    {
      "cell_type": "markdown",
      "metadata": {},
      "source": [
        "# Lab 3 Solutions\n",
        "\n",
        "**Name**:\n",
        "\n",
        "**ID**:\n",
        "\n",
        "> **Due Date**\n",
        ">\n",
        "> Wednesday, 10/16/24, 9:00pm\n",
        "\n",
        "## Setup\n",
        "\n",
        "The following code should go at the top of most Julia scripts; it will\n",
        "load the local package environment and install any needed packages. You\n",
        "will see this often and shouldn’t need to touch it."
      ],
      "id": "da4246dc-fa93-4246-a378-39d16e03593d"
    },
    {
      "cell_type": "code",
      "execution_count": 1,
      "metadata": {},
      "outputs": [],
      "source": [
        "import Pkg\n",
        "Pkg.activate(\".\")\n",
        "Pkg.instantiate()"
      ],
      "id": "2"
    },
    {
      "cell_type": "code",
      "execution_count": 1,
      "metadata": {},
      "outputs": [],
      "source": [
        "using JuMP # optimization modeling syntax\n",
        "using HiGHS # optimization solver"
      ],
      "id": "4"
    },
    {
      "cell_type": "markdown",
      "metadata": {},
      "source": [
        "## Overview\n",
        "\n",
        "## Exercise (3 points)\n",
        "\n",
        "Your task is to decide how much lumber to produce to maximize profit\n",
        "from wood sales. You can purchase wood from a managed forest, which\n",
        "consists of spruce (320,000 bf) and fir (720,000 bf). Spruce costs\n",
        "$\\$0.12$ per bf to purchase and fir costs $\\$0.08$ per bf.\n",
        "\n",
        "At the lumber mill, wood can be turned into plywood of various grades\n",
        "(see <a href=\"#tbl-inputs\" class=\"quarto-xref\">Table 1</a> for how much\n",
        "wood of each type is required for and the revenue from each grade). Any\n",
        "excess wood is sent to be recycled into particle board, which yields no\n",
        "revenue for the mill.\n",
        "\n",
        "| Plywood Grade | Inputs (bf/bf plywood) | Revenue (\\$/1000 bf) |\n",
        "|:-------------:|:----------------------:|:--------------------:|\n",
        "|       1       |   0.5 (S) + 1.5 (F)    |         400          |\n",
        "|       2       |   1.0 (S) + 2.0 (F)    |         520          |\n",
        "|       3       |   1.5 (S) + 2.0 (F)    |         700          |\n",
        "\n",
        "Table 1: Wood inputs and revenue by plywood grade. S refers to spruce\n",
        "inputs, F fir inputs.\n",
        "\n",
        "First, we need to identify our decision variables. While there are\n",
        "several options, we will use $G_i$, the amount of each grade the mill\n",
        "produces (in 1000 bf).\n",
        "\n",
        "Using these decision variables, formulate a linear program to maximize\n",
        "the profit of the mill subject to the supply constraints on spruce and\n",
        "fir.\n",
        "\n",
        "***Solution***:\n",
        "\n",
        "With these decision variables, we need to calculate the amount of profit\n",
        "yielded by a bf of each grade of plywood.\n",
        "\n",
        "1.  G1 sells for \\$400 per 1000 bf and consumes 500 bf of spruce and\n",
        "    1500 bf of fir, costing \\$60 from spruce and \\$120 from fir,\n",
        "    yielding a profit of \\$220/(1000 bf).\n",
        "2.  G2 sells for \\$520 per 1000 bf and consumes 1000 bf of spruce and\n",
        "    2000 bf of fir, costing \\$120 from spruce and \\$160 from fir,\n",
        "    yielding a profit of \\$240/(1000 bf).\n",
        "3.  G3 sells for \\$700 per 1000 bf and consumes 1500 bf of spruce and\n",
        "    2000 bf of fir, costing \\$180 from spruce and \\$160 from fir,\n",
        "    yielding a profit of \\$360/(1000 bf).\n",
        "\n",
        "Then the objective is\n",
        "$$\\max_{G_1, G_2, G_3} 220 G_1 + 240 G_2 + 360 G_3.$$\n",
        "\n",
        "We can only purchase 320,000 bf of spruce and 720,000 bf of fir. These\n",
        "become the following constraints (in terms of 1,000 bf):\n",
        "\n",
        "Finally, we have non-negativity (or boundary) constraints on $G_i$:\n",
        "$$G_1, G_2, G_3 \\geq 0.$$\n",
        "\n",
        "This makes the final optimization problem:\n",
        "\n",
        "Next, we want to convert the optimization problem into `JuMP` syntax,\n",
        "which we do below."
      ],
      "id": "42bc47da-068e-4f30-a908-d41f034967bd"
    },
    {
      "cell_type": "code",
      "execution_count": 1,
      "metadata": {},
      "outputs": [
        {
          "output_type": "stream",
          "name": "stdout",
          "text": [
            "Max 220 G[1] + 240 G[2] + 360 G[3]\n",
            "Subject to\n",
            " spruce : 0.5 G[1] + G[2] + 1.5 G[3] ≤ 320\n",
            " fir : 1.5 G[1] + 2 G[2] + 2 G[3] ≤ 720\n",
            " G[1] ≥ 0\n",
            " G[2] ≥ 0\n",
            " G[3] ≥ 0"
          ]
        }
      ],
      "source": [
        "forest_model = Model(HiGHS.Optimizer) # initialize model object\n",
        "@variable(forest_model, G[1:3] >= 0) # define variables and add non-negativity constraints\n",
        "@objective(forest_model, Max, 220G[1] + 240G[2] + 360G[3])\n",
        "@constraint(forest_model, spruce, 0.5G[1] + G[2] + 1.5G[3] <= 320)\n",
        "@constraint(forest_model, fir, 1.5G[1] + 2G[2] + 2G[3] <= 720)\n",
        "print(forest_model) # this outputs a nicely formatted summary of the model so you can check your specification"
      ],
      "id": "6"
    },
    {
      "cell_type": "markdown",
      "metadata": {},
      "source": [
        "Next, to optimize, use the `optimize!()` function:"
      ],
      "id": "8f1b5f32-89ef-4761-8244-d6b5c25674c3"
    },
    {
      "cell_type": "code",
      "execution_count": 1,
      "metadata": {},
      "outputs": [
        {
          "output_type": "stream",
          "name": "stdout",
          "text": [
            "Running HiGHS 1.7.2 (git hash: 5ce7a2753): Copyright (c) 2024 HiGHS under MIT licence terms\n",
            "Coefficient ranges:\n",
            "  Matrix [5e-01, 2e+00]\n",
            "  Cost   [2e+02, 4e+02]\n",
            "  Bound  [0e+00, 0e+00]\n",
            "  RHS    [3e+02, 7e+02]\n",
            "Presolving model\n",
            "2 rows, 3 cols, 6 nonzeros  0s\n",
            "2 rows, 3 cols, 6 nonzeros  0s\n",
            "Presolve : Reductions: rows 2(-0); columns 3(-0); elements 6(-0) - Not reduced\n",
            "Problem not reduced by presolve: solving the LP\n",
            "Using EKK dual simplex solver - serial\n",
            "  Iteration        Objective     Infeasibilities num(sum)\n",
            "          0    -8.1999929744e+02 Ph1: 2(8.5); Du: 3(819.999) 0s\n",
            "          2     1.1200000000e+05 Pr: 0(0) 0s\n",
            "Model   status      : Optimal\n",
            "Simplex   iterations: 2\n",
            "Objective value     :  1.1200000000e+05\n",
            "HiGHS run time      :          0.00"
          ]
        }
      ],
      "source": [
        "optimize!(forest_model)"
      ],
      "id": "8"
    },
    {
      "cell_type": "code",
      "execution_count": 1,
      "metadata": {},
      "outputs": [
        {
          "output_type": "stream",
          "name": "stdout",
          "text": [
            "value.(G) = [352.0, 0.0, 96.0]\n",
            "objective_value(forest_model) = 112000.0"
          ]
        }
      ],
      "source": [
        "@show value.(G);\n",
        "@show objective_value(forest_model);"
      ],
      "id": "10"
    },
    {
      "cell_type": "markdown",
      "metadata": {},
      "source": [
        "So the optimal result is to produce 96,000 bf of grade 3 plywood and\n",
        "352,000 bf of grade 1 plywood, which yields a profit of \\$112,000."
      ],
      "id": "693b76ea-f4a0-4172-81fe-6e17da3aedfc"
    },
    {
      "cell_type": "code",
      "execution_count": 1,
      "metadata": {},
      "outputs": [
        {
          "output_type": "stream",
          "name": "stdout",
          "text": [
            "shadow_price(spruce) = 80.0\n",
            "shadow_price(fir) = 120.0"
          ]
        }
      ],
      "source": [
        "@show shadow_price(spruce);\n",
        "@show shadow_price(fir);"
      ],
      "id": "12"
    },
    {
      "cell_type": "markdown",
      "metadata": {},
      "source": [
        "Both the spruce and fir constraints are binding, as evidenced by their\n",
        "non-zero shadow prices.\n",
        "\n",
        "Why does it make sense that we aren’t producing any grade 2 plywood even\n",
        "though it produces more profit than grade 1? The production of grade 3,\n",
        "which is the highest-profit grade, consumes 144,000 bf of spruce and\n",
        "192,000 bf of fir. If we produced as much grade 2 plywood as possible,\n",
        "which would be 176,000 bf, we would make a profit of \\$76,800. Since we\n",
        "can produce far more grade 1 plywood, the extra \\$20/(1,000 bf) profit\n",
        "from producing grade 2 is not enough to compensate for the loss of\n",
        "production volume.\n",
        "\n",
        "## References\n",
        "\n",
        "Put any consulted sources here, including classmates you worked with/who\n",
        "helped you."
      ],
      "id": "72e3ee3e-ee60-486c-a9ee-6c5843639e86"
    }
  ],
  "nbformat": 4,
  "nbformat_minor": 5,
  "metadata": {
    "kernel_info": {
      "name": "julia"
    },
    "kernelspec": {
      "name": "julia",
      "display_name": "Julia",
      "language": "julia"
    },
    "language_info": {
      "name": "julia",
      "codemirror_mode": "julia",
      "version": "1.10.4"
    }
  }
}