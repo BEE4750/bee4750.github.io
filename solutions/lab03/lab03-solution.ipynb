{
  "cells": [
    {
      "cell_type": "markdown",
      "metadata": {},
      "source": [
        "# BEE 4750 Lab 3 Solution\n",
        "\n",
        "## Setup\n",
        "\n",
        "The following code should go at the top of most Julia scripts; it will\n",
        "load the local package environment and install any needed packages. You\n",
        "will see this often and shouldn’t need to touch it."
      ],
      "id": "83647f96-fb97-420d-94f8-87084af0f0fb"
    },
    {
      "cell_type": "code",
      "execution_count": 1,
      "metadata": {},
      "outputs": [],
      "source": [
        "import Pkg\n",
        "Pkg.activate(\".\")\n",
        "Pkg.instantiate()"
      ],
      "id": "307ec3dd"
    },
    {
      "cell_type": "code",
      "execution_count": 2,
      "metadata": {},
      "outputs": [],
      "source": [
        "using JuMP # optimization modeling syntax\n",
        "using HiGHS # optimization solver\n",
        "using Plots # plotting"
      ],
      "id": "a3b7f2b7"
    },
    {
      "cell_type": "markdown",
      "metadata": {},
      "source": [
        "## Overview\n",
        "\n",
        "In this lab, you will write and solve a resource allocation example\n",
        "using `JuMP.jl`. `JuMP.jl` provides an intuitive syntax for writing,\n",
        "solving, and querying optimization problems.\n",
        "\n",
        "For an example of using `JuMP.jl` to solve linear programs, see [the\n",
        "relevant tutorial on the class\n",
        "website](https://viveks.me/environmental-systems-analysis/tutorials/julia-jump.html)."
      ],
      "id": "cd34c222-a445-42dc-b17d-5178cfc2710e"
    },
    {
      "cell_type": "markdown",
      "metadata": {},
      "source": [
        "## Introduction\n",
        "\n",
        "Your task is to decide how much lumber to produce to maximize profit\n",
        "from wood sales. You can purchase wood from a managed forest, which\n",
        "consists of spruce (320,000 bf) and fir (720,000 bf). Spruce costs\n",
        "\\$0.12 per bf to purchase and fir costs \\$0.08 per bf.\n",
        "\n",
        "At the lumber mill, wood can be turned into plywood of various grades\n",
        "(see [Table 1](#tbl-inputs) for how much wood of each type is required\n",
        "for and the revenue from each grade). Any excess wood is sent to be\n",
        "recycled into particle board. This resource allocation problem is\n",
        "diagrammed in [Figure 1](#fig-schematic).\n",
        "\n",
        "| Plywood Grade | Inputs (bf/bf plywood) | Revenue (\\$/1000 bf) |\n",
        "|:-------------:|:----------------------:|:--------------------:|\n",
        "|       1       |   0.5 (S) + 1.5 (F)    |         400          |\n",
        "|       2       |   1.0 (S) + 2.0 (F)    |         520          |\n",
        "|       3       |   1.5 (S) + 2.0 (F)    |         700          |\n",
        "\n",
        "Table 1: Wood inputs and revenue by plywood grade. S refers to spruce\n",
        "inputs, F fir inputs."
      ],
      "id": "28fe71c6-27a6-4517-b278-1806e6260fc0"
    },
    {
      "cell_type": "code",
      "execution_count": null,
      "metadata": {
        "fig-width": "100%"
      },
      "outputs": [
        {
          "output_type": "display_data",
          "metadata": {},
          "data": {
            "text/html": [
              "<pre class=\"mermaid mermaid-js\" data-label=\"fig-schematic\">\n",
              "flowchart LR\n",
              "    A[Spruce] -- $0.12 per bf --&gt; C{Lumber Mill}\n",
              "    B[Fir] -- $0.08 per bf --&gt; C\n",
              "    C --&gt; P(Plywood)\n",
              "    C -- Wood Excess --&gt; D{Recycle}\n",
              "    D --&gt; E(Particle Board)\n",
              "    E -- $0.03 per bf net --&gt; S[Sell]\n",
              "    P -- Price depends on grade --&gt; S\n",
              "</pre>"
            ]
          }
        }
      ],
      "source": [],
      "id": "2c72dafc-ef5c-4a80-a838-36d29dc5dc8f"
    },
    {
      "cell_type": "markdown",
      "metadata": {},
      "source": [
        "## Problems (10 points)"
      ],
      "id": "abe012ff-7d41-483c-9546-94293c451da6"
    },
    {
      "cell_type": "markdown",
      "metadata": {},
      "source": [
        "### Problem 1: Problem Formulation (5 points)\n",
        "\n",
        "In this problem, you will go through the steps of formulating a linear\n",
        "program for this problem."
      ],
      "id": "a4e97833-0e58-42df-a4c5-df2e6caef7ce"
    },
    {
      "cell_type": "markdown",
      "metadata": {},
      "source": [
        "#### Problem 1.1 (1 point)\n",
        "\n",
        "What are your decision variables? Clearly define your notation,\n",
        "including what variables you are using, what they mean, and what their\n",
        "units are."
      ],
      "id": "e6469c0d-b555-45d9-b56c-e839b21aba11"
    },
    {
      "cell_type": "markdown",
      "metadata": {},
      "source": [
        "***Solution***:\n",
        "\n",
        "A good choice for our decision variables are $G_1$, $G_2$, and $G_3$,\n",
        "each of which correspond to a 1,000 bf of each plywood grade (for\n",
        "convenience). Note that we may not need to consider the particle board —\n",
        "it’s money-losing, and will just be where we send excess spruce and fir\n",
        "(where we have to buy a fraction of a unit).\n",
        "\n",
        "We don’t have to worry about other notation, as we can express the wood\n",
        "needs in terms of the plywood grade quantities."
      ],
      "id": "939fed9a-3664-4821-822f-9643f624c599"
    },
    {
      "cell_type": "markdown",
      "metadata": {},
      "source": [
        "#### Problem 1.2 (1 point)\n",
        "\n",
        "Derive your objective function. Support your function with\n",
        "justifications and/or equations as necessary. You will not receive\n",
        "credit just for the function alone."
      ],
      "id": "c6fbf30e-3f12-4e1a-9f9b-e02de1151bcb"
    },
    {
      "cell_type": "markdown",
      "metadata": {},
      "source": [
        "***Solution***:\n",
        "\n",
        "Our objective is to maximize profit, so for each grade of plywood we\n",
        "want to calculate its profit.\n",
        "\n",
        "-   Grade 1 (per 1,000 bf):\n",
        "    $\\$400 - (0.5 \\times \\$120) - (1.5 \\times \\$80) = \\$220$\n",
        "-   Grade 2 (per 1,000 bf):\n",
        "    $\\$520 - (1 \\times \\$120) - (2 \\times \\$80) = \\$240$\n",
        "-   Grade 3 (per 1,000 bf):\n",
        "    $\\$700 - (1.5 \\times \\$120) - (2 \\times \\$80) = \\$360$\n",
        "\n",
        "So our objective is then\n",
        "$$\\max_{G_1, G_2, G_3} 220 G_1 + 240 G_2 + 360 G_3.$$"
      ],
      "id": "78665000-ae91-445e-9a67-ccc156cded57"
    },
    {
      "cell_type": "markdown",
      "metadata": {},
      "source": [
        "#### Problem 1.3 (2 point)\n",
        "\n",
        "Derive any needed constraints. Support your function with justifications\n",
        "and/or equations as necessary. You will not receive credit just for the\n",
        "final constraints alone."
      ],
      "id": "b24acb80-82c9-4586-906e-76c7cabbc547"
    },
    {
      "cell_type": "markdown",
      "metadata": {},
      "source": [
        "***Solution***:\n",
        "\n",
        "We have two constraints on the supply of spruce and fir, which are\n",
        "capped at 320,000 bf and 720,000 bf, respectively:\n",
        "\n",
        "-   (Spruce): $0.5G_1 + G_2 + 1.5 G_3 \\leq 320$\n",
        "-   (Fir): $1.5 G_1 + 2G_2 + 2G_3 \\leq 720$.\n",
        "\n",
        "Then we have non-negativity constraints, since we can’t produce negative\n",
        "plywood: $G_1, G_2, G_3 \\geq 0$."
      ],
      "id": "d47b70d9-1b6a-439b-abae-67039c474421"
    },
    {
      "cell_type": "markdown",
      "metadata": {},
      "source": [
        "#### Problem 1.4 (1 point)\n",
        "\n",
        "Put this optimization problem in mathematical programming form. For an\n",
        "example of the syntax for this, see lines 82–91\n",
        "[here](https://github.com/vsrikrish/environmental-systems-analysis/blob/Fall23/tutorials/julia-jump.qmd)."
      ],
      "id": "c217a1d4-53b1-46db-89c4-c64a39a546c7"
    },
    {
      "cell_type": "markdown",
      "metadata": {},
      "source": [
        "***Solution***:\n",
        "\n",
        "### Problem 2: Find the Solution (5 points)"
      ],
      "id": "1b57e1d0-aeb3-4912-8431-ee0b68effd3e"
    },
    {
      "cell_type": "markdown",
      "metadata": {},
      "source": [
        "#### Problem 2.1 (2 points)\n",
        "\n",
        "Code your linear program using `JuMP`. Feel free to consult [the\n",
        "website’s `JuMP`\n",
        "tutorial](https://viveks.me/environmental-systems-analysis/tutorials/julia-jump.html)\n",
        "for syntax help."
      ],
      "id": "7786c7e6-7bfc-4835-9a85-e45073e4f4cb"
    },
    {
      "cell_type": "markdown",
      "metadata": {},
      "source": [
        "***Solution***:\n",
        "\n",
        "We could write out all of the variables one at a time, but here I’ll use\n",
        "the more compact vectorized notation for illustration. The constraints\n",
        "we may want to leave separate because they’re a bit different, but you\n",
        "could vectorize those as well."
      ],
      "id": "7188717c-3831-4c90-837e-ce5fc6298670"
    },
    {
      "cell_type": "code",
      "execution_count": 3,
      "metadata": {},
      "outputs": [
        {
          "output_type": "display_data",
          "metadata": {},
          "data": {}
        }
      ],
      "source": [
        "forestry_model = Model(HiGHS.Optimizer) # initialize model object\n",
        "# define variables\n",
        "I = 1:3 # three decision variables in this set\n",
        "@variable(forestry_model, G[i in I] >= 0) # decision variables are bounded below by zero\n",
        "@objective(forestry_model, Max, 220G[1] + 240G[2] + 360G[3])\n",
        "@constraint(forestry_model, spruce_limit, 0.5G[1] + G[2] + 1.5G[3] <= 320)\n",
        "@constraint(forestry_model, fir_limit, 1.5G[1] + 2G[2] + 2G[3] <= 720)\n",
        "print(forestry_model) # print to make sure we entered this correctly"
      ],
      "id": "04424b59"
    },
    {
      "cell_type": "markdown",
      "metadata": {},
      "source": [
        "#### Problem 2.2 (1 points)\n",
        "\n",
        "Find the solution to your program and find the optimal values of the\n",
        "decision variables."
      ],
      "id": "40f4e6aa-735d-477d-94c4-5187948b42ea"
    },
    {
      "cell_type": "markdown",
      "metadata": {},
      "source": [
        "***Solution***:"
      ],
      "id": "b61d3e91-516f-4a01-90d2-0dc137ef3062"
    },
    {
      "cell_type": "code",
      "execution_count": 4,
      "metadata": {},
      "outputs": [
        {
          "output_type": "stream",
          "name": "stdout",
          "text": [
            "Running HiGHS 1.5.3 [date: 1970-01-01, git hash: 45a127b78]\n",
            "Copyright (c) 2023 HiGHS under MIT licence terms\n",
            "Presolving model\n",
            "2 rows, 3 cols, 6 nonzeros\n",
            "2 rows, 3 cols, 6 nonzeros\n",
            "Presolve : Reductions: rows 2(-0); columns 3(-0); elements 6(-0) - Not reduced\n",
            "Problem not reduced by presolve: solving the LP\n",
            "Using EKK dual simplex solver - serial\n",
            "  Iteration        Objective     Infeasibilities num(sum)\n",
            "          0    -8.1999929744e+02 Ph1: 2(8.5); Du: 3(819.999) 0s\n",
            "          2     1.1200000000e+05 Pr: 0(0) 0s\n",
            "Model   status      : Optimal\n",
            "Simplex   iterations: 2\n",
            "Objective value     :  1.1200000000e+05\n",
            "HiGHS run time      :          0.00"
          ]
        }
      ],
      "source": [
        "optimize!(forestry_model)"
      ],
      "id": "97c519ac"
    },
    {
      "cell_type": "markdown",
      "metadata": {},
      "source": [
        "Now let’s find the decision variable values:"
      ],
      "id": "ecbe321d-0654-493c-bfe8-c46fedfba1d6"
    },
    {
      "cell_type": "code",
      "execution_count": 5,
      "metadata": {},
      "outputs": [
        {
          "output_type": "display_data",
          "metadata": {},
          "data": {
            "text/plain": [
              "1-dimensional DenseAxisArray{Float64,1,...} with index sets:\n",
              "    Dimension 1, 1:3\n",
              "And data, a 3-element Vector{Float64}:\n",
              " 352.0\n",
              "   0.0\n",
              "  96.0"
            ]
          }
        }
      ],
      "source": [
        "value.(G)"
      ],
      "id": "f9b6a00c"
    },
    {
      "cell_type": "markdown",
      "metadata": {},
      "source": [
        "So we want to produce 352,000 bf of Grade 1 plywood, 0 bf of Grade 2\n",
        "plywood, and 96 bf of Grade 3 plywood, which would get us a total profit\n",
        "of \\$112,000."
      ],
      "id": "1f3e6c0d-10c5-4b5f-ade7-0eb921a61021"
    },
    {
      "cell_type": "markdown",
      "metadata": {},
      "source": [
        "#### Problem 2.3 (1 point)\n",
        "\n",
        "How would your profit change if you could buy 1,000 additional bf of\n",
        "spruce?"
      ],
      "id": "52548087-608d-4013-a1c9-32fc89cf6899"
    },
    {
      "cell_type": "markdown",
      "metadata": {},
      "source": [
        "***Solution***:"
      ],
      "id": "120bd048-edd5-451c-a091-be44567d0852"
    },
    {
      "cell_type": "code",
      "execution_count": 6,
      "metadata": {},
      "outputs": [
        {
          "output_type": "display_data",
          "metadata": {},
          "data": {
            "text/plain": [
              "80.0"
            ]
          }
        }
      ],
      "source": [
        "shadow_price(spruce_limit)"
      ],
      "id": "3ac3e32f"
    },
    {
      "cell_type": "markdown",
      "metadata": {},
      "source": [
        "This value is the additional profit from having one additional “unit” of\n",
        "spruce, relative to the constraint. The constraint was defined in terms\n",
        "of 1,000 bf of spruce, so the shadow price is already the right value.\n",
        "So we would get an additional \\$80 of profit from an extra 1,000 bf of\n",
        "spruce."
      ],
      "id": "2bca5f51-201b-4c15-afcb-fab2443dd5eb"
    },
    {
      "cell_type": "markdown",
      "metadata": {},
      "source": [
        "#### Problem 2.4 (1 point)\n",
        "\n",
        "Would you prefer to have 2,000 additional bf of spruce or 1,000\n",
        "additional bf of fir?"
      ],
      "id": "8c8c155f-eb18-4739-b386-c069c534f43c"
    },
    {
      "cell_type": "markdown",
      "metadata": {},
      "source": [
        "***Solution***:\n",
        "\n",
        "To answer this, we need to find the shadow price of the fir constraint."
      ],
      "id": "a963ad66-e986-41de-a953-5508e684d407"
    },
    {
      "cell_type": "code",
      "execution_count": 7,
      "metadata": {},
      "outputs": [
        {
          "output_type": "display_data",
          "metadata": {},
          "data": {
            "text/plain": [
              "120.0"
            ]
          }
        }
      ],
      "source": [
        "shadow_price(fir_limit)"
      ],
      "id": "8846e829"
    },
    {
      "cell_type": "markdown",
      "metadata": {},
      "source": [
        "This value of \\$120 is less than twice the shadow price of spruce, which\n",
        "is \\$160, so we would rather have 2,000 bf of spruce.\n",
        "\n",
        "## References\n",
        "\n",
        "Put any consulted sources here, including classmates you worked with/who\n",
        "helped you."
      ],
      "id": "1f63bf0d-6c49-47ad-8b90-e739509cca3d"
    }
  ],
  "nbformat": 4,
  "nbformat_minor": 5,
  "metadata": {
    "kernelspec": {
      "name": "julia-1.9",
      "display_name": "Julia 1.9.2",
      "language": "julia"
    },
    "language_info": {
      "name": "julia",
      "file_extension": ".jl",
      "mimetype": "application/julia",
      "version": "1.9.2"
    }
  }
}