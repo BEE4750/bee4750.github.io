{
  "cells": [
    {
      "cell_type": "markdown",
      "metadata": {},
      "source": [
        "# BEE 4750 Lab 3 Solution\n",
        "\n",
        "## Setup\n",
        "\n",
        "The following code should go at the top of most Julia scripts; it will\n",
        "load the local package environment and install any needed packages. You\n",
        "will see this often and shouldn’t need to touch it."
      ],
      "id": "603945b4-02dc-49d0-9cf4-e097e1e2a744"
    },
    {
      "cell_type": "code",
      "execution_count": 1,
      "metadata": {},
      "outputs": [],
      "source": [
        "import Pkg\n",
        "Pkg.activate(\".\")\n",
        "Pkg.instantiate()"
      ],
      "id": "307ec3dd"
    },
    {
      "cell_type": "code",
      "execution_count": 2,
      "metadata": {},
      "outputs": [],
      "source": [
        "using JuMP # optimization modeling syntax\n",
        "using HiGHS # optimization solver\n",
        "using Plots # plotting"
      ],
      "id": "a3b7f2b7"
    },
    {
      "cell_type": "markdown",
      "metadata": {},
      "source": [
        "## Overview\n",
        "\n",
        "In this lab, you will write and solve a resource allocation example\n",
        "using `JuMP.jl`. `JuMP.jl` provides an intuitive syntax for writing,\n",
        "solving, and querying optimization problems.\n",
        "\n",
        "For an example of using `JuMP.jl` to solve linear programs, see [the\n",
        "relevant tutorial on the class\n",
        "website](https://viveks.me/environmental-systems-analysis/tutorials/julia-jump.html)."
      ],
      "id": "8e200684-4fc6-4edc-98f7-260063e5a562"
    },
    {
      "cell_type": "markdown",
      "metadata": {},
      "source": [
        "## Introduction\n",
        "\n",
        "Your task is to decide how much lumber to produce to maximize profit\n",
        "from wood sales. You can purchase wood from a managed forest, which\n",
        "consists of spruce (320,000 bf) and fir (720,000 bf). Spruce costs\n",
        "\\$0.12 per bf to purchase and fir costs \\$0.08 per bf.\n",
        "\n",
        "At the lumber mill, wood can be turned into plywood of various grades\n",
        "(see [Table 1](#tbl-inputs) for how much wood of each type is required\n",
        "for and the revenue from each grade). Any excess wood is sent to be\n",
        "recycled into particle board. This resource allocation problem is\n",
        "diagrammed in [Figure 1](#fig-schematic).\n",
        "\n",
        "| Plywood Grade | Inputs (bf/bf plywood) | Revenue (\\$/1000 bf) |\n",
        "|:-------------:|:----------------------:|:--------------------:|\n",
        "|       1       |   0.5 (S) + 1.5 (F)    |         400          |\n",
        "|       2       |   1.0 (S) + 2.0 (F)    |         520          |\n",
        "|       3       |   1.5 (S) + 2.0 (F)    |         700          |\n",
        "\n",
        "Table 1: Wood inputs and revenue by plywood grade. S refers to spruce\n",
        "inputs, F fir inputs."
      ],
      "id": "1f796222-d619-4ccb-b217-cc47fac8719b"
    },
    {
      "cell_type": "code",
      "execution_count": null,
      "metadata": {
        "fig-width": "100%"
      },
      "outputs": [
        {
          "output_type": "display_data",
          "metadata": {},
          "data": {
            "text/html": [
              "<pre class=\"mermaid mermaid-js\" data-label=\"fig-schematic\">\n",
              "flowchart LR\n",
              "    A[Spruce] -- $0.12 per bf --&gt; C{Lumber Mill}\n",
              "    B[Fir] -- $0.08 per bf --&gt; C\n",
              "    C --&gt; P(Plywood)\n",
              "    C -- Wood Excess --&gt; D{Recycle}\n",
              "    D --&gt; E(Particle Board)\n",
              "    E -- $0.03 per bf net --&gt; S[Sell]\n",
              "    P -- Price depends on grade --&gt; S\n",
              "</pre>"
            ]
          }
        }
      ],
      "source": [],
      "id": "ef12cf8e-2d35-4c5d-aaa5-566e46550d2d"
    },
    {
      "cell_type": "markdown",
      "metadata": {},
      "source": [
        "## Problems (10 points)"
      ],
      "id": "48e5ca11-29f0-456f-9559-180720d80563"
    },
    {
      "cell_type": "markdown",
      "metadata": {},
      "source": [
        "### Problem 1: Problem Formulation (5 points)\n",
        "\n",
        "In this problem, you will go through the steps of formulating a linear\n",
        "program for this problem."
      ],
      "id": "7d54f027-3fdf-4c65-9da7-3a27e505ad48"
    },
    {
      "cell_type": "markdown",
      "metadata": {},
      "source": [
        "#### Problem 1.1 (1 point)\n",
        "\n",
        "What are your decision variables? Clearly define your notation,\n",
        "including what variables you are using, what they mean, and what their\n",
        "units are."
      ],
      "id": "ac458f51-3db8-471c-8355-56a4bd83c43f"
    },
    {
      "cell_type": "markdown",
      "metadata": {},
      "source": [
        "***Solution***:\n",
        "\n",
        "A good choice for our decision variables are $G_1$, $G_2$, and $G_3$,\n",
        "each of which correspond to a 1,000 bf of each plywood grade (for\n",
        "convenience). Note that we may not need to consider the particle board —\n",
        "it’s money-losing, and will just be where we send excess spruce and fir\n",
        "(where we have to buy a fraction of a unit).\n",
        "\n",
        "We don’t have to worry about other notation, as we can express the wood\n",
        "needs in terms of the plywood grade quantities."
      ],
      "id": "014a7ef1-49c3-4abb-8998-0dfe0a53ed7f"
    },
    {
      "cell_type": "markdown",
      "metadata": {},
      "source": [
        "#### Problem 1.2 (1 point)\n",
        "\n",
        "Derive your objective function. Support your function with\n",
        "justifications and/or equations as necessary. You will not receive\n",
        "credit just for the function alone."
      ],
      "id": "84203949-2cf2-4064-83ed-e3116a8f05f8"
    },
    {
      "cell_type": "markdown",
      "metadata": {},
      "source": [
        "***Solution***:\n",
        "\n",
        "Our objective is to maximize profit, so for each grade of plywood we\n",
        "want to calculate its profit.\n",
        "\n",
        "-   Grade 1 (per 1,000 bf):\n",
        "    $\\$400 - (0.5 \\times \\$120) - (1.5 \\times \\$80) = \\$220$\n",
        "-   Grade 2 (per 1,000 bf):\n",
        "    $\\$520 - (1 \\times \\$120) - (2 \\times \\$80) = \\$240$\n",
        "-   Grade 3 (per 1,000 bf):\n",
        "    $\\$700 - (1.5 \\times \\$120) - (2 \\times \\$80) = \\$360$\n",
        "\n",
        "So our objective is then\n",
        "$$\\max_{G_1, G_2, G_3} 220 G_1 + 240 G_2 + 360 G_3.$$"
      ],
      "id": "2d301a17-a1a0-4be5-a91c-311c9b8b0ac4"
    },
    {
      "cell_type": "markdown",
      "metadata": {},
      "source": [
        "#### Problem 1.3 (2 point)\n",
        "\n",
        "Derive any needed constraints. Support your function with justifications\n",
        "and/or equations as necessary. You will not receive credit just for the\n",
        "final constraints alone."
      ],
      "id": "a18328a9-c264-4f65-9a9d-23ca7e071838"
    },
    {
      "cell_type": "markdown",
      "metadata": {},
      "source": [
        "***Solution***:\n",
        "\n",
        "We have two constraints on the supply of spruce and fir, which are\n",
        "capped at 320,000 bf and 720,000 bf, respectively:\n",
        "\n",
        "-   (Spruce): $0.5G_1 + G_2 + 1.5 G_3 \\leq 320$\n",
        "-   (Fir): $1.5 G_1 + 2G_2 + 2G_3 \\leq 720$.\n",
        "\n",
        "Then we have non-negativity constraints, since we can’t produce negative\n",
        "plywood: $G_1, G_2, G_3 \\geq 0$."
      ],
      "id": "17db835a-cab5-4df8-bb1e-9ad3b12260fa"
    },
    {
      "cell_type": "markdown",
      "metadata": {},
      "source": [
        "#### Problem 1.4 (1 point)\n",
        "\n",
        "Put this optimization problem in mathematical programming form. For an\n",
        "example of the syntax for this, see lines 82–91\n",
        "[here](https://github.com/vsrikrish/environmental-systems-analysis/blob/Fall23/tutorials/julia-jump.qmd)."
      ],
      "id": "4c355072-1f43-4a76-a7a0-b56b6df39972"
    },
    {
      "cell_type": "markdown",
      "metadata": {},
      "source": [
        "***Solution***:\n",
        "\n",
        "### Problem 2: Find the Solution (5 points)"
      ],
      "id": "7a64b193-4db2-4ae8-96e6-280241e8220b"
    },
    {
      "cell_type": "markdown",
      "metadata": {},
      "source": [
        "#### Problem 2.1 (2 points)\n",
        "\n",
        "Code your linear program using `JuMP`. Feel free to consult [the\n",
        "website’s `JuMP`\n",
        "tutorial](https://viveks.me/environmental-systems-analysis/tutorials/julia-jump.html)\n",
        "for syntax help."
      ],
      "id": "74066e4b-2b31-4dc2-9082-2ca1938fc766"
    },
    {
      "cell_type": "markdown",
      "metadata": {},
      "source": [
        "***Solution***:\n",
        "\n",
        "We could write out all of the variables one at a time, but here I’ll use\n",
        "the more compact vectorized notation for illustration. The constraints\n",
        "we may want to leave separate because they’re a bit different, but you\n",
        "could vectorize those as well."
      ],
      "id": "958bfa6c-63c6-40fd-9908-5c7f9fc4cbaf"
    },
    {
      "cell_type": "code",
      "execution_count": 3,
      "metadata": {},
      "outputs": [
        {
          "output_type": "display_data",
          "metadata": {},
          "data": {}
        }
      ],
      "source": [
        "forestry_model = Model(HiGHS.Optimizer) # initialize model object\n",
        "# define variables\n",
        "I = 1:3 # three decision variables in this set\n",
        "@variable(forestry_model, G[i in I] >= 0) # decision variables are bounded below by zero\n",
        "@objective(forestry_model, Max, 220G[1] + 240G[2] + 360G[3])\n",
        "@constraint(forestry_model, spruce_limit, 0.5G[1] + G[2] + 1.5G[3] <= 320)\n",
        "@constraint(forestry_model, fir_limit, 1.5G[1] + 2G[2] + 2G[3] <= 720)\n",
        "print(forestry_model) # print to make sure we entered this correctly"
      ],
      "id": "04424b59"
    },
    {
      "cell_type": "markdown",
      "metadata": {},
      "source": [
        "#### Problem 2.2 (1 points)\n",
        "\n",
        "Find the solution to your program and find the optimal values of the\n",
        "decision variables."
      ],
      "id": "a2b31d43-5443-4d46-a015-becf3acf5700"
    },
    {
      "cell_type": "markdown",
      "metadata": {},
      "source": [
        "***Solution***:"
      ],
      "id": "94aeefa4-778c-40e1-9fd3-b7a3e8568531"
    },
    {
      "cell_type": "code",
      "execution_count": 4,
      "metadata": {},
      "outputs": [
        {
          "output_type": "stream",
          "name": "stdout",
          "text": [
            "Running HiGHS 1.5.3 [date: 1970-01-01, git hash: 45a127b78]\n",
            "Copyright (c) 2023 HiGHS under MIT licence terms\n",
            "Presolving model\n",
            "2 rows, 3 cols, 6 nonzeros\n",
            "2 rows, 3 cols, 6 nonzeros\n",
            "Presolve : Reductions: rows 2(-0); columns 3(-0); elements 6(-0) - Not reduced\n",
            "Problem not reduced by presolve: solving the LP\n",
            "Using EKK dual simplex solver - serial\n",
            "  Iteration        Objective     Infeasibilities num(sum)\n",
            "          0    -8.1999929744e+02 Ph1: 2(8.5); Du: 3(819.999) 0s\n",
            "          2     1.1200000000e+05 Pr: 0(0) 0s\n",
            "Model   status      : Optimal\n",
            "Simplex   iterations: 2\n",
            "Objective value     :  1.1200000000e+05\n",
            "HiGHS run time      :          0.00"
          ]
        }
      ],
      "source": [
        "optimize!(forestry_model)"
      ],
      "id": "97c519ac"
    },
    {
      "cell_type": "markdown",
      "metadata": {},
      "source": [
        "Now let’s find the decision variable values:"
      ],
      "id": "14b03229-bf03-4b15-aead-edf3e1932f71"
    },
    {
      "cell_type": "code",
      "execution_count": 5,
      "metadata": {},
      "outputs": [
        {
          "output_type": "display_data",
          "metadata": {},
          "data": {
            "text/plain": [
              "1-dimensional DenseAxisArray{Float64,1,...} with index sets:\n",
              "    Dimension 1, 1:3\n",
              "And data, a 3-element Vector{Float64}:\n",
              " 352.0\n",
              "   0.0\n",
              "  96.0"
            ]
          }
        }
      ],
      "source": [
        "value.(G)"
      ],
      "id": "f9b6a00c"
    },
    {
      "cell_type": "markdown",
      "metadata": {},
      "source": [
        "So we want to produce 352,000 bf of Grade 1 plywood, 0 bf of Grade 2\n",
        "plywood, and 96 bf of Grade 3 plywood, which would get us a total profit\n",
        "of \\$112,000."
      ],
      "id": "854bd41c-2bf3-46f8-b8b3-55efd0e65468"
    },
    {
      "cell_type": "markdown",
      "metadata": {},
      "source": [
        "#### Problem 2.3 (1 point)\n",
        "\n",
        "How would your profit change if you could buy 1,000 additional bf of\n",
        "spruce?"
      ],
      "id": "16d73c3b-4bf2-4401-8e15-488169e811be"
    },
    {
      "cell_type": "markdown",
      "metadata": {},
      "source": [
        "***Solution***:"
      ],
      "id": "956819d4-2e4a-47b4-ad09-e51739a935ea"
    },
    {
      "cell_type": "code",
      "execution_count": 6,
      "metadata": {},
      "outputs": [
        {
          "output_type": "display_data",
          "metadata": {},
          "data": {
            "text/plain": [
              "80.0"
            ]
          }
        }
      ],
      "source": [
        "shadow_price(spruce_limit)"
      ],
      "id": "3ac3e32f"
    },
    {
      "cell_type": "markdown",
      "metadata": {},
      "source": [
        "This value is the additional profit from having one additional “unit” of\n",
        "spruce, relative to the constraint. The constraint was defined in terms\n",
        "of 1,000 bf of spruce, so the shadow price is already the right value.\n",
        "So we would get an additional \\$80 of profit from an extra 1,000 bf of\n",
        "spruce."
      ],
      "id": "0e99e8d8-f987-4942-bfcb-15ea0e0fda5c"
    },
    {
      "cell_type": "markdown",
      "metadata": {},
      "source": [
        "#### Problem 2.4 (1 point)\n",
        "\n",
        "Would you prefer to have 2,000 additional bf of spruce or 1,000\n",
        "additional bf of fir?"
      ],
      "id": "dc9f89e0-4290-4429-9a28-af325fff7e22"
    },
    {
      "cell_type": "markdown",
      "metadata": {},
      "source": [
        "***Solution***:\n",
        "\n",
        "To answer this, we need to find the shadow price of the fir constraint."
      ],
      "id": "e97499ba-3f3d-4c50-8758-39c0a46e002e"
    },
    {
      "cell_type": "code",
      "execution_count": 7,
      "metadata": {},
      "outputs": [
        {
          "output_type": "display_data",
          "metadata": {},
          "data": {
            "text/plain": [
              "120.0"
            ]
          }
        }
      ],
      "source": [
        "shadow_price(fir_limit)"
      ],
      "id": "8846e829"
    },
    {
      "cell_type": "markdown",
      "metadata": {},
      "source": [
        "This value of \\$120 is less than twice the shadow price of spruce, which\n",
        "is \\$160, so we would rather have 2,000 bf of spruce.\n",
        "\n",
        "## References\n",
        "\n",
        "Put any consulted sources here, including classmates you worked with/who\n",
        "helped you."
      ],
      "id": "e9358d06-8105-4267-a94e-6e293b4d951e"
    }
  ],
  "nbformat": 4,
  "nbformat_minor": 5,
  "metadata": {
    "kernelspec": {
      "name": "julia-1.9",
      "display_name": "Julia 1.9.2",
      "language": "julia"
    },
    "language_info": {
      "name": "julia",
      "file_extension": ".jl",
      "mimetype": "application/julia",
      "version": "1.9.2"
    }
  }
}