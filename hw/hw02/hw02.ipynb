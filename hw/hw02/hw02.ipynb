{
  "cells": [
    {
      "cell_type": "markdown",
      "metadata": {},
      "source": [
        "# BEE 4750 Homework 2: Gaussian Plumes\n",
        "\n",
        "**Name**:\n",
        "\n",
        "**ID**:\n",
        "\n",
        "> **Due Date**\n",
        ">\n",
        "> Friday, 9/22/23, 9:00pm\n",
        "\n",
        "## Overview\n",
        "\n",
        "### Instructions\n",
        "\n",
        "-   Problems 1-3 consist of a series of code snippets for you to\n",
        "    interpret and debug. For Problems 1 and 2, you will be asked to\n",
        "    identify relevant error(s) and fix the code. For Problem 3, the code\n",
        "    works as intended; your goal is to identify the code’s purpose by\n",
        "    following its logic.\n",
        "-   Problem 4 asks you to convert a verbal description of a wastewater\n",
        "    treatment system into a Julia function, and then to use that\n",
        "    function to explore the impact of different wastewater allocation\n",
        "    strategies.\n",
        "\n",
        "### Load Environment\n",
        "\n",
        "The following code loads the environment and makes sure all needed\n",
        "packages are installed. This should be at the start of most Julia\n",
        "scripts."
      ],
      "id": "68546c64-0f15-4dab-b8d3-e99298525705"
    },
    {
      "cell_type": "code",
      "execution_count": 1,
      "metadata": {},
      "outputs": [],
      "source": [
        "import Pkg\n",
        "Pkg.activate(@__DIR__)\n",
        "Pkg.instantiate()"
      ],
      "id": "ac822e25"
    },
    {
      "cell_type": "code",
      "execution_count": 2,
      "metadata": {},
      "outputs": [],
      "source": [
        "using Plots\n",
        "using LaTeXStrings\n",
        "using DataFrames"
      ],
      "id": "d4cdc1f3"
    },
    {
      "cell_type": "markdown",
      "metadata": {},
      "source": [
        "## Problems (Total: 100 Points)"
      ],
      "id": "31853730-05fd-448f-8153-5d06769535a5"
    },
    {
      "cell_type": "markdown",
      "metadata": {},
      "source": [
        "### Problem 1 (40 points)\n",
        "\n",
        "A ground-level receptor is located 1.5 km downwind from the center-line\n",
        "of a chimney emitting 2 kg/s of SO<sub>2</sub>. The chimney is 100m high\n",
        "and the plume initially rises another 10m being advected downwind. We\n",
        "want to know what"
      ],
      "id": "fc0783e8-f497-4758-8db9-36b4cbd1834f"
    },
    {
      "cell_type": "markdown",
      "metadata": {},
      "source": [
        "#### Problem 1.1 (20 points)\n",
        "\n",
        "Write a function `gaussian_plume` to simulate the SO<sub>2</sub>\n",
        "concentration at ground level (mg/m<sup>3</sup>). The `gaussian_plume`\n",
        "function should accept the following inputs:\n",
        "\n",
        "-   the displacement from the source $x$ and $y$, where $x$ is the\n",
        "    distance downwind (km) and $y$ is the distance crosswind (km);\n",
        "-   the wind speed $u$ (m/s);\n",
        "-   the SO<sub>2</sub> emissions rate $Q$ (g/s);\n",
        "-   the effective height of the source $H$ (m);\n",
        "-   the atmospheric stability class (1–6);\n",
        "-   the table of dispersion coefficients `turb_coef`, which is provided\n",
        "    for you below as a\n",
        "    [`DataFrame`](https://dataframes.juliadata.org/stable/)."
      ],
      "id": "e372a8b7-8611-4584-8045-96c69732bdc3"
    },
    {
      "cell_type": "code",
      "execution_count": 3,
      "metadata": {},
      "outputs": [
        {
          "output_type": "display_data",
          "metadata": {},
          "data": {
            "text/html": [
              "</div>"
            ]
          }
        }
      ],
      "source": [
        "# set up coefficients in matrix form\n",
        "turb_coef = [\n",
        "    213.0  440.8 1.041 9.27  459.7 2.094 -9.6\n",
        "    156.0  106.6 1.149 3.3   108.2 1.098 2.0\n",
        "    104.0  61.0  0.911 0.0   61.0  0.911 0.0\n",
        "    68.0   33.2  0.725 -1.7  44.5  0.516 -13.0\n",
        "    50.5   22.8  0.675 -1.3  55.4  0.305 -34.0\n",
        "    34.0   14.35 0.740 -0.35 62.6  0.180 -48.6 \n",
        "]\n",
        "# now convert to DataFrame with names\n",
        "# column names ending with 1 refer to coefficients for x < 1km, column names ending with 2 refer to coefficients for x > 1km \n",
        "turb_coef = DataFrame(turb_coef, [\"a\", \"c1\", \"d1\", \"f1\", \"c2\", \"d2\", \"f2\"])"
      ],
      "id": "917fe087"
    },
    {
      "cell_type": "markdown",
      "metadata": {},
      "source": [
        "> **DataFrames**\n",
        ">\n",
        "> A `DataFrame` is the standard data structure in Julia for working with\n",
        "> tabular data (if you’ve used Python, you can compare it to `pandas`).\n",
        "> Since `turb_coef` is a `DataFrame`, you can access elements with\n",
        "> syntax like `turb_coef[1, :c]` (to access the first element of a\n",
        "> column named `c`).\n",
        "\n",
        "> **Pass Data To Functions When Possible**\n",
        ">\n",
        "> Remember to pass `turb_coef` to `gaussian_plums` as an argument — this\n",
        "> is generally good Julia (and broader programming) style and improves\n",
        "> performance."
      ],
      "id": "138b83d4-175f-4fee-bbd9-e528a5e00fa4"
    },
    {
      "cell_type": "markdown",
      "metadata": {},
      "source": [
        "#### Problem 1.2 (10 points)\n",
        "\n",
        "Assume the wind is blowing at 5 m/s. Use your function to calculate the\n",
        "SO<sub>2</sub> concentration 600 m downwind, both along the centerline\n",
        "and 1 km crosswind, for the neutral (cloudy-day) atmospheric stability\n",
        "class (D/4)."
      ],
      "id": "9e8531df-7a7e-417b-afcc-3f3384818128"
    },
    {
      "cell_type": "markdown",
      "metadata": {},
      "source": [
        "### Problem 1.3 (10 points)\n",
        "\n",
        "Find the exposure standard in the United States for SO<sub>2</sub>\n",
        "(**make sure to cite where you found it!**). How do your results from\n",
        "Problem 1.2 compare?"
      ],
      "id": "20b3a35c-b73a-47b5-b5a6-96b0dbbd27cd"
    },
    {
      "cell_type": "markdown",
      "metadata": {},
      "source": [
        "### Problem 2 (35 points)"
      ],
      "id": "59f8ecec-1f8e-4a4d-8424-16fe4e75a3e0"
    },
    {
      "cell_type": "markdown",
      "metadata": {},
      "source": [
        "#### Problem 2.1 (10 points)\n",
        "\n",
        "Plot (using s\n",
        "[`heatmap`](https://viveks.me/environmental-systems-analysis/tutorials/julia-basics.html#comprehensions))\n",
        "the SO<sub>2</sub> concentration over a 5km downwind by 5km crosswind\n",
        "(relative to the plume source) region for the neutral (cloudy-day)\n",
        "atmospheric stability class (D/4).\n",
        "\n",
        "> **Using Comprehensions to Apply Functions Across Inputs**\n",
        ">\n",
        "> Writing loops in Julia outside of functions can be finicky due to\n",
        "> issues of scope (the details aren’t important, but this has to do with\n",
        "> how Julia compiles code for performance). A solution is to use a\n",
        "> [comprehension](https://viveks.me/environmental-systems-analysis/tutorials/julia-basics.html#comprehensions).\n",
        "> For example, to apply a function `f` over all combinations of two\n",
        "> vectors `x` and `y`,\n",
        ">\n",
        "> ``` julia\n",
        "> [f(i, j) for i in x for j in y]\n",
        "> ```\n",
        ">\n",
        "> will return a 2d array of outputs of `f`."
      ],
      "id": "f05d500e-64f7-4db7-a5ed-82edeba1fb36"
    },
    {
      "cell_type": "markdown",
      "metadata": {},
      "source": [
        "#### Problem 2.2 (10 points)\n",
        "\n",
        "Make the same plot for each stability class."
      ],
      "id": "fdfd14e8-f4e7-4cd5-96f1-ff12291f049c"
    },
    {
      "cell_type": "markdown",
      "metadata": {},
      "source": [
        "#### Problem 2.3 (10 points)\n",
        "\n",
        "For the neutral stability class, make the same plot for the following\n",
        "wind speeds: 5m/s, 10m/s, 15m/s, 20m/s."
      ],
      "id": "473722a1-fb07-42a6-b52c-9b3a71c7c2c4"
    },
    {
      "cell_type": "markdown",
      "metadata": {},
      "source": [
        "#### Problem 2.4 (5 points)\n",
        "\n",
        "Compare your results from Problems 2.2 and 2.3, What can you conclude\n",
        "about the impact of atmospheric stability vs. wind speed for pollutant\n",
        "dispersion?"
      ],
      "id": "3e79e4cd-0267-4322-aa1d-b56c3a59a8ba"
    },
    {
      "cell_type": "markdown",
      "metadata": {},
      "source": [
        "### Problem 3 (25 points)\n",
        "\n",
        "Suppose we have two sources, with the following characteristics\n",
        "(distance relative to a ground-level receptor):\n",
        "\n",
        "| Emissions rate (kg/s) | Height (m) | Initial Plume Rise (m) | Upwind Distance (km) | Crosswind Distance (km) |\n",
        "|--------------:|--------------:|--------------:|--------------:|--------------:|\n",
        "|                   1.2 |         75 |                     10 |                  1.5 |                       2 |\n",
        "|                     1 |         60 |                     15 |                 0.75 |                       1 |"
      ],
      "id": "0c7f2cdc-aa13-415a-a1c0-dc16b8e6db36"
    },
    {
      "cell_type": "markdown",
      "metadata": {},
      "source": [
        "#### Problem 3.1 (15 points)\n",
        "\n",
        "If the wind blows at 10 m/s, what is the worst possible concentration of\n",
        "SO<sub>2</sub> at the receptor? Under what atmospheric conditions might\n",
        "these occur?"
      ],
      "id": "12920ba1-9b07-4e7f-b048-561501940978"
    },
    {
      "cell_type": "markdown",
      "metadata": {},
      "source": [
        "#### Problem 3.2 (10 points)\n",
        "\n",
        "How does this compare to the exposure standard you found for Problem\n",
        "1.3? If a control is needed, what information might you need to make a\n",
        "decision about how to allocate those reductions across the two sources?"
      ],
      "id": "7fc2f856-09e2-4d0f-a5cb-73d4cef17187"
    }
  ],
  "nbformat": 4,
  "nbformat_minor": 5,
  "metadata": {
    "kernelspec": {
      "name": "julia-1.9",
      "display_name": "Julia 1.9.2",
      "language": "julia"
    },
    "language_info": {
      "name": "julia",
      "file_extension": ".jl",
      "mimetype": "application/julia",
      "version": "1.9.2"
    }
  }
}