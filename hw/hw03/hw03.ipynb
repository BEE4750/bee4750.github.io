{
  "cells": [
    {
      "cell_type": "markdown",
      "metadata": {},
      "source": [
        "# BEE 4750 Homework 3: Uncertain Sea-Level Rise and Levee Reliability\n",
        "\n",
        "**Name**:\n",
        "\n",
        "**ID**:\n",
        "\n",
        "> **Due Date**\n",
        ">\n",
        "> Friday, 10/06/23, 9:00pm\n",
        "\n",
        "## Overview\n",
        "\n",
        "### Instructions\n",
        "\n",
        "This assignment asks you to conduct a Monte Carlo analysis of levee\n",
        "reliability in the face of uncertain changes to local sea levels. You\n",
        "will propagate uncertainty in equilibrium climate sensitivity through\n",
        "the energy balance model to obtain a distribution of temperatures, which\n",
        "will then drive a model of sea-level rise. You will finally use this\n",
        "distribution to assess the probability that a planned levee will achieve\n",
        "its desired reliability standard.\n",
        "\n",
        "### Load Environment\n",
        "\n",
        "The following code loads the environment and makes sure all needed\n",
        "packages are installed. This should be at the start of most Julia\n",
        "scripts."
      ],
      "id": "ef841d0a-d04f-47bb-92dd-6e05d4e31aa3"
    },
    {
      "cell_type": "code",
      "execution_count": 1,
      "metadata": {},
      "outputs": [],
      "source": [
        "import Pkg\n",
        "Pkg.activate(@__DIR__)\n",
        "Pkg.instantiate()"
      ],
      "id": "729e45dc"
    },
    {
      "cell_type": "code",
      "execution_count": 2,
      "metadata": {},
      "outputs": [],
      "source": [
        "using Random\n",
        "using Plots\n",
        "using LaTeXStrings\n",
        "using Distributions\n",
        "using CSV\n",
        "using DataFrames"
      ],
      "id": "5deaf519"
    },
    {
      "cell_type": "markdown",
      "metadata": {},
      "source": [
        "## Problems (Total: 40 Points)"
      ],
      "id": "5a8fc21d-9023-4d87-bdbb-ffb23a30919c"
    },
    {
      "cell_type": "markdown",
      "metadata": {},
      "source": [
        "### Problem 1 (12 points)\n",
        "\n",
        "Recall from class that the simple energy balance model (EBM) of\n",
        "planetary energy balance links changes in radiative forcing ($F$) to\n",
        "global mean temperature ($T$) changes through the discretized equation\n",
        "$$T_{i+1} = T_{i} + \\frac{F_i - \\lambda T_i}{cd} \\times \\Delta t,$$\n",
        "where $i$ is the current time step, $c = 4.184 \\times 10^6$\n",
        "J/K/m<sup>2</sup> is the heat capacity of water per unit area, $d$ is\n",
        "the (uncertain) depth of the mixing layer, $\\Delta t$ is the annual time\n",
        "step in seconds and $\\lambda = F_{\\text{2xCO}_2}/S$ is the climate\n",
        "feedback parameter in W/m<sup>2</sup>/$^\\circ$ C, where $S$ is the\n",
        "equilibrium climate sensitivity (the uncertain equilibrium temperature\n",
        "change resulting from a doubling of atmospheric CO<sub>2</sub>).\n",
        "Finally, while total radiative forcing can be the result of non-aerosol\n",
        "and aerosol effects, we do not know the relative intensity of aerosol\n",
        "forcing, so we represent this with an uncertain aerosol scaling factor\n",
        "$\\alpha$.\n",
        "\n",
        "We can implement this model with the following Julia function. We will\n",
        "assume an ocean mixing depth $d = 100$ m and an aerosol scaling factor\n",
        "$\\alpha = 1.3$ so we can focus on the uncertainty in $S$.\n",
        "\n",
        "The last technical concern is that “global mean temperature” does not\n",
        "make sense in absolute terms as a marker of climate change. Instead, we\n",
        "typically refer to temperature changes relative to some historical\n",
        "pre-industrial baseline. In this case, we will use the period from\n",
        "1880-1900, though this choice can vary."
      ],
      "id": "8bc2adfd-0869-485f-8732-7cb1c11eab72"
    },
    {
      "cell_type": "code",
      "execution_count": 3,
      "metadata": {},
      "outputs": [
        {
          "output_type": "display_data",
          "metadata": {},
          "data": {
            "text/plain": [
              "energy_balance_model (generic function with 1 method)"
            ]
          }
        }
      ],
      "source": [
        "# we need to split up the aerosol and non-aerosol forcings when we call the function\n",
        "function energy_balance_model(S, forcing_aerosol, forcing_non_aerosol)\n",
        "    d = 100 # ocean mixing depth [m]\n",
        "    α = 1.3 # aerosol scaling factor\n",
        "    F2xCO₂ = 4.0 # radiative forcing [W/m²] for a doubling of CO₂\n",
        "    λ = F2xCO₂/S\n",
        "    \n",
        "    c = 4.184e6 # heat capacity/area [J/K/m²]\n",
        "    C = c*d # heat capacity of mixed layer (per area)\n",
        "\n",
        "    F = forcing_non_aerosol + α*forcing_aerosol # radiative forcing\n",
        "\n",
        "    Δt = 31558152.0 # annual timestep [s]\n",
        "    \n",
        "    T = zero(F)\n",
        "    for i in 1:length(F)-1\n",
        "        T[i+1] = T[i] + (F[i] - λ*T[i])/C * Δt\n",
        "    end\n",
        "    # return temperature anomaly relative to 1880-1900 baseline\n",
        "    return T .- mean(T[1:21]) \n",
        "end"
      ],
      "id": "32b9e86d"
    },
    {
      "cell_type": "markdown",
      "metadata": {},
      "source": [
        "Finally, we need to load some radiative forcing data. We will use the\n",
        "radiative forcing scenario RCP 8.5. We can load this data, which is in a\n",
        "`.csv` (comma-delimited) file, into a `DataFrame`, which is a tabular\n",
        "data structure. Rows and columns in a `DataFrame` can be accessed using\n",
        "their numerical index (like a matrix), but columns also have names; you\n",
        "can access a particular column in a dataframe `df` by name using\n",
        "`df.colname` or `df[:, \"colname\"]`.\n",
        "\n",
        "Of note: this data set goes from 1750–2500, so you will need to take\n",
        "care to make sure you are using the right years at each step. For\n",
        "example, here we will constrain the data to 1880–2100, which is the\n",
        "period we are interested in."
      ],
      "id": "ac5d5440-c7e8-46b0-990f-6cc3e2bcdd5e"
    },
    {
      "cell_type": "code",
      "execution_count": 4,
      "metadata": {},
      "outputs": [
        {
          "output_type": "display_data",
          "metadata": {},
          "data": {
            "text/plain": [
              "221-element Vector{Float64}:\n",
              "  0.42741479112315905\n",
              "  0.4487940147601447\n",
              "  0.4900144276528058\n",
              " -0.019811270078689047\n",
              " -1.480725700367619\n",
              " -0.3154905163510021\n",
              "  0.233186559774844\n",
              "  0.2923308952663089\n",
              "  0.45833872365810924\n",
              "  0.5168189581089915\n",
              "  0.4144761329626494\n",
              "  0.2762327724171124\n",
              "  0.48656957869238376\n",
              "  ⋮\n",
              "  9.560222650653953\n",
              "  9.671039126229665\n",
              "  9.772610821460296\n",
              "  9.879065698371564\n",
              "  9.946850640754889\n",
              " 10.002169546141578\n",
              " 10.061009359425011\n",
              " 10.115684195707905\n",
              " 10.182946497594184\n",
              " 10.249699157847772\n",
              " 10.331407709334023\n",
              " 10.424544495740134"
            ]
          }
        }
      ],
      "source": [
        "# The CSV is read into a DataFrame object, and we specify that it is comma delimited\n",
        "forcings_all_85 = CSV.read(\"data/ERF_ssp585_1750-2500.csv\", DataFrame, delim=\",\")\n",
        "\n",
        "# get the years corresponding to the forcings\n",
        "t = Int64.(forcings_all_85[!,\"year\"]) # Ensure that years are interpreted as integers\n",
        "# find the indices of the years 1880 and 2100\n",
        "# we can do this with the indexin function\n",
        "time_bounds = indexin([1880, 2100], t)\n",
        "years = time_bounds[1]:time_bounds[2] # create range of years\n",
        "\n",
        "# Separate out the individual components\n",
        "forcing_co2_85 = forcings_all_85[years,\"co2\"]\n",
        "# Get total aerosol and non-aerosol forcings\n",
        "forcing_aerosol_rad_85 = forcings_all_85[years,\"aerosol-radiation_interactions\"]\n",
        "forcing_aerosol_cloud_85 = forcings_all_85[years,\"aerosol-cloud_interactions\"]\n",
        "forcing_aerosol_85 = forcing_aerosol_rad_85 + forcing_aerosol_cloud_85 # aerosol forcings\n",
        "forcing_total_85 = forcings_all_85[years,\"total\"] \n",
        "forcing_non_aerosol_85 = forcing_total_85 - forcing_aerosol_85 # non-aerosol forcings"
      ],
      "id": "9bcee819"
    },
    {
      "cell_type": "markdown",
      "metadata": {},
      "source": [
        "For this assignment, you can use the `forcing_aerosol_85` and\n",
        "`forcing_non_aerosol_85` vectors as is to correspond to the relevant\n",
        "forcings. You will need to use the vector `t` to find the appropriate\n",
        "years for analysis."
      ],
      "id": "59a4833a-cdf3-43a7-a94e-14b02db539fc"
    },
    {
      "cell_type": "markdown",
      "metadata": {},
      "source": [
        "#### Problem 1.1 (3 points)\n",
        "\n",
        "Assume that $S$ is distributed according to\n",
        "$\\text{LogNormal}(\\log(3.2), \\log{2}/3)$ (as in class). Draw 10,000\n",
        "samples from this distribution and make a histogram."
      ],
      "id": "9ca942ec-f2d4-4cf9-8114-20b85ee4e2a3"
    },
    {
      "cell_type": "markdown",
      "metadata": {},
      "source": [
        "#### Problem 1.2 (5 points)\n",
        "\n",
        "Use the EBM to propagate your samples of $S$ to a distribution of global\n",
        "mean temperature. Plot the median and 90% predictive distribution\n",
        "(between the .05 and .95 quantiles) from 1880-2100."
      ],
      "id": "dfeeab10-967f-41a6-b337-1e0036d9270e"
    },
    {
      "cell_type": "markdown",
      "metadata": {},
      "source": [
        "#### Problem 1.3 (4 points)\n",
        "\n",
        "Make a histogram of global mean temperature projections in 2100. If you\n",
        "compare this distribution to the distribution of $S$ from Problem 1.1,\n",
        "what do you observe?"
      ],
      "id": "485de0dd-f89e-49a6-8479-d102176017b2"
    },
    {
      "cell_type": "markdown",
      "metadata": {},
      "source": [
        "### Problem 2 (15 points)\n",
        "\n",
        "Changes to global temperatures cause changes in global sea levels\n",
        "through several mechanisms, including thermal expansion (the change in\n",
        "ocean volume due to increased heat content) and melting land-based ice.\n",
        "One simple way to represent this link is through the following model,\n",
        "proposed by [Rahmstorf (2007)](https://doi.org/10.1126/science.1135456).\n",
        "\n",
        "$$\\frac{dH}{dt} = a(T-T_0),$$\n",
        "\n",
        "where $H$ is the global mean sea level in mm, $T$ is global mean\n",
        "temperature, $T_0$ is an equilibrium temperature (where there is no\n",
        "change in sea levels), and $a$ is a proportionality constant. This model\n",
        "can be discretized to give $$H_{i+1} - H_i = a (T_i - T_0).$$\n",
        "\n",
        "Note that, like with global mean temperature, the notion of “global mean\n",
        "sea level” does not make sense in absolute terms (were sea levels ever\n",
        "at “zero”?). Instead, we want to normalize this relative to some\n",
        "historical baseline. In this case (with a view towards Problem 3), we\n",
        "will compute our sea levels relative to the 2010 sea level. Note that in\n",
        "addition to the model parameters, we also need an initial sea-level\n",
        "parameter $H_0$ which will give us the right anomaly level.\n",
        "\n",
        "The best estimates for these parameters are:\n",
        "\n",
        "-   $a = 1.86$;\n",
        "-   $H_0 = -223$;\n",
        "-   $T_0 = -0.62$"
      ],
      "id": "5a3a0627-b58e-4dcf-bd5d-c215cf30b1e7"
    },
    {
      "cell_type": "markdown",
      "metadata": {},
      "source": [
        "#### Problem 2.1 (5 points)\n",
        "\n",
        "Write a function `sea_level_model()` to implement the mathematical\n",
        "sea-level rise model described above. It should take in needed\n",
        "parameters and a vector of temperatures and return a vector of sea\n",
        "levels. To test your function, use the provided temperature series\n",
        "`historical_temps` (read in below) to compute the global mean sea level\n",
        "anomaly in 2022 (the last year of the dataset) with the parameter values\n",
        "above; you should get a value of approximately 40mm."
      ],
      "id": "70ab04f0-469f-4d66-8bb4-6ad81e831b9d"
    },
    {
      "cell_type": "code",
      "execution_count": 5,
      "metadata": {},
      "outputs": [
        {
          "output_type": "display_data",
          "metadata": {},
          "data": {
            "text/plain": [
              "143-element Vector{Float64}:\n",
              "  0.07297116761904765\n",
              "  0.15655772761904765\n",
              "  0.09327316761904769\n",
              "  0.04232884761904765\n",
              " -0.10351681238095234\n",
              " -0.08232033238095232\n",
              " -0.03210037238095231\n",
              " -0.10998251238095236\n",
              "  0.00942435761904764\n",
              "  0.13890768761904768\n",
              " -0.11805492238095233\n",
              " -0.012511692380952344\n",
              " -0.11875525238095236\n",
              "  ⋮\n",
              "  0.9265009776190476\n",
              "  0.9664103476190478\n",
              "  1.0123786476190477\n",
              "  1.0616748976190478\n",
              "  1.2139176176190476\n",
              "  1.3217303776190477\n",
              "  1.2339774976190476\n",
              "  1.1514572476190477\n",
              "  1.2798758476190477\n",
              "  1.3115970476190477\n",
              "  1.1506591476190478\n",
              "  1.1896871476190476"
            ]
          }
        }
      ],
      "source": [
        "historical_temp_data = CSV.read(\"data/HadCRUT.5.0.1.0.analysis.summary_series.global.annual.csv\", DataFrame, delim=\",\")\n",
        "# column 2 is the temperature anomaly, column 1 is the year\n",
        "temp_bds = indexin([1880, 1900], historical_temp_data[!, 1]) # find the index of 2010 for normalization\n",
        "historical_temp_data[:, 2] .-= mean(historical_temp_data[temp_bds[1]:temp_bds[2], 2])\n",
        "historical_temps = historical_temp_data[temp_bds[1]:end, 2]"
      ],
      "id": "990e1eb4"
    },
    {
      "cell_type": "markdown",
      "metadata": {},
      "source": [
        "#### Problem 2.2 (5 points)\n",
        "\n",
        "Evaluate `sea_level_model()` using the projected temperature ensemble\n",
        "from Problem 1. Plot the 90% projection interval of the sea levels."
      ],
      "id": "4f620131-7fbe-4f2d-b91e-e98775efc9b4"
    },
    {
      "cell_type": "markdown",
      "metadata": {},
      "source": [
        "#### Problem 2.3 (5 points)\n",
        "\n",
        "Make a histogram of the sea-level anomaly in 2100. What can you observe\n",
        "about how the ECS uncertainty has impacted sea-level uncertainty under\n",
        "this radiative forcing scenario? What might the implications be of only\n",
        "using the best-estimate ECS value?"
      ],
      "id": "1800b890-5e8d-41d9-a27e-a02e7ede5297"
    },
    {
      "cell_type": "markdown",
      "metadata": {},
      "source": [
        "### Problem 3 (13 points)\n",
        "\n",
        "You’ve been asked to consult on a levee reliability analysis. For\n",
        "context, levees in the United States are supposed to only fail once in\n",
        "100 years, or, in other words, to have at most a 1% chance of failure in\n",
        "a given year. We will assume for this problem that the only way in which\n",
        "a levee fails is by being overtopped (note: this is unrealistic).\n",
        "\n",
        "We can assess the probability of levee overtopping by comparing its\n",
        "height to a distribution of extreme sea levels. A common approach is to\n",
        "look at the distribution of the highest sea level each year. These\n",
        "extreme sea levels can be obtained by combining the absolute sea level\n",
        "(we will use our distribution of global sea levels for this), the rate\n",
        "of subsidence (how much the ground sinks), and the distribution of storm\n",
        "tides (the highest tide level, which is often the result of storm surges\n",
        "combining with high tide).\n",
        "\n",
        "Assume for this problem that:\n",
        "\n",
        "1.  the annual rate of subsidence $\\nu$ is 1.2mm/yr;\n",
        "2.  the distribution of annual storm tide maxima, above the mean sea\n",
        "    level, is (and is expected to continue to be) given by a\n",
        "    $\\text{GeneralizedExtremeValue}(900, 25, 0.3)$ distribution, which\n",
        "    looks like this:"
      ],
      "id": "c999d645-bfa6-4486-ac66-bca1ac889b40"
    },
    {
      "cell_type": "code",
      "execution_count": 6,
      "metadata": {},
      "outputs": [
        {
          "output_type": "display_data",
          "metadata": {},
          "data": {
            "text/html": [
              "<img src=\"data:image/png;base64,iVBORw0KGgoAAAANSUhEUgAAAoUAAAHMCAIAAAAs9EW6AAAABmJLR0QA/wD/AP+gvaeTAAAgAElEQVR4nO3deUAV5f7H8WfgcDiAG5sgKii4475rC66UuFVuuaVZZmnd3FpMU/NqprfrrZ/XbP9pWdbV3PqVaZpZmrsSoqACgoiiyCqcw1nn98fcjoSomMID8n79deaZh5nvnGH4MHPmPKOoqioAAIBULrILAAAA5DEAABUAeQwAgHzkMQAA8pHHAADIRx4DACAfeQwAgHzkMQAA8pHHAADIV5ny2GQymc1m2VUAAHD3VaY8Xrp06Ycffii7CvHmv1Y0H/nK/YNGlvWKjEZjWa8CFYfJZGLw2qrD4XAUFhbKrgLlpzR/zytTHttsNqvVKrsKcfjQofia7Q7+uKWsV+RwOMp6Fag4VFUlj6sOdndVU5q/55UpjwEAuFeRxwAAyEceAwAgH3kMAIB85DEAAPKRxwAAyEceAwAgH3l8GxwOx7Fjx3LzcmUXAgC415DHt2Hnzp3dI3rv/mWP7EIAAPca8vg22Gw2Q8ueSq1A2YUAAO415DEAAPKRxwAAyEceAwAgH3kMAIB85DEAAPKRxwAAyEceAwAgH3kMAIB85DEAAPKRxwAAyEceAwAgH3kMAIB8OtkFVBp1ghumpybr2zwsuxAAwD2I8+PSys3JEQNmO1RVdiEAgHsQeQwAgHzk8V9kU1zDWnX8++KlsgsBANwLyOO/SLUUJrUZd/j3WNmFAADuBeTxHagRILsCAMA9gjwGAEA+8hgAAPnIYwAA5COPAQCQjzwGAEA+8hgAAPnIYwAA5COPAQCQjzwGAEA+8hgAAPnI4zuQlbr/4KGHHx1+5swZ2aUAACo38vgO5FzI1PvtPX2RPAYA3CGd7AIqN6VGbZ1OkV0FAKDS4/wYAAD5yGMAAOQjjwEAkI88BgBAPvIYAAD5yGMAAOQjjwEAkI88BgBAPvIYAAD5yGMAAOQjjwEAkI88BgBAPvIYAAD5yGMAAOQjjwEAkI88BgBAPvIYAAD5yGMAAOQjjwEAkI88BgBAPvIYAAD5yGMAAOQjjwEAkI88BgBAPvIYAAD5yGMAAOQjjwEAkI88BgBAPvIYAAD5yGMAAOQjjwEAkI88BgBAPvIYAAD5yGMAAOQjjwEAkI88BgBAPvIYAAD5yGMAAOQjjwEAkI88BgBAPp3sAioBq9Wan5+vClV2IQCAe1YZnh9bLJakpKSCgoKijdnZ2ampqcV6mkyms2fP2my2sivmTkx96dWg0KaFhWbZhQAA7llllccffvhh3bp1Bw0aFBYW9uOPP2qNr7/+eosWLfr169e1a9fMzEytcePGjQ0bNhw6dGhYWNiRI0fKqJ47cbXAVPjoW7KrAADcy8okj48ePfrGG2/s378/NjY2LS2tW7duQojjx49/+OGHMTExsbGxTZs2Xbp0qRDCYrE8++yz69atO3LkyJw5c1544YWyqAcAgAquTPL4nXfemTJlSu3atZOSkhRFqVatmhBi3bp1AwcO9Pf3F0I89dRT69atE0Ls3r27Vq1aDzzwgBBizJgxR48ePX/+fFmUBABARVYm93PFx8dnZ2evXbvW09PTaDR+9913wcHBqampoaGhWocGDRqcP3/e4XCcO3euQYMGWqOHh0ft2rVTU1Pr1atX4mJzc3NTUlK+/vprbbJmzZp9+/Yti/qLUVXHTebajbm//PKLm5tbr1697u567Xa73W6/u8tEhaXtblXltsEqwf4H2YWgnDgcN8sRTZnkcUFBgdFojI6OdnV1nTJlyuuvv7569WqLxeLm5qZ1cHNz034XrVarTnetBr1ebzbf8Lap7Ozs06dPOxfi7e394IMPlkX9xVz3Pv7pL6bpUvK/vlP/5733r6RfuLvrNZvNzo3FPc9sNiuK4uLCVxCrBLvdbrFY2N1Vh8ViuWWfMsnjOnXq9OzZ09XVVQjRt2/fBQsWaI2XL1/WOly6dMnPz8/NzS0wMNDZ6HA4Ll++HBQUdKPFNmjQoF27dtOnTy+Lmm/C1VUn/vRfrPKn2YqLJWKyYfUET0/Pu7teh8Nx15eJisxgMPAHuoqw2+06nc7Dw0N2ISgnpTk/LpODv0+fPqdOndJenzp1qn79+kKInj17bt++Xbs+s3XrVu3q7n333RcXF5eeni6E+O2337y9vcPCwsqiJAAAKrIyOT9+5plnunbt+swzz9SsWXPNmjVbtmwRQvTr12/x4sUDBw5s0aLF6tWrd+zYIYTw9/efMmVKZGTkwIED16xZM3/+fO2sGgCAKqVM8tjHx+fw4cPffvutqqrTpk3TLkG7uLjs3Llzy5YtOTk5R48e1U6ahRBLliyJjIxMSEjYsGFDhw4dyqIeAAAquLIaL7NGjRqjR48u1uju7j5s2LDrO/fu3bt3795lVAkAABUfN48AACAfeQwAgHzkMQAA8pHHAADIRx4DACAfeQwAgHzkMQAA8pHHAADIRx4DACAfeQwAgHzkMQAA8pHHAADIRx4DACAfeQwAgHzkMQAA8pHHAADIRx4DACAfeQwAgHzkMQAA8pHHAADIRx4DACAfeQwAgHzkMQAA8pHHAADIRx4DACAfeQwAgHzkMQAA8pHHAADIRx4DACAfeQwAgHzk8V2h2uz2qS+9+uOPO2RXAgColMjju8HhsFnM7+5L/+w/38guBQBQKZHHd4mLq2gaIbsIAEBlRR4DACAfeQwAgHzkMQAA8pHHAADIRx4DACAfeQwAgHzkMQAA8pHHAADIRx4DACAfeQwAgHzkMQAA8pHHAADIRx4DACAfeQwAgHzkMQAA8pHHAADIRx4DACAfeQwAgHzkMQAA8pHHAADIRx4DACAfeQwAgHzkMQAA8pHHAADIRx4DACAfeQwAgHzkMQAA8pHHAADIRx4DACAfeQwAgHzkMQAA8pHHAADIRx4DACAfeQwAgHzkMQAA8pHHAADIRx4DACAfeQwAgHzk8c1kZGTMeGXW4SNHZRcCALjH6WQXUKHFxcW9/9WWwsJC0VZ2KQCAexrnx7fg7l/f1bNmqbqei17z8ftuevfo6OgyLgoAcK/h/PjusRh194+rbrqUm5sruxQAQCXD+TEAAPKRxwAAyEceAwAgH3kMAIB85DEAAPKRxwAAyEceAwAgH3kMAIB85DEAAPKVkMenTp3Kzs4u1njlypX4+PhyKQkAgCqnhDyeOHHizp07izVu3rx53Lhx5VISAABVTmmvV5vNZnd39zItBQCAKuva8ySuXr164MABIUROTs7x48dr1arlnJWTk7Nq1aoWLVpIKBAAgCrgWh4nJCT07dtXe338+PFi/Ro1ajRz5szyqwsAgKrkWh63aNEiMTFRCPH444+PGzeuX79+zlne3t7e3t4SqgMAoGq4lsfu7u6hoaFCiE2bNtWsWdPLy0teVQAAVC2665uCgoK0F7m5uQ6H41pXna569erlVBcAAFVJCfdX5+TkTJgwoVq1arVq1fIpok+fPuVfHwAAVUEJ58dTp07duHHjzJkzmzdv7uJyLbB9fHzKsTAAAKqQEvJ4+/btixcvnjx5chmt0m63u7q6lqYRAIAqooTr1a6urs6PkO9Efn5+ly5dRo8e7WxZuXKlv79/QEDAkCFDjEaj1vjrr7+GhoYGBQV16NDhzJkzd75eAAAqnRLy+Iknnli3bt2dL/rVV1+tWbPmxYsXtcnExMTZs2cfOHDg0qVLVqv1n//8pxDCbrePHTt22bJlly5dGjZs2JQpU+58vQAAVDol5HFERMTBgwejoqLee++9dUVcP6j1Tfz2229nz54tenK8du3a/v37h4aGurq6vvDCC1988YUQ4tdff1UU5ZFHHhFCTJ48effu3ZcuXbrjjQIAoJIp4fPjhQsXJiQkJCQkbN26tWh7586dtQE1b8loNE6ePHnDhg2//vqrs/Hs2bONGjXSXjdu3Dg5OVlV1eTkZGdjjRo1/P39U1JSAgICSlysyWTKyMjYsWOHNunr69uuXbvS1AMAQAVXQh5/9913NputhK66EjqXaM6cOePHjw8NDS2ax0aj0WAwaK8NBoPFYrFarUajsehjKjw8PPLz82+02HPnzh07duz06dPaZO3atT/++ONSlvTXmEwmVVXVok2qKoR6o/5CCFVVTSbTTbai9AoKCu58IagsjEajzWYr+o0G3MPsdrvFYrHb7bILQTkxGo3VqlW7eZ8SIvYOB/3IyMj46KOPZs2atWTJkqNHj547d+7dd9998cUXAwMDMzMztT5Xrlzx8fHR6/UBAQHORq29Tp06N1py06ZNu3btOn369Dsp77Z4eHgoiqIUbVIUIZQb9RdCKIri4eFxy/e9lO7WclDxubi4GAwG8riK0PLYw8NDdiGoQErI4wsXLhQWFl7f7u7uXrdu3Vsu0WAwzJkz5/r2bt26vf3229rrXbt2de/eXQjRpUuXmJiY3NzcmjVrRkdH6/X6sLCw29sCAAAqvxLy+PHHHy96ndmplJ8fV69e/ZVXXtFer169OiMj48UXXxRCPPLII/Pnz3/66adbtmy5aNGiDRs2CCHq1as3fPjwRx99dNiwYStWrJg5c6Zer7+jDQIAoBIqIY+XLVuWk5PjnLx06dL333+/f//+JUuW3O7Su3Xr5uvrq73W6/V79+5dvXp1dnb29u3bnbdiffzxx19++WVcXNzixYsHDhz4l7YCAIDKrYQ87tixY7GW0aNHv/DCC1999VWPHj1ua+lNmjRp0qSJc9Lb23vq1KnF+ri6uo4dO/a2FgsAwD2mtDePDB48eO3atWVaCgAAVVZp8zgpKan033cCAAC3pYSI3bVr15UrV5yTJpPp+PHjH3zwgTaKFgAAuOtKyON58+YVu786ICDgiSeeWLRoUXlVBQBA1XLr8bkMBgNfWgcAoEzd/fG5AADA7Sr5Fq28vLz//d//PXLkSFpaWlBQULt27SZMmFCrVq1yLg4AgCqihPur09LSOnToMHXq1EOHDgkhjhw5MnPmzLZt26akpJR7eQAAVAkl5PGrr75qMpmOHDkSFxe3c+fOkydPxsTEuLi4zJgxo/zrAwCgKighj3/88cdFixa1b9/e2dKyZculS5f++OOP5VgYAABVSAl5bDabfXx8ijV6e3uX+NAnAABw50rI4zZt2ixfvtxqtTpb7Hb78uXL27ZtW46FAQBQhZRwf/Ubb7zRt2/fZs2aDR06NCAgICMjY8OGDYmJid9//3351wcAQFVQQh5HRETs2rVrwYIFn3zySWZmpo+PT7t27T744IPbfbgTAAAopZK/f3zfffdt27ZNCFFYWGgwGMq3JAAAqpw/fX4cFxcXFxdXtEUL45SUlKNHj5ZrXQAAVCXX8vjUqVOtW7eOiYm5vtPVq1e7deu2c+fOciwMAIAq5Foef/bZZ61atRoxYsT1nVq2bDlmzJh33323HAsDAKAKuZbHJ06ciIyMvFG/vn37/v777+VSEgAAVc61PE5LS7vJEyO8vb0vXLhQLiUBAFDlXMtjPz+/pKSkG/VLTEz08/Mrl5IAAKhyruVxRETE+vXrMzIyru9ktVo//vjjiIiIciwMAIAq5FoeP/PMMzqdLjIyMjo6umiP1NTUoUOHxsbGvvzyy+VeHgAAVcK18UB8fHy2bNkyePDgdu3ahYSEhIaG6vX6s2fPJiYmurm5ffrpp0Wf+AQAAO6iP40H0rVr19jY2Hnz5gUEBJw4ceLw4cMGg2Hy5MkxMTFjxoyRVWLlYso4/8y0V0Y9OVF2IQCAyqT4eJn+/v7z58+fP3++jGLuBTZTwenGT1z6/h3ZhQAAKpMSnreIO+UfJrsCAEAlQx4DACAfeQwAgHzkcRmwmXOvXNJ7eL32+jzZpQAAKgfyuAzYbYqhunXo0tyr+bJLAQBUDuQxAADykccAAMhHHgMAIB95DACAfOQxAADykccAAMhHHgMAIB95DACAfOQxAADykccAAMhHHgMAIB95DACAfOQxAADykccAAMhHHgMAIB95DACAfOQxAADykccAAMhHHgMAIB95DACAfORxmTkX/eGHH9bw9jtz5ozsUgAAFZ1OdgH3rsJ8cd843aXjOTk5sksBAFR0nB8DACAfeQwAgHzkMQAA8pHHAADIRx4DACAfeQwAgHzkMQAA8pHHZetqWmL3B3s2a91ediEAgAqNPC5bqqLYnvosO++q7EIAABUaeQwAgHzkMQAA8pHHAADIRx4DACAfeQwAgHzkMQAA8vH84xua9/c39+7bbzabZRcCALj3cX58Q/+z4r2dmV4Wi0V2IQCAex95fFN1w2VXAACoEshjAADkI48BAJCPPAYAQD7yGAAA+chjAADkI48BAJCPPAYAQD7yGAAA+chjAADkI48BAJCPPC57DrsxL2fJkiUxMTGySwEAVFA836nsmXILTOZXv/wlN7+gdevWsqsBAFREnB+XC3cv0TRCdhEAgIqLPAYAQD7yGAAA+chjAADkI48BAJCPPAYAQD7yGAAA+chjAADkI48BAJCPPAYAQD7yGAAA+chjAADkK5M8/vDDD7t37x4UFNS5c+dNmzY52zdu3NiyZcv69eu/+OKLNptNa4yNjY2IiKhTp87gwYPT09PLoh4AACq4Msnj/Pz8ZcuWnT59esGCBWPGjImPjxdCXLhw4cknn/zoo49iY2OPHTu2fPlyIYSqqsOHDx8xYsTZs2fDwsImT55cFvUAAFDBlUkeT58+vWvXrtWqVXv44YebNWumPff3iy++iIyM7NatW82aNV966aVVq1YJIfbv35+Tk/Pcc88ZDIbZs2d///33mZmZZVESAAAVWdk+/zgxMTEhIaFLly5CiDNnzrRo0UJrDw8PP3PmjBAiISGhefPmiqIIIXx9fX18fM6ePevr61vi0mw2W2ZmZlJSkjbp6ekZGBhYpvUDAFA+yjCPc3Nzhw0bNn/+/JCQECFEXl5eo0aNtFleXl4mk8liseTl5Xl6ejp/pFq1arm5uTda4KlTp3bv3v3ll19qk8HBwd99913Z1a+qqhBCva71+rY/zb/xXIvFkp+fX/oCCgoKSt8ZlZ3RaLTZbC4u3GJZJdjtdovFYrfbZReCcmI0GqtVq3bzPmWVx/n5+VFRUf369Zs6darWUrt27ezsbO11VlaWt7e3Xq8v2qi1BwQE3GiZ4eHh999///Tp08uo5mK0s3ZFCOXPrcUaiv/Ujefq9fpb7o9ibrc/Ki8XFxeDwUAeVxFaHnt4eMguBBVImRz8RqNx4MCBnTt3XrRokbOxffv2+/bt017v27evffv2Qoh27drFxMSYTCYhxOnTp+12e1hYWFmUBABARVYmeTx69OiEhITAwMAlS5YsWbLkyJEjQojhw4cnJibOnz9/3bp1c+fOnTZtmhCiUaNGvXr1Gj9+/JYtW55++ulnn32WfxgBAFVQmeTxgAEDnn/++WKNnp6ee/bsKSgo2Lp160cffdS/f3+t/YsvvmjTps2GDRtGjhy5cOHCsqgHAIAKrkw+P37qqadKbA8JCfnHP/5RrNHLy+u1114rizIAAKgsuHmkvJgLks+e/emnn7ijEgBwPfK4vKQcXbfzQP9HhmpfvAYAoCjyuNyojg5DPeqEOhwO2ZUAACoc8hgAAPnIYwAA5COPAQCQjzwGAEA+8hgAAPnIYwAA5COPAQCQjzwGAEA+8hgAAPnIYwAA5COPAQCQjzwuV6rDfv78+dzcXNmFAAAqFvK4XF29fH7w42Pv6xUpuxAAQMVCHpcrVXEtHLUy32SWXQgAoGIhjwEAkI88BgBAPvIYAAD5yGMAAOQjjwEAkI88BgBAPvIYAAD5yGMAAOQjjwEAkI88Lnc2S3bmlakvvXrs2DHZpQAAKgryuNzlZ141mf9nx4lt27bJLgUAUFHoZBdQFSkeNURIe9lVAAAqEM6PAQCQjzyWQz0fs/Dtd0MaN8/OzpZdCwBAPvJYkoLcgu5P5xQ68vLyZJcCAJCPPJbHzaC4usouAgBQIZDHAADIRx4DACAfeQwAgHzkMQAA8pHHMlnyc5csWbJu3TrZhQAAJCOPZTKbzSt/z5/71r9kFwIAkIw8lq39o7IrAADIRx4DACAfeSyb6sjPzV6/fn1mZqbsUgAA0pDHsmWlpqWdHzdtztq1a2WXAgCQhuctyqaqLn4htjb9HQ6H7FIAANJwfgwAgHzkMQAA8pHHAADIRx4DACAfeQwAgHzkcQneWvq2Z02f3Nw82YUAAKoK8rgEaemXTAPfkF0FAKAKIY8rBMf52Dl/X9wkvI3RaJRdCwBAAvK4QlCNuVe7PX0hI7OgoEB2LQAACcjjCsPLRxXi999/v3DhguxSAADljTyuQExX8x6ZOH3Y2AmyCwEAlDfyuCJRlIL+881Wu+w6AADljTwGAEA+8hgAAPnIYwAA5COPAQCQjzwGAEA+newCUIKkpKQjR464uLgMGTJEdi0AgPJAHldEby179/Nd0baEg3k5UR4eHrLLAQCUOa5XV0QOh1rYabTOw0tVVdm1AADKA+fHFUxB1pmEhPT0i6J7S9mlAADKD+fHFczVjALFkF7g0KZSU1Ojhjzef+iokydPyq0LAFCmyOOKx6OG4u6lvTxz5swvMQm74i/GxMTILQoAUKa4Xl3R6X3r2jx9ZFcBAChbnB8DACAfeQwAgHzkMQAA8pHHFZfDZt2zZ4/dxuOQAeDeRx5XXBar9Z11O4wmk+xCAABljjyuyBRzy/6yawAAlAe+71SZ2Gy233//XQjRpk0bnY59BwD3Ds6PK5Nt27bd1yvyvl6R27dvl10LAOBu4hyrMrHZbIbWkYpQbTab7FoAAHcTeVwJ2LIufPblf+LPJLZrzUMmAODexPXqSsCafXFrjvfCvy+QXQgAoKyQx5VE815CiA0bNti5Ug0A9yLyuNKwOxyf7T1ltphN504OGzU2tGm47IoAAHcNeVyJKKJpDyGE3Wa1jP/ftNQU2fUAAO4a8riysqoudcOa+QU3atqm48mTJ2WXAwC4I+RxJaWq1sILtTvm+oenixoXL16UXQ8A4I7wfadKS1GERw3hIlytDtmlAADuFOfH97g33lzSd/DwV16fL7sQAMDNkMeVniXr4qJl/zPr9fkOh+Ps2bPnz58vOnft+k07RPMvv14vqzwAQGmQx8Xl5eVZLBbZVdwGc372LkeTf7+38osvvmjeul1ooybHjh37U4/6bSSVBgAoLfL4T+Li4nx8/T7++BPZhdymsG5CiMLCQtf7nqjWrKvZbJZdEADg9nA/158YjcYazbrkFTIGFgCgXHF+fI+wmQt/+eUXh+oQQhiNRh//QI/qtYYNH5Gbm1Os57lz52r6+HvW9FmzZo2MSgEAJeD8+J5gLSw0F679+ZjS5AEhhNlstuk8Cpt023g4yXHlStGOu3bt2r17t+pT39bi4YyMDEnlAgCKI4/vFTp3e/22OiHspvw9e/bYHXYhhNqsh8v+L+xCCCEuXry4Z8+e52fOyvUIsJlMXBgBgAqFP8v3moLMi//4apvJVHityVxw6VJ6y3adRk2bl5GZZW4/TP1jTkxMzJdffhkW3rZR6447d+68+ZIPHjy4Y8eOc+fOlVXpAFCFkccVmXrrLtdTXKw9n/9Ti7nA5uKeVaOBvdMIxcVVa3Okn172wapOD/R8evaSlDxbmk+rhIQEIURSUlLXHpGdIvoeOnSo2ILve+DBQU9Pa3d/ry4RfU+fPv1XasONbd++PTU1VXYVKCeJiYk//fST7CpQTmw222effXbLbvLzODU1deTIkR07dpwyZUpeXp7scu5NiqtOuHkUbVHzLp8P7mW1OUwdRwmdu+Lmce7cudOnT6ekpMRlGE+aqp06dUoI4XA4oqOjo6Oj7Xa74uJqatwrr2bDuGzb2bNnJW3KPevrr78+fPiw7CpQTvbv379hwwbZVaCc5OTkvPXWW7fsJj+Phw0bFhYW9p///Cc3N/fFF1+UXU5V4l3X+dJ69sjb769q3rrty7Pn2nQGF69aly9fnvDMc10f6NH5/ohuEb2///57rafi5eNqqHbx4sX4+PikpCSLxZKXl5eUlBQfH3/27Fmr1bp02Tv9Hxs+942FVqs1KSnp5s+6uHLlSlJSktFoLGXJDocjKSmp2BhkAHAPkHw/17FjxxISEvbu3evq6rp06dJGjRq98847NWvWlFtV1WSJmq2se/mwPUhnSVfORr/6xrdW41XRpr+u8f3u1WvZbNe+k12QGjdp6suWq1l6r5ohDUOv5l/Nzso252W6V/d+9qnx23bvjfe/79jqNb61qr/8+hsOs/F0fJyvr6/FYlEURa/XV69ePTc31+Fw1KxZs3WHLtn5xk7t2j438cktP+xISDjTqFHjwVEPDXlkUH5+vl6v9/LyKlrk+vXrx06YqNptu3/a0a1btxI3pLCw0GQyGQwGDw+PEjtUQNnZ2aUZFe7q1as2m6169eo6HXdiAvcayUd1XFxcq1atXF1dhRBBQUE1atRISkpq166dlGJWfvjRr3v2WiyWinDZQJqgcJGXrgrVNuyfYvUzIrCZSPvdlp3+6WdfOhz/fZCUKlysI5eLTydYWg9KunxGzb7gGLJU+Xq6uVnff6983+GqF52mXj30+foNm2w9pxgOfjFz1uzNG75RXN2Eq061mR97bOiGb9bp9Ib3l79jMlsK+0zfs2H23v37HW0GiUP7DzuC9/427++LlyQlp7hYC+NOHP/Xv98TQrw09W8ffvK/+/fvd+001JB/0WQyzZn3xrnU8yZzobGgoF69+snJZ/39/G12+8+/7snLu+rl6TF65ONPjBx+6Oix34+fSE4+W6NadTd39/p1gxbMe12n0+36effm77ZW9/J8/rlJS5e943Cof5s86et136RnXOnT48EB/aOEEG8sfDM7Ny+qb+/IyL639S7m5+e/sWhxaup5nZubtkY3N7difXbs2Pl/2348ERtbs0aNzZs3OVS1efPmQ4YMuckyff1ruxqqTXthcvNmTY9ExzRtHNatc0NhmLsAABiQSURBVKdVX3zl7qabN+c1T0/PEn/w3eUr4k6dPp92vnGjxpOfeapx48a3tS13wvkmL5j3uqIozva0tLS3310uhJjxt+fr1atXbvXg7rpy5crif/zT4VCff3ZiWFhY0VkLFy+5kpUd2atHVL+HZZVXSoWFhfP/vqjQYh37+LAOHTpIrERR1b9009BdsmLFih9++OHbb7/VJps0abJy5crevXuX2Ll79+779+93Trq4uFSvXv0uFnPV4nBYzKoQiuKiClW46BS7VRVCuOqEwy5cXBW7VRWK4u7lEtLWkXRQ2CyqoghXN2G3CSEU1aEqinDVC7tVCKE47KqLq3B1E3aLEEJxOP40qTpUxVW4uik2iyqEoijaihSbVRVCcXFVVcd/16gowkUnHHahuCgOmyoUoSu2xj8mr63RKoRafI1/TP6xRqEK5b+TilBEkU1WhHBxFQ6HcHFR7EXXqCiq/bpNdvljjX8UoHMTtj9vsjYpVK3zfwtQHcJhU/Weit2mCqG46tQib7JwdRMOm7BZFKGqrnrhsCmqQ9W5/3eT7TZFdaiuekUteRudk8JhE+5eQntXtTfZZlG0G+Vc3VTFxbkKRbULh111MygOh2q3CFVVFEXV6RVVVe1WbdL5q6LedPK/ja56RQhVUYTdopR0lKk6vRDKtU122BXVfvNVqK56RajCblXdvRS7TdWK17mXuArnEq69ydo2llTtLTeq5HpusKhrir7JxZbwx279awWUqDR9btK/2EbdyRpL06797b0Lb/JN1/sXduttrcJ57BTvph2tNzh2bvQml3wo3fTNvCubrLrqFUXxcHPR6/U33/y/RlVVk8mUkZFRo0aNm3STfH7s6+tb9B6u3NxcPz+/G3X+7bffyqUoAADKm+QLsy1btoyJibFarUKI1NTU/Pz8Yhc9AACoCiRfrxZCREREtG3bdvz48QsWLAgMDFy5cqXcegAAKH/yb1xat26d1Wp9+eWXw8PDly1bJrscAAAkkH9+DAAA5J8fAwAARhWQwGq1Hj9+PDExsW/fvrVq1XK2x8TE/PTTTyEhIYMGDdK+ky2EuHjx4qZNmwwGw2OPPeYcKcVoNG7YsCEnJ2fAgAENGjQo/01A6amqmpiYGBsb26xZs2bNmmmNCQkJx44d014rijJ06FDtdWFh4caNGzMyMqKioho1auRcyLZt2+Li4jp16nTfffeVc/24LQ6HY9++fdHR0dWqVYuKivL393fO2r59+8mTJzt06PDAAw84G48fP75z587g4ODBgwc7j/r09PSNGze6u7sPGTKE8ZEquNOnT+/du9dsNt93332tWrXSGg8cOOB89I6/v3+PHj201xkZGRs3bnRxcXnsscd8fHy0RrPZvHHjxsuXL3N+LEGjRo3Gjx8/ZsyYoqNAf/vttw899FB2dva77747atQorTE5OblNmzZnzpzZvXt3586d8/PzhRA2m+3BBx/ctGlTWlpax44dY2Ji5GwGSufpp5/u06fPc889t3HjRmfjtm3b5s6du2PHjh07djifrOVwOPr06bN27dpLly5169bt4MGDWvsrr7zyyiuv5Obmjhs3bsWKFRK2AaW2cOHCGTNmpKSk7Nq1q2nTprGxsVr77NmzZ86cmZubO2HChHfffVdr/O677yIjI7Ozs5cvX/74449rjefOnWvTps3p06d//fXXjh07Xr16Vc6WoBQOHjzYt2/fQ4cOJSUl9e7d+/3339faly9fvmLFCu0Ad45Ln56e3qZNm5iYmEOHDrVv3z4rK0sIoapqZGTkmjVrLl++LFSUu8LCQlVV/f39jx496mzs2LHj119/raqq0Wj08/OLjY1VVXXatGkvvPCC1uHhhx9euXKlqqrffPNNu3btHA6HqqoLFy4cPXp0+W8CSk/b3WPHjn3zzTedjf/+97+ffvrpYj1/+OGHZs2a2Ww2VVX/9a9/PfLII6qqXrlyxcvLKy0tTVXVQ4cOBQYGWiyW8qsetyk3N9f5etKkSc8//7yqqllZWdWqVTt37pyqqseOHatdu7b2W9G5c+e1a9eqqmoymfz9/X///XdVVWfMmDFlyhRtCVFRUStWrCj/rUApFRQUWK1W7fXGjRsbNWqkvR49evQnn3xSrPPcuXPHjRunvR42bNjSpUtVVf3xxx+bNGmiHfWcH0vg7u5erCU/P//w4cORkZFCCA8PjwceeODnn38WQvz8888PPfSQ1icyMlJr3L17d2RkpDbEzEMPPaQ1osK6fndrTp06tXjx4s8//9z5OI3du3f36dNHu2jp3LMHDx5s1KhRUFCQEKJjx442my0+Pr6cSsftKzoAk9Vq1QYxPXToUEhISP369YUQbdu2VRTl5MmTRqPx4MGD2lFvMBgefPBB51GvNYoiRz0qJk9PT+dg8s7drdm1a9eSJUu+/fZb9Y+bpkv8e/7zzz87j3ryuEJIT0/X6/XOz5IDAgK0xyKlp6c7P3+qXbt2iY2XLl1yjiyNyiIwMLBDhw6qqq5du7ZNmzY5OTniuj2bk5NjNBovXrxY9DNI568BKrj9+/dv2rTp+eefF0KUuBPT09N1Op23t7fWePOjHhVcbm7urFmzZs2apU2Gh4eHhISYzebZs2c/+uijWiTf8u8593NVCAaDwWazORwOFxcXIYTZbDYYDEIId3d352N/zGaz9sCiYo16vV77KVQiQ4YMcT46olevXp9++un06dPd3d21seqEEGaz2cXFRa/XGwwGZ6Mo8ruBiuzEiRNDhw5du3atdk5c4k40GAx2u91ut2snWDc/6lGRFRQUDBgwYNiwYc6bAJzBPG3atNDQ0AMHDnTt2vVGf8+dvxv8Ha8QAgICdDqd83685OTk4OBgIUT9+vWTk5O1xpSUFO3Yrl+/fkpKirOn1ojKKzw8XPtPuejuTk5ODgoK0ul0RRvNZvPFixe13w1UWPHx8f369Vu5cqXzsrO2E7WTJIvFcuHCheDg4Nq1a+v1+uuP+uDgYOcB7jzqUWEZjcaBAwd27Nhx8eLF18+tXr16/fr1tQM8ODi4xL/nzkbu55Km2P1cI0aMeO2111RVPXnyZM2aNbOyslRVXb58ec+ePW02W15eXuPGjbdv366qanR0dEBAwKVLl1RVHTZs2Ouvvy5pC3Abit3PFR8fr92Rl5ycXK9evW+++UZV1dOnT/v4+Jw/f15V1SeffHL69Omqqlqt1nr16v3www+qqn7yySedO3eWswEondOnTwcHB3/11VdFG202W0hIyP/93/+pqrpq1ar27dtr7SNHjnz11VdVVY2Li6tRo8aVK1dUVV2xYkVERITVar169WrTpk21XY+KqbCwMCoqauLEidrh7BQXF6e92Llzp5eXl/bf2KpVqzp37mw2m41GY+vWrbWjPiEhwcfHJzU1VVVV8liCiIiIov9Amc1mVVWTkpJatmzZvHnz2rVrr1q1SutpMpkGDx4cHBwcGBj4wgsvOHf53Llza9euHRYW1rNnz5ycHGlbglJ48803i+7uzZs3q6o6fPhwPz+/pk2b1qpVq+h/VG+99Vbt2rUbN27cvXt37a+zqqo//PBDnTp1wsPDGzZseOjQITmbgdKZNm1a0d3dv39/rX379u1BQUHax4oHDhzQGs+ePduqVSvtqP/000+1xsLCwkcffTQ4OLhOnTpTpkwp9oceFcoPP/xQdHe7urpq7fXq1atbt25YWFhQUJDznzOLxTJy5Mh69eoFBQVNmDBBu6daVdWlS5f6+/s3btyY8TIrEFVVL1686OvrW+yO3MzMTDc3t2IPziwoKCgoKKhdu3b51oi7pqCgIDc3NzAwsNjH/0ajMS8vLzAwsGij1WrNyMgICAhwDhmBSqfEnXiTo16n0zEYSOWVlZVls9mu/xOdlZXl4uJSdCQo8cdRTx4DACAf93MBACAfeQwAgHzkMQAA8pHHAADIRx4DACAfeQwAgHyu8+fPl10DIMGlS5d+++23AwcOnD9/3tPTs9jXu6VITk5OTU29XBJtvLannnqqadOmAQEB1/9sWlra008/HR4eXvS5BaVhMpni4+O14ZSdjQ6HIzY21sXFxcvL65ZLeOGFF/Ly8lq2bHnLnu+8884PP/zgfDb7X/P+++8fOHCgc+fOd7KQW8rNzR0/fnzXrl0rwi8GqopyH88EkMzhcMyePdtgMLi7u2tjRAshnnzySW3uvn37+vTpow1HWs769u17o+PUz88vMTFRCKGNmXq9kydPCiF+/vnn213poUOHhBDFxnfMzc0VQixYsKA0SwgODtYGfbylESNGRERE3GjurFmz5syZc/MlpKamenl5Oce3KlMjRox44oknymFFgIbnO6HK+eabbxYtWjRnzhwtlW022969e0+fPq3NvXLlyo4dOwoLC8u/sC+++MJkMmmvJ02adOLEiT179miTrq6ugYGBKSkpFXBEtn379pXmNPqWoqOjnY+SvZE333yzY8eOZX1yrJkxY0bXrl1ff/31Ro0alcPqAPIYVc4vv/zi6en5xhtvaANV6nS6iIgIbVDx8+fP7927Vwjx3Xff+fn5CSGGDh2qKIoQ4siRI9u3bzeZTK1bt37kkUecyXHo0KG8vLz777//m2++iYuLGzp0qLu7e3x8/ODBgzdv3nz06NHg4OBRo0Z5enpeuHDh66+/NplMkZGRHTt2vL6wopeaPTw8XF1diz7KqaCg4MCBAxEREc4Ly0lJSevXrzeZTH369PHx8Sm2tLy8vA0bNiQkJNSqVWvw4MGNGze+w/dt586dv/32m81m69at20MPPaS9LUKI6Ojo4OBg58iO2dnZX3311YULF1q2bDlkyJCtW7eGhoaGh4c7l2M2m//zn/8kJCQ0adJk+PDhbm5uQojdu3dfvHjR1dV13bp1QoiwsLD27dsXKyA/P3/NmjXLli1ztsTExJw/fz4yMvKbb745ceJEWFjYyJEj9Xp9cnLy+vXrbTbbgAEDnBfSL1y4sHfv3gEDBhw6dOinn36qVavWmDFj/Pz88vLyvvrqq4sXL3bv3r3oJYpOnTo1adLkgw8++Mc//nGHbx1QKrJP0IHy9tJLL7m4uJw5c+b6Wb/88kvbtm2FEPfff3+fPn369Oljt9tVVX3ttdeEEO3bt+/bt6/BYOjUqVN2drb2I+PHj2/dunWXLl0aN27co0ePL7/8cvHixdWrVx81alTTpk379Onj4eFx//33Hzx4sE6dOj179mzevLlOp/v2229vXuSjjz7aoEGDoi3Frlfv3LnTw8OjYcOGgwYNqlOnzvjx40WR69XHjh0LDAwMDAwcNGhQ69at3dzcvvzyyxJXVJrr1SaTKSoqSq/X9+rVKzIy0t3dfciQIdo7o/75erX2FDlfX99Bgwa1atUqKiqqdu3a8+bN0+aOGDGiU6dOXbt2bdu2be/evfV6fY8ePbTnJcyYMcPX19fPz0972995553rS920aZMQIiUlxdny8ssv169fPyoqKjw8vFevXm5ubv3799+1a1dAQEDv3r0bN25sMBh++eUXrfOWLVuEEJMmTapbt+5DDz3k7e0dEhJy4sSJRo0ade/evUuXLkKIf/7zn0XX+Pzzzzdp0uRm+wm4e8hjVDmxsbEGg6FatWqjRo167733nE9G03z77bfF/uj//PPPQghnqBw+fNhgMEyZMkWb1IKw6DOatMegPvvss1rSaDFQp06d2NhYVVVtNltERESXLl1uXuTN89hqtYaEhERERBiNRlVVs7KyWrRo4cxji8USGhoaGRlZUFCg/ezMmTO9vLwyMzOvX5GWx4899ticIl5++eWieTxr1qwaNWrExMRokwcOHHBzc/vkk0+0yaJ5PGTIkKCgoLS0NFVVHQ7HxIkTi751I0aMEEIsX75cm9y8ebMQ4scff9Qm+/XrN3DgwJu8Jy+99JKfn1/RFq3OWbNmaZOrVq0SQjRs2DAxMVFVVbPZ3LZt2379+mlztR3Rt29f7U07deqU9sAG5/9GkyZN8vb2dj51x7nA9PT0m1QF3C183wlVTnh4+NGjRx955JFt27ZNnjy5efPm7dq1O3bs2I36b9682dvbe9asWdpkhw4dHn/8ce1cTVOjRo3Zs2cX+6kFCxZoV3SjoqJ0Ol2/fv20a7aurq79+/c/ceLEnWzCsWPHUlJSZs+e7eHhIYTw9vaeMWOGc+6uXbuSkpIWLVrk6emptbz22msFBQX79u270QJjYmK2F7Fz507nLFVVP/nkkwkTJrRq1Upr6dy5c2Rk5I4dO4otRFXVrVu3Tpw4MSgoSAihKMq8efOK9albt+6UKVO01wMHDvTw8Cj9W5GamlqnTp1ijW5ubnPnztVeDx48WAgxZMiQ0NBQIYRer3/44YeLLd/5pjVp0qRZs2bNmjUbMGCANmvQoEHZ2dlpaWnOztpTtlJTU0tZIXAn+PwYVVHz5s0///xzVVVPnTq1ZcuWN998s3///nFxcSU+3i4xMbFJkyZFH4fXunXr1atXG41GLfAaNGhQ7GF5Xl5ezg+DXV1dq1ev3qBBA+fcWrVq5efnW61W7aPTvyApKUkIUfRD2aKv4+LihBATJ04s+lw/FxcX7Qy7RAsXLtROXjV5eXnOtyIzM/Py5csbNmz49ddfnR1SUlK0zCsqPT3daDQ2a9bM2VK3bt3q1asX7dOwYUPnB8+Konh7e2dnZ99yezVGo7Hol7I0gYGBzkbtGXbF3upiy2/YsGHRuXXr1i06KYTIzs52fmyv7d+CgoJSVgjcCfIYVZeiKNoZUq1atSZNmvTbb7/169fv+m46nc5utxdtsdlsiqI4n1t8fUhc/5TiYg85vkPa8otWVaxCIcTcuXOLZeGd3NI1aNAg7ezTqdjChRDaXdZGo9HZ4nA4zGbz9ZX/Nb6+vtq/Gjdf4M3f6mJzb15PVlaW+PN9dkDZIY+B/16WzMvLE0Lo9XohhM1mc85t3Ljxjh078vPzq1WrprUcPnw4JCTk+hguN9o3cI4dO1a/fn2tpej1du2OYr1e36dPnztfl6+vb506dTIzM2+5tBo1atSpU2fv3r0TJkzQWg4ePGixWEq5Ijc3N6vVepMOzZs3X7t2rcVi0fZROUhKSnJ3dy96Sg2UHT4/RpXz9ttvv//++9otxEKI1NTUxYsXGwyGBx54QAihXat0fvFXCDF8+PD8/PxXX33V4XAIIbZv375hw4ZRo0bJqP2/2rRpEx4ePn/+fO0E7ty5c2+//bZzbs+ePdu2bTtt2rT4+HitxWazbdmyRet8uxRFefHFF7/++uvVq1c7G0+cOFHip9GTJk1as2bN559/XlhYePLkySlTppQ+O4ODg0+ePHmTInv06FFYWPj777/f7ib8Zfv37+/atav2eTNQ1shjVDlWq3Xq1KnaZ4cNGjQIDQ2Nj49fvXq1dhdSs2bNxo0bN27cOEVRFEWx2+3t27dfvnz5Rx99VLdu3ebNm/fr1y8qKmrOnDkSN0FRlDVr1qSlpTVo0KBDhw4tW7Ys+umvi4vLpk2batas2apVq6ZNm7Zp08bHx2fs2LF/eZCTl1566W9/+9tTTz1Vp06dTp06BQUFtW7dOjo6+vqer7322pgxY8aPH+/h4dGpU6dJkyZVq1bt+ivbJZo8ebLD4fD19VUU5bnnnru+Q6dOncLDw4veSVemCgsLt2/fPnbs2PJZHaCoqiq7BqC8FRQU7N+///z584qi1K9fv3PnzsVGmMrIyEhLS9PCWLv/KC0tbdeuXYWFha1bty46PlRycnJhYWHRm5jS09PT09O17zFroqOjAwICnPcGX7lyJSUlxbnkEiUkJBiNxtatWztbzGZzTExM06ZNnSMq5+TkbN26tbCw8IEHHqhXr96JEyeaNGniDD9VVffv33/y5EmdThcSEtKtW7diN51pjEajNpJG0RFFHA7HkSNH6tWrV/R+5nPnzu3Zs6egoCAgIKBLly7OYbRjYmJ8fX2L3hiVkZFx8eLF0NDQwsJCf3//9evXDxkyRAiRlJRks9maNGni7BkTE+Pn56f9JySEsFqt586dy8nJ8ff3LzoWitPKlSsXL16cmJio3QqXlpaWlZXlvPFbCHHkyJHg4GDnJ75F90Vubm5CQkKrVq2cp+ynTp3S6/XOy9H5+fmnTp1q0aKFdkK8Zs2aadOmJScn35XRx4BbIo8B3DVGozEjIyMkJEQIYbFYJk2a9NVXXyUnJ5f4DIy/wGaztW3b9sUXX9S+2Vx2HA5H27Ztn3322cmTJ5fpigAn7ucCcNdkZmaGhoa2atXK29s7Pj4+Kyvrgw8+uFthLITQ6XSbN2/W7rwrUyaTadmyZXf4KCrgtnB+DOBuOnHixJEjR7Kysvz8/Hr16uW8Fg3g5shjAADk4/5qAADkI48BAJCPPAYAQD7yGAAA+f4fuqUENpvwCgoAAAAASUVORK5CYII=\" />"
            ]
          }
        }
      ],
      "source": [
        "tide_distribution = GeneralizedExtremeValue(900, 25, 0.3)\n",
        "    histogram(rand(tide_distribution, 10000), xlabel=\"Storm Tide Height (mm)\", ylabel=\"Count\", legend=:false)"
      ],
      "id": "eff52007"
    },
    {
      "cell_type": "markdown",
      "metadata": {},
      "source": [
        "Feel free to just sample from `tide_distribution` in your solution\n",
        "below."
      ],
      "id": "1708f968-9c81-4b6a-9e8c-2fa4d30da781"
    },
    {
      "cell_type": "markdown",
      "metadata": {},
      "source": [
        "#### Problem 3.1 (2 points)\n",
        "\n",
        "How would you use your sea-level simulations and the above information\n",
        "to compute a distribution of extreme sea levels in 2100 relative to 2010\n",
        "mean sea level? Write down the approach in clear steps, with equations\n",
        "as needed."
      ],
      "id": "e8e62633-d830-4b4a-9ae9-6ae9fa035d99"
    },
    {
      "cell_type": "markdown",
      "metadata": {},
      "source": [
        "#### Problem 3.2 (3 points)\n",
        "\n",
        "Follow the steps above and produce a histogram of the extreme sea levels\n",
        "in 2100 relative to 2010."
      ],
      "id": "5c4ba2e5-edbb-4201-b1d6-ce5129428bba"
    },
    {
      "cell_type": "markdown",
      "metadata": {},
      "source": [
        "#### Problem 3.3 (5 points)\n",
        "\n",
        "The current levee was heightened in 2010 to 2m above the 2010 mean sea\n",
        "level. Based on your analysis above, what is the probability that the\n",
        "levee will be overtopped in 2100 (remember that the reliability standard\n",
        "is 1%)?"
      ],
      "id": "44c4516a-9243-45bf-b09a-d2767357a033"
    },
    {
      "cell_type": "markdown",
      "metadata": {},
      "source": [
        "#### Problem 3.4 (3 points)\n",
        "\n",
        "Based on your analysis, would you recommend that the levee be heightened\n",
        "again in the future, and if so, how high? What other information might\n",
        "you need, if any, to make your recommendation?"
      ],
      "id": "e57231a1-acc7-4a9f-b3e5-668ce412f232"
    },
    {
      "cell_type": "markdown",
      "metadata": {},
      "source": [
        "## References\n",
        "\n",
        "List any external references consulted, including classmates."
      ],
      "id": "e7438e18-65f5-4db7-82d8-ec150ce472e3"
    }
  ],
  "nbformat": 4,
  "nbformat_minor": 5,
  "metadata": {
    "kernelspec": {
      "name": "julia-1.9",
      "display_name": "Julia 1.9.2",
      "language": "julia"
    },
    "language_info": {
      "name": "julia",
      "file_extension": ".jl",
      "mimetype": "application/julia",
      "version": "1.9.2"
    }
  }
}