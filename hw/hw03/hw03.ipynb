{
  "cells": [
    {
      "cell_type": "markdown",
      "metadata": {},
      "source": [
        "# BEE 4750 Homework 3: Uncertain Sea-Level Rise and Levee Reliability\n",
        "\n",
        "**Name**:\n",
        "\n",
        "**ID**:\n",
        "\n",
        "> **Due Date**\n",
        ">\n",
        "> Friday, 10/06/23, 9:00pm\n",
        "\n",
        "## Overview\n",
        "\n",
        "### Instructions\n",
        "\n",
        "This assignment asks you to conduct a Monte Carlo analysis of levee\n",
        "reliability in the face of uncertain changes to local sea levels. You\n",
        "will propagate uncertainty in equilibrium climate sensitivity through\n",
        "the energy balance model to obtain a distribution of temperatures, which\n",
        "will then drive a model of sea-level rise. You will finally use this\n",
        "distribution to assess the probability that a planned levee will achieve\n",
        "its desired reliability standard.\n",
        "\n",
        "### Load Environment\n",
        "\n",
        "The following code loads the environment and makes sure all needed\n",
        "packages are installed. This should be at the start of most Julia\n",
        "scripts."
      ],
      "id": "297b641e-e047-4468-90d3-481111e78bce"
    },
    {
      "cell_type": "code",
      "execution_count": 1,
      "metadata": {},
      "outputs": [],
      "source": [
        "import Pkg\n",
        "Pkg.activate(@__DIR__)\n",
        "Pkg.instantiate()"
      ],
      "id": "a255ae43"
    },
    {
      "cell_type": "code",
      "execution_count": 2,
      "metadata": {},
      "outputs": [],
      "source": [
        "using Random\n",
        "using Plots\n",
        "using LaTeXStrings\n",
        "using Distributions\n",
        "using CSV\n",
        "using DataFrames"
      ],
      "id": "d2a32c37"
    },
    {
      "cell_type": "markdown",
      "metadata": {},
      "source": [
        "## Problems (Total: 40 Points)"
      ],
      "id": "60039094-ec32-4185-b949-872881b11f96"
    },
    {
      "cell_type": "markdown",
      "metadata": {},
      "source": [
        "### Problem 1 (12 points)\n",
        "\n",
        "Recall from class that the simple energy balance model (EBM) of\n",
        "planetary energy balance links changes in radiative forcing ($F$) to\n",
        "global mean temperature ($T$) changes through the discretized equation\n",
        "$$T_{i+1} = T_{i} + \\frac{F_i - \\lambda T_i}{cd} \\times \\Delta t,$$\n",
        "where $i$ is the current time step, $c = 4.184 \\times 10^6$\n",
        "J/K/m<sup>2</sup> is the heat capacity of water per unit area, $d$ is\n",
        "the (uncertain) depth of the mixing layer, $\\Delta t$ is the annual time\n",
        "step in seconds and $\\lambda = F_{\\text{2xCO}_2}/S$ is the climate\n",
        "feedback parameter in W/m<sup>2</sup>/$^\\circ$ C, where $S$ is the\n",
        "equilibrium climate sensitivity (the uncertain equilibrium temperature\n",
        "change resulting from a doubling of atmospheric CO<sub>2</sub>).\n",
        "Finally, while total radiative forcing can be the result of non-aerosol\n",
        "and aerosol effects, we do not know the relative intensity of aerosol\n",
        "forcing, so we represent this with an uncertain aerosol scaling factor\n",
        "$\\alpha$.\n",
        "\n",
        "We can implement this model with the following Julia function. We will\n",
        "assume an ocean mixing depth $d = 100$ m and an aerosol scaling factor\n",
        "$\\alpha = 1.3$ so we can focus on the uncertainty in $S$.\n",
        "\n",
        "The last technical concern is that “global mean temperature” does not\n",
        "make sense in absolute terms as a marker of climate change. Instead, we\n",
        "typically refer to temperature changes relative to some historical\n",
        "pre-industrial baseline. In this case, we will use the period from\n",
        "1880-1900, though this choice can vary."
      ],
      "id": "1cf7c3b4-32d2-492b-a718-b088653ddaca"
    },
    {
      "cell_type": "code",
      "execution_count": 3,
      "metadata": {},
      "outputs": [
        {
          "output_type": "display_data",
          "metadata": {},
          "data": {
            "text/plain": [
              "energy_balance_model (generic function with 1 method)"
            ]
          }
        }
      ],
      "source": [
        "# we need to split up the aerosol and non-aerosol forcings when we call the function\n",
        "function energy_balance_model(S, forcing_aerosol, forcing_non_aerosol)\n",
        "    d = 100 # ocean mixing depth [m]\n",
        "    α = 1.3 # aerosol scaling factor\n",
        "    F2xCO₂ = 4.0 # radiative forcing [W/m²] for a doubling of CO₂\n",
        "    λ = F2xCO₂/S\n",
        "    \n",
        "    c = 4.184e6 # heat capacity/area [J/K/m²]\n",
        "    C = c*d # heat capacity of mixed layer (per area)\n",
        "\n",
        "    F = forcing_non_aerosol + α*forcing_aerosol # radiative forcing\n",
        "\n",
        "    Δt = 31558152.0 # annual timestep [s]\n",
        "    \n",
        "    T = zero(F)\n",
        "    for i in 1:length(F)-1\n",
        "        T[i+1] = T[i] + (F[i] - λ*T[i])/C * Δt\n",
        "    end\n",
        "    # return temperature anomaly relative to 1880-1900 baseline\n",
        "    return T .- mean(T[1:21]) \n",
        "end"
      ],
      "id": "eb30bc68"
    },
    {
      "cell_type": "markdown",
      "metadata": {},
      "source": [
        "Finally, we need to load some radiative forcing data. We will use the\n",
        "radiative forcing scenario RCP 8.5. We can load this data, which is in a\n",
        "`.csv` (comma-delimited) file, into a `DataFrame`, which is a tabular\n",
        "data structure. Rows and columns in a `DataFrame` can be accessed using\n",
        "their numerical index (like a matrix), but columns also have names; you\n",
        "can access a particular column in a dataframe `df` by name using\n",
        "`df.colname` or `df[:, \"colname\"]`.\n",
        "\n",
        "Of note: this data set goes from 1750–2500, so you will need to take\n",
        "care to make sure you are using the right years at each step. For\n",
        "example, here we will constrain the data to 1880–2100, which is the\n",
        "period we are interested in."
      ],
      "id": "6a376cb1-b5c9-48b3-a7ef-a86fa6bcc90d"
    },
    {
      "cell_type": "code",
      "execution_count": 4,
      "metadata": {},
      "outputs": [
        {
          "output_type": "display_data",
          "metadata": {},
          "data": {
            "text/plain": [
              "221-element Vector{Float64}:\n",
              "  0.42741479112315905\n",
              "  0.4487940147601447\n",
              "  0.4900144276528058\n",
              " -0.019811270078689047\n",
              " -1.480725700367619\n",
              " -0.3154905163510021\n",
              "  0.233186559774844\n",
              "  0.2923308952663089\n",
              "  0.45833872365810924\n",
              "  0.5168189581089915\n",
              "  0.4144761329626494\n",
              "  0.2762327724171124\n",
              "  0.48656957869238376\n",
              "  ⋮\n",
              "  9.560222650653953\n",
              "  9.671039126229665\n",
              "  9.772610821460296\n",
              "  9.879065698371564\n",
              "  9.946850640754889\n",
              " 10.002169546141578\n",
              " 10.061009359425011\n",
              " 10.115684195707905\n",
              " 10.182946497594184\n",
              " 10.249699157847772\n",
              " 10.331407709334023\n",
              " 10.424544495740134"
            ]
          }
        }
      ],
      "source": [
        "# The CSV is read into a DataFrame object, and we specify that it is comma delimited\n",
        "forcings_all_85 = CSV.read(\"data/ERF_ssp585_1750-2500.csv\", DataFrame, delim=\",\")\n",
        "\n",
        "# get the years corresponding to the forcings\n",
        "t = Int64.(forcings_all_85[!,\"year\"]) # Ensure that years are interpreted as integers\n",
        "# find the indices of the years 1880 and 2100\n",
        "# we can do this with the indexin function\n",
        "time_bounds = indexin([1880, 2100], t)\n",
        "years = time_bounds[1]:time_bounds[2] # create range of years\n",
        "\n",
        "# Separate out the individual components\n",
        "forcing_co2_85 = forcings_all_85[years,\"co2\"]\n",
        "# Get total aerosol and non-aerosol forcings\n",
        "forcing_aerosol_rad_85 = forcings_all_85[years,\"aerosol-radiation_interactions\"]\n",
        "forcing_aerosol_cloud_85 = forcings_all_85[years,\"aerosol-cloud_interactions\"]\n",
        "forcing_aerosol_85 = forcing_aerosol_rad_85 + forcing_aerosol_cloud_85 # aerosol forcings\n",
        "forcing_total_85 = forcings_all_85[years,\"total\"] \n",
        "forcing_non_aerosol_85 = forcing_total_85 - forcing_aerosol_85 # non-aerosol forcings"
      ],
      "id": "5fc3f72d"
    },
    {
      "cell_type": "markdown",
      "metadata": {},
      "source": [
        "For this assignment, you can use the `forcing_aerosol_85` and\n",
        "`forcing_non_aerosol_85` vectors as is to correspond to the relevant\n",
        "forcings. You will need to use the vector `t` to find the appropriate\n",
        "years for analysis."
      ],
      "id": "579ae064-2ea8-480c-843f-35e1b3299559"
    },
    {
      "cell_type": "markdown",
      "metadata": {},
      "source": [
        "#### Problem 1.1 (3 points)\n",
        "\n",
        "Assume that $S$ is distributed according to\n",
        "$\\text{LogNormal}(\\log(3.2), \\log{2}/3)$ (as in class). Draw 10,000\n",
        "samples from this distribution and make a histogram."
      ],
      "id": "13f17ec6-9141-4e34-a550-b02c311b2eb3"
    },
    {
      "cell_type": "markdown",
      "metadata": {},
      "source": [
        "#### Problem 1.2 (5 points)\n",
        "\n",
        "Use the EBM to propagate your samples of $S$ to a distribution of global\n",
        "mean temperature. Plot the median and 90% predictive distribution\n",
        "(between the .05 and .95 quantiles) from 1880-2100."
      ],
      "id": "104c4887-9734-4eac-8f13-dae3cbfec9cf"
    },
    {
      "cell_type": "markdown",
      "metadata": {},
      "source": [
        "#### Problem 1.3 (4 points)\n",
        "\n",
        "Make a histogram of global mean temperature projections in 2100. If you\n",
        "compare this distribution to the distribution of $S$ from Problem 1.1,\n",
        "what do you observe?"
      ],
      "id": "b51cb3fe-5159-4b81-ad41-0c85af22f115"
    },
    {
      "cell_type": "markdown",
      "metadata": {},
      "source": [
        "### Problem 2 (15 points)\n",
        "\n",
        "Changes to global temperatures cause changes in global sea levels\n",
        "through several mechanisms, including thermal expansion (the change in\n",
        "ocean volume due to increased heat content) and melting land-based ice.\n",
        "One simple way to represent this link is through the following model,\n",
        "proposed by [Rahmstorf (2007)](https://doi.org/10.1126/science.1135456).\n",
        "\n",
        "$$\\frac{dH}{dt} = a(T-T_0),$$\n",
        "\n",
        "where $H$ is the global mean sea level in mm, $T$ is global mean\n",
        "temperature, $T_0$ is an equilibrium temperature (where there is no\n",
        "change in sea levels), and $a$ is a proportionality constant. This model\n",
        "can be discretized to give $$H_{i+1} - H_i = a (T_i - T_0).$$\n",
        "\n",
        "Note that, like with global mean temperature, the notion of “global mean\n",
        "sea level” does not make sense in absolute terms (were sea levels ever\n",
        "at “zero”?). Instead, we want to normalize this relative to some\n",
        "historical baseline. In this case (with a view towards Problem 3), we\n",
        "will compute our sea levels relative to the 2010 sea level. Note that in\n",
        "addition to the model parameters, we also need an initial sea-level\n",
        "parameter $H_0$ which will give us the right anomaly level.\n",
        "\n",
        "The best estimates for these parameters are:\n",
        "\n",
        "-   $a = 1.86$;\n",
        "-   $H_0 = -223$;\n",
        "-   $T_0 = -0.62$"
      ],
      "id": "cdb44e12-0574-4e17-bbfc-d193c412ee5d"
    },
    {
      "cell_type": "markdown",
      "metadata": {},
      "source": [
        "#### Problem 2.1 (5 points)\n",
        "\n",
        "Write a function `sea_level_model()` to implement the mathematical\n",
        "sea-level rise model described above. It should take in needed\n",
        "parameters and a vector of temperatures and return a vector of sea\n",
        "levels. To test your function, use the provided temperature series\n",
        "`historical_temps` (read in below) to compute the global mean sea level\n",
        "anomaly in 2022 (the last year of the dataset) with the parameter values\n",
        "above; you should get a value of approximately 43mm."
      ],
      "id": "d0fd5e17-3660-49dd-9a59-a78141091c37"
    },
    {
      "cell_type": "code",
      "execution_count": 5,
      "metadata": {},
      "outputs": [
        {
          "output_type": "display_data",
          "metadata": {},
          "data": {
            "text/plain": [
              "143-element Vector{Float64}:\n",
              "  0.07297116761904765\n",
              "  0.15655772761904765\n",
              "  0.09327316761904769\n",
              "  0.04232884761904765\n",
              " -0.10351681238095234\n",
              " -0.08232033238095232\n",
              " -0.03210037238095231\n",
              " -0.10998251238095236\n",
              "  0.00942435761904764\n",
              "  0.13890768761904768\n",
              " -0.11805492238095233\n",
              " -0.012511692380952344\n",
              " -0.11875525238095236\n",
              "  ⋮\n",
              "  0.9265009776190476\n",
              "  0.9664103476190478\n",
              "  1.0123786476190477\n",
              "  1.0616748976190478\n",
              "  1.2139176176190476\n",
              "  1.3217303776190477\n",
              "  1.2339774976190476\n",
              "  1.1514572476190477\n",
              "  1.2798758476190477\n",
              "  1.3115970476190477\n",
              "  1.1506591476190478\n",
              "  1.1896871476190476"
            ]
          }
        }
      ],
      "source": [
        "historical_temp_data = CSV.read(\"data/HadCRUT.5.0.1.0.analysis.summary_series.global.annual.csv\", DataFrame, delim=\",\")\n",
        "# column 2 is the temperature anomaly, column 1 is the year\n",
        "temp_bds = indexin([1880, 1900], historical_temp_data[!, 1]) # find the index of 2010 for normalization\n",
        "historical_temp_data[:, 2] .-= mean(historical_temp_data[temp_bds[1]:temp_bds[2], 2])\n",
        "historical_temps = historical_temp_data[temp_bds[1]:end, 2]"
      ],
      "id": "a3260d28"
    },
    {
      "cell_type": "markdown",
      "metadata": {},
      "source": [
        "#### Problem 2.2 (5 points)\n",
        "\n",
        "Evaluate `sea_level_model()` using the projected temperature ensemble\n",
        "from Problem 1. Plot the 90% projection interval of the sea levels."
      ],
      "id": "365ccf3d-aa84-4aea-a8b2-5d9b15652ef2"
    },
    {
      "cell_type": "markdown",
      "metadata": {},
      "source": [
        "#### Problem 2.3 (5 points)\n",
        "\n",
        "Make a histogram of the sea-level anomaly in 2100. What can you observe\n",
        "about how the ECS uncertainty has impacted sea-level uncertainty under\n",
        "this radiative forcing scenario? What might the implications be of only\n",
        "using the best-estimate ECS value?"
      ],
      "id": "ed94c9d7-4981-473b-96ea-c0a66e469e73"
    },
    {
      "cell_type": "markdown",
      "metadata": {},
      "source": [
        "### Problem 3 (13 points)\n",
        "\n",
        "You’ve been asked to consult on a levee reliability analysis. For\n",
        "context, levees in the United States are supposed to only fail once in\n",
        "100 years, or, in other words, to have at most a 1% chance of failure in\n",
        "a given year. We will assume for this problem that the only way in which\n",
        "a levee fails is by being overtopped (note: this is unrealistic).\n",
        "\n",
        "We can assess the probability of levee overtopping by comparing its\n",
        "height to a distribution of extreme sea levels. A common approach is to\n",
        "look at the distribution of the highest sea level each year. These\n",
        "extreme sea levels can be obtained by combining the absolute sea level\n",
        "(we will use our distribution of global sea levels for this), the rate\n",
        "of subsidence (how much the ground sinks), and the distribution of storm\n",
        "tides (the highest tide level, which is often the result of storm surges\n",
        "combining with high tide).\n",
        "\n",
        "Assume for this problem that:\n",
        "\n",
        "1.  the annual rate of subsidence $\\nu$ is 1.2mm/yr;\n",
        "2.  the distribution of annual storm tide maxima, above the mean sea\n",
        "    level, is (and is expected to continue to be) given by a\n",
        "    $\\text{GeneralizedExtremeValue}(900, 25, 0.3)$ distribution, which\n",
        "    looks like this:"
      ],
      "id": "40a77392-32dd-4a48-aebf-a3188663c0a9"
    },
    {
      "cell_type": "code",
      "execution_count": 6,
      "metadata": {},
      "outputs": [
        {
          "output_type": "display_data",
          "metadata": {},
          "data": {
            "text/html": [
              "<img src=\"data:image/png;base64,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\" />"
            ]
          }
        }
      ],
      "source": [
        "tide_distribution = GeneralizedExtremeValue(900, 25, 0.3)\n",
        "    histogram(rand(tide_distribution, 10000), xlabel=\"Storm Tide Height (mm)\", ylabel=\"Count\", legend=:false)"
      ],
      "id": "cc9e8fd8"
    },
    {
      "cell_type": "markdown",
      "metadata": {},
      "source": [
        "Feel free to just sample from `tide_distribution` in your solution\n",
        "below."
      ],
      "id": "676219d6-b895-4c7c-b2a9-95eec0d839bc"
    },
    {
      "cell_type": "markdown",
      "metadata": {},
      "source": [
        "#### Problem 3.1 (2 points)\n",
        "\n",
        "How would you use your sea-level simulations and the above information\n",
        "to compute a distribution of extreme sea levels in 2100 relative to 2010\n",
        "mean sea level? Write down the approach in clear steps, with equations\n",
        "as needed."
      ],
      "id": "4b711891-b2e3-46aa-9775-93656b42f3e9"
    },
    {
      "cell_type": "markdown",
      "metadata": {},
      "source": [
        "#### Problem 3.2 (3 points)\n",
        "\n",
        "Follow the steps above and produce a histogram of the extreme sea levels\n",
        "in 2100 relative to 2010."
      ],
      "id": "fa986464-30b0-471a-b053-2600444b7d9b"
    },
    {
      "cell_type": "markdown",
      "metadata": {},
      "source": [
        "#### Problem 3.3 (5 points)\n",
        "\n",
        "The current levee was heightened in 2010 to 2m above the 2010 mean sea\n",
        "level. Based on your analysis above, what is the probability that the\n",
        "levee will be overtopped in 2100 (remember that the reliability standard\n",
        "is 1%)?"
      ],
      "id": "dccdef2c-5e8f-4fbd-ad39-95e192249abc"
    },
    {
      "cell_type": "markdown",
      "metadata": {},
      "source": [
        "#### Problem 3.4 (3 points)\n",
        "\n",
        "Based on your analysis, would you recommend that the levee be heightened\n",
        "again in the future, and if so, how high? What other information might\n",
        "you need, if any, to make your recommendation?"
      ],
      "id": "ab201d42-7032-497b-ad2c-62fd6449dda8"
    },
    {
      "cell_type": "markdown",
      "metadata": {},
      "source": [
        "## References\n",
        "\n",
        "List any external references consulted, including classmates."
      ],
      "id": "16fc23dc-5907-4a5a-bc27-c37bb86119e6"
    }
  ],
  "nbformat": 4,
  "nbformat_minor": 5,
  "metadata": {
    "kernelspec": {
      "name": "julia-1.9",
      "display_name": "Julia 1.9.2",
      "language": "julia"
    },
    "language_info": {
      "name": "julia",
      "file_extension": ".jl",
      "mimetype": "application/julia",
      "version": "1.9.2"
    }
  }
}