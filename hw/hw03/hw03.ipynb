{
  "cells": [
    {
      "cell_type": "markdown",
      "metadata": {},
      "source": [
        "# BEE 4750 Homework 3: Dissolved Oxygen and Monte Carlo\n",
        "\n",
        "**Name**:\n",
        "\n",
        "**ID**:\n",
        "\n",
        "> **Due Date**\n",
        ">\n",
        "> Thursday, 10/03/23, 9:00pm\n",
        "\n",
        "## Overview\n",
        "\n",
        "### Instructions\n",
        "\n",
        "-   Problem 1 asks you to implement a model for dissolved oxygen in a\n",
        "    river with multiple waste releases and use this to develop a\n",
        "    strategy to ensure regulatory compliance.\n",
        "-   Problem 2 asks you to use Monte Carlo simulation to assess how well\n",
        "    your strategy from Problem 1 performs under uncertainty.\n",
        "-   Problem 3 (5750 only) asks you to identify where a third discharge\n",
        "    should be placed to maintain regulatory compliance.\n",
        "\n",
        "### Load Environment\n",
        "\n",
        "The following code loads the environment and makes sure all needed\n",
        "packages are installed. This should be at the start of most Julia\n",
        "scripts."
      ],
      "id": "310a1b44-6ee5-4114-9b8b-675d7a69088e"
    },
    {
      "cell_type": "code",
      "execution_count": 1,
      "metadata": {},
      "outputs": [],
      "source": [
        "import Pkg\n",
        "Pkg.activate(@__DIR__)\n",
        "Pkg.instantiate()"
      ],
      "id": "2"
    },
    {
      "cell_type": "code",
      "execution_count": 1,
      "metadata": {},
      "outputs": [],
      "source": [
        "using Random\n",
        "using Plots\n",
        "using LaTeXStrings\n",
        "using Distributions"
      ],
      "id": "4"
    },
    {
      "cell_type": "markdown",
      "metadata": {},
      "source": [
        "## Problems (Total: 50/60 Points)"
      ],
      "id": "e0034ef5-8263-4eae-84d6-8248cc6669ce"
    },
    {
      "cell_type": "markdown",
      "metadata": {},
      "source": [
        "### Problem 1 (30 points)\n",
        "\n",
        "A river which flows at 6 km/d is receiving waste discharges from two\n",
        "sources which are 15 km apart. The oxygen reaeration rate is 0.55\n",
        "day<sup>-1</sup>, and the decay rates of CBOD and NBOD are are 0.35 and\n",
        "0.25 day<sup>-1</sup>, respectively. The river’s saturated dissolved\n",
        "oxygen concentration is 10m g/L.\n",
        "\n",
        "If the characteristics of the river inflow and waste discharges are\n",
        "given in <a href=\"#tbl-river\" class=\"quarto-xref\">Table 1</a>, write a\n",
        "Julia model to compute the dissolved oxygen concentration from the first\n",
        "wastewater discharge to an arbitrary distance `d` km downstream. Use\n",
        "your model to compute the maximum dissolved oxygen concentration up to\n",
        "50km downstream and how far downriver this maximum occurs.\n",
        "\n",
        "| Parameter | River Inflow | Waste Stream 1 | Waste Stream 2 |\n",
        "|:--:|---:|---:|---:|\n",
        "| Inflow | 100,000 m<sup>3</sup>/d | 10,000 m<sup>3</sup>/d | 15,000 m<sup>3</sup>/d |\n",
        "| DO Concentration | 7.5 mg/L | 5 mg/L | 5 mg/L |\n",
        "| CBOD | 5 mg/L | 50 mg/L | 45 mg/L |\n",
        "| NBOD | 5 mg/L | 35 mg/L | 35 mg/L |\n",
        "\n",
        "Table 1: River inflow and waste stream characteristics for Problem 1.\n",
        "\n",
        "**In this problem**:\n",
        "\n",
        "-   Plot the dissolved oxygen concentration from the first waste stream\n",
        "    to 50m downriver. What is the minimum value in mg/L?\n",
        "-   What is the minimum level of treatment (% removal of organic waste)\n",
        "    for waste stream 1 that will ensure that the dissolved oxygen\n",
        "    concentration never drops below 4 mg/L, assuming that waste stream 2\n",
        "    remains untreated? How about if only waste stream 2 is treated?\n",
        "-   Suppose you are responsible for designing a waste treatment plan for\n",
        "    discharges into the river, with a regulatory mandate to keep the\n",
        "    dissolved oxygen concentration above 4 mg/L. Discuss whether you’d\n",
        "    opt to treat waste stream 2 alone or both waste streams equally.\n",
        "    What other information might you need to make a conclusion, if any?"
      ],
      "id": "9d17e28a-0e1c-4f2e-8c79-4b331c1e367f"
    },
    {
      "cell_type": "markdown",
      "metadata": {},
      "source": [
        "### Problem 2 (20 points)\n",
        "\n",
        "A coastal community has a 3.0m tall levee (relative to present-day mean\n",
        "sea level). From analyzing tide gauge records, you determine that the\n",
        "annual maximum water levels (in m) follow a [Generalized Extreme Value\n",
        "distribution](https://juliastats.org/Distributions.jl/stable/univariate/#Distributions.GeneralizedExtremeValue)\n",
        "with parameters $\\text{GEV}(1.5, 0.2, 0.1)$. The target levee\n",
        "reliability standard is a 1% probability of overtopping (extreme water\n",
        "levels exceeding the levee height).\n",
        "\n",
        "**In this problem**:\n",
        "\n",
        "-   Use Monte Carlo simulation to estimate the present-day reliability\n",
        "    of the levee along with a 95% confidence interval for the\n",
        "    reliability estimate. Does it comply with the reliability standard?\n",
        "    How many samples did you need to determine that?\n",
        "-   Over the lifetime of the levee, mean local sea levels are\n",
        "    anticipated to rise by $0.3\\mathrm{m}$ with a standard deviation of\n",
        "    $0.2\\mathrm{m}$. How does this impact the future reliability of the\n",
        "    levee? Discuss how the sea-level uncertainty impacts the uncertainty\n",
        "    of your Monte Carlo estimate."
      ],
      "id": "afbf7752-2108-4f71-b992-0f6d0de055d8"
    },
    {
      "cell_type": "markdown",
      "metadata": {},
      "source": [
        "### Problem 3 (10 points)\n",
        "\n",
        "**This problem is only required for students in BEE 5750**.\n",
        "\n",
        "A factory is planning a third wastewater discharge into the river\n",
        "downstream of the second plant. This discharge would consist of 5\n",
        "m<sup>3</sup>/day of wastewater with a dissolved oxygen content of 4.5\n",
        "mg/L and CBOD and NBOD levels of 50 and 45 mg/L, respectively.\n",
        "\n",
        "**In this problem**:\n",
        "\n",
        "-   Assume that the treatment plan you identified in Problem 1 is still\n",
        "    in place for the existing discharges. If the third discharge will\n",
        "    not be treated, under the original inflow conditions (7.5 mg/L DO),\n",
        "    how far downstream from the second discharge does this third\n",
        "    discharge need to be placed to keep the river concentration from\n",
        "    dropping below 4 mg/L?"
      ],
      "id": "ae7c6322-5f6d-457d-b6f3-1f128a2cff61"
    },
    {
      "cell_type": "markdown",
      "metadata": {},
      "source": [
        "## References\n",
        "\n",
        "List any external references consulted, including classmates."
      ],
      "id": "8adf0e71-cfd4-419a-82ae-f7b278294979"
    }
  ],
  "nbformat": 4,
  "nbformat_minor": 5,
  "metadata": {
    "kernel_info": {
      "name": "julia"
    },
    "kernelspec": {
      "name": "julia",
      "display_name": "Julia",
      "language": "julia"
    },
    "language_info": {
      "name": "julia",
      "codemirror_mode": "julia",
      "version": "1.10.4"
    }
  }
}