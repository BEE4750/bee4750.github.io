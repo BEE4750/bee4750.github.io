{
  "cells": [
    {
      "cell_type": "markdown",
      "metadata": {},
      "source": [
        "# BEE 4750 Homework 3: Uncertain Sea-Level Rise and Levee Reliability\n",
        "\n",
        "**Name**:\n",
        "\n",
        "**ID**:\n",
        "\n",
        "> **Due Date**\n",
        ">\n",
        "> Friday, 10/06/23, 9:00pm\n",
        "\n",
        "## Overview\n",
        "\n",
        "### Instructions\n",
        "\n",
        "This assignment asks you to conduct a Monte Carlo analysis of levee\n",
        "reliability in the face of uncertain changes to local sea levels. You\n",
        "will propagate uncertainty in equilibrium climate sensitivity through\n",
        "the energy balance model to obtain a distribution of temperatures, which\n",
        "will then drive a model of sea-level rise. You will finally use this\n",
        "distribution to assess the probability that a planned levee will achieve\n",
        "its desired reliability standard.\n",
        "\n",
        "### Load Environment\n",
        "\n",
        "The following code loads the environment and makes sure all needed\n",
        "packages are installed. This should be at the start of most Julia\n",
        "scripts."
      ],
      "id": "b2be95e3-5459-415e-9add-89f54e0591bf"
    },
    {
      "cell_type": "code",
      "execution_count": 1,
      "metadata": {},
      "outputs": [],
      "source": [
        "import Pkg\n",
        "Pkg.activate(@__DIR__)\n",
        "Pkg.instantiate()"
      ],
      "id": "1722ed35"
    },
    {
      "cell_type": "code",
      "execution_count": 2,
      "metadata": {},
      "outputs": [],
      "source": [
        "using Random\n",
        "using Plots\n",
        "using LaTeXStrings\n",
        "using Distributions\n",
        "using CSV\n",
        "using DataFrames"
      ],
      "id": "5deef8cc"
    },
    {
      "cell_type": "markdown",
      "metadata": {},
      "source": [
        "## Problems (Total: 40 Points)"
      ],
      "id": "a1c835e7-ca3a-42aa-a872-290704e4a55a"
    },
    {
      "cell_type": "markdown",
      "metadata": {},
      "source": [
        "### Problem 1 (12 points)\n",
        "\n",
        "Recall from class that the simple energy balance model (EBM) of\n",
        "planetary energy balance links changes in radiative forcing ($F$) to\n",
        "global mean temperature ($T$) changes through the discretized equation\n",
        "$$T_{i+1} = T_{i} + \\frac{F_i - \\lambda T_i}{cd} \\times \\Delta t,$$\n",
        "where $i$ is the current time step, $c = 4.184 \\times 10^6$\n",
        "J/K/m<sup>2</sup> is the heat capacity of water per unit area, $d$ is\n",
        "the (uncertain) depth of the mixing layer, $\\Delta t$ is the annual time\n",
        "step in seconds and $\\lambda = F_{\\text{2xCO}_2}/S$ is the climate\n",
        "feedback parameter in W/m<sup>2</sup>/$^\\circ$ C, where $S$ is the\n",
        "equilibrium climate sensitivity (the uncertain equilibrium temperature\n",
        "change resulting from a doubling of atmospheric CO<sub>2</sub>).\n",
        "Finally, while total radiative forcing can be the result of non-aerosol\n",
        "and aerosol effects, we do not know the relative intensity of aerosol\n",
        "forcing, so we represent this with an uncertain aerosol scaling factor\n",
        "$\\alpha$.\n",
        "\n",
        "We can implement this model with the following Julia function. We will\n",
        "assume an ocean mixing depth $d = 100$ m and an aerosol scaling factor\n",
        "$\\alpha = 1.3$ so we can focus on the uncertainty in $S$.\n",
        "\n",
        "The last technical concern is that “global mean temperature” does not\n",
        "make sense in absolute terms as a marker of climate change. Instead, we\n",
        "typically refer to temperature changes relative to some historical\n",
        "pre-industrial baseline. In this case, we will use the period from\n",
        "1880-1900, though this choice can vary."
      ],
      "id": "53a0842e-16f9-4215-86de-dc764d1571b1"
    },
    {
      "cell_type": "code",
      "execution_count": 3,
      "metadata": {},
      "outputs": [
        {
          "output_type": "display_data",
          "metadata": {},
          "data": {
            "text/plain": [
              "energy_balance_model (generic function with 1 method)"
            ]
          }
        }
      ],
      "source": [
        "# we need to split up the aerosol and non-aerosol forcings when we call the function\n",
        "function energy_balance_model(S, forcing_aerosol, forcing_non_aerosol)\n",
        "    d = 100 # ocean mixing depth [m]\n",
        "    α = 1.3 # aerosol scaling factor\n",
        "    F2xCO₂ = 4.0 # radiative forcing [W/m²] for a doubling of CO₂\n",
        "    λ = F2xCO₂/S\n",
        "    \n",
        "    c = 4.184e6 # heat capacity/area [J/K/m²]\n",
        "    C = c*d # heat capacity of mixed layer (per area)\n",
        "\n",
        "    F = forcing_non_aerosol + α*forcing_aerosol # radiative forcing\n",
        "\n",
        "    Δt = 31558152.0 # annual timestep [s]\n",
        "    \n",
        "    T = zero(F)\n",
        "    for i in 1:length(F)-1\n",
        "        T[i+1] = T[i] + (F[i] - λ*T[i])/C * Δt\n",
        "    end\n",
        "    # return temperature anomaly relative to 1880-1900 baseline\n",
        "    return T .- mean(T[1:21]) \n",
        "end"
      ],
      "id": "48126446"
    },
    {
      "cell_type": "markdown",
      "metadata": {},
      "source": [
        "Finally, we need to load some radiative forcing data. We will use the\n",
        "radiative forcing scenario RCP 8.5. We can load this data, which is in a\n",
        "`.csv` (comma-delimited) file, into a `DataFrame`, which is a tabular\n",
        "data structure. Rows and columns in a `DataFrame` can be accessed using\n",
        "their numerical index (like a matrix), but columns also have names; you\n",
        "can access a particular column in a dataframe `df` by name using\n",
        "`df.colname` or `df[:, \"colname\"]`.\n",
        "\n",
        "Of note: this data set goes from 1750–2500, so you will need to take\n",
        "care to make sure you are using the right years at each step. For\n",
        "example, here we will constrain the data to 1880–2100, which is the\n",
        "period we are interested in."
      ],
      "id": "364dee25-a09e-4e51-81a0-cba923c43832"
    },
    {
      "cell_type": "code",
      "execution_count": 4,
      "metadata": {},
      "outputs": [
        {
          "output_type": "display_data",
          "metadata": {},
          "data": {
            "text/plain": [
              "221-element Vector{Float64}:\n",
              "  0.42741479112315905\n",
              "  0.4487940147601447\n",
              "  0.4900144276528058\n",
              " -0.019811270078689047\n",
              " -1.480725700367619\n",
              " -0.3154905163510021\n",
              "  0.233186559774844\n",
              "  0.2923308952663089\n",
              "  0.45833872365810924\n",
              "  0.5168189581089915\n",
              "  0.4144761329626494\n",
              "  0.2762327724171124\n",
              "  0.48656957869238376\n",
              "  ⋮\n",
              "  9.560222650653953\n",
              "  9.671039126229665\n",
              "  9.772610821460296\n",
              "  9.879065698371564\n",
              "  9.946850640754889\n",
              " 10.002169546141578\n",
              " 10.061009359425011\n",
              " 10.115684195707905\n",
              " 10.182946497594184\n",
              " 10.249699157847772\n",
              " 10.331407709334023\n",
              " 10.424544495740134"
            ]
          }
        }
      ],
      "source": [
        "# The CSV is read into a DataFrame object, and we specify that it is comma delimited\n",
        "forcings_all_85 = CSV.read(\"data/ERF_ssp585_1750-2500.csv\", DataFrame, delim=\",\")\n",
        "\n",
        "# get the years corresponding to the forcings\n",
        "t = Int64.(forcings_all_85[!,\"year\"]) # Ensure that years are interpreted as integers\n",
        "# find the indices of the years 1880 and 2100\n",
        "# we can do this with the indexin function\n",
        "time_bounds = indexin([1880, 2100], t)\n",
        "years = time_bounds[1]:time_bounds[2] # create range of years\n",
        "\n",
        "# Separate out the individual components\n",
        "forcing_co2_85 = forcings_all_85[years,\"co2\"]\n",
        "# Get total aerosol and non-aerosol forcings\n",
        "forcing_aerosol_rad_85 = forcings_all_85[years,\"aerosol-radiation_interactions\"]\n",
        "forcing_aerosol_cloud_85 = forcings_all_85[years,\"aerosol-cloud_interactions\"]\n",
        "forcing_aerosol_85 = forcing_aerosol_rad_85 + forcing_aerosol_cloud_85 # aerosol forcings\n",
        "forcing_total_85 = forcings_all_85[years,\"total\"] \n",
        "forcing_non_aerosol_85 = forcing_total_85 - forcing_aerosol_85 # non-aerosol forcings"
      ],
      "id": "5ca90ace"
    },
    {
      "cell_type": "markdown",
      "metadata": {},
      "source": [
        "For this assignment, you can use the `forcing_aerosol_85` and\n",
        "`forcing_non_aerosol_85` vectors as is to correspond to the relevant\n",
        "forcings. You will need to use the vector `t` to find the appropriate\n",
        "years for analysis."
      ],
      "id": "912f5eaf-a54d-46e2-ae25-4e2059646ed1"
    },
    {
      "cell_type": "markdown",
      "metadata": {},
      "source": [
        "#### Problem 1.1 (3 points)\n",
        "\n",
        "Assume that $S$ is distributed according to\n",
        "$\\text{LogNormal}(\\log(3.2), \\log{2}/3)$ (as in class). Draw 10,000\n",
        "samples from this distribution and make a histogram."
      ],
      "id": "f877cbcd-64b9-4966-9282-5f8aaeb9fcde"
    },
    {
      "cell_type": "markdown",
      "metadata": {},
      "source": [
        "#### Problem 1.2 (5 points)\n",
        "\n",
        "Use the EBM to propagate your samples of $S$ to a distribution of global\n",
        "mean temperature. Plot the median and 90% predictive distribution\n",
        "(between the .05 and .95 quantiles) from 1880-2100."
      ],
      "id": "4df37835-d443-4847-bee2-df3183f75ea4"
    },
    {
      "cell_type": "markdown",
      "metadata": {},
      "source": [
        "#### Problem 1.3 (4 points)\n",
        "\n",
        "Make a histogram of global mean temperature projections in 2100. If you\n",
        "compare this distribution to the distribution of $S$ from Problem 1.1,\n",
        "what do you observe?"
      ],
      "id": "81add1af-15ea-442c-b07d-f9632d22ce15"
    },
    {
      "cell_type": "markdown",
      "metadata": {},
      "source": [
        "### Problem 2 (15 points)\n",
        "\n",
        "Changes to global temperatures cause changes in global sea levels\n",
        "through several mechanisms, including thermal expansion (the change in\n",
        "ocean volume due to increased heat content) and melting land-based ice.\n",
        "One simple way to represent this link is through the following model,\n",
        "proposed by [Rahmstorf (2007)](https://doi.org/10.1126/science.1135456).\n",
        "\n",
        "$$\\frac{dH}{dt} = a(T-T_0),$$\n",
        "\n",
        "where $H$ is the global mean sea level in mm, $T$ is global mean\n",
        "temperature, $T_0$ is an equilibrium temperature (where there is no\n",
        "change in sea levels), and $a$ is a proportionality constant. This model\n",
        "can be discretized to give $$H_{i+1} - H_i = a (T_i - T_0).$$\n",
        "\n",
        "Note that, like with global mean temperature, the notion of “global mean\n",
        "sea level” does not make sense in absolute terms (were sea levels ever\n",
        "at “zero”?). Instead, we want to normalize this relative to some\n",
        "historical baseline. In this case (with a view towards Problem 3), we\n",
        "will compute our sea levels relative to the 2010 sea level. Note that in\n",
        "addition to the model parameters, we also need an initial sea-level\n",
        "parameter $H_0$ which will give us the right anomaly level.\n",
        "\n",
        "The best estimates for these parameters are:\n",
        "\n",
        "-   $a = 1.86$;\n",
        "-   $H_0 = -223$;\n",
        "-   $T_0 = -0.62$"
      ],
      "id": "d511ea8c-12ac-449d-997e-04f6663bdd90"
    },
    {
      "cell_type": "markdown",
      "metadata": {},
      "source": [
        "#### Problem 2.1 (5 points)\n",
        "\n",
        "Write a function `sea_level_model()` to implement the mathematical\n",
        "sea-level rise model described above. It should take in needed\n",
        "parameters and a vector of temperatures and return a vector of sea\n",
        "levels. To test your function, use the provided temperature series\n",
        "`historical_temps` (read in below) to compute the global mean sea level\n",
        "anomaly in 2022 (the last year of the dataset) with the parameter values\n",
        "above; you should get a value of approximately 40mm."
      ],
      "id": "14788d26-4c5c-48f2-aa1f-05ca20b53415"
    },
    {
      "cell_type": "code",
      "execution_count": 5,
      "metadata": {},
      "outputs": [
        {
          "output_type": "display_data",
          "metadata": {},
          "data": {
            "text/plain": [
              "143-element Vector{Float64}:\n",
              "  0.07297116761904765\n",
              "  0.15655772761904765\n",
              "  0.09327316761904769\n",
              "  0.04232884761904765\n",
              " -0.10351681238095234\n",
              " -0.08232033238095232\n",
              " -0.03210037238095231\n",
              " -0.10998251238095236\n",
              "  0.00942435761904764\n",
              "  0.13890768761904768\n",
              " -0.11805492238095233\n",
              " -0.012511692380952344\n",
              " -0.11875525238095236\n",
              "  ⋮\n",
              "  0.9265009776190476\n",
              "  0.9664103476190478\n",
              "  1.0123786476190477\n",
              "  1.0616748976190478\n",
              "  1.2139176176190476\n",
              "  1.3217303776190477\n",
              "  1.2339774976190476\n",
              "  1.1514572476190477\n",
              "  1.2798758476190477\n",
              "  1.3115970476190477\n",
              "  1.1506591476190478\n",
              "  1.1896871476190476"
            ]
          }
        }
      ],
      "source": [
        "historical_temp_data = CSV.read(\"data/HadCRUT.5.0.1.0.analysis.summary_series.global.annual.csv\", DataFrame, delim=\",\")\n",
        "# column 2 is the temperature anomaly, column 1 is the year\n",
        "temp_bds = indexin([1880, 1900], historical_temp_data[!, 1]) # find the index of 2010 for normalization\n",
        "historical_temp_data[:, 2] .-= mean(historical_temp_data[temp_bds[1]:temp_bds[2], 2])\n",
        "historical_temps = historical_temp_data[temp_bds[1]:end, 2]"
      ],
      "id": "c243315a"
    },
    {
      "cell_type": "markdown",
      "metadata": {},
      "source": [
        "#### Problem 2.2 (5 points)\n",
        "\n",
        "Evaluate `sea_level_model()` using the projected temperature ensemble\n",
        "from Problem 1. Plot the 90% projection interval of the sea levels."
      ],
      "id": "1e4ee825-56e1-4624-9575-634212306e10"
    },
    {
      "cell_type": "markdown",
      "metadata": {},
      "source": [
        "#### Problem 2.3 (5 points)\n",
        "\n",
        "Make a histogram of the sea-level anomaly in 2100. What can you observe\n",
        "about how the ECS uncertainty has impacted sea-level uncertainty under\n",
        "this radiative forcing scenario? What might the implications be of only\n",
        "using the best-estimate ECS value?"
      ],
      "id": "3c547854-7cb0-44f4-be6a-a5bd9b3bee20"
    },
    {
      "cell_type": "markdown",
      "metadata": {},
      "source": [
        "### Problem 3 (13 points)\n",
        "\n",
        "You’ve been asked to consult on a levee reliability analysis. For\n",
        "context, levees in the United States are supposed to only fail once in\n",
        "100 years, or, in other words, to have at most a 1% chance of failure in\n",
        "a given year. We will assume for this problem that the only way in which\n",
        "a levee fails is by being overtopped (note: this is unrealistic).\n",
        "\n",
        "We can assess the probability of levee overtopping by comparing its\n",
        "height to a distribution of extreme sea levels. A common approach is to\n",
        "look at the distribution of the highest sea level each year. These\n",
        "extreme sea levels can be obtained by combining the absolute sea level\n",
        "(we will use our distribution of global sea levels for this), the rate\n",
        "of subsidence (how much the ground sinks), and the distribution of storm\n",
        "tides (the highest tide level, which is often the result of storm surges\n",
        "combining with high tide).\n",
        "\n",
        "Assume for this problem that:\n",
        "\n",
        "1.  the annual rate of subsidence $\\nu$ is 1.2mm/yr;\n",
        "2.  the distribution of annual storm tide maxima, above the mean sea\n",
        "    level, is (and is expected to continue to be) given by a\n",
        "    $\\text{GeneralizedExtremeValue}(900, 25, 0.3)$ distribution, which\n",
        "    looks like this:"
      ],
      "id": "28c48dcd-cec1-4ad5-a2d3-7e88e76c7385"
    },
    {
      "cell_type": "code",
      "execution_count": 6,
      "metadata": {},
      "outputs": [
        {
          "output_type": "display_data",
          "metadata": {},
          "data": {
            "text/html": [
              "<img src=\"data:image/png;base64,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\" />"
            ]
          }
        }
      ],
      "source": [
        "tide_distribution = GeneralizedExtremeValue(900, 25, 0.3)\n",
        "    histogram(rand(tide_distribution, 10000), xlabel=\"Storm Tide Height (mm)\", ylabel=\"Count\", legend=:false)"
      ],
      "id": "2787b923"
    },
    {
      "cell_type": "markdown",
      "metadata": {},
      "source": [
        "Feel free to just sample from `tide_distribution` in your solution\n",
        "below."
      ],
      "id": "e2bbc902-7951-41f5-a35c-26b9d8cece97"
    },
    {
      "cell_type": "markdown",
      "metadata": {},
      "source": [
        "#### Problem 3.1 (2 points)\n",
        "\n",
        "How would you use your sea-level simulations and the above information\n",
        "to compute a distribution of extreme sea levels in 2100 relative to 2010\n",
        "mean sea level? Write down the approach in clear steps, with equations\n",
        "as needed."
      ],
      "id": "007f6a22-4cb9-41f3-a585-d52c5a99f1b9"
    },
    {
      "cell_type": "markdown",
      "metadata": {},
      "source": [
        "#### Problem 3.2 (3 points)\n",
        "\n",
        "Follow the steps above and produce a histogram of the extreme sea levels\n",
        "in 2100 relative to 2010."
      ],
      "id": "02bdc4e0-9ef6-4af2-b25c-d24ecead1cb1"
    },
    {
      "cell_type": "markdown",
      "metadata": {},
      "source": [
        "#### Problem 3.3 (5 points)\n",
        "\n",
        "The current levee was heightened in 2010 to 2m above the 2010 mean sea\n",
        "level. Based on your analysis above, what is the probability that the\n",
        "levee will be overtopped in 2100 (remember that the reliability standard\n",
        "is 1%)?"
      ],
      "id": "b8ae70f8-6679-4b59-9fea-3b1aa6d9b3d5"
    },
    {
      "cell_type": "markdown",
      "metadata": {},
      "source": [
        "#### Problem 3.4 (3 points)\n",
        "\n",
        "Based on your analysis, would you recommend that the levee be heightened\n",
        "again in the future, and if so, how high? What other information might\n",
        "you need, if any, to make your recommendation?"
      ],
      "id": "c6b689b6-ff33-4c23-8b2b-af94f63ef433"
    },
    {
      "cell_type": "markdown",
      "metadata": {},
      "source": [
        "## References\n",
        "\n",
        "List any external references consulted, including classmates."
      ],
      "id": "1f794dc7-b507-4dfa-9d4d-b00d4757b905"
    }
  ],
  "nbformat": 4,
  "nbformat_minor": 5,
  "metadata": {
    "kernelspec": {
      "name": "julia-1.9",
      "display_name": "Julia 1.9.2",
      "language": "julia"
    },
    "language_info": {
      "name": "julia",
      "file_extension": ".jl",
      "mimetype": "application/julia",
      "version": "1.9.2"
    }
  }
}