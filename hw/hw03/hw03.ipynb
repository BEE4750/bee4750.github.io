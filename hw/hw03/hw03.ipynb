{
  "cells": [
    {
      "cell_type": "markdown",
      "metadata": {},
      "source": [
        "# BEE 4750 Homework 3: Uncertain Sea-Level Rise and Levee Reliability\n",
        "\n",
        "**Name**:\n",
        "\n",
        "**ID**:\n",
        "\n",
        "> **Due Date**\n",
        ">\n",
        "> Friday, 10/06/23, 9:00pm\n",
        "\n",
        "## Overview\n",
        "\n",
        "### Instructions\n",
        "\n",
        "This assignment asks you to conduct a Monte Carlo analysis of levee\n",
        "reliability in the face of uncertain changes to local sea levels. You\n",
        "will propagate uncertainty in equilibrium climate sensitivity through\n",
        "the energy balance model to obtain a distribution of temperatures, which\n",
        "will then drive a model of sea-level rise. You will finally use this\n",
        "distribution to assess the probability that a planned levee will achieve\n",
        "its desired reliability standard.\n",
        "\n",
        "### Load Environment\n",
        "\n",
        "The following code loads the environment and makes sure all needed\n",
        "packages are installed. This should be at the start of most Julia\n",
        "scripts."
      ],
      "id": "de6f9400-10b4-477c-b579-91948cea882c"
    },
    {
      "cell_type": "code",
      "execution_count": 1,
      "metadata": {},
      "outputs": [],
      "source": [
        "import Pkg\n",
        "Pkg.activate(@__DIR__)\n",
        "Pkg.instantiate()"
      ],
      "id": "3e1fd313"
    },
    {
      "cell_type": "code",
      "execution_count": 2,
      "metadata": {},
      "outputs": [],
      "source": [
        "using Random\n",
        "using Plots\n",
        "using LaTeXStrings\n",
        "using Distributions\n",
        "using CSV\n",
        "using DataFrames"
      ],
      "id": "9521ce01"
    },
    {
      "cell_type": "markdown",
      "metadata": {},
      "source": [
        "## Problems (Total: 40 Points)"
      ],
      "id": "94493d90-2e75-4dde-aa19-dd4f8587a1a4"
    },
    {
      "cell_type": "markdown",
      "metadata": {},
      "source": [
        "### Problem 1 (12 points)\n",
        "\n",
        "Recall from class that the simple energy balance model (EBM) of\n",
        "planetary energy balance links changes in radiative forcing ($F$) to\n",
        "global mean temperature ($T$) changes through the discretized equation\n",
        "$$T_{i+1} = T_{i} + \\frac{F_i - \\lambda T_i}{cd} \\times \\Delta t,$$\n",
        "where $i$ is the current time step, $c = 4.184 \\times 10^6$\n",
        "J/K/m<sup>2</sup> is the heat capacity of water per unit area, $d$ is\n",
        "the (uncertain) depth of the mixing layer, $\\Delta t$ is the annual time\n",
        "step in seconds and $\\lambda = F_{\\text{2xCO}_2}/S$ is the climate\n",
        "feedback parameter in W/m<sup>2</sup>/$^\\circ$ C, where $S$ is the\n",
        "equilibrium climate sensitivity (the uncertain equilibrium temperature\n",
        "change resulting from a doubling of atmospheric CO<sub>2</sub>).\n",
        "Finally, while total radiative forcing can be the result of non-aerosol\n",
        "and aerosol effects, we do not know the relative intensity of aerosol\n",
        "forcing, so we represent this with an uncertain aerosol scaling factor\n",
        "$\\alpha$.\n",
        "\n",
        "We can implement this model with the following Julia function. We will\n",
        "assume an ocean mixing depth $d = 100$ m and an aerosol scaling factor\n",
        "$\\alpha = 1.3$ so we can focus on the uncertainty in $S$.\n",
        "\n",
        "The last technical concern is that “global mean temperature” does not\n",
        "make sense in absolute terms as a marker of climate change. Instead, we\n",
        "typically refer to temperature changes relative to some historical\n",
        "pre-industrial baseline. In this case, we will use the period from\n",
        "1880-1900, though this choice can vary."
      ],
      "id": "289b4ef9-5b4c-4b8f-bcf7-a951ca27ebb2"
    },
    {
      "cell_type": "code",
      "execution_count": 3,
      "metadata": {},
      "outputs": [
        {
          "output_type": "display_data",
          "metadata": {},
          "data": {
            "text/plain": [
              "energy_balance_model (generic function with 1 method)"
            ]
          }
        }
      ],
      "source": [
        "# we need to split up the aerosol and non-aerosol forcings when we call the function\n",
        "function energy_balance_model(S, forcing_aerosol, forcing_non_aerosol)\n",
        "    d = 100 # ocean mixing depth [m]\n",
        "    α = 1.3 # aerosol scaling factor\n",
        "    F2xCO₂ = 4.0 # radiative forcing [W/m²] for a doubling of CO₂\n",
        "    λ = F2xCO₂/S\n",
        "    \n",
        "    c = 4.184e6 # heat capacity/area [J/K/m²]\n",
        "    C = c*d # heat capacity of mixed layer (per area)\n",
        "\n",
        "    F = forcing_non_aerosol + α*forcing_aerosol # radiative forcing\n",
        "\n",
        "    Δt = 31558152.0 # annual timestep [s]\n",
        "    \n",
        "    T = zero(F)\n",
        "    for i in 1:length(F)-1\n",
        "        T[i+1] = T[i] + (F[i] - λ*T[i])/C * Δt\n",
        "    end\n",
        "    # return temperature anomaly relative to 1880-1900 baseline\n",
        "    return T .- mean(T[1:21]) \n",
        "end"
      ],
      "id": "5495495b"
    },
    {
      "cell_type": "markdown",
      "metadata": {},
      "source": [
        "Finally, we need to load some radiative forcing data. We will use the\n",
        "radiative forcing scenario RCP 8.5. We can load this data, which is in a\n",
        "`.csv` (comma-delimited) file, into a `DataFrame`, which is a tabular\n",
        "data structure. Rows and columns in a `DataFrame` can be accessed using\n",
        "their numerical index (like a matrix), but columns also have names; you\n",
        "can access a particular column in a dataframe `df` by name using\n",
        "`df.colname` or `df[:, \"colname\"]`.\n",
        "\n",
        "Of note: this data set goes from 1750–2500, so you will need to take\n",
        "care to make sure you are using the right years at each step. For\n",
        "example, here we will constrain the data to 1880–2100, which is the\n",
        "period we are interested in."
      ],
      "id": "e2710d66-c758-43e2-94ac-fbdcbb36ee2d"
    },
    {
      "cell_type": "code",
      "execution_count": 4,
      "metadata": {},
      "outputs": [
        {
          "output_type": "display_data",
          "metadata": {},
          "data": {
            "text/plain": [
              "221-element Vector{Float64}:\n",
              "  0.42741479112315905\n",
              "  0.4487940147601447\n",
              "  0.4900144276528058\n",
              " -0.019811270078689047\n",
              " -1.480725700367619\n",
              " -0.3154905163510021\n",
              "  0.233186559774844\n",
              "  0.2923308952663089\n",
              "  0.45833872365810924\n",
              "  0.5168189581089915\n",
              "  0.4144761329626494\n",
              "  0.2762327724171124\n",
              "  0.48656957869238376\n",
              "  ⋮\n",
              "  9.560222650653953\n",
              "  9.671039126229665\n",
              "  9.772610821460296\n",
              "  9.879065698371564\n",
              "  9.946850640754889\n",
              " 10.002169546141578\n",
              " 10.061009359425011\n",
              " 10.115684195707905\n",
              " 10.182946497594184\n",
              " 10.249699157847772\n",
              " 10.331407709334023\n",
              " 10.424544495740134"
            ]
          }
        }
      ],
      "source": [
        "# The CSV is read into a DataFrame object, and we specify that it is comma delimited\n",
        "forcings_all_85 = CSV.read(\"data/ERF_ssp585_1750-2500.csv\", DataFrame, delim=\",\")\n",
        "\n",
        "# get the years corresponding to the forcings\n",
        "t = Int64.(forcings_all_85[!,\"year\"]) # Ensure that years are interpreted as integers\n",
        "# find the indices of the years 1880 and 2100\n",
        "# we can do this with the indexin function\n",
        "time_bounds = indexin([1880, 2100], t)\n",
        "years = time_bounds[1]:time_bounds[2] # create range of years\n",
        "\n",
        "# Separate out the individual components\n",
        "forcing_co2_85 = forcings_all_85[years,\"co2\"]\n",
        "# Get total aerosol and non-aerosol forcings\n",
        "forcing_aerosol_rad_85 = forcings_all_85[years,\"aerosol-radiation_interactions\"]\n",
        "forcing_aerosol_cloud_85 = forcings_all_85[years,\"aerosol-cloud_interactions\"]\n",
        "forcing_aerosol_85 = forcing_aerosol_rad_85 + forcing_aerosol_cloud_85 # aerosol forcings\n",
        "forcing_total_85 = forcings_all_85[years,\"total\"] \n",
        "forcing_non_aerosol_85 = forcing_total_85 - forcing_aerosol_85 # non-aerosol forcings"
      ],
      "id": "6f31aa83"
    },
    {
      "cell_type": "markdown",
      "metadata": {},
      "source": [
        "For this assignment, you can use the `forcing_aerosol_85` and\n",
        "`forcing_non_aerosol_85` vectors as is to correspond to the relevant\n",
        "forcings. You will need to use the vector `t` to find the appropriate\n",
        "years for analysis."
      ],
      "id": "1343dea9-c4d5-4e62-87fe-568b43c7f2ec"
    },
    {
      "cell_type": "markdown",
      "metadata": {},
      "source": [
        "#### Problem 1.1 (3 points)\n",
        "\n",
        "Assume that $S$ is distributed according to\n",
        "$\\text{LogNormal}(\\log(3.2), \\log{2}/3)$ (as in class). Draw 10,000\n",
        "samples from this distribution and make a histogram."
      ],
      "id": "b4a3f2fc-33d4-49cf-8f27-e66170ea3564"
    },
    {
      "cell_type": "markdown",
      "metadata": {},
      "source": [
        "#### Problem 1.2 (5 points)\n",
        "\n",
        "Use the EBM to propagate your samples of $S$ to a distribution of global\n",
        "mean temperature. Plot the median and 90% predictive distribution\n",
        "(between the .05 and .95 quantiles) from 1880-2100."
      ],
      "id": "d7ae5278-63ac-4f0a-8a25-4f2c99be6394"
    },
    {
      "cell_type": "markdown",
      "metadata": {},
      "source": [
        "#### Problem 1.3 (4 points)\n",
        "\n",
        "Make a histogram of global mean temperature projections in 2100. If you\n",
        "compare this distribution to the distribution of $S$ from Problem 1.1,\n",
        "what do you observe?"
      ],
      "id": "a75b2b05-38e8-41be-9bda-2917961dc7cb"
    },
    {
      "cell_type": "markdown",
      "metadata": {},
      "source": [
        "### Problem 2 (15 points)\n",
        "\n",
        "Changes to global temperatures cause changes in global sea levels\n",
        "through several mechanisms, including thermal expansion (the change in\n",
        "ocean volume due to increased heat content) and melting land-based ice.\n",
        "One simple way to represent this link is through the following model,\n",
        "proposed by [Rahmstorf (2007)](https://doi.org/10.1126/science.1135456).\n",
        "\n",
        "$$\\frac{dH}{dt} = a(T-T_0),$$\n",
        "\n",
        "where $H$ is the global mean sea level in mm, $T$ is global mean\n",
        "temperature, $T_0$ is an equilibrium temperature (where there is no\n",
        "change in sea levels), and $a$ is a proportionality constant. This model\n",
        "can be discretized to give $$H_{i+1} - H_i = a (T_i - T_0).$$\n",
        "\n",
        "Note that, like with global mean temperature, the notion of “global mean\n",
        "sea level” does not make sense in absolute terms (were sea levels ever\n",
        "at “zero”?). Instead, we want to normalize this relative to some\n",
        "historical baseline. In this case (with a view towards Problem 3), we\n",
        "will compute our sea levels relative to the 2010 sea level. Note that in\n",
        "addition to the model parameters, we also need an initial sea-level\n",
        "parameter $H_0$ which will give us the right anomaly level.\n",
        "\n",
        "The best estimates for these parameters are:\n",
        "\n",
        "-   $a = 1.86$;\n",
        "-   $H_0 = -223$;\n",
        "-   $T_0 = -0.62$"
      ],
      "id": "26a4ca2b-add0-4968-88e8-c4f67fc0fe72"
    },
    {
      "cell_type": "markdown",
      "metadata": {},
      "source": [
        "#### Problem 2.1 (5 points)\n",
        "\n",
        "Write a function `sea_level_model()` to implement the mathematical\n",
        "sea-level rise model described above. It should take in needed\n",
        "parameters and a vector of temperatures and return a vector of sea\n",
        "levels. To test your function, use the provided temperature series\n",
        "`historical_temps` (read in below) to compute the global mean sea level\n",
        "anomaly in 2022 (the last year of the dataset) with the parameter values\n",
        "above; you should get a value of approximately 43mm."
      ],
      "id": "43be4f77-995a-4663-a83d-b2183e281842"
    },
    {
      "cell_type": "code",
      "execution_count": 5,
      "metadata": {},
      "outputs": [
        {
          "output_type": "display_data",
          "metadata": {},
          "data": {
            "text/plain": [
              "143-element Vector{Float64}:\n",
              "  0.07297116761904765\n",
              "  0.15655772761904765\n",
              "  0.09327316761904769\n",
              "  0.04232884761904765\n",
              " -0.10351681238095234\n",
              " -0.08232033238095232\n",
              " -0.03210037238095231\n",
              " -0.10998251238095236\n",
              "  0.00942435761904764\n",
              "  0.13890768761904768\n",
              " -0.11805492238095233\n",
              " -0.012511692380952344\n",
              " -0.11875525238095236\n",
              "  ⋮\n",
              "  0.9265009776190476\n",
              "  0.9664103476190478\n",
              "  1.0123786476190477\n",
              "  1.0616748976190478\n",
              "  1.2139176176190476\n",
              "  1.3217303776190477\n",
              "  1.2339774976190476\n",
              "  1.1514572476190477\n",
              "  1.2798758476190477\n",
              "  1.3115970476190477\n",
              "  1.1506591476190478\n",
              "  1.1896871476190476"
            ]
          }
        }
      ],
      "source": [
        "historical_temp_data = CSV.read(\"data/HadCRUT.5.0.1.0.analysis.summary_series.global.annual.csv\", DataFrame, delim=\",\")\n",
        "# column 2 is the temperature anomaly, column 1 is the year\n",
        "temp_bds = indexin([1880, 1900], historical_temp_data[!, 1]) # find the index of 2010 for normalization\n",
        "historical_temp_data[:, 2] .-= mean(historical_temp_data[temp_bds[1]:temp_bds[2], 2])\n",
        "historical_temps = historical_temp_data[temp_bds[1]:end, 2]"
      ],
      "id": "a5fea2a8"
    },
    {
      "cell_type": "markdown",
      "metadata": {},
      "source": [
        "#### Problem 2.2 (5 points)\n",
        "\n",
        "Evaluate `sea_level_model()` using the projected temperature ensemble\n",
        "from Problem 1. Plot the 90% projection interval of the sea levels."
      ],
      "id": "312097fe-ec60-4d9a-adfa-e1a190e844cf"
    },
    {
      "cell_type": "markdown",
      "metadata": {},
      "source": [
        "#### Problem 2.3 (5 points)\n",
        "\n",
        "Make a histogram of the sea-level anomaly in 2100. What can you observe\n",
        "about how the ECS uncertainty has impacted sea-level uncertainty under\n",
        "this radiative forcing scenario? What might the implications be of only\n",
        "using the best-estimate ECS value?"
      ],
      "id": "c85e1433-7f93-4991-9bae-7cac59a4d5f2"
    },
    {
      "cell_type": "markdown",
      "metadata": {},
      "source": [
        "### Problem 3 (13 points)\n",
        "\n",
        "You’ve been asked to consult on a levee reliability analysis. For\n",
        "context, levees in the United States are supposed to only fail once in\n",
        "100 years, or, in other words, to have at most a 1% chance of failure in\n",
        "a given year. We will assume for this problem that the only way in which\n",
        "a levee fails is by being overtopped (note: this is unrealistic).\n",
        "\n",
        "We can assess the probability of levee overtopping by comparing its\n",
        "height to a distribution of extreme sea levels. A common approach is to\n",
        "look at the distribution of the highest sea level each year. These\n",
        "extreme sea levels can be obtained by combining the absolute sea level\n",
        "(we will use our distribution of global sea levels for this), the rate\n",
        "of subsidence (how much the ground sinks), and the distribution of storm\n",
        "tides (the highest tide level, which is often the result of storm surges\n",
        "combining with high tide).\n",
        "\n",
        "Assume for this problem that:\n",
        "\n",
        "1.  the annual rate of subsidence $\\nu$ is 1.2mm/yr;\n",
        "2.  the distribution of annual storm tide maxima, above the mean sea\n",
        "    level, is (and is expected to continue to be) given by a\n",
        "    $\\text{GeneralizedExtremeValue}(900, 25, 0.3)$ distribution, which\n",
        "    looks like this:"
      ],
      "id": "9bd144af-5444-4772-8946-cbfd103bdec9"
    },
    {
      "cell_type": "code",
      "execution_count": 6,
      "metadata": {},
      "outputs": [
        {
          "output_type": "display_data",
          "metadata": {},
          "data": {
            "text/html": [
              "<img src=\"data:image/png;base64,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\" />"
            ]
          }
        }
      ],
      "source": [
        "tide_distribution = GeneralizedExtremeValue(900, 25, 0.3)\n",
        "    histogram(rand(tide_distribution, 10000), xlabel=\"Storm Tide Height (mm)\", ylabel=\"Count\", legend=:false)"
      ],
      "id": "3c54b362"
    },
    {
      "cell_type": "markdown",
      "metadata": {},
      "source": [
        "Feel free to just sample from `tide_distribution` in your solution\n",
        "below."
      ],
      "id": "a5abd2ba-2287-48b4-a778-409630ac341a"
    },
    {
      "cell_type": "markdown",
      "metadata": {},
      "source": [
        "#### Problem 3.1 (2 points)\n",
        "\n",
        "How would you use your sea-level simulations and the above information\n",
        "to compute a distribution of extreme sea levels in 2100 relative to 2010\n",
        "mean sea level? Write down the approach in clear steps, with equations\n",
        "as needed."
      ],
      "id": "c43c8d7e-7d52-4a3d-88af-027e2997c7e2"
    },
    {
      "cell_type": "markdown",
      "metadata": {},
      "source": [
        "#### Problem 3.2 (3 points)\n",
        "\n",
        "Follow the steps above and produce a histogram of the extreme sea levels\n",
        "in 2100 relative to 2010."
      ],
      "id": "8bf7c00a-41a3-445d-91bb-948d129f4cb7"
    },
    {
      "cell_type": "markdown",
      "metadata": {},
      "source": [
        "#### Problem 3.3 (5 points)\n",
        "\n",
        "The current levee was heightened in 2010 to 2m above the 2010 mean sea\n",
        "level. Based on your analysis above, what is the probability that the\n",
        "levee will be overtopped in 2100 (remember that the reliability standard\n",
        "is 1%)?"
      ],
      "id": "64a88d57-0a9b-42f8-8a42-79af311bb7cd"
    },
    {
      "cell_type": "markdown",
      "metadata": {},
      "source": [
        "#### Problem 3.4 (3 points)\n",
        "\n",
        "Based on your analysis, would you recommend that the levee be heightened\n",
        "again in the future, and if so, how high? What other information might\n",
        "you need, if any, to make your recommendation?"
      ],
      "id": "b3ed3bb1-cd84-41f0-bcec-c07cca8f3a34"
    },
    {
      "cell_type": "markdown",
      "metadata": {},
      "source": [
        "## References\n",
        "\n",
        "List any external references consulted, including classmates."
      ],
      "id": "dad904cf-69e6-448e-a77d-0582c67a4006"
    }
  ],
  "nbformat": 4,
  "nbformat_minor": 5,
  "metadata": {
    "kernelspec": {
      "name": "julia-1.9",
      "display_name": "Julia 1.9.2",
      "language": "julia"
    },
    "language_info": {
      "name": "julia",
      "file_extension": ".jl",
      "mimetype": "application/julia",
      "version": "1.9.2"
    }
  }
}