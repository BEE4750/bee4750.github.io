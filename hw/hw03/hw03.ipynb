{
  "cells": [
    {
      "cell_type": "markdown",
      "metadata": {},
      "source": [
        "# BEE 4750 Homework 3: Uncertain Sea-Level Rise and Levee Reliability\n",
        "\n",
        "**Name**:\n",
        "\n",
        "**ID**:\n",
        "\n",
        "> **Due Date**\n",
        ">\n",
        "> Friday, 10/06/23, 9:00pm\n",
        "\n",
        "## Overview\n",
        "\n",
        "### Instructions\n",
        "\n",
        "This assignment asks you to conduct a Monte Carlo analysis of levee\n",
        "reliability in the face of uncertain changes to local sea levels. You\n",
        "will propagate uncertainty in equilibrium climate sensitivity through\n",
        "the energy balance model to obtain a distribution of temperatures, which\n",
        "will then drive a model of sea-level rise. You will finally use this\n",
        "distribution to assess the probability that a planned levee will achieve\n",
        "its desired reliability standard.\n",
        "\n",
        "### Load Environment\n",
        "\n",
        "The following code loads the environment and makes sure all needed\n",
        "packages are installed. This should be at the start of most Julia\n",
        "scripts."
      ],
      "id": "d2938c49-d994-4f24-a543-de470ea99e16"
    },
    {
      "cell_type": "code",
      "execution_count": 1,
      "metadata": {},
      "outputs": [],
      "source": [
        "import Pkg\n",
        "Pkg.activate(@__DIR__)\n",
        "Pkg.instantiate()"
      ],
      "id": "01f08cff"
    },
    {
      "cell_type": "code",
      "execution_count": 2,
      "metadata": {},
      "outputs": [],
      "source": [
        "using Random\n",
        "using Plots\n",
        "using LaTeXStrings\n",
        "using Distributions\n",
        "using CSV\n",
        "using DataFrames"
      ],
      "id": "786e4a58"
    },
    {
      "cell_type": "markdown",
      "metadata": {},
      "source": [
        "## Problems (Total: 40 Points)"
      ],
      "id": "b41a3ef4-25e5-4eb6-a024-a450ecdff046"
    },
    {
      "cell_type": "markdown",
      "metadata": {},
      "source": [
        "### Problem 1 (12 points)\n",
        "\n",
        "Recall from class that the simple energy balance model (EBM) of\n",
        "planetary energy balance links changes in radiative forcing ($F$) to\n",
        "global mean temperature ($T$) changes through the discretized equation\n",
        "$$T_{i+1} = T_{i} + \\frac{F_i - \\lambda T_i}{cd} \\times \\Delta t,$$\n",
        "where $i$ is the current time step, $c = 4.184 \\times 10^6$\n",
        "J/K/m<sup>2</sup> is the heat capacity of water per unit area, $d$ is\n",
        "the (uncertain) depth of the mixing layer, $\\Delta t$ is the annual time\n",
        "step in seconds and $\\lambda = F_{\\text{2xCO}_2}/S$ is the climate\n",
        "feedback parameter in W/m<sup>2</sup>/$^\\circ$ C, where $S$ is the\n",
        "equilibrium climate sensitivity (the uncertain equilibrium temperature\n",
        "change resulting from a doubling of atmospheric CO<sub>2</sub>).\n",
        "Finally, while total radiative forcing can be the result of non-aerosol\n",
        "and aerosol effects, we do not know the relative intensity of aerosol\n",
        "forcing, so we represent this with an uncertain aerosol scaling factor\n",
        "$\\alpha$.\n",
        "\n",
        "We can implement this model with the following Julia function. We will\n",
        "assume an ocean mixing depth $d = 100$ m and an aerosol scaling factor\n",
        "$\\alpha = 1.3$ so we can focus on the uncertainty in $S$.\n",
        "\n",
        "The last technical concern is that “global mean temperature” does not\n",
        "make sense in absolute terms as a marker of climate change. Instead, we\n",
        "typically refer to temperature changes relative to some historical\n",
        "pre-industrial baseline. In this case, we will use the period from\n",
        "1880-1900, though this choice can vary."
      ],
      "id": "c042fcb7-ff37-4dd4-a531-4b00495cfb2e"
    },
    {
      "cell_type": "code",
      "execution_count": 3,
      "metadata": {},
      "outputs": [
        {
          "output_type": "display_data",
          "metadata": {},
          "data": {
            "text/plain": [
              "energy_balance_model (generic function with 1 method)"
            ]
          }
        }
      ],
      "source": [
        "# we need to split up the aerosol and non-aerosol forcings when we call the function\n",
        "function energy_balance_model(S, forcing_aerosol, forcing_non_aerosol)\n",
        "    d = 100 # ocean mixing depth [m]\n",
        "    α = 1.3 # aerosol scaling factor\n",
        "    F2xCO₂ = 4.0 # radiative forcing [W/m²] for a doubling of CO₂\n",
        "    λ = F2xCO₂/S\n",
        "    \n",
        "    c = 4.184e6 # heat capacity/area [J/K/m²]\n",
        "    C = c*d # heat capacity of mixed layer (per area)\n",
        "\n",
        "    F = forcing_non_aerosol + α*forcing_aerosol # radiative forcing\n",
        "\n",
        "    Δt = 31558152.0 # annual timestep [s]\n",
        "    \n",
        "    T = zero(F)\n",
        "    for i in 1:length(F)-1\n",
        "        T[i+1] = T[i] + (F[i] - λ*T[i])/C * Δt\n",
        "    end\n",
        "    # return temperature anomaly relative to 1880-1900 baseline\n",
        "    return T .- mean(T[1:21]) \n",
        "end"
      ],
      "id": "9c949180"
    },
    {
      "cell_type": "markdown",
      "metadata": {},
      "source": [
        "Finally, we need to load some radiative forcing data. We will use the\n",
        "radiative forcing scenario RCP 8.5. We can load this data, which is in a\n",
        "`.csv` (comma-delimited) file, into a `DataFrame`, which is a tabular\n",
        "data structure. Rows and columns in a `DataFrame` can be accessed using\n",
        "their numerical index (like a matrix), but columns also have names; you\n",
        "can access a particular column in a dataframe `df` by name using\n",
        "`df.colname` or `df[:, \"colname\"]`.\n",
        "\n",
        "Of note: this data set goes from 1750–2500, so you will need to take\n",
        "care to make sure you are using the right years at each step. For\n",
        "example, here we will constrain the data to 1880–2100, which is the\n",
        "period we are interested in."
      ],
      "id": "d06dbe02-5c92-4013-a34d-14022854617f"
    },
    {
      "cell_type": "code",
      "execution_count": 4,
      "metadata": {},
      "outputs": [
        {
          "output_type": "display_data",
          "metadata": {},
          "data": {
            "text/plain": [
              "221-element Vector{Float64}:\n",
              "  0.42741479112315905\n",
              "  0.4487940147601447\n",
              "  0.4900144276528058\n",
              " -0.019811270078689047\n",
              " -1.480725700367619\n",
              " -0.3154905163510021\n",
              "  0.233186559774844\n",
              "  0.2923308952663089\n",
              "  0.45833872365810924\n",
              "  0.5168189581089915\n",
              "  0.4144761329626494\n",
              "  0.2762327724171124\n",
              "  0.48656957869238376\n",
              "  ⋮\n",
              "  9.560222650653953\n",
              "  9.671039126229665\n",
              "  9.772610821460296\n",
              "  9.879065698371564\n",
              "  9.946850640754889\n",
              " 10.002169546141578\n",
              " 10.061009359425011\n",
              " 10.115684195707905\n",
              " 10.182946497594184\n",
              " 10.249699157847772\n",
              " 10.331407709334023\n",
              " 10.424544495740134"
            ]
          }
        }
      ],
      "source": [
        "# The CSV is read into a DataFrame object, and we specify that it is comma delimited\n",
        "forcings_all_85 = CSV.read(\"data/ERF_ssp585_1750-2500.csv\", DataFrame, delim=\",\")\n",
        "\n",
        "# get the years corresponding to the forcings\n",
        "t = Int64.(forcings_all_85[!,\"year\"]) # Ensure that years are interpreted as integers\n",
        "# find the indices of the years 1880 and 2100\n",
        "# we can do this with the indexin function\n",
        "time_bounds = indexin([1880, 2100], t)\n",
        "years = time_bounds[1]:time_bounds[2] # create range of years\n",
        "\n",
        "# Separate out the individual components\n",
        "forcing_co2_85 = forcings_all_85[years,\"co2\"]\n",
        "# Get total aerosol and non-aerosol forcings\n",
        "forcing_aerosol_rad_85 = forcings_all_85[years,\"aerosol-radiation_interactions\"]\n",
        "forcing_aerosol_cloud_85 = forcings_all_85[years,\"aerosol-cloud_interactions\"]\n",
        "forcing_aerosol_85 = forcing_aerosol_rad_85 + forcing_aerosol_cloud_85 # aerosol forcings\n",
        "forcing_total_85 = forcings_all_85[years,\"total\"] \n",
        "forcing_non_aerosol_85 = forcing_total_85 - forcing_aerosol_85 # non-aerosol forcings"
      ],
      "id": "a5e74a27"
    },
    {
      "cell_type": "markdown",
      "metadata": {},
      "source": [
        "For this assignment, you can use the `forcing_aerosol_85` and\n",
        "`forcing_non_aerosol_85` vectors as is to correspond to the relevant\n",
        "forcings. You will need to use the vector `t` to find the appropriate\n",
        "years for analysis."
      ],
      "id": "30dbc032-cbb5-4831-b360-ce31176f0efa"
    },
    {
      "cell_type": "markdown",
      "metadata": {},
      "source": [
        "#### Problem 1.1 (3 points)\n",
        "\n",
        "Assume that $S$ is distributed according to\n",
        "$\\text{LogNormal}(\\log(3.2), \\log{2}/3)$ (as in class). Draw 10,000\n",
        "samples from this distribution and make a histogram."
      ],
      "id": "f5dcfb0a-b09d-49aa-b6b2-3494b66954a4"
    },
    {
      "cell_type": "markdown",
      "metadata": {},
      "source": [
        "#### Problem 1.2 (5 points)\n",
        "\n",
        "Use the EBM to propagate your samples of $S$ to a distribution of global\n",
        "mean temperature. Plot the median and 90% predictive distribution\n",
        "(between the .05 and .95 quantiles) from 1880-2100."
      ],
      "id": "b9417496-6ae1-4007-af24-8c06c96471c9"
    },
    {
      "cell_type": "markdown",
      "metadata": {},
      "source": [
        "#### Problem 1.3 (4 points)\n",
        "\n",
        "Make a histogram of global mean temperature projections in 2100. If you\n",
        "compare this distribution to the distribution of $S$ from Problem 1.1,\n",
        "what do you observe?"
      ],
      "id": "6375b207-ae5e-4bb4-89e3-549a923df4c8"
    },
    {
      "cell_type": "markdown",
      "metadata": {},
      "source": [
        "### Problem 2 (15 points)\n",
        "\n",
        "Changes to global temperatures cause changes in global sea levels\n",
        "through several mechanisms, including thermal expansion (the change in\n",
        "ocean volume due to increased heat content) and melting land-based ice.\n",
        "One simple way to represent this link is through the following model,\n",
        "proposed by [Rahmstorf (2007)](https://doi.org/10.1126/science.1135456).\n",
        "\n",
        "$$\\frac{dH}{dt} = a(T-T_0),$$\n",
        "\n",
        "where $H$ is the global mean sea level in mm, $T$ is global mean\n",
        "temperature, $T_0$ is an equilibrium temperature (where there is no\n",
        "change in sea levels), and $a$ is a proportionality constant. This model\n",
        "can be discretized to give $$H_{i+1} - H_i = a (T_i - T_0).$$\n",
        "\n",
        "Note that, like with global mean temperature, the notion of “global mean\n",
        "sea level” does not make sense in absolute terms (were sea levels ever\n",
        "at “zero”?). Instead, we want to normalize this relative to some\n",
        "historical baseline. In this case (with a view towards Problem 3), we\n",
        "will compute our sea levels relative to the 2010 sea level. Note that in\n",
        "addition to the model parameters, we also need an initial sea-level\n",
        "parameter $H_0$ which will give us the right anomaly level.\n",
        "\n",
        "The best estimates for these parameters are:\n",
        "\n",
        "-   $a = 1.86$;\n",
        "-   $H_0 = -223$;\n",
        "-   $T_0 = -0.62$"
      ],
      "id": "d414a6cb-a909-46a7-99be-c52fa77e47b1"
    },
    {
      "cell_type": "markdown",
      "metadata": {},
      "source": [
        "#### Problem 2.1 (5 points)\n",
        "\n",
        "Write a function `sea_level_model()` to implement the mathematical\n",
        "sea-level rise model described above. It should take in needed\n",
        "parameters and a vector of temperatures and return a vector of sea\n",
        "levels. To test your function, use the provided temperature series\n",
        "`historical_temps` (read in below) to compute the global mean sea level\n",
        "anomaly in 2022 (the last year of the dataset) with the parameter values\n",
        "above; you should get a value of approximately 43mm."
      ],
      "id": "59e99e1a-dc1f-4266-aa22-0d53a5bbcb94"
    },
    {
      "cell_type": "code",
      "execution_count": 5,
      "metadata": {},
      "outputs": [
        {
          "output_type": "display_data",
          "metadata": {},
          "data": {
            "text/plain": [
              "143-element Vector{Float64}:\n",
              "  0.07297116761904765\n",
              "  0.15655772761904765\n",
              "  0.09327316761904769\n",
              "  0.04232884761904765\n",
              " -0.10351681238095234\n",
              " -0.08232033238095232\n",
              " -0.03210037238095231\n",
              " -0.10998251238095236\n",
              "  0.00942435761904764\n",
              "  0.13890768761904768\n",
              " -0.11805492238095233\n",
              " -0.012511692380952344\n",
              " -0.11875525238095236\n",
              "  ⋮\n",
              "  0.9265009776190476\n",
              "  0.9664103476190478\n",
              "  1.0123786476190477\n",
              "  1.0616748976190478\n",
              "  1.2139176176190476\n",
              "  1.3217303776190477\n",
              "  1.2339774976190476\n",
              "  1.1514572476190477\n",
              "  1.2798758476190477\n",
              "  1.3115970476190477\n",
              "  1.1506591476190478\n",
              "  1.1896871476190476"
            ]
          }
        }
      ],
      "source": [
        "historical_temp_data = CSV.read(\"data/HadCRUT.5.0.1.0.analysis.summary_series.global.annual.csv\", DataFrame, delim=\",\")\n",
        "# column 2 is the temperature anomaly, column 1 is the year\n",
        "temp_bds = indexin([1880, 1900], historical_temp_data[!, 1]) # find the index of 2010 for normalization\n",
        "historical_temp_data[:, 2] .-= mean(historical_temp_data[temp_bds[1]:temp_bds[2], 2])\n",
        "historical_temps = historical_temp_data[temp_bds[1]:end, 2]"
      ],
      "id": "1b4c041d"
    },
    {
      "cell_type": "markdown",
      "metadata": {},
      "source": [
        "#### Problem 2.2 (5 points)\n",
        "\n",
        "Evaluate `sea_level_model()` using the projected temperature ensemble\n",
        "from Problem 1. Plot the 90% projection interval of the sea levels."
      ],
      "id": "92d67f5e-a75f-424f-ad19-253feab163fd"
    },
    {
      "cell_type": "markdown",
      "metadata": {},
      "source": [
        "#### Problem 2.3 (5 points)\n",
        "\n",
        "Make a histogram of the sea-level anomaly in 2100. What can you observe\n",
        "about how the ECS uncertainty has impacted sea-level uncertainty under\n",
        "this radiative forcing scenario? What might the implications be of only\n",
        "using the best-estimate ECS value?"
      ],
      "id": "e0dcd9a9-abfe-4f9e-a6ae-64d75fa8fd4e"
    },
    {
      "cell_type": "markdown",
      "metadata": {},
      "source": [
        "### Problem 3 (13 points)\n",
        "\n",
        "You’ve been asked to consult on a levee reliability analysis. For\n",
        "context, levees in the United States are supposed to only fail once in\n",
        "100 years, or, in other words, to have at most a 1% chance of failure in\n",
        "a given year. We will assume for this problem that the only way in which\n",
        "a levee fails is by being overtopped (note: this is unrealistic).\n",
        "\n",
        "We can assess the probability of levee overtopping by comparing its\n",
        "height to a distribution of extreme sea levels. A common approach is to\n",
        "look at the distribution of the highest sea level each year. These\n",
        "extreme sea levels can be obtained by combining the absolute sea level\n",
        "(we will use our distribution of global sea levels for this), the rate\n",
        "of subsidence (how much the ground sinks), and the distribution of storm\n",
        "tides (the highest tide level, which is often the result of storm surges\n",
        "combining with high tide).\n",
        "\n",
        "Assume for this problem that:\n",
        "\n",
        "1.  the annual rate of subsidence $\\nu$ is 1.2mm/yr;\n",
        "2.  the distribution of annual storm tide maxima, above the mean sea\n",
        "    level, is (and is expected to continue to be) given by a\n",
        "    $\\text{GeneralizedExtremeValue}(900, 25, 0.3)$ distribution, which\n",
        "    looks like this:"
      ],
      "id": "b637b795-702f-4de4-bf91-6b1c299ad24b"
    },
    {
      "cell_type": "code",
      "execution_count": 6,
      "metadata": {},
      "outputs": [
        {
          "output_type": "display_data",
          "metadata": {},
          "data": {
            "text/html": [
              "<img src=\"data:image/png;base64,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\" />"
            ]
          }
        }
      ],
      "source": [
        "tide_distribution = GeneralizedExtremeValue(900, 25, 0.3)\n",
        "    histogram(rand(tide_distribution, 10000), xlabel=\"Storm Tide Height (mm)\", ylabel=\"Count\", legend=:false)"
      ],
      "id": "ceed7ac9"
    },
    {
      "cell_type": "markdown",
      "metadata": {},
      "source": [
        "Feel free to just sample from `tide_distribution` in your solution\n",
        "below."
      ],
      "id": "910900c6-d467-4c82-a0bf-fae3631e64a0"
    },
    {
      "cell_type": "markdown",
      "metadata": {},
      "source": [
        "#### Problem 3.1 (2 points)\n",
        "\n",
        "How would you use your sea-level simulations and the above information\n",
        "to compute a distribution of extreme sea levels in 2100 relative to 2010\n",
        "mean sea level? Write down the approach in clear steps, with equations\n",
        "as needed."
      ],
      "id": "0ec9c5a6-45c0-4fe7-a4c1-59cdf7b0d983"
    },
    {
      "cell_type": "markdown",
      "metadata": {},
      "source": [
        "#### Problem 3.2 (3 points)\n",
        "\n",
        "Follow the steps above and produce a histogram of the extreme sea levels\n",
        "in 2100 relative to 2010."
      ],
      "id": "29c4da4d-4596-43fc-88b3-b99996a38177"
    },
    {
      "cell_type": "markdown",
      "metadata": {},
      "source": [
        "#### Problem 3.2 (3 points)\n",
        "\n",
        "Follow the steps above and produce a histogram of the extreme sea levels\n",
        "in 2100 relative to 2010."
      ],
      "id": "404c6c4c-91d3-4246-96d2-97462f697725"
    },
    {
      "cell_type": "markdown",
      "metadata": {},
      "source": [
        "#### Problem 3.4 (3 points)\n",
        "\n",
        "Based on your analysis, would you recommend that the levee be heightened\n",
        "again in the future, and if so, how high? What other information might\n",
        "you need, if any, to make your recommendation?"
      ],
      "id": "b51c41e1-fd1d-493e-beed-792049077a16"
    },
    {
      "cell_type": "markdown",
      "metadata": {},
      "source": [
        "## References\n",
        "\n",
        "List any external references consulted, including classmates."
      ],
      "id": "bc249044-3e30-4db0-a325-1ab55744fb9f"
    }
  ],
  "nbformat": 4,
  "nbformat_minor": 5,
  "metadata": {
    "kernelspec": {
      "name": "julia-1.9",
      "display_name": "Julia 1.9.2",
      "language": "julia"
    },
    "language_info": {
      "name": "julia",
      "file_extension": ".jl",
      "mimetype": "application/julia",
      "version": "1.9.2"
    }
  }
}