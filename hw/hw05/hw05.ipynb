{
  "cells": [
    {
      "cell_type": "markdown",
      "metadata": {},
      "source": [
        "# BEE 4750 Homework 5: Solid Waste Disposal\n",
        "\n",
        "**Name**:\n",
        "\n",
        "**ID**:\n",
        "\n",
        "> **Due Date**\n",
        ">\n",
        "> Friday, 10/27/23, 9:00pm\n",
        "\n",
        "## Overview"
      ],
      "id": "391a088e-a284-40c8-b563-d8eaf10305b8"
    },
    {
      "cell_type": "markdown",
      "metadata": {},
      "source": [
        "### Instructions\n",
        "\n",
        "-   In Problem 1, you will formulate, solve, and analyze a standard\n",
        "    generating capacity expansion problem.\n",
        "-   In Problem 2, you will add a CO<sub>2</sub> constraint to the\n",
        "    capacity expansion problem and identify changes in the resulting\n",
        "    solution."
      ],
      "id": "55134922-b134-4192-9411-896a160e9911"
    },
    {
      "cell_type": "markdown",
      "metadata": {},
      "source": [
        "### Load Environment\n",
        "\n",
        "The following code loads the environment and makes sure all needed\n",
        "packages are installed. This should be at the start of most Julia\n",
        "scripts.\n",
        "\n",
        "``` julia\n",
        "import Pkg\n",
        "Pkg.activate(@__DIR__)\n",
        "Pkg.instantiate()\n",
        "```\n",
        "\n",
        "``` julia\n",
        "using JuMP\n",
        "using HiGHS\n",
        "using DataFrames\n",
        "using GraphRecipes\n",
        "using Plots\n",
        "using Measures\n",
        "using MarkdownTables\n",
        "```"
      ],
      "id": "0d5bc6ad-f1fc-4a66-ac65-9a4dafb8b09a"
    },
    {
      "cell_type": "markdown",
      "metadata": {},
      "source": [
        "## Background\n",
        "\n",
        "Three cities are developing a coordinated municipal solid waste (MSW)\n",
        "disposal plan. Three disposal alternatives are being considered: a\n",
        "landfill (LF), a materials recycling facility (MRF), and a\n",
        "waste-to-energy facility (WTE). The capacities of these facilities and\n",
        "the fees for operation and disposal are provided in the table below.\n",
        "\n",
        "|    **Disposal Facility**     | **Capacity** (Mg/d) | **Fixed cost** (\\$/d) | **Tipping Fee ** (\\$/Mg) | **Recycling Cost** (\\$/Mg) |\n",
        "|:-------------:|:-------------:|:-------------:|:----------:|:--------------:|\n",
        "|           Landfill           |         200         |         2000          |            50            |                            |\n",
        "| Materials Recycling Facility |         350         |         1500          |            7             |    40 (per Mg recycled)    |\n",
        "|   Waste-to-Energy Facility   |         210         |         2500          |            60            |                            |\n",
        "\n",
        "Transportation costs are \\$1.5/Mg-km, and the relative distances between\n",
        "the cities and facilities are provided in the table below.\n",
        "\n",
        "| **City/Facility** | **Landfill (km)** | **MRF (km)** | **WTE (km)** |\n",
        "|:-----------------:|:-----------------:|:------------:|:------------:|\n",
        "|         1         |         5         |      30      |      15      |\n",
        "|         2         |        15         |      25      |      10      |\n",
        "|         3         |        13         |      45      |      20      |\n",
        "|        LF         |        \\-         |      32      |      18      |\n",
        "|        MRF        |        32         |      \\-      |      15      |\n",
        "|        WTE        |        18         |      15      |      \\-      |\n",
        "\n",
        "The fixed costs associated with the disposal options are incurred only\n",
        "if the particular disposal option is implemented. The three cities\n",
        "produce 100, 90, and 120 Mg/day of solid waste, respectively, with the\n",
        "composition provided in the table below.\n",
        "\n",
        "|   **Component**   | **% of total mass** | **Combustion ash** (%) | **MRF Recycling rate** (%) |\n",
        "|:---------------------:|:--------------:|:---------------:|:---------------:|\n",
        "|    Food Wastes    |         15          |           8            |             0              |\n",
        "| Paper & Cardboard |         40          |           7            |             55             |\n",
        "|     Plastics      |          5          |           5            |             15             |\n",
        "|     Textiles      |          3          |           10           |             10             |\n",
        "|  Rubber, Leather  |          2          |           15           |             0              |\n",
        "|       Wood        |          5          |           2            |             30             |\n",
        "|    Yard Wastes    |         18          |           2            |             40             |\n",
        "|       Glass       |          4          |          100           |             60             |\n",
        "|      Ferrous      |          2          |          100           |             75             |\n",
        "|     Aluminum      |          2          |          100           |             80             |\n",
        "|    Other Metal    |          1          |          100           |             50             |\n",
        "|   Miscellaneous   |          3          |           70           |             0              |\n",
        "\n",
        "The information in the above table will help you determine the overall\n",
        "recycling and ash fractions. Note that the recycling residuals, which\n",
        "may be sent to either landfill or the WTE, have different ash content\n",
        "than the ash content of the original MSW. You will need to determine\n",
        "these fractions to construct your mass balance constraints.\n",
        "\n",
        "**Reminder**: Use `round(x; digits=n)` to report values to the\n",
        "appropriate precision!"
      ],
      "id": "6d76ccd2-0276-45eb-94e4-f0e19f08ddfe"
    },
    {
      "cell_type": "markdown",
      "metadata": {},
      "source": [
        "## Problems (Total: 40 Points)"
      ],
      "id": "0ae005d1-594a-4e93-b8e2-9f59ac1e75e2"
    },
    {
      "cell_type": "markdown",
      "metadata": {},
      "source": [
        "### Problem 1 (22 points)\n",
        "\n",
        "In this problem, you will develop an optimal disposal plan for the two\n",
        "cities."
      ],
      "id": "4339fbf8-f84c-4d12-8eff-4ae6ca9ee449"
    },
    {
      "cell_type": "markdown",
      "metadata": {},
      "source": [
        "#### Problem 1.1 (3 points)\n",
        "\n",
        "Based on the information above, calculate the overall recycling and ash\n",
        "fractions for the waste produced by each city."
      ],
      "id": "0eb71eb9-6028-44d6-ad87-a4e8f61fca9b"
    },
    {
      "cell_type": "markdown",
      "metadata": {},
      "source": [
        "#### Problem 1.2 (2 points)\n",
        "\n",
        "What are the decision variables for your optimization problem? Provide\n",
        "notation and variable meaning."
      ],
      "id": "c48a3aa5-0824-452a-aa0a-bc481b03f32e"
    },
    {
      "cell_type": "markdown",
      "metadata": {},
      "source": [
        "#### Problem 1.3 (3 points)\n",
        "\n",
        "Formulate the objective function. Make sure to include any needed\n",
        "derivations or justifications for your equation(s)."
      ],
      "id": "756bba12-b581-40d9-b17a-1219c1a026dc"
    },
    {
      "cell_type": "markdown",
      "metadata": {},
      "source": [
        "#### Problem 1.4 (4 points)\n",
        "\n",
        "Derive all relevant constraints. Make sure to include any needed\n",
        "justifications or derivations."
      ],
      "id": "c4bd8806-794f-43ed-8a3f-f1927767dded"
    },
    {
      "cell_type": "markdown",
      "metadata": {},
      "source": [
        "#### Problem 1.5 (3 points)\n",
        "\n",
        "Implement your optimization problem in `JuMP`."
      ],
      "id": "363393f9-5db2-46a9-b056-6208898f3f8c"
    },
    {
      "cell_type": "markdown",
      "metadata": {},
      "source": [
        "#### Problem 1.6 (2 points)\n",
        "\n",
        "Find the optimal solution. Report the optimal objective value."
      ],
      "id": "bb931e79-bd4f-4152-a5a0-281ba8a586e6"
    },
    {
      "cell_type": "markdown",
      "metadata": {},
      "source": [
        "#### Problem 1.7 (5 points)\n",
        "\n",
        "Draw a diagram showing the flows of waste between the cities and the\n",
        "facilities. Which facilities (if any) will not be used? Does this\n",
        "solution make sense?"
      ],
      "id": "c6052900-86c6-487d-9b97-47fbe76f7179"
    },
    {
      "cell_type": "markdown",
      "metadata": {},
      "source": [
        "### Problem 2 (18 points)\n",
        "\n",
        "It is projected that in the near future the state will introduce a\n",
        "carbon tax that will increase the cost for transportation and for\n",
        "disposal by incineration. It is estimated that the additional costs will\n",
        "be:\n",
        "\n",
        "-   tipping fee for the WTE facility will increase to\\$75/Mg; and\n",
        "-   transportation costs will increase to \\$2/Mg-km.\n",
        "\n",
        "In this context, the cities are considering adding another landfill and\n",
        "want to know if this would be cost-effective compared to using the\n",
        "current facilities with the carbon tax. This landfill would have a\n",
        "maximum capacity of 100 Mg/day and would be located with the following\n",
        "distances from the existing sites (excluding LF1):\n",
        "\n",
        "| **City/Facility** | **Distance to LF2 (km)** |\n",
        "|:-----------------:|:------------------------:|\n",
        "|         1         |            45            |\n",
        "|         2         |            35            |\n",
        "|         3         |            15            |\n",
        "|        MRF        |            35            |\n",
        "|        WTE        |            50            |\n",
        "\n",
        "The fixed cost of operating this facility would be the same as the first\n",
        "landfill, but the tipping cost would be increased to \\$60/Mg-day."
      ],
      "id": "ae07118c-973e-48f6-aea5-be9e4b9b3a71"
    },
    {
      "cell_type": "markdown",
      "metadata": {},
      "source": [
        "#### Problem 2.1 (5 points)\n",
        "\n",
        "What changes are needed to your optimization program from Problem 1 for\n",
        "this decision problem? Formulate any different variables, objectives,\n",
        "and/or constraints."
      ],
      "id": "112b4b9e-c2e0-4c31-9895-a6439fac2096"
    },
    {
      "cell_type": "markdown",
      "metadata": {},
      "source": [
        "#### Problem 2.2 (3 points)\n",
        "\n",
        "Implement the new optimization problem in `JuMP`."
      ],
      "id": "35b6ae46-4be5-4ddf-915c-8ee993c185af"
    },
    {
      "cell_type": "markdown",
      "metadata": {},
      "source": [
        "#### Problem 2.3 (5 points)\n",
        "\n",
        "Find the optimal solution and report the optimal objective value.\n",
        "Provide a diagram showing the new waste flows."
      ],
      "id": "84f4a723-e3bc-47aa-8604-cef2da6da878"
    },
    {
      "cell_type": "markdown",
      "metadata": {},
      "source": [
        "#### Problem 2.4 (5 points)\n",
        "\n",
        "Would you recommend that the cities build the new landfill? Why or why\n",
        "not? Your answer should be based on your analysis but can draw on other\n",
        "considerations as appropriate or desired."
      ],
      "id": "306a76ea-6d2e-4bb6-919e-08b5242bf2c8"
    },
    {
      "cell_type": "markdown",
      "metadata": {},
      "source": [
        "## References\n",
        "\n",
        "List any external references consulted, including classmates."
      ],
      "id": "b6677dc0-76e1-48bc-be9d-9b739a6f4200"
    }
  ],
  "nbformat": 4,
  "nbformat_minor": 5,
  "metadata": {
    "kernelspec": {
      "name": "julia-1.9",
      "display_name": "Julia 1.9.2",
      "language": "julia"
    },
    "language_info": {
      "name": "julia",
      "file_extension": ".jl",
      "mimetype": "application/julia",
      "version": "1.9.2"
    }
  }
}