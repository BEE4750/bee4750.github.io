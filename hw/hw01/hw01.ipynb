{
  "cells": [
    {
      "cell_type": "markdown",
      "metadata": {},
      "source": [
        "# BEE 4750 Homework 1: Introduction to Using Julia\n",
        "\n",
        "**Name**:\n",
        "\n",
        "**ID**:\n",
        "\n",
        "> **Due Date**\n",
        ">\n",
        "> Friday, 9/8/23, 9:00pm\n",
        "\n",
        "## Overview\n",
        "\n",
        "### Instructions\n",
        "\n",
        "-   Problems 1-3 consist of a series of code snippets for you to\n",
        "    interpret and debug. For Problems 1 and 2, you will be asked to\n",
        "    identify relevant error(s) and fix the code. For Problem 3, the code\n",
        "    works as intended; your goal is to identify the code’s purpose by\n",
        "    following its logic.\n",
        "-   Problem 4 asks you to convert a verbal description of a wastewater\n",
        "    treatment system into a Julia function, and then to use that\n",
        "    function to explore the impact of different wastewater allocation\n",
        "    strategies.\n",
        "\n",
        "### Load Environment\n",
        "\n",
        "The following code loads the environment and makes sure all needed\n",
        "packages are installed. This should be at the start of most Julia\n",
        "scripts."
      ],
      "id": "fb536b9d-c451-4dd3-9647-2e36f242d08a"
    },
    {
      "cell_type": "code",
      "execution_count": 1,
      "metadata": {},
      "outputs": [],
      "source": [
        "import Pkg\n",
        "Pkg.activate(@__DIR__)\n",
        "Pkg.instantiate()"
      ],
      "id": "4c7f77cb"
    },
    {
      "cell_type": "code",
      "execution_count": 2,
      "metadata": {},
      "outputs": [],
      "source": [
        "using Plots\n",
        "using GraphRecipes\n",
        "using LaTeXStrings"
      ],
      "id": "f6a0f922"
    },
    {
      "cell_type": "markdown",
      "metadata": {},
      "source": [
        "## Problems (Total: 40 Points)\n",
        "\n",
        "### Problem 1 (8 points)\n",
        "\n",
        "You’ve been tasked with writing code to identify the minimum value in an\n",
        "array. You cannot use a predefined function. Your colleague suggested\n",
        "the function below, but it does not return the minimum value."
      ],
      "id": "f71245e2-bc97-4207-9719-acf3faa63169"
    },
    {
      "cell_type": "code",
      "execution_count": 3,
      "metadata": {},
      "outputs": [
        {
          "output_type": "stream",
          "name": "stdout",
          "text": [
            "minimum(array_values) = 0"
          ]
        }
      ],
      "source": [
        "function minimum(array)\n",
        "    min_value = 0\n",
        "    for i in 1:length(array)\n",
        "        if array[i] < min_value\n",
        "            min_value = array[i]\n",
        "        end\n",
        "    end\n",
        "    return min_value\n",
        "end\n",
        "\n",
        "array_values = [89, 90, 95, 100, 100, 78, 99, 98, 100, 95]\n",
        "@show minimum(array_values);"
      ],
      "id": "eca2d6db"
    },
    {
      "cell_type": "markdown",
      "metadata": {},
      "source": [
        "#### Problem 1.1 (3 points)\n",
        "\n",
        "Describe the logic error."
      ],
      "id": "b32ebb67-dbc0-46e4-a20e-2e32e2afee55"
    },
    {
      "cell_type": "markdown",
      "metadata": {},
      "source": [
        "#### Problem 1.2 (3 points)\n",
        "\n",
        "Write a fixed version of the function."
      ],
      "id": "dd6e9746-e002-46ae-bab3-258575c854c5"
    },
    {
      "cell_type": "markdown",
      "metadata": {},
      "source": [
        "#### Problem 1.3 (2 points)\n",
        "\n",
        "Use your fixed function to find the minimum value of `array_values`."
      ],
      "id": "652a3974-1f86-447d-846b-fa756de25434"
    },
    {
      "cell_type": "markdown",
      "metadata": {},
      "source": [
        "### Problem 2 (8 points)\n",
        "\n",
        "Your team is trying to compute the average grade for your class, but the\n",
        "following code produces an error."
      ],
      "id": "8c3ba5f7-a19f-4ee8-ad75-1d1220e9521c"
    },
    {
      "cell_type": "code",
      "execution_count": 4,
      "metadata": {},
      "outputs": [],
      "source": [
        "student_grades = [89, 90, 95, 100, 100, 78, 99, 98, 100, 95]\n",
        "function class_average(grades)\n",
        "  average_grade = mean(student_grades)\n",
        "  return average_grade\n",
        "end\n",
        "\n",
        "@show average_grade;"
      ],
      "id": "b604c187"
    },
    {
      "cell_type": "markdown",
      "metadata": {},
      "source": [
        "#### Problem 2.1 (3 points)\n",
        "\n",
        "Describe the logic and/or syntax error."
      ],
      "id": "67fb69bd-17c9-4f63-a836-87ba2350bfb2"
    },
    {
      "cell_type": "markdown",
      "metadata": {},
      "source": [
        "#### Problem 2.2 (3 points)\n",
        "\n",
        "Write a fixed version of the code."
      ],
      "id": "e38c69c5-88ba-4fe4-a3ff-55a23ef3496c"
    },
    {
      "cell_type": "markdown",
      "metadata": {},
      "source": [
        "#### Problem 2.3 (2 points)\n",
        "\n",
        "Use your fixed code to compute the average grade for the class."
      ],
      "id": "85d76f5e-19a6-4cd6-a192-2e6f8d76b906"
    },
    {
      "cell_type": "markdown",
      "metadata": {},
      "source": [
        "### Problem 3 (8 points)\n",
        "\n",
        "You’ve been handed some code to analyze. The original coder was not very\n",
        "considerate of other potential users: the function is called\n",
        "`mystery_function` and there are no comments explaining the purpose of\n",
        "the code. It appears to take in an array and return some numbers, and\n",
        "you’ve been assured that the code works as intended."
      ],
      "id": "e38d00fd-46d0-47bb-9b36-59c590b78545"
    },
    {
      "cell_type": "code",
      "execution_count": 5,
      "metadata": {},
      "outputs": [
        {
          "output_type": "stream",
          "name": "stdout",
          "text": [
            "mystery_function(list_of_values) = Any[1, 2, 3, 4]"
          ]
        }
      ],
      "source": [
        "function mystery_function(values)\n",
        "    y = []\n",
        "    for v in values\n",
        "        if !(v in y)\n",
        "            append!(y, v)\n",
        "        end\n",
        "    end\n",
        "    return y\n",
        "end\n",
        "\n",
        "list_of_values = [1, 2, 3, 4, 3, 4, 2, 1]\n",
        "@show mystery_function(list_of_values);"
      ],
      "id": "d32f3ed3"
    },
    {
      "cell_type": "markdown",
      "metadata": {},
      "source": [
        "#### Problem 3.1 (4 points)\n",
        "\n",
        "Explain the purpose of `mystery_function`."
      ],
      "id": "ffe025d5-a440-4a0a-bca6-5a1fdc7217a0"
    },
    {
      "cell_type": "markdown",
      "metadata": {},
      "source": [
        "#### Problem 3.2 (4 points)\n",
        "\n",
        "Add comments to the code, explaining why and how it works. Refer to\n",
        "[“Best Practices for Writing Code\n",
        "Comments”](https://stackoverflow.blog/2021/12/23/best-practices-for-writing-code-comments/),\n",
        "and remember that bad comments can be just as bad as no comments at all.\n",
        "You do not need to add comments to every line (in fact, this is very bad\n",
        "practice), but you should note the *purpose* of every “section” of code,\n",
        "and add comments explaining any code sequences that you don’t\n",
        "immediately understand."
      ],
      "id": "79a6c364-4e65-4d95-a10f-ce79520f1739"
    },
    {
      "cell_type": "markdown",
      "metadata": {},
      "source": [
        "### Problem 4 (16 points)\n",
        "\n",
        "Cheap Plastic Products, Inc. is operating a plant that produces\n",
        "$100 \\text{m}^3\\text{/day}$ of wastewater that is discharged into\n",
        "Pristine Brook. The wastewater contains $1 \\text{kg/m}^3$ of YUK, a\n",
        "toxic substance. The US Environmental Protection Agency has imposed an\n",
        "effluent standard on the plant prohibiting discharge of more than\n",
        "$20 \\text{kg/day}$ of YUK into Pristine Brook.\n",
        "\n",
        "Cheap Plastic Products has analyzed two methods for reducing its\n",
        "discharges of YUK. Method 1 is land disposal, which costs $X_1^2/20$\n",
        "dollars per day, where $X_1$ is the amount of wastewater disposed of on\n",
        "the land ($\\text{m}^3\\text{/day}$). With this method, 20% of the YUK\n",
        "applied to the land will eventually drain into the stream (*i.e.*, 80%\n",
        "of the YUK is removed by the soil).\n",
        "\n",
        "Method 2 is a chemical treatment procedure which costs \\$1.50 per\n",
        "$\\text{m}^3$ of wastewater treated. The chemical treatment has an\n",
        "efficiency of $e= 1 - 0.005X_2$, where $X_2$ is the quantity of\n",
        "wastewater ($\\text{m}^3\\text{/day}$) treated. For example, if\n",
        "$X_2 = 50 \\text{m}^3\\text{/day}$, then $e = 1 - 0.005(50) = 0.75$, so\n",
        "that 75% of the YUK is removed.\n",
        "\n",
        "Cheap Plastic Products is wondering how to allocate their wastewater\n",
        "between these three disposal and treatment methods (land disposal, and\n",
        "chemical treatment, and land disposal) to meet the effluent standard\n",
        "while keeping costs manageable."
      ],
      "id": "0068ee18-bb7b-4d7f-9285-7f66d1891cc0"
    },
    {
      "cell_type": "markdown",
      "metadata": {},
      "source": [
        "#### Problem 4.1 (3 points)\n",
        "\n",
        "The flow of wastewater through this treatment system is shown in\n",
        "<a href=\"#fig-wastewater\" class=\"quarto-xref\">Figure 1</a>. Modify the\n",
        "edge labels (by editing the `edge_labels` dictionary in the code\n",
        "producing <a href=\"#fig-wastewater\" class=\"quarto-xref\">Figure 1</a>) to\n",
        "show how the wastewater allocations result in the final YUK discharge\n",
        "into Pristine Brook. For the `edge_label` dictionary, the tuple $(i, j)$\n",
        "corresponds to the arrow going from node $i$ to node $j$. The syntax for\n",
        "any entry is `(i, j) => \"label text\"`, and the label text can include\n",
        "mathematical notation if the string is prefaced with an `L`, as in\n",
        "`L\"x_1\"` will produce $x_1$."
      ],
      "id": "77fb8412-f871-43ab-a9c2-cfa09e77948b"
    },
    {
      "cell_type": "code",
      "execution_count": 6,
      "metadata": {},
      "outputs": [],
      "source": [
        "using GraphRecipes, Plots\n",
        "\n",
        "A = [0 1 1 1;\n",
        "    0 0 0 1;\n",
        "    0 0 0 1;\n",
        "    0 0 0 0]\n",
        "\n",
        "names = [\"Plant\", \"Land Treatment\", \"Chem Treatment\", \"Pristine Brook\"]\n",
        "# modify this dictionary to add labels\n",
        "edge_labels = Dict((1, 2) => \"\", (1,3) => \"\", (1, 4) => \"\",(2, 4) => \"\",(3, 4) => \"\")\n",
        "shapes=[:hexagon, :rect, :rect, :hexagon]\n",
        "xpos = [0, -1.5, -0.25, 1]\n",
        "ypos = [1, 0, 0, -1]\n",
        "\n",
        "graphplot(A, names=names,edgelabel=edge_labels, markersize=0.15, markershapes=shapes, markercolor=:white, x=xpos, y=ypos)"
      ],
      "id": "cell-fig-wastewater"
    },
    {
      "cell_type": "markdown",
      "metadata": {},
      "source": [
        "#### Problem 4.2 (4 points)\n",
        "\n",
        "Formulate a mathematical model for the treatment cost and the amount of\n",
        "YUK that will be discharged into Pristine Brook based on the wastewater\n",
        "allocations. This is best done with some equations and supporting text\n",
        "explaining the derivation. Make sure you include, as additional\n",
        "equations in the model, any needed constraints on relevant values. You\n",
        "can find some basics on writing mathematical equations using the LaTeX\n",
        "typesetting syntax\n",
        "[here](https://viveks.me/environmental-systems-analysis/tutorials/latex-notebook.qmd),\n",
        "and a cheatsheet with LaTeX commands can be found on the course\n",
        "website’s [Resources\n",
        "page](https://viveks.me/environmental-systems-analysis/resources/markdown.qmd)."
      ],
      "id": "d30437a8-fdfe-4cf3-9475-23309dbb86c6"
    },
    {
      "cell_type": "markdown",
      "metadata": {},
      "source": [
        "#### Problem 4.3 (4 points)\n",
        "\n",
        "Implement this systems model as a Julia function which computes the\n",
        "resulting YUK concentration and cost for a particular treatment plan.\n",
        "You can return multiple values from a function with a\n",
        "[tuple](https://docs.julialang.org/en/v1/manual/functions/#Tuples-1), as\n",
        "in:"
      ],
      "id": "e0e95fb6-f67f-406f-8f19-44c1f3777f8a"
    },
    {
      "cell_type": "code",
      "execution_count": 7,
      "metadata": {},
      "outputs": [
        {
          "output_type": "stream",
          "name": "stdout",
          "text": [
            "a = 7\n",
            "b = 10"
          ]
        }
      ],
      "source": [
        "function multiple_return_values(x, y)\n",
        "    return (x+y, x*y)\n",
        "end\n",
        "\n",
        "a, b = multiple_return_values(2, 5)\n",
        "@show a;\n",
        "@show b;"
      ],
      "id": "b241db70"
    },
    {
      "cell_type": "markdown",
      "metadata": {},
      "source": [
        "Make sure you comment your code appropriately to make it clear what is\n",
        "going on and why."
      ],
      "id": "77659605-a4c3-4ba5-8efe-830f2984b13c"
    },
    {
      "cell_type": "markdown",
      "metadata": {},
      "source": [
        "#### Problem 4.4 (5 points)\n",
        "\n",
        "Use your function to experiment with some different combinations of\n",
        "wastewater discharge and treatment. Can you find one that satisfies the\n",
        "YUK effluent standard? What was the cost? You don’t have to find an\n",
        "“optimal” solution to this problem, but what do you think would be\n",
        "needed to find a better solution?"
      ],
      "id": "53e9e2eb-dd22-4e37-aa37-090cf71259dd"
    },
    {
      "cell_type": "markdown",
      "metadata": {},
      "source": [
        "## References\n",
        "\n",
        "List any external references consulted, including classmates."
      ],
      "id": "79a7a984-02c6-4965-a9c8-564575130d01"
    }
  ],
  "nbformat": 4,
  "nbformat_minor": 5,
  "metadata": {
    "kernelspec": {
      "name": "julia-1.9",
      "display_name": "Julia 1.9.2",
      "language": "julia"
    },
    "language_info": {
      "name": "julia",
      "file_extension": ".jl",
      "mimetype": "application/julia",
      "version": "1.9.2"
    }
  }
}