{
  "cells": [
    {
      "cell_type": "markdown",
      "metadata": {},
      "source": [
        "# BEE 4750 Homework 1: Introduction to Using Julia\n",
        "\n",
        "**Name**:\n",
        "\n",
        "**ID**:\n",
        "\n",
        "> **Due Date**\n",
        ">\n",
        "> Friday, 9/8/23, 9:00pm\n",
        "\n",
        "## Overview\n",
        "\n",
        "### Instructions\n",
        "\n",
        "-   Problems 1-3 consist of a series of code snippets for you to\n",
        "    interpret and debug. For Problems 1 and 2, you will be asked to\n",
        "    identify relevant error(s) and fix the code. For Problem 3, the code\n",
        "    works as intended; your goal is to identify the code’s purpose by\n",
        "    following its logic.\n",
        "-   Problem 4 asks you to convert a verbal description of a wastewater\n",
        "    treatment system into a Julia function, and then to use that\n",
        "    function to explore the impact of different wastewater allocation\n",
        "    strategies.\n",
        "\n",
        "### Load Environment\n",
        "\n",
        "The following code loads the environment and makes sure all needed\n",
        "packages are installed. This should be at the start of most Julia\n",
        "scripts."
      ],
      "id": "3fe691d7-44eb-4e1e-b1aa-baf07b4a2778"
    },
    {
      "cell_type": "code",
      "execution_count": 1,
      "metadata": {},
      "outputs": [],
      "source": [
        "import Pkg\n",
        "Pkg.activate(@__DIR__)\n",
        "Pkg.instantiate()"
      ],
      "id": "4c7f77cb"
    },
    {
      "cell_type": "code",
      "execution_count": 2,
      "metadata": {},
      "outputs": [],
      "source": [
        "using Plots\n",
        "using GraphRecipes\n",
        "using LaTeXStrings"
      ],
      "id": "f6a0f922"
    },
    {
      "cell_type": "markdown",
      "metadata": {},
      "source": [
        "## Problems (Total: 40 Points)\n",
        "\n",
        "### Problem 1 (8 points)\n",
        "\n",
        "You’ve been tasked with writing code to identify the minimum value in an\n",
        "array. You cannot use a predefined function. Your colleague suggested\n",
        "the function below, but it does not return the minimum value."
      ],
      "id": "9200b1d3-59ff-4caa-9877-7cce7e05a8a4"
    },
    {
      "cell_type": "code",
      "execution_count": 3,
      "metadata": {},
      "outputs": [
        {
          "output_type": "stream",
          "name": "stdout",
          "text": [
            "minimum(array_values) = 0"
          ]
        }
      ],
      "source": [
        "function minimum(array)\n",
        "    min_value = 0\n",
        "    for i in 1:length(array)\n",
        "        if array[i] < min_value\n",
        "            min_value = array[i]\n",
        "        end\n",
        "    end\n",
        "    return min_value\n",
        "end\n",
        "\n",
        "array_values = [89, 90, 95, 100, 100, 78, 99, 98, 100, 95]\n",
        "@show minimum(array_values);"
      ],
      "id": "eca2d6db"
    },
    {
      "cell_type": "markdown",
      "metadata": {},
      "source": [
        "#### Problem 1.1 (3 points)\n",
        "\n",
        "Describe the logic error."
      ],
      "id": "609976f1-89ec-4e9c-abda-20d67f26ac28"
    },
    {
      "cell_type": "markdown",
      "metadata": {},
      "source": [
        "#### Problem 1.2 (3 points)\n",
        "\n",
        "Write a fixed version of the function."
      ],
      "id": "68fade14-287f-45b0-9b1f-57e346cb44dd"
    },
    {
      "cell_type": "markdown",
      "metadata": {},
      "source": [
        "#### Problem 1.3 (2 points)\n",
        "\n",
        "Use your fixed function to find the minimum value of `array_values`."
      ],
      "id": "1f4ad2b6-5208-41e4-9794-c927a9a68030"
    },
    {
      "cell_type": "markdown",
      "metadata": {},
      "source": [
        "### Problem 2 (8 points)\n",
        "\n",
        "Your team is trying to compute the average grade for your class, but the\n",
        "following code produces an error."
      ],
      "id": "a75f97e5-1e1f-4bfa-9b85-40d7cafadac0"
    },
    {
      "cell_type": "code",
      "execution_count": 4,
      "metadata": {},
      "outputs": [],
      "source": [
        "student_grades = [89, 90, 95, 100, 100, 78, 99, 98, 100, 95]\n",
        "function class_average(grades)\n",
        "  average_grade = mean(student_grades)\n",
        "  return average_grade\n",
        "end\n",
        "\n",
        "@show average_grade;"
      ],
      "id": "b604c187"
    },
    {
      "cell_type": "markdown",
      "metadata": {},
      "source": [
        "#### Problem 2.1 (3 points)\n",
        "\n",
        "Describe the logic and/or syntax error."
      ],
      "id": "ba9bae61-2385-4e34-9d0d-e3464116b681"
    },
    {
      "cell_type": "markdown",
      "metadata": {},
      "source": [
        "#### Problem 2.2 (3 points)\n",
        "\n",
        "Write a fixed version of the code."
      ],
      "id": "4afe78a0-9714-495f-9825-b0363510d04f"
    },
    {
      "cell_type": "markdown",
      "metadata": {},
      "source": [
        "#### Problem 2.3 (2 points)\n",
        "\n",
        "Use your fixed code to compute the average grade for the class."
      ],
      "id": "2ab559ac-0700-4bb7-ab67-8be17cf6fe00"
    },
    {
      "cell_type": "markdown",
      "metadata": {},
      "source": [
        "### Problem 3 (8 points)\n",
        "\n",
        "You’ve been handed some code to analyze. The original coder was not very\n",
        "considerate of other potential users: the function is called\n",
        "`mystery_function` and there are no comments explaining the purpose of\n",
        "the code. It appears to take in an array and return some numbers, and\n",
        "you’ve been assured that the code works as intended."
      ],
      "id": "75837d14-9b2c-4bbb-9283-e07c5ad81b72"
    },
    {
      "cell_type": "code",
      "execution_count": 5,
      "metadata": {},
      "outputs": [
        {
          "output_type": "stream",
          "name": "stdout",
          "text": [
            "mystery_function(list_of_values) = Any[1, 2, 3, 4]"
          ]
        }
      ],
      "source": [
        "function mystery_function(values)\n",
        "    y = []\n",
        "    for v in values\n",
        "        if !(v in y)\n",
        "            append!(y, v)\n",
        "        end\n",
        "    end\n",
        "    return y\n",
        "end\n",
        "\n",
        "list_of_values = [1, 2, 3, 4, 3, 4, 2, 1]\n",
        "@show mystery_function(list_of_values);"
      ],
      "id": "d32f3ed3"
    },
    {
      "cell_type": "markdown",
      "metadata": {},
      "source": [
        "#### Problem 3.1 (4 points)\n",
        "\n",
        "Explain the purpose of `mystery_function`."
      ],
      "id": "68be5b70-cdb1-4514-a66e-39183a15836e"
    },
    {
      "cell_type": "markdown",
      "metadata": {},
      "source": [
        "#### Problem 3.2 (4 points)\n",
        "\n",
        "Add comments to the code, explaining why and how it works. Refer to\n",
        "[“Best Practices for Writing Code\n",
        "Comments”](https://stackoverflow.blog/2021/12/23/best-practices-for-writing-code-comments/),\n",
        "and remember that bad comments can be just as bad as no comments at all.\n",
        "You do not need to add comments to every line (in fact, this is very bad\n",
        "practice), but you should note the *purpose* of every “section” of code,\n",
        "and add comments explaining any code sequences that you don’t\n",
        "immediately understand."
      ],
      "id": "5da2ae3e-d487-4a55-97f3-7e194b54fed0"
    },
    {
      "cell_type": "markdown",
      "metadata": {},
      "source": [
        "### Problem 4 (16 points)\n",
        "\n",
        "Cheap Plastic Products, Inc. is operating a plant that produces\n",
        "$100 \\text{m}^3\\text{/day}$ of wastewater that is discharged into\n",
        "Pristine Brook. The wastewater contains $1 \\text{kg/m}^3$ of YUK, a\n",
        "toxic substance. The US Environmental Protection Agency has imposed an\n",
        "effluent standard on the plant prohibiting discharge of more than\n",
        "$20 \\text{kg/day}$ of YUK into Pristine Brook.\n",
        "\n",
        "Cheap Plastic Products has analyzed two methods for reducing its\n",
        "discharges of YUK. Method 1 is land disposal, which costs $X_1^2/20$\n",
        "dollars per day, where $X_1$ is the amount of wastewater disposed of on\n",
        "the land ($\\text{m}^3\\text{/day}$). With this method, 20% of the YUK\n",
        "applied to the land will eventually drain into the stream (*i.e.*, 80%\n",
        "of the YUK is removed by the soil).\n",
        "\n",
        "Method 2 is a chemical treatment procedure which costs \\$1.50 per\n",
        "$\\text{m}^3$ of wastewater treated. The chemical treatment has an\n",
        "efficiency of $e= 1 - 0.005X_2$, where $X_2$ is the quantity of\n",
        "wastewater ($\\text{m}^3\\text{/day}$) treated. For example, if\n",
        "$X_2 = 50 \\text{m}^3\\text{/day}$, then $e = 1 - 0.005(50) = 0.75$, so\n",
        "that 75% of the YUK is removed.\n",
        "\n",
        "Cheap Plastic Products is wondering how to allocate their wastewater\n",
        "between these three disposal and treatment methods (land disposal, and\n",
        "chemical treatment, and land disposal) to meet the effluent standard\n",
        "while keeping costs manageable."
      ],
      "id": "2a0dafc0-3c84-46f6-936e-9926fa78e7d6"
    },
    {
      "cell_type": "markdown",
      "metadata": {},
      "source": [
        "#### Problem 4.1 (3 points)\n",
        "\n",
        "The flow of wastewater through this treatment system is shown in\n",
        "<a href=\"#fig-wastewater\" class=\"quarto-xref\">Figure 1</a>. Modify the\n",
        "edge labels (by editing the `edge_labels` dictionary in the code\n",
        "producing <a href=\"#fig-wastewater\" class=\"quarto-xref\">Figure 1</a>) to\n",
        "show how the wastewater allocations result in the final YUK discharge\n",
        "into Pristine Brook. For the `edge_label` dictionary, the tuple $(i, j)$\n",
        "corresponds to the arrow going from node $i$ to node $j$. The syntax for\n",
        "any entry is `(i, j) => \"label text\"`, and the label text can include\n",
        "mathematical notation if the string is prefaced with an `L`, as in\n",
        "`L\"x_1\"` will produce $x_1$."
      ],
      "id": "3315d4ff-088f-4e42-bb32-f45ec8230982"
    },
    {
      "cell_type": "code",
      "execution_count": 6,
      "metadata": {},
      "outputs": [],
      "source": [
        "using GraphRecipes, Plots\n",
        "\n",
        "A = [0 1 1 1;\n",
        "    0 0 0 1;\n",
        "    0 0 0 1;\n",
        "    0 0 0 0]\n",
        "\n",
        "names = [\"Plant\", \"Land Treatment\", \"Chem Treatment\", \"Pristine Brook\"]\n",
        "# modify this dictionary to add labels\n",
        "edge_labels = Dict((1, 2) => \"\", (1,3) => \"\", (1, 4) => \"\",(2, 4) => \"\",(3, 4) => \"\")\n",
        "shapes=[:hexagon, :rect, :rect, :hexagon]\n",
        "xpos = [0, -1.5, -0.25, 1]\n",
        "ypos = [1, 0, 0, -1]\n",
        "\n",
        "graphplot(A, names=names,edgelabel=edge_labels, markersize=0.15, markershapes=shapes, markercolor=:white, x=xpos, y=ypos)"
      ],
      "id": "cell-fig-wastewater"
    },
    {
      "cell_type": "markdown",
      "metadata": {},
      "source": [
        "#### Problem 4.2 (4 points)\n",
        "\n",
        "Formulate a mathematical model for the treatment cost and the amount of\n",
        "YUK that will be discharged into Pristine Brook based on the wastewater\n",
        "allocations. This is best done with some equations and supporting text\n",
        "explaining the derivation. Make sure you include, as additional\n",
        "equations in the model, any needed constraints on relevant values. You\n",
        "can find some basics on writing mathematical equations using the LaTeX\n",
        "typesetting syntax\n",
        "[here](https://viveks.me/environmental-systems-analysis/tutorials/latex-notebook.qmd),\n",
        "and a cheatsheet with LaTeX commands can be found on the course\n",
        "website’s [Resources\n",
        "page](https://viveks.me/environmental-systems-analysis/resources/markdown.qmd)."
      ],
      "id": "377cd1f1-5420-4dac-8c3e-ebd466173ee3"
    },
    {
      "cell_type": "markdown",
      "metadata": {},
      "source": [
        "#### Problem 4.3 (4 points)\n",
        "\n",
        "Implement this systems model as a Julia function which computes the\n",
        "resulting YUK concentration and cost for a particular treatment plan.\n",
        "You can return multiple values from a function with a\n",
        "[tuple](https://docs.julialang.org/en/v1/manual/functions/#Tuples-1), as\n",
        "in:"
      ],
      "id": "c0dae850-2ca7-4a08-a774-2c071e934e81"
    },
    {
      "cell_type": "code",
      "execution_count": 7,
      "metadata": {},
      "outputs": [
        {
          "output_type": "stream",
          "name": "stdout",
          "text": [
            "a = 7\n",
            "b = 10"
          ]
        }
      ],
      "source": [
        "function multiple_return_values(x, y)\n",
        "    return (x+y, x*y)\n",
        "end\n",
        "\n",
        "a, b = multiple_return_values(2, 5)\n",
        "@show a;\n",
        "@show b;"
      ],
      "id": "b241db70"
    },
    {
      "cell_type": "markdown",
      "metadata": {},
      "source": [
        "Make sure you comment your code appropriately to make it clear what is\n",
        "going on and why."
      ],
      "id": "32a13668-c696-4ed3-8960-51064d7322ed"
    },
    {
      "cell_type": "markdown",
      "metadata": {},
      "source": [
        "#### Problem 4.4 (5 points)\n",
        "\n",
        "Use your function to experiment with some different combinations of\n",
        "wastewater discharge and treatment. Can you find one that satisfies the\n",
        "YUK effluent standard? What was the cost? You don’t have to find an\n",
        "“optimal” solution to this problem, but what do you think would be\n",
        "needed to find a better solution?"
      ],
      "id": "b8005022-031e-4a10-be85-ce3d56d3feb8"
    },
    {
      "cell_type": "markdown",
      "metadata": {},
      "source": [
        "## References\n",
        "\n",
        "List any external references consulted, including classmates."
      ],
      "id": "69ec8299-b897-44e1-8c3b-eb19336507cd"
    }
  ],
  "nbformat": 4,
  "nbformat_minor": 5,
  "metadata": {
    "kernelspec": {
      "name": "julia-1.9",
      "display_name": "Julia 1.9.2",
      "language": "julia"
    },
    "language_info": {
      "name": "julia",
      "file_extension": ".jl",
      "mimetype": "application/julia",
      "version": "1.9.2"
    }
  }
}