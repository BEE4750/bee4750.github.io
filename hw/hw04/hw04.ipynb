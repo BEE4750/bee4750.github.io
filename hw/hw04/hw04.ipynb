{
  "cells": [
    {
      "cell_type": "markdown",
      "metadata": {},
      "source": [
        "# BEE 4750 Homework 4: Generating Capacity Expansion\n",
        "\n",
        "**Name**:\n",
        "\n",
        "**ID**:\n",
        "\n",
        "> **Due Date**\n",
        ">\n",
        "> Friday, 10/27/23, 9:00pm\n",
        "\n",
        "## Overview\n",
        "\n",
        "### Instructions\n",
        "\n",
        "-   In Problem 1, you will formulate, solve, and analyze a standard\n",
        "    generating capacity expansion problem.\n",
        "-   In Problem 2, you will add a CO<sub>2</sub> constraint to the\n",
        "    capacity expansion problem and identify changes in the resulting\n",
        "    solution.\n",
        "\n",
        "### Load Environment\n",
        "\n",
        "The following code loads the environment and makes sure all needed\n",
        "packages are installed. This should be at the start of most Julia\n",
        "scripts."
      ],
      "id": "c0de7219-8abb-4415-a508-fcc959a93f7e"
    },
    {
      "cell_type": "code",
      "execution_count": 1,
      "metadata": {},
      "outputs": [],
      "source": [
        "import Pkg\n",
        "Pkg.activate(@__DIR__)\n",
        "Pkg.instantiate()"
      ],
      "id": "4b47c806"
    },
    {
      "cell_type": "code",
      "execution_count": 2,
      "metadata": {},
      "outputs": [],
      "source": [
        "using JuMP\n",
        "using HiGHS\n",
        "using DataFrames\n",
        "using Plots\n",
        "using Measures\n",
        "using CSV\n",
        "using MarkdownTables"
      ],
      "id": "27be26e0"
    },
    {
      "cell_type": "markdown",
      "metadata": {},
      "source": [
        "## Problems (Total: 100 Points)\n",
        "\n",
        "For this problem, we will use hourly load (demand) data from 2013 in New\n",
        "York’s Zone C (which includes Ithaca). The load data is loaded and\n",
        "plotted below in <a href=\"#fig-demand\" class=\"quarto-xref\">Figure 1</a>."
      ],
      "id": "76ed1ef6-c546-49b5-998f-74f47ab6c588"
    },
    {
      "cell_type": "code",
      "execution_count": 3,
      "metadata": {},
      "outputs": [],
      "source": [
        "# load the data, pull Zone C, and reformat the DataFrame\n",
        "NY_demand = DataFrame(CSV.File(\"data/2013_hourly_load_NY.csv\"))\n",
        "rename!(NY_demand, :\"Time Stamp\" => :Date)\n",
        "demand = NY_demand[:, [:Date, :C]]\n",
        "rename!(demand, :C => :Demand)\n",
        "demand[:, :Hour] = 1:nrow(demand)\n",
        "\n",
        "# plot demand\n",
        "plot(demand.Hour, demand.Demand, xlabel=\"Hour of Year\", ylabel=\"Demand (MWh)\", label=:false)"
      ],
      "id": "cell-fig-demand"
    },
    {
      "cell_type": "markdown",
      "metadata": {},
      "source": [
        "Next, we load the generator data. This data includes fixed costs (\\$/MW\n",
        "installed), variable costs (\\$/MWh generated), and CO<sub>2</sub>\n",
        "emissions intensity (tCO<sub>2</sub>/MWh generated)."
      ],
      "id": "88b2f560-384e-41ee-8a08-27f54da4216b"
    },
    {
      "cell_type": "code",
      "execution_count": 4,
      "metadata": {},
      "outputs": [],
      "source": [
        "gens = DataFrame(CSV.File(\"data/generators.csv\"))"
      ],
      "id": "7f1bfa0b-1371-4ce1-9938-b6345e2f5503"
    },
    {
      "cell_type": "markdown",
      "metadata": {},
      "source": [
        "Finally, we load the hourly solar and wind capacity factors, which are\n",
        "plotted in <a href=\"#fig-cf\" class=\"quarto-xref\">Figure 2</a>. These\n",
        "tell us the fraction of installed capacity which is expected to be\n",
        "available in a given hour for generation (typically based on the average\n",
        "meteorology)."
      ],
      "id": "3f0aa55b-3f0b-471e-b891-e04f5cd608a6"
    },
    {
      "cell_type": "code",
      "execution_count": 5,
      "metadata": {
        "layout-nrow": 2
      },
      "outputs": [],
      "source": [
        "# load capacify factors into a DataFrame\n",
        "cap_factor = DataFrame(CSV.File(\"data/wind_solar_capacity_factors.csv\"))\n",
        "\n",
        "# plot January capacity factors\n",
        "p1 = plot(cap_factor.Wind[1:(24*31)], label=\"Wind\")\n",
        "plot!(cap_factor.Solar[1:(24*31)], label=\"Solar\")\n",
        "xaxis!(\"Hour of the Month\")\n",
        "yaxis!(\"Capacity Factor\")\n",
        "\n",
        "p2 = plot(cap_factor.Wind[4344:4344+(24*31)], label=\"Wind\")\n",
        "plot!(cap_factor.Solar[4344:4344+(24*31)], label=\"Solar\")\n",
        "xaxis!(\"Hour of the Month\")\n",
        "yaxis!(\"Capacity Factor\")\n",
        "\n",
        "display(p1)\n",
        "display(p2)"
      ],
      "id": "6300de2a-e915-4186-bf91-cfa0405dbd60"
    },
    {
      "cell_type": "markdown",
      "metadata": {},
      "source": [
        "You have been asked to develop a generating capacity expansion plan for\n",
        "the utility in Riley, NY, which currently has no existing electrical\n",
        "generation infrastructure. The utility can build any of the following\n",
        "plant types: geothermal, coal, natural gas combined cycle gas turbine\n",
        "(CCGT), natural gas combustion turbine (CT), solar, and wind.\n",
        "\n",
        "While coal, CCGT, and CT plants can generate at their full installed\n",
        "capacity, geothermal plants operate at maximum 85% capacity, and solar\n",
        "and wind available capacities vary by the hour depend on the expected\n",
        "meteorology. The utility will also penalize any non-served demand at a\n",
        "rate of \\$1000/MWh.\n",
        "\n",
        "> **Significant Digits**\n",
        ">\n",
        "> Use `round(x; digits=n)` to report values to the appropriate\n",
        "> precision!\n",
        "\n",
        "> **Getting Variable Output Values**\n",
        ">\n",
        "> `value.(x)` will report the values of a `JuMP` variable `x`, but it\n",
        "> will return a special container which holds other information about\n",
        "> `x` that is useful for `JuMP`. This means that you can’t use this\n",
        "> output directly for further calculations. To just extract the values,\n",
        "> use `value.(x).data`.\n",
        "\n",
        "> **Suppressing Model Command Output**\n",
        ">\n",
        "> The output of specifying model components (variable or constraints)\n",
        "> can be quite large for this problem because of the number of time\n",
        "> periods. If you end a cell with an `@variable` or `@constraint`\n",
        "> command, I *highly* recommend suppressing output by adding a\n",
        "> semi-colon after the last command, or you might find that your\n",
        "> notebook crashes."
      ],
      "id": "473b7d62-a13c-4ebd-9145-803e9113ddd9"
    },
    {
      "cell_type": "markdown",
      "metadata": {},
      "source": [
        "### Problem 1 (22 points)\n",
        "\n",
        "Your first task is to find a capacity expansion plan which minimizes\n",
        "total costs of investment and operation."
      ],
      "id": "035937c0-7bb9-4478-ab0c-e8aae8b899a9"
    },
    {
      "cell_type": "markdown",
      "metadata": {},
      "source": [
        "#### Problem 1.1 (2 points)\n",
        "\n",
        "Identify and define the decision variables for the problem. Make sure to\n",
        "include units."
      ],
      "id": "4dce9393-7536-4887-a6f6-8c160feb3fda"
    },
    {
      "cell_type": "markdown",
      "metadata": {},
      "source": [
        "#### Problem 1.2 (3 points)\n",
        "\n",
        "Formulate the objective function. Make sure to include any needed\n",
        "derivations or justifications for your equation(s) and define any\n",
        "additional required notation beyond that introduced in Problem 1.1."
      ],
      "id": "02dc62fd-9140-48c0-9ef2-3c7e192ed8fb"
    },
    {
      "cell_type": "markdown",
      "metadata": {},
      "source": [
        "#### Problem 1.3 (4 points)\n",
        "\n",
        "Derive all relevant constraints. Make sure to include any needed\n",
        "justifications or derivations."
      ],
      "id": "68a92d9c-b688-4c4a-9f0e-658eb5e2970d"
    },
    {
      "cell_type": "markdown",
      "metadata": {},
      "source": [
        "#### Problem 1.4 (3 points)\n",
        "\n",
        "Implement your optimization problem in `JuMP`."
      ],
      "id": "ec789959-0067-424f-bdb2-ba7193d56629"
    },
    {
      "cell_type": "markdown",
      "metadata": {},
      "source": [
        "#### Problem 1.5 (5 points)\n",
        "\n",
        "Find the optimal solution. How much should the utility build of each\n",
        "type of generating plant? What will the total cost be? How much energy\n",
        "will be non-served?"
      ],
      "id": "32ac7708-55da-499b-9ee2-9e9b7df02512"
    },
    {
      "cell_type": "markdown",
      "metadata": {},
      "source": [
        "#### Problem 1.6 (5 points)\n",
        "\n",
        "What fraction of annual generation does each plant type produce? How\n",
        "does this compare to the breakdown of built capacity that you found in\n",
        "Problem 1.5? Do these results make sense given the generator data?"
      ],
      "id": "a441e592-9269-46af-9a7f-fb26af39089b"
    },
    {
      "cell_type": "markdown",
      "metadata": {},
      "source": [
        "### Problem 2 (18 points)\n",
        "\n",
        "The NY state legislature is considering enacting an annual\n",
        "CO<sub>2</sub> limit, which for the utility would limit the emissions in\n",
        "its footprint to 1.5 MtCO<sub>2</sub>/yr."
      ],
      "id": "035886cb-c897-433b-ba9a-f22597a202bb"
    },
    {
      "cell_type": "markdown",
      "metadata": {},
      "source": [
        "#### Problem 2.1 (3 points)\n",
        "\n",
        "What changes are needed to your linear program from Problem 1?\n",
        "Re-formulate the problem and report it in standard form."
      ],
      "id": "8216f5b9-8196-4ef3-a5f4-2ec1f41f5568"
    },
    {
      "cell_type": "markdown",
      "metadata": {},
      "source": [
        "#### Problem 2.2 (3 points)\n",
        "\n",
        "Implement the new optimization problem in `JuMP`."
      ],
      "id": "b3c6b214-9575-44b9-b1e8-5eefb9b14227"
    },
    {
      "cell_type": "markdown",
      "metadata": {},
      "source": [
        "#### Problem 2.3 (5 points)\n",
        "\n",
        "Find the optimal solution. How much should the utility build of each\n",
        "type of generating plant? What is different from your plan from Problem\n",
        "1? Do these changes make sense?"
      ],
      "id": "f23c0216-4c69-4a59-bdda-ad6fc0200b44"
    },
    {
      "cell_type": "markdown",
      "metadata": {},
      "source": [
        "#### Problem 2.4 (5 points)\n",
        "\n",
        "What fraction of annual generation does each plant type produce? How\n",
        "does this compare to the breakdown of built capacity that you found in\n",
        "Problem 2.3? What are the differences between these results and your\n",
        "plan from Problem 1?"
      ],
      "id": "78747c6a-d71c-4090-b882-3e5b864ad622"
    },
    {
      "cell_type": "markdown",
      "metadata": {},
      "source": [
        "#### Problem 2.5 (2 points)\n",
        "\n",
        "What would the value to the utility be of allowing it to emit an\n",
        "additional 1000 tCO<sub>2</sub>/yr? An additional 5000?"
      ],
      "id": "cb59c74c-a5d3-48a2-b392-65f74d2b87bf"
    },
    {
      "cell_type": "markdown",
      "metadata": {},
      "source": [
        "## References\n",
        "\n",
        "List any external references consulted, including classmates."
      ],
      "id": "80192a0d-44de-46f0-a805-2b4ba4696a7b"
    }
  ],
  "nbformat": 4,
  "nbformat_minor": 5,
  "metadata": {
    "kernelspec": {
      "name": "julia-1.9",
      "display_name": "Julia 1.9.2",
      "language": "julia"
    },
    "language_info": {
      "name": "julia",
      "file_extension": ".jl",
      "mimetype": "application/julia",
      "version": "1.9.2"
    }
  }
}