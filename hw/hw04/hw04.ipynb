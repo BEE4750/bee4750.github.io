{
  "cells": [
    {
      "cell_type": "markdown",
      "metadata": {},
      "source": [
        "# BEE 4750 Homework 4: Generating Capacity Expansion\n",
        "\n",
        "**Name**:\n",
        "\n",
        "**ID**:\n",
        "\n",
        "> **Due Date**\n",
        ">\n",
        "> Friday, 10/27/23, 9:00pm\n",
        "\n",
        "## Overview\n",
        "\n",
        "### Instructions\n",
        "\n",
        "-   In Problem 1, you will formulate, solve, and analyze a standard\n",
        "    generating capacity expansion problem.\n",
        "-   In Problem 2, you will add a CO<sub>2</sub> constraint to the\n",
        "    capacity expansion problem and identify changes in the resulting\n",
        "    solution.\n",
        "\n",
        "### Load Environment\n",
        "\n",
        "The following code loads the environment and makes sure all needed\n",
        "packages are installed. This should be at the start of most Julia\n",
        "scripts."
      ],
      "id": "85d39eee-c4cc-4e00-9093-083de5486764"
    },
    {
      "cell_type": "code",
      "execution_count": 1,
      "metadata": {},
      "outputs": [],
      "source": [
        "import Pkg\n",
        "Pkg.activate(@__DIR__)\n",
        "Pkg.instantiate()"
      ],
      "id": "4b47c806"
    },
    {
      "cell_type": "code",
      "execution_count": 2,
      "metadata": {},
      "outputs": [],
      "source": [
        "using JuMP\n",
        "using HiGHS\n",
        "using DataFrames\n",
        "using Plots\n",
        "using Measures\n",
        "using CSV\n",
        "using MarkdownTables"
      ],
      "id": "27be26e0"
    },
    {
      "cell_type": "markdown",
      "metadata": {},
      "source": [
        "## Problems (Total: 100 Points)\n",
        "\n",
        "For this problem, we will use hourly load (demand) data from 2013 in New\n",
        "York’s Zone C (which includes Ithaca). The load data is loaded and\n",
        "plotted below in <a href=\"#fig-demand\" class=\"quarto-xref\">Figure 1</a>."
      ],
      "id": "8d80eb08-1f9e-448b-825c-373d73950028"
    },
    {
      "cell_type": "code",
      "execution_count": 3,
      "metadata": {},
      "outputs": [],
      "source": [
        "# load the data, pull Zone C, and reformat the DataFrame\n",
        "NY_demand = DataFrame(CSV.File(\"data/2013_hourly_load_NY.csv\"))\n",
        "rename!(NY_demand, :\"Time Stamp\" => :Date)\n",
        "demand = NY_demand[:, [:Date, :C]]\n",
        "rename!(demand, :C => :Demand)\n",
        "demand[:, :Hour] = 1:nrow(demand)\n",
        "\n",
        "# plot demand\n",
        "plot(demand.Hour, demand.Demand, xlabel=\"Hour of Year\", ylabel=\"Demand (MWh)\", label=:false)"
      ],
      "id": "cell-fig-demand"
    },
    {
      "cell_type": "markdown",
      "metadata": {},
      "source": [
        "Next, we load the generator data. This data includes fixed costs (\\$/MW\n",
        "installed), variable costs (\\$/MWh generated), and CO<sub>2</sub>\n",
        "emissions intensity (tCO<sub>2</sub>/MWh generated)."
      ],
      "id": "5778dfda-1b52-472d-aaa5-17afe1e3bd27"
    },
    {
      "cell_type": "code",
      "execution_count": 4,
      "metadata": {},
      "outputs": [],
      "source": [
        "gens = DataFrame(CSV.File(\"data/generators.csv\"))"
      ],
      "id": "1a069896-d76e-4e41-9ece-034d50a43a2a"
    },
    {
      "cell_type": "markdown",
      "metadata": {},
      "source": [
        "Finally, we load the hourly solar and wind capacity factors, which are\n",
        "plotted in <a href=\"#fig-cf\" class=\"quarto-xref\">Figure 2</a>. These\n",
        "tell us the fraction of installed capacity which is expected to be\n",
        "available in a given hour for generation (typically based on the average\n",
        "meteorology)."
      ],
      "id": "f8589c8c-557e-41c9-aef6-f6b047419104"
    },
    {
      "cell_type": "code",
      "execution_count": 5,
      "metadata": {
        "layout-nrow": 2
      },
      "outputs": [],
      "source": [
        "# load capacify factors into a DataFrame\n",
        "cap_factor = DataFrame(CSV.File(\"data/wind_solar_capacity_factors.csv\"))\n",
        "\n",
        "# plot January capacity factors\n",
        "p1 = plot(cap_factor.Wind[1:(24*31)], label=\"Wind\")\n",
        "plot!(cap_factor.Solar[1:(24*31)], label=\"Solar\")\n",
        "xaxis!(\"Hour of the Month\")\n",
        "yaxis!(\"Capacity Factor\")\n",
        "\n",
        "p2 = plot(cap_factor.Wind[4344:4344+(24*31)], label=\"Wind\")\n",
        "plot!(cap_factor.Solar[4344:4344+(24*31)], label=\"Solar\")\n",
        "xaxis!(\"Hour of the Month\")\n",
        "yaxis!(\"Capacity Factor\")\n",
        "\n",
        "display(p1)\n",
        "display(p2)"
      ],
      "id": "2920350a-6001-4253-8af5-0b05b2a5e223"
    },
    {
      "cell_type": "markdown",
      "metadata": {},
      "source": [
        "You have been asked to develop a generating capacity expansion plan for\n",
        "the utility in Riley, NY, which currently has no existing electrical\n",
        "generation infrastructure. The utility can build any of the following\n",
        "plant types: geothermal, coal, natural gas combined cycle gas turbine\n",
        "(CCGT), natural gas combustion turbine (CT), solar, and wind.\n",
        "\n",
        "While coal, CCGT, and CT plants can generate at their full installed\n",
        "capacity, geothermal plants operate at maximum 85% capacity, and solar\n",
        "and wind available capacities vary by the hour depend on the expected\n",
        "meteorology. The utility will also penalize any non-served demand at a\n",
        "rate of \\$1000/MWh.\n",
        "\n",
        "> **Significant Digits**\n",
        ">\n",
        "> Use `round(x; digits=n)` to report values to the appropriate\n",
        "> precision!\n",
        "\n",
        "> **Getting Variable Output Values**\n",
        ">\n",
        "> `value.(x)` will report the values of a `JuMP` variable `x`, but it\n",
        "> will return a special container which holds other information about\n",
        "> `x` that is useful for `JuMP`. This means that you can’t use this\n",
        "> output directly for further calculations. To just extract the values,\n",
        "> use `value.(x).data`.\n",
        "\n",
        "> **Suppressing Model Command Output**\n",
        ">\n",
        "> The output of specifying model components (variable or constraints)\n",
        "> can be quite large for this problem because of the number of time\n",
        "> periods. If you end a cell with an `@variable` or `@constraint`\n",
        "> command, I *highly* recommend suppressing output by adding a\n",
        "> semi-colon after the last command, or you might find that your\n",
        "> notebook crashes."
      ],
      "id": "029645ba-646b-42d0-8058-7844a6c754b4"
    },
    {
      "cell_type": "markdown",
      "metadata": {},
      "source": [
        "### Problem 1 (22 points)\n",
        "\n",
        "Your first task is to find a capacity expansion plan which minimizes\n",
        "total costs of investment and operation."
      ],
      "id": "2e3f30dd-783b-4182-aafc-84c9d93a2335"
    },
    {
      "cell_type": "markdown",
      "metadata": {},
      "source": [
        "#### Problem 1.1 (2 points)\n",
        "\n",
        "Identify and define the decision variables for the problem. Make sure to\n",
        "include units."
      ],
      "id": "366d3ed5-7d86-4452-818b-633b624e7dbf"
    },
    {
      "cell_type": "markdown",
      "metadata": {},
      "source": [
        "#### Problem 1.2 (3 points)\n",
        "\n",
        "Formulate the objective function. Make sure to include any needed\n",
        "derivations or justifications for your equation(s) and define any\n",
        "additional required notation beyond that introduced in Problem 1.1."
      ],
      "id": "ba39f4df-74ce-4686-bb4c-399bcf27b7a9"
    },
    {
      "cell_type": "markdown",
      "metadata": {},
      "source": [
        "#### Problem 1.3 (4 points)\n",
        "\n",
        "Derive all relevant constraints. Make sure to include any needed\n",
        "justifications or derivations."
      ],
      "id": "1097eed0-aaf5-49ec-8298-85ce1b32ae44"
    },
    {
      "cell_type": "markdown",
      "metadata": {},
      "source": [
        "#### Problem 1.4 (3 points)\n",
        "\n",
        "Implement your optimization problem in `JuMP`."
      ],
      "id": "f12f00df-2c24-4a57-90ae-d822954d92fa"
    },
    {
      "cell_type": "markdown",
      "metadata": {},
      "source": [
        "#### Problem 1.5 (5 points)\n",
        "\n",
        "Find the optimal solution. How much should the utility build of each\n",
        "type of generating plant? What will the total cost be? How much energy\n",
        "will be non-served?"
      ],
      "id": "6fc9e3a9-1310-4c86-a812-76c2b3d2f03f"
    },
    {
      "cell_type": "markdown",
      "metadata": {},
      "source": [
        "#### Problem 1.6 (5 points)\n",
        "\n",
        "What fraction of annual generation does each plant type produce? How\n",
        "does this compare to the breakdown of built capacity that you found in\n",
        "Problem 1.5? Do these results make sense given the generator data?"
      ],
      "id": "68a58513-2c23-4894-af44-4e2a68e53126"
    },
    {
      "cell_type": "markdown",
      "metadata": {},
      "source": [
        "### Problem 2 (18 points)\n",
        "\n",
        "The NY state legislature is considering enacting an annual\n",
        "CO<sub>2</sub> limit, which for the utility would limit the emissions in\n",
        "its footprint to 1.5 MtCO<sub>2</sub>/yr."
      ],
      "id": "82a46ae0-9011-434c-bd65-788f0172b6af"
    },
    {
      "cell_type": "markdown",
      "metadata": {},
      "source": [
        "#### Problem 2.1 (3 points)\n",
        "\n",
        "What changes are needed to your linear program from Problem 1?\n",
        "Re-formulate the problem and report it in standard form."
      ],
      "id": "d3687aef-2086-4a34-88eb-bcba253831ea"
    },
    {
      "cell_type": "markdown",
      "metadata": {},
      "source": [
        "#### Problem 2.2 (3 points)\n",
        "\n",
        "Implement the new optimization problem in `JuMP`."
      ],
      "id": "922a638e-8bcb-41dd-8270-d8c9672164da"
    },
    {
      "cell_type": "markdown",
      "metadata": {},
      "source": [
        "#### Problem 2.3 (5 points)\n",
        "\n",
        "Find the optimal solution. How much should the utility build of each\n",
        "type of generating plant? What is different from your plan from Problem\n",
        "1? Do these changes make sense?"
      ],
      "id": "5e41261e-da9d-4a83-b082-8b2269df9fa3"
    },
    {
      "cell_type": "markdown",
      "metadata": {},
      "source": [
        "#### Problem 2.4 (5 points)\n",
        "\n",
        "What fraction of annual generation does each plant type produce? How\n",
        "does this compare to the breakdown of built capacity that you found in\n",
        "Problem 2.3? What are the differences between these results and your\n",
        "plan from Problem 1?"
      ],
      "id": "a5295345-f390-466a-93a5-51c23261c9af"
    },
    {
      "cell_type": "markdown",
      "metadata": {},
      "source": [
        "#### Problem 2.5 (2 points)\n",
        "\n",
        "What would the value to the utility be of allowing it to emit an\n",
        "additional 1000 tCO<sub>2</sub>/yr? An additional 5000?"
      ],
      "id": "19496754-764a-4858-a1f6-34b7aafd0f3e"
    },
    {
      "cell_type": "markdown",
      "metadata": {},
      "source": [
        "## References\n",
        "\n",
        "List any external references consulted, including classmates."
      ],
      "id": "249d1c93-b68e-4417-a7b5-84ccbbb5c11c"
    }
  ],
  "nbformat": 4,
  "nbformat_minor": 5,
  "metadata": {
    "kernelspec": {
      "name": "julia-1.9",
      "display_name": "Julia 1.9.2",
      "language": "julia"
    },
    "language_info": {
      "name": "julia",
      "file_extension": ".jl",
      "mimetype": "application/julia",
      "version": "1.9.2"
    }
  }
}