{
  "cells": [
    {
      "cell_type": "markdown",
      "metadata": {},
      "source": [
        "# BEE 4750 Homework 4: Generating Capacity Epxansion\n",
        "\n",
        "**Name**:\n",
        "\n",
        "**ID**:\n",
        "\n",
        "> **Due Date**\n",
        ">\n",
        "> Friday, 10/27/23, 9:00pm\n",
        "\n",
        "## Overview\n",
        "\n",
        "### Instructions\n",
        "\n",
        "-   In Problem 1, you will formulate, solve, and analyze a standard\n",
        "    generating capacity expansion problem.\n",
        "-   In Problem 2, you will add a CO<sub>2</sub> constraint to the\n",
        "    capacity expansion problem and identify changes in the resulting\n",
        "    solution.\n",
        "\n",
        "### Load Environment\n",
        "\n",
        "The following code loads the environment and makes sure all needed\n",
        "packages are installed. This should be at the start of most Julia\n",
        "scripts."
      ],
      "id": "222e747d-c712-4f90-b355-c3a026eeb1c0"
    },
    {
      "cell_type": "code",
      "execution_count": 1,
      "metadata": {},
      "outputs": [],
      "source": [
        "import Pkg\n",
        "Pkg.activate(@__DIR__)\n",
        "Pkg.instantiate()"
      ],
      "id": "3d393595"
    },
    {
      "cell_type": "code",
      "execution_count": 2,
      "metadata": {},
      "outputs": [],
      "source": [
        "using JuMP\n",
        "using HiGHS\n",
        "using DataFrames\n",
        "using Plots\n",
        "using Measures\n",
        "using CSV\n",
        "using MarkdownTables"
      ],
      "id": "f7c380e1"
    },
    {
      "cell_type": "markdown",
      "metadata": {},
      "source": [
        "## Problems (Total: 100 Points)\n",
        "\n",
        "For this problem, we will use hourly load (demand) data from 2013 in New\n",
        "York’s Zone C (which includes Ithaca). The load data is loaded and\n",
        "plotted below in <a href=\"#fig-demand\" class=\"quarto-xref\">Figure 1</a>."
      ],
      "id": "d54a5740-edb8-4619-b460-fd4cf0bbce9a"
    },
    {
      "cell_type": "code",
      "execution_count": 3,
      "metadata": {},
      "outputs": [],
      "source": [
        "# load the data, pull Zone C, and reformat the DataFrame\n",
        "NY_demand = DataFrame(CSV.File(\"data/2013_hourly_load_NY.csv\"))\n",
        "rename!(NY_demand, :\"Time Stamp\" => :Date)\n",
        "demand = NY_demand[:, [:Date, :C]]\n",
        "rename!(demand, :C => :Demand)\n",
        "demand[:, :Hour] = 1:nrow(demand)\n",
        "\n",
        "# plot demand\n",
        "plot(demand.Hour, demand.Demand, xlabel=\"Hour of Year\", ylabel=\"Demand (MWh)\", label=:false)"
      ],
      "id": "cell-fig-demand"
    },
    {
      "cell_type": "markdown",
      "metadata": {},
      "source": [
        "Next, we load the generator data. This data includes fixed costs (\\$/MW\n",
        "installed), variable costs (\\$/MWh generated), and CO<sub>2</sub>\n",
        "emissions intensity (tCO<sub>2</sub>/MWh generated).\n",
        "\n",
        "``` julia\n",
        "gens = DataFrame(CSV.File(\"data/generators.csv\"))\n",
        "markdown_table(gens)\n",
        "```\n",
        "\n",
        "| Plant      | FixedCost | VarCost | Emissions |\n",
        "|------------|-----------|---------|-----------|\n",
        "| Geothermal | 450000    | 0       | 0.0       |\n",
        "| Coal       | 220000    | 21      | 1.0       |\n",
        "| NG CCGT    | 82000     | 25      | 0.43      |\n",
        "| NG CT      | 65000     | 35      | 0.55      |\n",
        "| Wind       | 91000     | 0       | 0.0       |\n",
        "| Solar      | 70000     | 0       | 0.0       |\n",
        "\n",
        "Finally, we load the hourly solar and wind capacity factors, which are\n",
        "plotted in <a href=\"#fig-cf\" class=\"quarto-xref\">Figure 2</a>. These\n",
        "tell us the fraction of installed capacity which is expected to be\n",
        "available in a given hour for generation (typically based on the average\n",
        "meteorology)."
      ],
      "id": "ea91d9a5-ac92-4590-9d48-679dde1cbd5d"
    },
    {
      "cell_type": "code",
      "execution_count": 5,
      "metadata": {
        "layout-nrow": 2
      },
      "outputs": [],
      "source": [
        "# load capacify factors into a DataFrame\n",
        "cap_factor = DataFrame(CSV.File(\"data/wind_solar_capacity_factors.csv\"))\n",
        "\n",
        "# plot January capacity factors\n",
        "p1 = plot(cap_factor.Wind[1:(24*31)], label=\"Wind\")\n",
        "plot!(cap_factor.Solar[1:(24*31)], label=\"Solar\")\n",
        "xaxis!(\"Hour of the Month\")\n",
        "yaxis!(\"Capacity Factor\")\n",
        "\n",
        "p2 = plot(cap_factor.Wind[4344:4344+(24*31)], label=\"Wind\")\n",
        "plot!(cap_factor.Solar[4344:4344+(24*31)], label=\"Solar\")\n",
        "xaxis!(\"Hour of the Month\")\n",
        "yaxis!(\"Capacity Factor\")\n",
        "\n",
        "display(p1)\n",
        "display(p2)"
      ],
      "id": "0989bcbb-027f-4efc-9423-667f761e4443"
    },
    {
      "cell_type": "markdown",
      "metadata": {},
      "source": [
        "You have been asked to develop a generating capacity expansion plan for\n",
        "the utility in Riley, NY, which currently has no existing electrical\n",
        "generation infrastructure. The utility can build any of the following\n",
        "plant types: geothermal, coal, natural gas combined cycle gas turbine\n",
        "(CCGT), natural gas combustion turbine (CT), solar, and wind.\n",
        "\n",
        "While coal, CCGT, and CT plants can generate at their full installed\n",
        "capacity, geothermal plants operate at maximum 85% capacity, and solar\n",
        "and wind available capacities vary by the hour depend on the expected\n",
        "meteorology. The utility will also penalize any non-served demand at a\n",
        "rate of \\$1000/MWh.\n",
        "\n",
        "> **Significant Digits**\n",
        ">\n",
        "> Use `round(x; digits=n)` to report values to the appropriate\n",
        "> precision!"
      ],
      "id": "0c09e458-6ba1-4d59-a161-2637aaddb99c"
    },
    {
      "cell_type": "markdown",
      "metadata": {},
      "source": [
        "### Problem 1 (55 points)\n",
        "\n",
        "Your first task is to find a capacity expansion plan which minimizes\n",
        "total costs of investment and operation."
      ],
      "id": "14f5ebed-efbf-4c0c-9777-093908fe0b01"
    },
    {
      "cell_type": "markdown",
      "metadata": {},
      "source": [
        "#### Problem 1.1 (5 points)\n",
        "\n",
        "Identify and define the decision variables for the problem. Make sure to\n",
        "include units."
      ],
      "id": "c7202365-f5b8-408a-b79c-9d8ffb54e1a6"
    },
    {
      "cell_type": "markdown",
      "metadata": {},
      "source": [
        "#### Problem 1.2 (10 points)\n",
        "\n",
        "Formulate the objective function. Make sure to include any needed\n",
        "derivations or justifications for your equation(s)."
      ],
      "id": "83c12edf-7dcb-4348-9653-450558ba3c3d"
    },
    {
      "cell_type": "markdown",
      "metadata": {},
      "source": [
        "#### Problem 1.3 (10 points)\n",
        "\n",
        "Derive all relevant constraints. Make sure to include any needed\n",
        "justifications or derivations. Why is your set of constraints complete?"
      ],
      "id": "ed2f8107-1db7-4394-9fc1-e330c91d1cc9"
    },
    {
      "cell_type": "markdown",
      "metadata": {},
      "source": [
        "#### Problem 1.4 (10 points)\n",
        "\n",
        "Implement your optimization problem in `JuMP`."
      ],
      "id": "a38c599f-2e2e-48bc-a4c9-31b8764dfc01"
    },
    {
      "cell_type": "markdown",
      "metadata": {},
      "source": [
        "#### Problem 1.5 (10 points)\n",
        "\n",
        "Find the optimal solution. How much should the utility build of each\n",
        "type of generating plant? What will the total cost be? How much energy\n",
        "will be non-served?"
      ],
      "id": "709cfcc1-f421-4e5f-a12a-bb5786f1ffce"
    },
    {
      "cell_type": "markdown",
      "metadata": {},
      "source": [
        "#### Problem 1.6 (10 points)\n",
        "\n",
        "Plot how much electricity will be generated under this plan each hour by\n",
        "each type of plant. Make both a line plot for the raw amounts (using\n",
        "`plot`) and a stacked area plot to show relative contributions to the\n",
        "total demand (using `areaplot`). What are your take-aways? Do your\n",
        "results make sense?"
      ],
      "id": "c233344b-f889-4246-9810-8130332e3622"
    },
    {
      "cell_type": "markdown",
      "metadata": {},
      "source": [
        "### Problem 2 (45 points)\n",
        "\n",
        "The NY state legislature is considering enacting an annual\n",
        "CO<sub>2</sub> limit, which for the utility would limit the emissions in\n",
        "its footprint to 1.5 MtCO<sub>2</sub>/yr."
      ],
      "id": "484c7427-3ec3-4ebc-a1d5-b76c933d2b12"
    },
    {
      "cell_type": "markdown",
      "metadata": {},
      "source": [
        "#### Problem 2.1 (10 points)\n",
        "\n",
        "What changes are needed to your linear program from Problem 1?\n",
        "Re-formulate the problem and report it in standard form."
      ],
      "id": "79f25ffa-b20e-4268-be18-a0958061ee14"
    },
    {
      "cell_type": "markdown",
      "metadata": {},
      "source": [
        "#### Problem 2.2 (10 points)\n",
        "\n",
        "Implement the new optimization problem in `JuMP`."
      ],
      "id": "a21de39c-045e-4bf1-b9c9-e84a91b93ed7"
    },
    {
      "cell_type": "markdown",
      "metadata": {},
      "source": [
        "#### Problem 2.3 (10 points)\n",
        "\n",
        "Find the optimal solution. How much should the utility build of each\n",
        "type of generating plant? What is different from your plan from Problem\n",
        "1?"
      ],
      "id": "22f89514-5b7b-49b5-8899-9072a168344a"
    },
    {
      "cell_type": "markdown",
      "metadata": {},
      "source": [
        "#### Problem 2.4 (10 points)\n",
        "\n",
        "Plot how much electricity will be generated under this plan each hour by\n",
        "each type of plant. Make both a line plot for the raw amounts (using\n",
        "`plot`) and a stacked area plot to show relative contributions to the\n",
        "total demand (using `areaplot`). What is different from your plan in\n",
        "Problem 1? Do these results make sense?"
      ],
      "id": "06dfa003-3295-4c40-a74d-03158212121a"
    },
    {
      "cell_type": "markdown",
      "metadata": {},
      "source": [
        "#### Problem 2.5 (5 points)\n",
        "\n",
        "What would the value to the utility be of allowing it to emit an\n",
        "additional 1000 tCO<sub>2</sub>/yr? An additional 5000?"
      ],
      "id": "9190cdab-e060-431b-9c79-464dbe502e06"
    },
    {
      "cell_type": "markdown",
      "metadata": {},
      "source": [
        "## References\n",
        "\n",
        "List any external references consulted, including classmates."
      ],
      "id": "558a8e00-e5e2-426d-b035-4632b2c560d6"
    }
  ],
  "nbformat": 4,
  "nbformat_minor": 5,
  "metadata": {
    "kernelspec": {
      "name": "julia-1.9",
      "display_name": "Julia 1.9.2",
      "language": "julia"
    },
    "language_info": {
      "name": "julia",
      "file_extension": ".jl",
      "mimetype": "application/julia",
      "version": "1.9.2"
    }
  }
}