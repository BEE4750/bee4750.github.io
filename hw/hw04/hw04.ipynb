{
  "cells": [
    {
      "cell_type": "markdown",
      "metadata": {},
      "source": [
        "# BEE 4750 Homework 4: Generating Capacity Expansion\n",
        "\n",
        "**Name**:\n",
        "\n",
        "**ID**:\n",
        "\n",
        "> **Due Date**\n",
        ">\n",
        "> Friday, 10/27/23, 9:00pm\n",
        "\n",
        "## Overview\n",
        "\n",
        "### Instructions\n",
        "\n",
        "-   In Problem 1, you will formulate, solve, and analyze a standard\n",
        "    generating capacity expansion problem.\n",
        "-   In Problem 2, you will add a CO<sub>2</sub> constraint to the\n",
        "    capacity expansion problem and identify changes in the resulting\n",
        "    solution.\n",
        "\n",
        "### Load Environment\n",
        "\n",
        "The following code loads the environment and makes sure all needed\n",
        "packages are installed. This should be at the start of most Julia\n",
        "scripts."
      ],
      "id": "6fd5e87c-0acf-4000-8f2d-5e2afbc2ab3b"
    },
    {
      "cell_type": "code",
      "execution_count": 1,
      "metadata": {},
      "outputs": [],
      "source": [
        "import Pkg\n",
        "Pkg.activate(@__DIR__)\n",
        "Pkg.instantiate()"
      ],
      "id": "4b47c806"
    },
    {
      "cell_type": "code",
      "execution_count": 2,
      "metadata": {},
      "outputs": [],
      "source": [
        "using JuMP\n",
        "using HiGHS\n",
        "using DataFrames\n",
        "using Plots\n",
        "using Measures\n",
        "using CSV\n",
        "using MarkdownTables"
      ],
      "id": "27be26e0"
    },
    {
      "cell_type": "markdown",
      "metadata": {},
      "source": [
        "## Problems (Total: 100 Points)\n",
        "\n",
        "For this problem, we will use hourly load (demand) data from 2013 in New\n",
        "York’s Zone C (which includes Ithaca). The load data is loaded and\n",
        "plotted below in <a href=\"#fig-demand\" class=\"quarto-xref\">Figure 1</a>."
      ],
      "id": "258530cd-6920-4dad-9d50-92139ed3af37"
    },
    {
      "cell_type": "code",
      "execution_count": 3,
      "metadata": {},
      "outputs": [],
      "source": [
        "# load the data, pull Zone C, and reformat the DataFrame\n",
        "NY_demand = DataFrame(CSV.File(\"data/2013_hourly_load_NY.csv\"))\n",
        "rename!(NY_demand, :\"Time Stamp\" => :Date)\n",
        "demand = NY_demand[:, [:Date, :C]]\n",
        "rename!(demand, :C => :Demand)\n",
        "demand[:, :Hour] = 1:nrow(demand)\n",
        "\n",
        "# plot demand\n",
        "plot(demand.Hour, demand.Demand, xlabel=\"Hour of Year\", ylabel=\"Demand (MWh)\", label=:false)"
      ],
      "id": "cell-fig-demand"
    },
    {
      "cell_type": "markdown",
      "metadata": {},
      "source": [
        "Next, we load the generator data. This data includes fixed costs (\\$/MW\n",
        "installed), variable costs (\\$/MWh generated), and CO<sub>2</sub>\n",
        "emissions intensity (tCO<sub>2</sub>/MWh generated)."
      ],
      "id": "67783633-a2a6-44f3-894b-4e1204175530"
    },
    {
      "cell_type": "code",
      "execution_count": 4,
      "metadata": {},
      "outputs": [],
      "source": [
        "gens = DataFrame(CSV.File(\"data/generators.csv\"))"
      ],
      "id": "184e4bc4-2211-474a-9e3d-76f274211df6"
    },
    {
      "cell_type": "markdown",
      "metadata": {},
      "source": [
        "Finally, we load the hourly solar and wind capacity factors, which are\n",
        "plotted in <a href=\"#fig-cf\" class=\"quarto-xref\">Figure 2</a>. These\n",
        "tell us the fraction of installed capacity which is expected to be\n",
        "available in a given hour for generation (typically based on the average\n",
        "meteorology)."
      ],
      "id": "489c6ef1-1f59-4659-a873-67ff4d5ad27a"
    },
    {
      "cell_type": "code",
      "execution_count": 5,
      "metadata": {
        "layout-nrow": 2
      },
      "outputs": [],
      "source": [
        "# load capacify factors into a DataFrame\n",
        "cap_factor = DataFrame(CSV.File(\"data/wind_solar_capacity_factors.csv\"))\n",
        "\n",
        "# plot January capacity factors\n",
        "p1 = plot(cap_factor.Wind[1:(24*31)], label=\"Wind\")\n",
        "plot!(cap_factor.Solar[1:(24*31)], label=\"Solar\")\n",
        "xaxis!(\"Hour of the Month\")\n",
        "yaxis!(\"Capacity Factor\")\n",
        "\n",
        "p2 = plot(cap_factor.Wind[4344:4344+(24*31)], label=\"Wind\")\n",
        "plot!(cap_factor.Solar[4344:4344+(24*31)], label=\"Solar\")\n",
        "xaxis!(\"Hour of the Month\")\n",
        "yaxis!(\"Capacity Factor\")\n",
        "\n",
        "display(p1)\n",
        "display(p2)"
      ],
      "id": "1a07042e-a5be-47f1-93c2-8b05e874c48e"
    },
    {
      "cell_type": "markdown",
      "metadata": {},
      "source": [
        "You have been asked to develop a generating capacity expansion plan for\n",
        "the utility in Riley, NY, which currently has no existing electrical\n",
        "generation infrastructure. The utility can build any of the following\n",
        "plant types: geothermal, coal, natural gas combined cycle gas turbine\n",
        "(CCGT), natural gas combustion turbine (CT), solar, and wind.\n",
        "\n",
        "While coal, CCGT, and CT plants can generate at their full installed\n",
        "capacity, geothermal plants operate at maximum 85% capacity, and solar\n",
        "and wind available capacities vary by the hour depend on the expected\n",
        "meteorology. The utility will also penalize any non-served demand at a\n",
        "rate of \\$1000/MWh.\n",
        "\n",
        "> **Significant Digits**\n",
        ">\n",
        "> Use `round(x; digits=n)` to report values to the appropriate\n",
        "> precision!\n",
        "\n",
        "> **Getting Variable Output Values**\n",
        ">\n",
        "> `value.(x)` will report the values of a `JuMP` variable `x`, but it\n",
        "> will return a special container which holds other information about\n",
        "> `x` that is useful for `JuMP`. This means that you can’t use this\n",
        "> output directly for further calculations. To just extract the values,\n",
        "> use `value.(x).data`.\n",
        "\n",
        "> **Suppressing Model Command Output**\n",
        ">\n",
        "> The output of specifying model components (variable or constraints)\n",
        "> can be quite large for this problem because of the number of time\n",
        "> periods. If you end a cell with an `@variable` or `@constraint`\n",
        "> command, I *highly* recommend suppressing output by adding a\n",
        "> semi-colon after the last command, or you might find that your\n",
        "> notebook crashes."
      ],
      "id": "fd1fe0c1-f608-4bbf-909c-5bd065b3a608"
    },
    {
      "cell_type": "markdown",
      "metadata": {},
      "source": [
        "### Problem 1 (22 points)\n",
        "\n",
        "Your first task is to find a capacity expansion plan which minimizes\n",
        "total costs of investment and operation."
      ],
      "id": "b7d73442-8f79-4d1c-807a-733da0784269"
    },
    {
      "cell_type": "markdown",
      "metadata": {},
      "source": [
        "#### Problem 1.1 (2 points)\n",
        "\n",
        "Identify and define the decision variables for the problem. Make sure to\n",
        "include units."
      ],
      "id": "dd53e461-33da-49d4-bd61-c0649cbf6a58"
    },
    {
      "cell_type": "markdown",
      "metadata": {},
      "source": [
        "#### Problem 1.2 (3 points)\n",
        "\n",
        "Formulate the objective function. Make sure to include any needed\n",
        "derivations or justifications for your equation(s) and define any\n",
        "additional required notation beyond that introduced in Problem 1.1."
      ],
      "id": "e7a02163-4685-4e38-a71b-3e8151ca310b"
    },
    {
      "cell_type": "markdown",
      "metadata": {},
      "source": [
        "#### Problem 1.3 (4 points)\n",
        "\n",
        "Derive all relevant constraints. Make sure to include any needed\n",
        "justifications or derivations."
      ],
      "id": "d32f81c8-9f8a-4171-b948-d68ce8743b57"
    },
    {
      "cell_type": "markdown",
      "metadata": {},
      "source": [
        "#### Problem 1.4 (3 points)\n",
        "\n",
        "Implement your optimization problem in `JuMP`."
      ],
      "id": "542792d1-7c56-4646-ad33-ad9583423411"
    },
    {
      "cell_type": "markdown",
      "metadata": {},
      "source": [
        "#### Problem 1.5 (5 points)\n",
        "\n",
        "Find the optimal solution. How much should the utility build of each\n",
        "type of generating plant? What will the total cost be? How much energy\n",
        "will be non-served?"
      ],
      "id": "750e1296-7ed1-410c-87c8-d0e784c28332"
    },
    {
      "cell_type": "markdown",
      "metadata": {},
      "source": [
        "#### Problem 1.6 (5 points)\n",
        "\n",
        "What fraction of annual generation does each plant type produce? How\n",
        "does this compare to the breakdown of built capacity that you found in\n",
        "Problem 1.5? Do these results make sense given the generator data?"
      ],
      "id": "6cc81390-fd92-40c0-9e18-0bc0b688a19c"
    },
    {
      "cell_type": "markdown",
      "metadata": {},
      "source": [
        "### Problem 2 (18 points)\n",
        "\n",
        "The NY state legislature is considering enacting an annual\n",
        "CO<sub>2</sub> limit, which for the utility would limit the emissions in\n",
        "its footprint to 1.5 MtCO<sub>2</sub>/yr."
      ],
      "id": "cc80f061-12cb-447f-8c7b-1e6cf9b809b1"
    },
    {
      "cell_type": "markdown",
      "metadata": {},
      "source": [
        "#### Problem 2.1 (3 points)\n",
        "\n",
        "What changes are needed to your linear program from Problem 1?\n",
        "Re-formulate the problem and report it in standard form."
      ],
      "id": "dcfcc202-e77e-473b-9f8b-c66f0543b8c1"
    },
    {
      "cell_type": "markdown",
      "metadata": {},
      "source": [
        "#### Problem 2.2 (3 points)\n",
        "\n",
        "Implement the new optimization problem in `JuMP`."
      ],
      "id": "11bea218-96fd-4cd6-ad32-61b35f60d6ff"
    },
    {
      "cell_type": "markdown",
      "metadata": {},
      "source": [
        "#### Problem 2.3 (5 points)\n",
        "\n",
        "Find the optimal solution. How much should the utility build of each\n",
        "type of generating plant? What is different from your plan from Problem\n",
        "1? Do these changes make sense?"
      ],
      "id": "3a66b7d3-2d25-4f61-b4a3-e6a07ba932b1"
    },
    {
      "cell_type": "markdown",
      "metadata": {},
      "source": [
        "#### Problem 2.4 (5 points)\n",
        "\n",
        "What fraction of annual generation does each plant type produce? How\n",
        "does this compare to the breakdown of built capacity that you found in\n",
        "Problem 2.3? What are the differences between these results and your\n",
        "plan from Problem 1?"
      ],
      "id": "2119d4ed-c414-4581-ac11-2aeb6418a6ea"
    },
    {
      "cell_type": "markdown",
      "metadata": {},
      "source": [
        "#### Problem 2.5 (2 points)\n",
        "\n",
        "What would the value to the utility be of allowing it to emit an\n",
        "additional 1000 tCO<sub>2</sub>/yr? An additional 5000?"
      ],
      "id": "f3f48621-aafe-4123-a4bc-3cb6c56508da"
    },
    {
      "cell_type": "markdown",
      "metadata": {},
      "source": [
        "## References\n",
        "\n",
        "List any external references consulted, including classmates."
      ],
      "id": "5002af9b-f220-4dcb-b7e1-169dfeadc43b"
    }
  ],
  "nbformat": 4,
  "nbformat_minor": 5,
  "metadata": {
    "kernelspec": {
      "name": "julia-1.9",
      "display_name": "Julia 1.9.2",
      "language": "julia"
    },
    "language_info": {
      "name": "julia",
      "file_extension": ".jl",
      "mimetype": "application/julia",
      "version": "1.9.2"
    }
  }
}